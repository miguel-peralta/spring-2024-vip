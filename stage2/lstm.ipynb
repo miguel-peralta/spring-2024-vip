{
  "cells": [
    {
      "cell_type": "markdown",
      "source": [
        "# San Francisco Traffic Accident Frequency\n",
        "## Miguel Candido Aurora Peralta\n",
        "### Transformative AI for Residential and Transportation Safety Vertically Integrated Project\n",
        "### Spring 2024 Senior Capstone Project <br><br>\n",
        "\n",
        "# Imports"
      ],
      "metadata": {
        "id": "igUhSeUYHUwb"
      }
    },
    {
      "cell_type": "code",
      "source": [
        "from google.colab import drive\n",
        "\n",
        "import matplotlib.pyplot as plt\n",
        "import numpy as np\n",
        "from datetime import datetime, timedelta\n",
        "import pandas as pd\n",
        "import json\n",
        "import requests\n",
        "\n",
        "import folium\n",
        "\n",
        "from sklearn.preprocessing import MinMaxScaler, StandardScaler, OneHotEncoder\n",
        "from sklearn.compose import ColumnTransformer\n",
        "from sklearn.metrics import mean_squared_error\n",
        "from sklearn.model_selection import train_test_split\n",
        "\n",
        "from keras.models import Model\n",
        "from keras.layers import (Input, LSTM, Dense, Concatenate,\n",
        "                          TimeDistributed, Reshape, RepeatVector, Dropout)\n",
        "\n"
      ],
      "metadata": {
        "id": "Po3ve8GnHWdL"
      },
      "execution_count": 126,
      "outputs": []
    },
    {
      "cell_type": "markdown",
      "source": [
        "# Getting data\n",
        "## Traffic Accident Data\n",
        "Data obtained from  SFGov's dataset titled \"Traffic Crashes Resulting in Injury\" from 1/1/2005 to 12/31/2023.\n",
        "\n",
        "About the data, including column descriptions: https://data.sfgov.org/Public-Safety/Traffic-Crashes-Resulting-in-Injury/ubvf-ztfx/about_data"
      ],
      "metadata": {
        "id": "Osj2Rhb1zsnR"
      }
    },
    {
      "cell_type": "code",
      "execution_count": 2,
      "metadata": {
        "id": "8nDUVJiFwlVT",
        "outputId": "aca24e14-a8f7-4f09-faad-17200ff299d1",
        "colab": {
          "base_uri": "https://localhost:8080/"
        }
      },
      "outputs": [
        {
          "output_type": "stream",
          "name": "stdout",
          "text": [
            "Mounted at /content/gdrive\n"
          ]
        }
      ],
      "source": [
        "drive.mount('/content/gdrive')\n"
      ]
    },
    {
      "cell_type": "code",
      "source": [
        "df=pd.read_csv('gdrive/My Drive/crashes.csv')"
      ],
      "metadata": {
        "colab": {
          "base_uri": "https://localhost:8080/"
        },
        "id": "MKX43B_UrFTh",
        "outputId": "1d30c701-5cb5-4491-ebf7-cddb82cf68ab"
      },
      "execution_count": 3,
      "outputs": [
        {
          "output_type": "stream",
          "name": "stderr",
          "text": [
            "<ipython-input-3-01903bcfc559>:1: DtypeWarning: Columns (3,15) have mixed types. Specify dtype option on import or set low_memory=False.\n",
            "  df=pd.read_csv('gdrive/My Drive/crashes.csv')\n"
          ]
        }
      ]
    },
    {
      "cell_type": "markdown",
      "source": [
        "## Weather"
      ],
      "metadata": {
        "id": "rvcSMUgiHdmp"
      }
    },
    {
      "cell_type": "code",
      "source": [
        "# Retrieving daily data for max temp, min temp, average temp, and precipitation\n",
        "def get_weather_data():\n",
        "\n",
        "  # Generate the range of dates\n",
        "  start_date = datetime(2005, 1, 1)\n",
        "  end_date = datetime(2023, 12, 31)\n",
        "  one_day = timedelta(days=1)\n",
        "  date_range = [start_date + timedelta(days=i) for i in range((end_date - start_date).days + 1)]\n",
        "\n",
        "  # Initialize DataFrame\n",
        "  weather_df = pd.DataFrame(index=date_range)\n",
        "\n",
        "  # Codes for max temp, min temp, average temp, and precipitation\n",
        "  elements = {'max_temp':'1', 'min_temp':'2', 'avg_temp':'43', 'precip':'4'}\n",
        "\n",
        "  for key, val in elements.items():\n",
        "    # RCIS API call\n",
        "    url = \"http://data.rcc-acis.org/\"\n",
        "    input_dict = {\n",
        "        \"sid\":\"USW00023272 6\",\n",
        "        \"sdate\":\"2005-01-01\",\n",
        "        \"edate\":\"2023-12-31\",\n",
        "        \"elems\":val,\n",
        "        \"output\":\"json\"}\n",
        "    params = {'params': json.dumps(input_dict)}\n",
        "    headers = {'Accept': 'application/json'}\n",
        "    req = requests.post('http://data.rcc-acis.org/StnData', data=params, headers=headers)\n",
        "    response = req.json()\n",
        "    response_data = [item[1] for item in response['data']]\n",
        "\n",
        "    # Store in dataframe\n",
        "    weather_df[key] = response_data\n",
        "\n",
        "  return weather_df"
      ],
      "metadata": {
        "id": "ugreu5pTHf3X"
      },
      "execution_count": 4,
      "outputs": []
    },
    {
      "cell_type": "code",
      "source": [
        "raw_weather_df = get_weather_data()\n",
        "# Replace \"M\" with NaN\n",
        "raw_weather_df.replace(\"M\", np.nan, inplace=True)\n",
        "\n",
        "# Convert to numeric\n",
        "raw_weather_df = raw_weather_df.apply(pd.to_numeric, errors='ignore')\n",
        "\n",
        "# Impute with the median for each column\n",
        "weather_df = raw_weather_df.fillna(raw_weather_df.median())\n",
        "\n",
        "print(weather_df.head())"
      ],
      "metadata": {
        "colab": {
          "base_uri": "https://localhost:8080/"
        },
        "id": "QDGNTwpSJ52J",
        "outputId": "0b75f1e5-7c84-42bf-fa5d-42f82b5d337c"
      },
      "execution_count": 5,
      "outputs": [
        {
          "output_type": "stream",
          "name": "stdout",
          "text": [
            "            max_temp  min_temp  avg_temp  precip\n",
            "2005-01-01      54.0      45.0      49.5    0.37\n",
            "2005-01-02      47.0      46.0      46.5    0.93\n",
            "2005-01-03      54.0      44.0      49.0    0.03\n",
            "2005-01-04      53.0      44.0      48.5    0.04\n",
            "2005-01-05      51.0      46.0      48.5    0.03\n"
          ]
        }
      ]
    },
    {
      "cell_type": "markdown",
      "source": [
        "# Removing unnecessary data and checking datatypes"
      ],
      "metadata": {
        "id": "MBav0UKCzwhU"
      }
    },
    {
      "cell_type": "code",
      "source": [
        "# Selecting necessary columns\n",
        "df = df[[\"collision_datetime\", \"collision_date\", \"accident_year\", \"month\", \"day_of_week\", 'tb_latitude', 'tb_longitude']]"
      ],
      "metadata": {
        "id": "ZxUUS96H_iuG"
      },
      "execution_count": 6,
      "outputs": []
    },
    {
      "cell_type": "code",
      "source": [
        "print(df.info())"
      ],
      "metadata": {
        "colab": {
          "base_uri": "https://localhost:8080/"
        },
        "id": "sXK33VA8_tI_",
        "outputId": "9b9456a6-b4d8-4744-b27a-23af7f649794"
      },
      "execution_count": 7,
      "outputs": [
        {
          "output_type": "stream",
          "name": "stdout",
          "text": [
            "<class 'pandas.core.frame.DataFrame'>\n",
            "RangeIndex: 58262 entries, 0 to 58261\n",
            "Data columns (total 7 columns):\n",
            " #   Column              Non-Null Count  Dtype  \n",
            "---  ------              --------------  -----  \n",
            " 0   collision_datetime  58262 non-null  object \n",
            " 1   collision_date      58262 non-null  object \n",
            " 2   accident_year       58262 non-null  int64  \n",
            " 3   month               58262 non-null  object \n",
            " 4   day_of_week         58254 non-null  object \n",
            " 5   tb_latitude         58064 non-null  float64\n",
            " 6   tb_longitude        58064 non-null  float64\n",
            "dtypes: float64(2), int64(1), object(4)\n",
            "memory usage: 3.1+ MB\n",
            "None\n"
          ]
        }
      ]
    },
    {
      "cell_type": "code",
      "source": [
        "df.head()"
      ],
      "metadata": {
        "id": "yKnBalw1BBLC",
        "outputId": "66e759f0-772e-44db-9b50-35b1627e872d",
        "colab": {
          "base_uri": "https://localhost:8080/",
          "height": 313
        }
      },
      "execution_count": 8,
      "outputs": [
        {
          "output_type": "execute_result",
          "data": {
            "text/plain": [
              "       collision_datetime     collision_date  accident_year      month  \\\n",
              "0  12/18/2023 02:15:00 PM   2023 December 18           2023   December   \n",
              "1  01/20/2015 10:07:00 AM    2015 January 20           2015    January   \n",
              "2  04/23/2013 11:26:00 AM      2013 April 23           2013      April   \n",
              "3  08/22/2007 10:30:00 PM     2007 August 22           2007     August   \n",
              "4  09/03/2009 01:35:00 PM  2009 September 03           2009  September   \n",
              "\n",
              "  day_of_week  tb_latitude  tb_longitude  \n",
              "0      Monday    37.743586   -122.463710  \n",
              "1     Tuesday    37.781750   -122.396380  \n",
              "2     Tuesday    37.761830   -122.503878  \n",
              "3   Wednesday    37.783992   -122.408066  \n",
              "4    Thursday    37.785291   -122.424770  "
            ],
            "text/html": [
              "\n",
              "  <div id=\"df-be996ff3-b36a-4c24-9149-773a3c1a88e2\" class=\"colab-df-container\">\n",
              "    <div>\n",
              "<style scoped>\n",
              "    .dataframe tbody tr th:only-of-type {\n",
              "        vertical-align: middle;\n",
              "    }\n",
              "\n",
              "    .dataframe tbody tr th {\n",
              "        vertical-align: top;\n",
              "    }\n",
              "\n",
              "    .dataframe thead th {\n",
              "        text-align: right;\n",
              "    }\n",
              "</style>\n",
              "<table border=\"1\" class=\"dataframe\">\n",
              "  <thead>\n",
              "    <tr style=\"text-align: right;\">\n",
              "      <th></th>\n",
              "      <th>collision_datetime</th>\n",
              "      <th>collision_date</th>\n",
              "      <th>accident_year</th>\n",
              "      <th>month</th>\n",
              "      <th>day_of_week</th>\n",
              "      <th>tb_latitude</th>\n",
              "      <th>tb_longitude</th>\n",
              "    </tr>\n",
              "  </thead>\n",
              "  <tbody>\n",
              "    <tr>\n",
              "      <th>0</th>\n",
              "      <td>12/18/2023 02:15:00 PM</td>\n",
              "      <td>2023 December 18</td>\n",
              "      <td>2023</td>\n",
              "      <td>December</td>\n",
              "      <td>Monday</td>\n",
              "      <td>37.743586</td>\n",
              "      <td>-122.463710</td>\n",
              "    </tr>\n",
              "    <tr>\n",
              "      <th>1</th>\n",
              "      <td>01/20/2015 10:07:00 AM</td>\n",
              "      <td>2015 January 20</td>\n",
              "      <td>2015</td>\n",
              "      <td>January</td>\n",
              "      <td>Tuesday</td>\n",
              "      <td>37.781750</td>\n",
              "      <td>-122.396380</td>\n",
              "    </tr>\n",
              "    <tr>\n",
              "      <th>2</th>\n",
              "      <td>04/23/2013 11:26:00 AM</td>\n",
              "      <td>2013 April 23</td>\n",
              "      <td>2013</td>\n",
              "      <td>April</td>\n",
              "      <td>Tuesday</td>\n",
              "      <td>37.761830</td>\n",
              "      <td>-122.503878</td>\n",
              "    </tr>\n",
              "    <tr>\n",
              "      <th>3</th>\n",
              "      <td>08/22/2007 10:30:00 PM</td>\n",
              "      <td>2007 August 22</td>\n",
              "      <td>2007</td>\n",
              "      <td>August</td>\n",
              "      <td>Wednesday</td>\n",
              "      <td>37.783992</td>\n",
              "      <td>-122.408066</td>\n",
              "    </tr>\n",
              "    <tr>\n",
              "      <th>4</th>\n",
              "      <td>09/03/2009 01:35:00 PM</td>\n",
              "      <td>2009 September 03</td>\n",
              "      <td>2009</td>\n",
              "      <td>September</td>\n",
              "      <td>Thursday</td>\n",
              "      <td>37.785291</td>\n",
              "      <td>-122.424770</td>\n",
              "    </tr>\n",
              "  </tbody>\n",
              "</table>\n",
              "</div>\n",
              "    <div class=\"colab-df-buttons\">\n",
              "\n",
              "  <div class=\"colab-df-container\">\n",
              "    <button class=\"colab-df-convert\" onclick=\"convertToInteractive('df-be996ff3-b36a-4c24-9149-773a3c1a88e2')\"\n",
              "            title=\"Convert this dataframe to an interactive table.\"\n",
              "            style=\"display:none;\">\n",
              "\n",
              "  <svg xmlns=\"http://www.w3.org/2000/svg\" height=\"24px\" viewBox=\"0 -960 960 960\">\n",
              "    <path d=\"M120-120v-720h720v720H120Zm60-500h600v-160H180v160Zm220 220h160v-160H400v160Zm0 220h160v-160H400v160ZM180-400h160v-160H180v160Zm440 0h160v-160H620v160ZM180-180h160v-160H180v160Zm440 0h160v-160H620v160Z\"/>\n",
              "  </svg>\n",
              "    </button>\n",
              "\n",
              "  <style>\n",
              "    .colab-df-container {\n",
              "      display:flex;\n",
              "      gap: 12px;\n",
              "    }\n",
              "\n",
              "    .colab-df-convert {\n",
              "      background-color: #E8F0FE;\n",
              "      border: none;\n",
              "      border-radius: 50%;\n",
              "      cursor: pointer;\n",
              "      display: none;\n",
              "      fill: #1967D2;\n",
              "      height: 32px;\n",
              "      padding: 0 0 0 0;\n",
              "      width: 32px;\n",
              "    }\n",
              "\n",
              "    .colab-df-convert:hover {\n",
              "      background-color: #E2EBFA;\n",
              "      box-shadow: 0px 1px 2px rgba(60, 64, 67, 0.3), 0px 1px 3px 1px rgba(60, 64, 67, 0.15);\n",
              "      fill: #174EA6;\n",
              "    }\n",
              "\n",
              "    .colab-df-buttons div {\n",
              "      margin-bottom: 4px;\n",
              "    }\n",
              "\n",
              "    [theme=dark] .colab-df-convert {\n",
              "      background-color: #3B4455;\n",
              "      fill: #D2E3FC;\n",
              "    }\n",
              "\n",
              "    [theme=dark] .colab-df-convert:hover {\n",
              "      background-color: #434B5C;\n",
              "      box-shadow: 0px 1px 3px 1px rgba(0, 0, 0, 0.15);\n",
              "      filter: drop-shadow(0px 1px 2px rgba(0, 0, 0, 0.3));\n",
              "      fill: #FFFFFF;\n",
              "    }\n",
              "  </style>\n",
              "\n",
              "    <script>\n",
              "      const buttonEl =\n",
              "        document.querySelector('#df-be996ff3-b36a-4c24-9149-773a3c1a88e2 button.colab-df-convert');\n",
              "      buttonEl.style.display =\n",
              "        google.colab.kernel.accessAllowed ? 'block' : 'none';\n",
              "\n",
              "      async function convertToInteractive(key) {\n",
              "        const element = document.querySelector('#df-be996ff3-b36a-4c24-9149-773a3c1a88e2');\n",
              "        const dataTable =\n",
              "          await google.colab.kernel.invokeFunction('convertToInteractive',\n",
              "                                                    [key], {});\n",
              "        if (!dataTable) return;\n",
              "\n",
              "        const docLinkHtml = 'Like what you see? Visit the ' +\n",
              "          '<a target=\"_blank\" href=https://colab.research.google.com/notebooks/data_table.ipynb>data table notebook</a>'\n",
              "          + ' to learn more about interactive tables.';\n",
              "        element.innerHTML = '';\n",
              "        dataTable['output_type'] = 'display_data';\n",
              "        await google.colab.output.renderOutput(dataTable, element);\n",
              "        const docLink = document.createElement('div');\n",
              "        docLink.innerHTML = docLinkHtml;\n",
              "        element.appendChild(docLink);\n",
              "      }\n",
              "    </script>\n",
              "  </div>\n",
              "\n",
              "\n",
              "<div id=\"df-8bc529d9-ceec-435e-9d48-8b747b525f2d\">\n",
              "  <button class=\"colab-df-quickchart\" onclick=\"quickchart('df-8bc529d9-ceec-435e-9d48-8b747b525f2d')\"\n",
              "            title=\"Suggest charts\"\n",
              "            style=\"display:none;\">\n",
              "\n",
              "<svg xmlns=\"http://www.w3.org/2000/svg\" height=\"24px\"viewBox=\"0 0 24 24\"\n",
              "     width=\"24px\">\n",
              "    <g>\n",
              "        <path d=\"M19 3H5c-1.1 0-2 .9-2 2v14c0 1.1.9 2 2 2h14c1.1 0 2-.9 2-2V5c0-1.1-.9-2-2-2zM9 17H7v-7h2v7zm4 0h-2V7h2v10zm4 0h-2v-4h2v4z\"/>\n",
              "    </g>\n",
              "</svg>\n",
              "  </button>\n",
              "\n",
              "<style>\n",
              "  .colab-df-quickchart {\n",
              "      --bg-color: #E8F0FE;\n",
              "      --fill-color: #1967D2;\n",
              "      --hover-bg-color: #E2EBFA;\n",
              "      --hover-fill-color: #174EA6;\n",
              "      --disabled-fill-color: #AAA;\n",
              "      --disabled-bg-color: #DDD;\n",
              "  }\n",
              "\n",
              "  [theme=dark] .colab-df-quickchart {\n",
              "      --bg-color: #3B4455;\n",
              "      --fill-color: #D2E3FC;\n",
              "      --hover-bg-color: #434B5C;\n",
              "      --hover-fill-color: #FFFFFF;\n",
              "      --disabled-bg-color: #3B4455;\n",
              "      --disabled-fill-color: #666;\n",
              "  }\n",
              "\n",
              "  .colab-df-quickchart {\n",
              "    background-color: var(--bg-color);\n",
              "    border: none;\n",
              "    border-radius: 50%;\n",
              "    cursor: pointer;\n",
              "    display: none;\n",
              "    fill: var(--fill-color);\n",
              "    height: 32px;\n",
              "    padding: 0;\n",
              "    width: 32px;\n",
              "  }\n",
              "\n",
              "  .colab-df-quickchart:hover {\n",
              "    background-color: var(--hover-bg-color);\n",
              "    box-shadow: 0 1px 2px rgba(60, 64, 67, 0.3), 0 1px 3px 1px rgba(60, 64, 67, 0.15);\n",
              "    fill: var(--button-hover-fill-color);\n",
              "  }\n",
              "\n",
              "  .colab-df-quickchart-complete:disabled,\n",
              "  .colab-df-quickchart-complete:disabled:hover {\n",
              "    background-color: var(--disabled-bg-color);\n",
              "    fill: var(--disabled-fill-color);\n",
              "    box-shadow: none;\n",
              "  }\n",
              "\n",
              "  .colab-df-spinner {\n",
              "    border: 2px solid var(--fill-color);\n",
              "    border-color: transparent;\n",
              "    border-bottom-color: var(--fill-color);\n",
              "    animation:\n",
              "      spin 1s steps(1) infinite;\n",
              "  }\n",
              "\n",
              "  @keyframes spin {\n",
              "    0% {\n",
              "      border-color: transparent;\n",
              "      border-bottom-color: var(--fill-color);\n",
              "      border-left-color: var(--fill-color);\n",
              "    }\n",
              "    20% {\n",
              "      border-color: transparent;\n",
              "      border-left-color: var(--fill-color);\n",
              "      border-top-color: var(--fill-color);\n",
              "    }\n",
              "    30% {\n",
              "      border-color: transparent;\n",
              "      border-left-color: var(--fill-color);\n",
              "      border-top-color: var(--fill-color);\n",
              "      border-right-color: var(--fill-color);\n",
              "    }\n",
              "    40% {\n",
              "      border-color: transparent;\n",
              "      border-right-color: var(--fill-color);\n",
              "      border-top-color: var(--fill-color);\n",
              "    }\n",
              "    60% {\n",
              "      border-color: transparent;\n",
              "      border-right-color: var(--fill-color);\n",
              "    }\n",
              "    80% {\n",
              "      border-color: transparent;\n",
              "      border-right-color: var(--fill-color);\n",
              "      border-bottom-color: var(--fill-color);\n",
              "    }\n",
              "    90% {\n",
              "      border-color: transparent;\n",
              "      border-bottom-color: var(--fill-color);\n",
              "    }\n",
              "  }\n",
              "</style>\n",
              "\n",
              "  <script>\n",
              "    async function quickchart(key) {\n",
              "      const quickchartButtonEl =\n",
              "        document.querySelector('#' + key + ' button');\n",
              "      quickchartButtonEl.disabled = true;  // To prevent multiple clicks.\n",
              "      quickchartButtonEl.classList.add('colab-df-spinner');\n",
              "      try {\n",
              "        const charts = await google.colab.kernel.invokeFunction(\n",
              "            'suggestCharts', [key], {});\n",
              "      } catch (error) {\n",
              "        console.error('Error during call to suggestCharts:', error);\n",
              "      }\n",
              "      quickchartButtonEl.classList.remove('colab-df-spinner');\n",
              "      quickchartButtonEl.classList.add('colab-df-quickchart-complete');\n",
              "    }\n",
              "    (() => {\n",
              "      let quickchartButtonEl =\n",
              "        document.querySelector('#df-8bc529d9-ceec-435e-9d48-8b747b525f2d button');\n",
              "      quickchartButtonEl.style.display =\n",
              "        google.colab.kernel.accessAllowed ? 'block' : 'none';\n",
              "    })();\n",
              "  </script>\n",
              "</div>\n",
              "    </div>\n",
              "  </div>\n"
            ],
            "application/vnd.google.colaboratory.intrinsic+json": {
              "type": "dataframe",
              "variable_name": "df",
              "summary": "{\n  \"name\": \"df\",\n  \"rows\": 58262,\n  \"fields\": [\n    {\n      \"column\": \"collision_datetime\",\n      \"properties\": {\n        \"dtype\": \"object\",\n        \"num_unique_values\": 57768,\n        \"samples\": [\n          \"12/20/2023 08:46:00 PM\",\n          \"12/23/2016 08:11:00 PM\",\n          \"02/14/2005 03:28:00 PM\"\n        ],\n        \"semantic_type\": \"\",\n        \"description\": \"\"\n      }\n    },\n    {\n      \"column\": \"collision_date\",\n      \"properties\": {\n        \"dtype\": \"object\",\n        \"num_unique_values\": 6931,\n        \"samples\": [\n          \"2016 November 15\",\n          \"2010 August 09\",\n          \"2012 March 26\"\n        ],\n        \"semantic_type\": \"\",\n        \"description\": \"\"\n      }\n    },\n    {\n      \"column\": \"accident_year\",\n      \"properties\": {\n        \"dtype\": \"number\",\n        \"std\": 5,\n        \"min\": 2005,\n        \"max\": 2023,\n        \"num_unique_values\": 19,\n        \"samples\": [\n          2023,\n          2008,\n          2014\n        ],\n        \"semantic_type\": \"\",\n        \"description\": \"\"\n      }\n    },\n    {\n      \"column\": \"month\",\n      \"properties\": {\n        \"dtype\": \"category\",\n        \"num_unique_values\": 12,\n        \"samples\": [\n          \"February\",\n          \"November\",\n          \"December\"\n        ],\n        \"semantic_type\": \"\",\n        \"description\": \"\"\n      }\n    },\n    {\n      \"column\": \"day_of_week\",\n      \"properties\": {\n        \"dtype\": \"category\",\n        \"num_unique_values\": 7,\n        \"samples\": [\n          \"Monday\",\n          \"Tuesday\",\n          \"Sunday\"\n        ],\n        \"semantic_type\": \"\",\n        \"description\": \"\"\n      }\n    },\n    {\n      \"column\": \"tb_latitude\",\n      \"properties\": {\n        \"dtype\": \"number\",\n        \"std\": 0.024447108005044224,\n        \"min\": 37.70745860301913,\n        \"max\": 37.82999075549999,\n        \"num_unique_values\": 34582,\n        \"samples\": [\n          37.77641425242504,\n          37.76262486009998,\n          37.7270375412312\n        ],\n        \"semantic_type\": \"\",\n        \"description\": \"\"\n      }\n    },\n    {\n      \"column\": \"tb_longitude\",\n      \"properties\": {\n        \"dtype\": \"number\",\n        \"std\": 0.02839180499636907,\n        \"min\": -122.51361620862788,\n        \"max\": -122.3583278940174,\n        \"num_unique_values\": 33231,\n        \"samples\": [\n          -122.46965384900756,\n          -122.40753939391264,\n          -122.4441958561637\n        ],\n        \"semantic_type\": \"\",\n        \"description\": \"\"\n      }\n    }\n  ]\n}"
            }
          },
          "metadata": {},
          "execution_count": 8
        }
      ]
    },
    {
      "cell_type": "code",
      "source": [
        "df[\"collision_datetime\"]"
      ],
      "metadata": {
        "id": "ZDYpYu8mAXiD",
        "outputId": "3a342598-bef1-41fe-997f-565d6de57453",
        "colab": {
          "base_uri": "https://localhost:8080/"
        }
      },
      "execution_count": 9,
      "outputs": [
        {
          "output_type": "execute_result",
          "data": {
            "text/plain": [
              "0        12/18/2023 02:15:00 PM\n",
              "1        01/20/2015 10:07:00 AM\n",
              "2        04/23/2013 11:26:00 AM\n",
              "3        08/22/2007 10:30:00 PM\n",
              "4        09/03/2009 01:35:00 PM\n",
              "                  ...          \n",
              "58257    07/12/2012 11:48:00 AM\n",
              "58258    06/10/2023 11:03:00 PM\n",
              "58259    10/19/2021 08:25:00 PM\n",
              "58260    01/09/2012 08:25:00 AM\n",
              "58261    04/05/2023 07:41:00 AM\n",
              "Name: collision_datetime, Length: 58262, dtype: object"
            ]
          },
          "metadata": {},
          "execution_count": 9
        }
      ]
    },
    {
      "cell_type": "code",
      "source": [
        "# Casting accident year to int\n",
        "df['accident_year'] = df['accident_year'].astype(int)\n",
        "\n",
        "# Casting datetime to datetime object\n",
        "df['collision_datetime'] = pd.to_datetime(df[\"collision_datetime\"],\n",
        "                                          format=\"%m/%d/%Y %I:%M:%S %p\")\n",
        "df['collision_date'] = pd.to_datetime(df[\"collision_datetime\"],\n",
        "                                      format=\"%Y-%m-%d\").dt.date\n",
        "\n",
        "# Casting month and day of week to numeric format\n",
        "df['month'] = pd.to_datetime(df['month'], format='%B').dt.month\n",
        "df['day_of_week'] = pd.to_datetime(df['day_of_week'], format='%A').dt.dayofweek\n",
        "\n",
        "# Renaming latitude and longitude columns for convenience\n",
        "df = df.rename(columns={'tb_latitude':'latitude', 'tb_longitude':'longitude'})"
      ],
      "metadata": {
        "id": "OE8pK7fN0d1k"
      },
      "execution_count": 10,
      "outputs": []
    },
    {
      "cell_type": "markdown",
      "source": [
        "I will not be training the model on post-2020 data so that irregular traffic patterns caused by lockdowns in 2020 and 2021 will not affect the overall model."
      ],
      "metadata": {
        "id": "QTGr18a2Dcb7"
      }
    },
    {
      "cell_type": "code",
      "source": [
        "# Graph of accident counts by month over time\n",
        "yearly_counts = df.groupby(by=['accident_year', 'month']).size()\n",
        "print(yearly_counts)\n",
        "yearly_counts.plot(kind='line')"
      ],
      "metadata": {
        "id": "cT3Pgodu0lCQ",
        "outputId": "2d92971f-bd03-4377-da7c-924c9e2f4858",
        "colab": {
          "base_uri": "https://localhost:8080/",
          "height": 700
        }
      },
      "execution_count": 11,
      "outputs": [
        {
          "output_type": "stream",
          "name": "stdout",
          "text": [
            "accident_year  month\n",
            "2005           1        245\n",
            "               2        224\n",
            "               3        281\n",
            "               4        268\n",
            "               5        299\n",
            "                       ... \n",
            "2023           8        262\n",
            "               9        271\n",
            "               10       293\n",
            "               11       245\n",
            "               12       266\n",
            "Length: 228, dtype: int64\n"
          ]
        },
        {
          "output_type": "execute_result",
          "data": {
            "text/plain": [
              "<Axes: xlabel='accident_year,month'>"
            ]
          },
          "metadata": {},
          "execution_count": 11
        },
        {
          "output_type": "display_data",
          "data": {
            "text/plain": [
              "<Figure size 640x480 with 1 Axes>"
            ],
            "image/png": "[encoded data removed]"
          },
          "metadata": {}
        }
      ]
    },
    {
      "cell_type": "code",
      "source": [
        "# Subsetting data\n",
        "selected_dates = df[df['accident_year'] < 2015].sort_values(by='collision_date')"
      ],
      "metadata": {
        "id": "1yst7AtMyS97"
      },
      "execution_count": 12,
      "outputs": []
    },
    {
      "cell_type": "markdown",
      "source": [
        "# Creating map of area where accidents in dataset are occurring"
      ],
      "metadata": {
        "id": "hgUHvCjlwURZ"
      }
    },
    {
      "cell_type": "code",
      "source": [
        "mean_lat = selected_dates['latitude'].mean()\n",
        "mean_long = selected_dates['longitude'].mean()"
      ],
      "metadata": {
        "id": "7wk_LkwSwXT7"
      },
      "execution_count": 13,
      "outputs": []
    },
    {
      "cell_type": "code",
      "source": [
        "min_lat = selected_dates['latitude'].min()-.01\n",
        "max_lat = selected_dates['latitude'].max()+.01\n",
        "print(f\"Minimum latitude: {min_lat}\")\n",
        "print(f\"Maximum latitude: {max_lat}\")\n"
      ],
      "metadata": {
        "id": "uEwTRRCww1uX",
        "outputId": "ecef2656-feed-4811-e235-bcf794cd48b6",
        "colab": {
          "base_uri": "https://localhost:8080/"
        }
      },
      "execution_count": 14,
      "outputs": [
        {
          "output_type": "stream",
          "name": "stdout",
          "text": [
            "Minimum latitude: 37.69808572900908\n",
            "Maximum latitude: 37.83986189124343\n"
          ]
        }
      ]
    },
    {
      "cell_type": "code",
      "source": [
        "min_long = selected_dates['longitude'].min()-.01\n",
        "max_long = selected_dates['longitude'].max()+.01\n",
        "print(f\"Minimum longitude: {min_long}\")\n",
        "print(f\"Maximum longitude: {max_long}\")\n",
        "\n"
      ],
      "metadata": {
        "id": "fQtkYte3w5er",
        "outputId": "2f608e7f-b7f8-47bc-f0d2-14c97278b611",
        "colab": {
          "base_uri": "https://localhost:8080/"
        }
      },
      "execution_count": 15,
      "outputs": [
        {
          "output_type": "stream",
          "name": "stdout",
          "text": [
            "Minimum longitude: -122.52361620862789\n",
            "Maximum longitude: -122.3483278940174\n"
          ]
        }
      ]
    },
    {
      "cell_type": "markdown",
      "source": [
        "All possible latitude and longitude values within the city limits should fit in this area. I'll encode the accidents by assigning them to a cell in a square matrix that covers this area."
      ],
      "metadata": {
        "id": "pdNad1eM32LK"
      }
    },
    {
      "cell_type": "code",
      "source": [
        "m = folium.Map(location=(mean_lat, mean_long),\n",
        "               zoom_start=12,\n",
        "               tiles='OpenStreetMap')\n",
        "\n",
        "folium.Marker(\n",
        "    location = [min_lat, min_long]\n",
        ").add_to(m)\n",
        "folium.Marker(\n",
        "    location = [max_lat, max_long]\n",
        ").add_to(m)\n",
        "folium.Marker(\n",
        "    location = [max_lat, min_long]\n",
        ").add_to(m)\n",
        "folium.Marker(\n",
        "    location = [min_lat, max_long]\n",
        ").add_to(m)\n",
        "m"
      ],
      "metadata": {
        "id": "aMET6tSowtS1",
        "outputId": "1ea89f80-27dd-4b9c-8cd1-61b0271faa10",
        "colab": {
          "base_uri": "https://localhost:8080/",
          "height": 499
        }
      },
      "execution_count": 16,
      "outputs": [
        {
          "output_type": "execute_result",
          "data": {
            "text/plain": [
              "<folium.folium.Map at 0x7bac908a7a30>"
            ],
            "text/html": [
              "<div style=\"width:100%;\"><div style=\"position:relative;width:100%;height:0;padding-bottom:60%;\"><span style=\"color:#565656\">Make this Notebook Trusted to load map: File -> Trust Notebook</span><iframe srcdoc=\"&lt;!DOCTYPE html&gt;\n",
              "&lt;html&gt;\n",
              "&lt;head&gt;\n",
              "    \n",
              "    &lt;meta http-equiv=&quot;content-type&quot; content=&quot;text/html; charset=UTF-8&quot; /&gt;\n",
              "    \n",
              "        &lt;script&gt;\n",
              "            L_NO_TOUCH = false;\n",
              "            L_DISABLE_3D = false;\n",
              "        &lt;/script&gt;\n",
              "    \n",
              "    &lt;style&gt;html, body {width: 100%;height: 100%;margin: 0;padding: 0;}&lt;/style&gt;\n",
              "    &lt;style&gt;#map {position:absolute;top:0;bottom:0;right:0;left:0;}&lt;/style&gt;\n",
              "    &lt;script src=&quot;https://cdn.jsdelivr.net/npm/leaflet@1.9.3/dist/leaflet.js&quot;&gt;&lt;/script&gt;\n",
              "    &lt;script src=&quot;https://code.jquery.com/jquery-1.12.4.min.js&quot;&gt;&lt;/script&gt;\n",
              "    &lt;script src=&quot;https://cdn.jsdelivr.net/npm/bootstrap@5.2.2/dist/js/bootstrap.bundle.min.js&quot;&gt;&lt;/script&gt;\n",
              "    &lt;script src=&quot;https://cdnjs.cloudflare.com/ajax/libs/Leaflet.awesome-markers/2.0.2/leaflet.awesome-markers.js&quot;&gt;&lt;/script&gt;\n",
              "    &lt;link rel=&quot;stylesheet&quot; href=&quot;https://cdn.jsdelivr.net/npm/leaflet@1.9.3/dist/leaflet.css&quot;/&gt;\n",
              "    &lt;link rel=&quot;stylesheet&quot; href=&quot;https://cdn.jsdelivr.net/npm/bootstrap@5.2.2/dist/css/bootstrap.min.css&quot;/&gt;\n",
              "    &lt;link rel=&quot;stylesheet&quot; href=&quot;https://netdna.bootstrapcdn.com/bootstrap/3.0.0/css/bootstrap.min.css&quot;/&gt;\n",
              "    &lt;link rel=&quot;stylesheet&quot; href=&quot;https://cdn.jsdelivr.net/npm/@fortawesome/fontawesome-free@6.2.0/css/all.min.css&quot;/&gt;\n",
              "    &lt;link rel=&quot;stylesheet&quot; href=&quot;https://cdnjs.cloudflare.com/ajax/libs/Leaflet.awesome-markers/2.0.2/leaflet.awesome-markers.css&quot;/&gt;\n",
              "    &lt;link rel=&quot;stylesheet&quot; href=&quot;https://cdn.jsdelivr.net/gh/python-visualization/folium/folium/templates/leaflet.awesome.rotate.min.css&quot;/&gt;\n",
              "    \n",
              "            &lt;meta name=&quot;viewport&quot; content=&quot;width=device-width,\n",
              "                initial-scale=1.0, maximum-scale=1.0, user-scalable=no&quot; /&gt;\n",
              "            &lt;style&gt;\n",
              "                #map_a95dd50eb01bd30fe986f18ffef53c4d {\n",
              "                    position: relative;\n",
              "                    width: 100.0%;\n",
              "                    height: 100.0%;\n",
              "                    left: 0.0%;\n",
              "                    top: 0.0%;\n",
              "                }\n",
              "                .leaflet-container { font-size: 1rem; }\n",
              "            &lt;/style&gt;\n",
              "        \n",
              "&lt;/head&gt;\n",
              "&lt;body&gt;\n",
              "    \n",
              "    \n",
              "            &lt;div class=&quot;folium-map&quot; id=&quot;map_a95dd50eb01bd30fe986f18ffef53c4d&quot; &gt;&lt;/div&gt;\n",
              "        \n",
              "&lt;/body&gt;\n",
              "&lt;script&gt;\n",
              "    \n",
              "    \n",
              "            var map_a95dd50eb01bd30fe986f18ffef53c4d = L.map(\n",
              "                &quot;map_a95dd50eb01bd30fe986f18ffef53c4d&quot;,\n",
              "                {\n",
              "                    center: [37.766366928225544, -122.43023548294262],\n",
              "                    crs: L.CRS.EPSG3857,\n",
              "                    zoom: 12,\n",
              "                    zoomControl: true,\n",
              "                    preferCanvas: false,\n",
              "                }\n",
              "            );\n",
              "\n",
              "            \n",
              "\n",
              "        \n",
              "    \n",
              "            var tile_layer_23151c0be38b57bf7cb8b5976d7eae43 = L.tileLayer(\n",
              "                &quot;https://{s}.tile.openstreetmap.org/{z}/{x}/{y}.png&quot;,\n",
              "                {&quot;attribution&quot;: &quot;Data by \\u0026copy; \\u003ca target=\\&quot;_blank\\&quot; href=\\&quot;http://openstreetmap.org\\&quot;\\u003eOpenStreetMap\\u003c/a\\u003e, under \\u003ca target=\\&quot;_blank\\&quot; href=\\&quot;http://www.openstreetmap.org/copyright\\&quot;\\u003eODbL\\u003c/a\\u003e.&quot;, &quot;detectRetina&quot;: false, &quot;maxNativeZoom&quot;: 18, &quot;maxZoom&quot;: 18, &quot;minZoom&quot;: 0, &quot;noWrap&quot;: false, &quot;opacity&quot;: 1, &quot;subdomains&quot;: &quot;abc&quot;, &quot;tms&quot;: false}\n",
              "            ).addTo(map_a95dd50eb01bd30fe986f18ffef53c4d);\n",
              "        \n",
              "    \n",
              "            var marker_6412d8a589927c8fce7c6fe646b27782 = L.marker(\n",
              "                [37.69808572900908, -122.52361620862789],\n",
              "                {}\n",
              "            ).addTo(map_a95dd50eb01bd30fe986f18ffef53c4d);\n",
              "        \n",
              "    \n",
              "            var marker_cc7228cab49d733f3bef984117a0ac32 = L.marker(\n",
              "                [37.83986189124343, -122.3483278940174],\n",
              "                {}\n",
              "            ).addTo(map_a95dd50eb01bd30fe986f18ffef53c4d);\n",
              "        \n",
              "    \n",
              "            var marker_494bf45298ec3fae2892c7c0a06144a6 = L.marker(\n",
              "                [37.83986189124343, -122.52361620862789],\n",
              "                {}\n",
              "            ).addTo(map_a95dd50eb01bd30fe986f18ffef53c4d);\n",
              "        \n",
              "    \n",
              "            var marker_d72de188b4833fa952b2e2404b4ed750 = L.marker(\n",
              "                [37.69808572900908, -122.3483278940174],\n",
              "                {}\n",
              "            ).addTo(map_a95dd50eb01bd30fe986f18ffef53c4d);\n",
              "        \n",
              "&lt;/script&gt;\n",
              "&lt;/html&gt;\" style=\"position:absolute;width:100%;height:100%;left:0;top:0;border:none !important;\" allowfullscreen webkitallowfullscreen mozallowfullscreen></iframe></div></div>"
            ]
          },
          "metadata": {},
          "execution_count": 16
        }
      ]
    },
    {
      "cell_type": "code",
      "source": [
        "import numpy as np\n",
        "\n",
        "# Generate 31 equally spaced points within the latitude and longitude ranges (30x30 grid)\n",
        "lat_values = np.linspace(min_lat, max_lat, 31)\n",
        "long_values = np.linspace(min_long, max_long, 31)\n",
        "\n",
        "# Center map\n",
        "mean_lat = np.mean(lat_values)\n",
        "mean_long = np.mean(long_values)\n",
        "m_grid = folium.Map(location=(mean_lat, mean_long), zoom_start=12, tiles='Cartodb Positron')\n",
        "\n",
        "# Horizontal grid lines\n",
        "for lat in lat_values:\n",
        "    polyline = [(lat, min_long), (lat, max_long)]\n",
        "    folium.PolyLine(locations=polyline, color='blue', weight = 0.5).add_to(m_grid)\n",
        "\n",
        "# Vertical grid lines\n",
        "for long in long_values:\n",
        "    polyline = [(min_lat, long), (max_lat, long)]\n",
        "    folium.PolyLine(locations=polyline, color='blue', weight = 0.5).add_to(m_grid)\n",
        "\n",
        "m_grid"
      ],
      "metadata": {
        "id": "b1lJ2fTyyuIv",
        "outputId": "26313f92-7315-4460-b1ac-e047b3f7829e",
        "colab": {
          "base_uri": "https://localhost:8080/",
          "height": 499
        }
      },
      "execution_count": 17,
      "outputs": [
        {
          "output_type": "execute_result",
          "data": {
            "text/plain": [
              "<folium.folium.Map at 0x7bac90964340>"
            ],
            "text/html": [
              "<div style=\"width:100%;\"><div style=\"position:relative;width:100%;height:0;padding-bottom:60%;\"><span style=\"color:#565656\">Make this Notebook Trusted to load map: File -> Trust Notebook</span><iframe srcdoc=\"&lt;!DOCTYPE html&gt;\n",
              "&lt;html&gt;\n",
              "&lt;head&gt;\n",
              "    \n",
              "    &lt;meta http-equiv=&quot;content-type&quot; content=&quot;text/html; charset=UTF-8&quot; /&gt;\n",
              "    \n",
              "        &lt;script&gt;\n",
              "            L_NO_TOUCH = false;\n",
              "            L_DISABLE_3D = false;\n",
              "        &lt;/script&gt;\n",
              "    \n",
              "    &lt;style&gt;html, body {width: 100%;height: 100%;margin: 0;padding: 0;}&lt;/style&gt;\n",
              "    &lt;style&gt;#map {position:absolute;top:0;bottom:0;right:0;left:0;}&lt;/style&gt;\n",
              "    &lt;script src=&quot;https://cdn.jsdelivr.net/npm/leaflet@1.9.3/dist/leaflet.js&quot;&gt;&lt;/script&gt;\n",
              "    &lt;script src=&quot;https://code.jquery.com/jquery-1.12.4.min.js&quot;&gt;&lt;/script&gt;\n",
              "    &lt;script src=&quot;https://cdn.jsdelivr.net/npm/bootstrap@5.2.2/dist/js/bootstrap.bundle.min.js&quot;&gt;&lt;/script&gt;\n",
              "    &lt;script src=&quot;https://cdnjs.cloudflare.com/ajax/libs/Leaflet.awesome-markers/2.0.2/leaflet.awesome-markers.js&quot;&gt;&lt;/script&gt;\n",
              "    &lt;link rel=&quot;stylesheet&quot; href=&quot;https://cdn.jsdelivr.net/npm/leaflet@1.9.3/dist/leaflet.css&quot;/&gt;\n",
              "    &lt;link rel=&quot;stylesheet&quot; href=&quot;https://cdn.jsdelivr.net/npm/bootstrap@5.2.2/dist/css/bootstrap.min.css&quot;/&gt;\n",
              "    &lt;link rel=&quot;stylesheet&quot; href=&quot;https://netdna.bootstrapcdn.com/bootstrap/3.0.0/css/bootstrap.min.css&quot;/&gt;\n",
              "    &lt;link rel=&quot;stylesheet&quot; href=&quot;https://cdn.jsdelivr.net/npm/@fortawesome/fontawesome-free@6.2.0/css/all.min.css&quot;/&gt;\n",
              "    &lt;link rel=&quot;stylesheet&quot; href=&quot;https://cdnjs.cloudflare.com/ajax/libs/Leaflet.awesome-markers/2.0.2/leaflet.awesome-markers.css&quot;/&gt;\n",
              "    &lt;link rel=&quot;stylesheet&quot; href=&quot;https://cdn.jsdelivr.net/gh/python-visualization/folium/folium/templates/leaflet.awesome.rotate.min.css&quot;/&gt;\n",
              "    \n",
              "            &lt;meta name=&quot;viewport&quot; content=&quot;width=device-width,\n",
              "                initial-scale=1.0, maximum-scale=1.0, user-scalable=no&quot; /&gt;\n",
              "            &lt;style&gt;\n",
              "                #map_80cb45f4ec4403cff412eaf6bc328b02 {\n",
              "                    position: relative;\n",
              "                    width: 100.0%;\n",
              "                    height: 100.0%;\n",
              "                    left: 0.0%;\n",
              "                    top: 0.0%;\n",
              "                }\n",
              "                .leaflet-container { font-size: 1rem; }\n",
              "            &lt;/style&gt;\n",
              "        \n",
              "&lt;/head&gt;\n",
              "&lt;body&gt;\n",
              "    \n",
              "    \n",
              "            &lt;div class=&quot;folium-map&quot; id=&quot;map_80cb45f4ec4403cff412eaf6bc328b02&quot; &gt;&lt;/div&gt;\n",
              "        \n",
              "&lt;/body&gt;\n",
              "&lt;script&gt;\n",
              "    \n",
              "    \n",
              "            var map_80cb45f4ec4403cff412eaf6bc328b02 = L.map(\n",
              "                &quot;map_80cb45f4ec4403cff412eaf6bc328b02&quot;,\n",
              "                {\n",
              "                    center: [37.76897381012625, -122.43597205132264],\n",
              "                    crs: L.CRS.EPSG3857,\n",
              "                    zoom: 12,\n",
              "                    zoomControl: true,\n",
              "                    preferCanvas: false,\n",
              "                }\n",
              "            );\n",
              "\n",
              "            \n",
              "\n",
              "        \n",
              "    \n",
              "            var tile_layer_4e37b7b89a63a66a3708f201809aff65 = L.tileLayer(\n",
              "                &quot;https://cartodb-basemaps-{s}.global.ssl.fastly.net/light_all/{z}/{x}/{y}.png&quot;,\n",
              "                {&quot;attribution&quot;: &quot;\\u0026copy; \\u003ca target=\\&quot;_blank\\&quot; href=\\&quot;http://www.openstreetmap.org/copyright\\&quot;\\u003eOpenStreetMap\\u003c/a\\u003e contributors \\u0026copy; \\u003ca target=\\&quot;_blank\\&quot; href=\\&quot;http://cartodb.com/attributions\\&quot;\\u003eCartoDB\\u003c/a\\u003e, CartoDB \\u003ca target=\\&quot;_blank\\&quot; href =\\&quot;http://cartodb.com/attributions\\&quot;\\u003eattributions\\u003c/a\\u003e&quot;, &quot;detectRetina&quot;: false, &quot;maxNativeZoom&quot;: 18, &quot;maxZoom&quot;: 18, &quot;minZoom&quot;: 0, &quot;noWrap&quot;: false, &quot;opacity&quot;: 1, &quot;subdomains&quot;: &quot;abc&quot;, &quot;tms&quot;: false}\n",
              "            ).addTo(map_80cb45f4ec4403cff412eaf6bc328b02);\n",
              "        \n",
              "    \n",
              "            var poly_line_26802c1c398636aa1861e33e5fcef280 = L.polyline(\n",
              "                [[37.69808572900908, -122.52361620862789], [37.69808572900908, -122.3483278940174]],\n",
              "                {&quot;bubblingMouseEvents&quot;: true, &quot;color&quot;: &quot;blue&quot;, &quot;dashArray&quot;: null, &quot;dashOffset&quot;: null, &quot;fill&quot;: false, &quot;fillColor&quot;: &quot;blue&quot;, &quot;fillOpacity&quot;: 0.2, &quot;fillRule&quot;: &quot;evenodd&quot;, &quot;lineCap&quot;: &quot;round&quot;, &quot;lineJoin&quot;: &quot;round&quot;, &quot;noClip&quot;: false, &quot;opacity&quot;: 1.0, &quot;smoothFactor&quot;: 1.0, &quot;stroke&quot;: true, &quot;weight&quot;: 0.5}\n",
              "            ).addTo(map_80cb45f4ec4403cff412eaf6bc328b02);\n",
              "        \n",
              "    \n",
              "            var poly_line_94988a4e85fa28fa5a43ab6c9e7a0608 = L.polyline(\n",
              "                [[37.70281160108356, -122.52361620862789], [37.70281160108356, -122.3483278940174]],\n",
              "                {&quot;bubblingMouseEvents&quot;: true, &quot;color&quot;: &quot;blue&quot;, &quot;dashArray&quot;: null, &quot;dashOffset&quot;: null, &quot;fill&quot;: false, &quot;fillColor&quot;: &quot;blue&quot;, &quot;fillOpacity&quot;: 0.2, &quot;fillRule&quot;: &quot;evenodd&quot;, &quot;lineCap&quot;: &quot;round&quot;, &quot;lineJoin&quot;: &quot;round&quot;, &quot;noClip&quot;: false, &quot;opacity&quot;: 1.0, &quot;smoothFactor&quot;: 1.0, &quot;stroke&quot;: true, &quot;weight&quot;: 0.5}\n",
              "            ).addTo(map_80cb45f4ec4403cff412eaf6bc328b02);\n",
              "        \n",
              "    \n",
              "            var poly_line_e0084ccdb36dcc1a39c8b3f485a2892f = L.polyline(\n",
              "                [[37.707537473158034, -122.52361620862789], [37.707537473158034, -122.3483278940174]],\n",
              "                {&quot;bubblingMouseEvents&quot;: true, &quot;color&quot;: &quot;blue&quot;, &quot;dashArray&quot;: null, &quot;dashOffset&quot;: null, &quot;fill&quot;: false, &quot;fillColor&quot;: &quot;blue&quot;, &quot;fillOpacity&quot;: 0.2, &quot;fillRule&quot;: &quot;evenodd&quot;, &quot;lineCap&quot;: &quot;round&quot;, &quot;lineJoin&quot;: &quot;round&quot;, &quot;noClip&quot;: false, &quot;opacity&quot;: 1.0, &quot;smoothFactor&quot;: 1.0, &quot;stroke&quot;: true, &quot;weight&quot;: 0.5}\n",
              "            ).addTo(map_80cb45f4ec4403cff412eaf6bc328b02);\n",
              "        \n",
              "    \n",
              "            var poly_line_2991811fd5f159cf1162d61c19957bc6 = L.polyline(\n",
              "                [[37.712263345232515, -122.52361620862789], [37.712263345232515, -122.3483278940174]],\n",
              "                {&quot;bubblingMouseEvents&quot;: true, &quot;color&quot;: &quot;blue&quot;, &quot;dashArray&quot;: null, &quot;dashOffset&quot;: null, &quot;fill&quot;: false, &quot;fillColor&quot;: &quot;blue&quot;, &quot;fillOpacity&quot;: 0.2, &quot;fillRule&quot;: &quot;evenodd&quot;, &quot;lineCap&quot;: &quot;round&quot;, &quot;lineJoin&quot;: &quot;round&quot;, &quot;noClip&quot;: false, &quot;opacity&quot;: 1.0, &quot;smoothFactor&quot;: 1.0, &quot;stroke&quot;: true, &quot;weight&quot;: 0.5}\n",
              "            ).addTo(map_80cb45f4ec4403cff412eaf6bc328b02);\n",
              "        \n",
              "    \n",
              "            var poly_line_f319229e4d4e4319c024c94c03a065c7 = L.polyline(\n",
              "                [[37.716989217306995, -122.52361620862789], [37.716989217306995, -122.3483278940174]],\n",
              "                {&quot;bubblingMouseEvents&quot;: true, &quot;color&quot;: &quot;blue&quot;, &quot;dashArray&quot;: null, &quot;dashOffset&quot;: null, &quot;fill&quot;: false, &quot;fillColor&quot;: &quot;blue&quot;, &quot;fillOpacity&quot;: 0.2, &quot;fillRule&quot;: &quot;evenodd&quot;, &quot;lineCap&quot;: &quot;round&quot;, &quot;lineJoin&quot;: &quot;round&quot;, &quot;noClip&quot;: false, &quot;opacity&quot;: 1.0, &quot;smoothFactor&quot;: 1.0, &quot;stroke&quot;: true, &quot;weight&quot;: 0.5}\n",
              "            ).addTo(map_80cb45f4ec4403cff412eaf6bc328b02);\n",
              "        \n",
              "    \n",
              "            var poly_line_3f337dd97e30a4d62b19f410fa6c5b9a = L.polyline(\n",
              "                [[37.72171508938147, -122.52361620862789], [37.72171508938147, -122.3483278940174]],\n",
              "                {&quot;bubblingMouseEvents&quot;: true, &quot;color&quot;: &quot;blue&quot;, &quot;dashArray&quot;: null, &quot;dashOffset&quot;: null, &quot;fill&quot;: false, &quot;fillColor&quot;: &quot;blue&quot;, &quot;fillOpacity&quot;: 0.2, &quot;fillRule&quot;: &quot;evenodd&quot;, &quot;lineCap&quot;: &quot;round&quot;, &quot;lineJoin&quot;: &quot;round&quot;, &quot;noClip&quot;: false, &quot;opacity&quot;: 1.0, &quot;smoothFactor&quot;: 1.0, &quot;stroke&quot;: true, &quot;weight&quot;: 0.5}\n",
              "            ).addTo(map_80cb45f4ec4403cff412eaf6bc328b02);\n",
              "        \n",
              "    \n",
              "            var poly_line_063117cb81e608a3b6974ce72486de74 = L.polyline(\n",
              "                [[37.72644096145595, -122.52361620862789], [37.72644096145595, -122.3483278940174]],\n",
              "                {&quot;bubblingMouseEvents&quot;: true, &quot;color&quot;: &quot;blue&quot;, &quot;dashArray&quot;: null, &quot;dashOffset&quot;: null, &quot;fill&quot;: false, &quot;fillColor&quot;: &quot;blue&quot;, &quot;fillOpacity&quot;: 0.2, &quot;fillRule&quot;: &quot;evenodd&quot;, &quot;lineCap&quot;: &quot;round&quot;, &quot;lineJoin&quot;: &quot;round&quot;, &quot;noClip&quot;: false, &quot;opacity&quot;: 1.0, &quot;smoothFactor&quot;: 1.0, &quot;stroke&quot;: true, &quot;weight&quot;: 0.5}\n",
              "            ).addTo(map_80cb45f4ec4403cff412eaf6bc328b02);\n",
              "        \n",
              "    \n",
              "            var poly_line_dfa1ad1a8b17a0d59ba7bfe30e1e245c = L.polyline(\n",
              "                [[37.73116683353043, -122.52361620862789], [37.73116683353043, -122.3483278940174]],\n",
              "                {&quot;bubblingMouseEvents&quot;: true, &quot;color&quot;: &quot;blue&quot;, &quot;dashArray&quot;: null, &quot;dashOffset&quot;: null, &quot;fill&quot;: false, &quot;fillColor&quot;: &quot;blue&quot;, &quot;fillOpacity&quot;: 0.2, &quot;fillRule&quot;: &quot;evenodd&quot;, &quot;lineCap&quot;: &quot;round&quot;, &quot;lineJoin&quot;: &quot;round&quot;, &quot;noClip&quot;: false, &quot;opacity&quot;: 1.0, &quot;smoothFactor&quot;: 1.0, &quot;stroke&quot;: true, &quot;weight&quot;: 0.5}\n",
              "            ).addTo(map_80cb45f4ec4403cff412eaf6bc328b02);\n",
              "        \n",
              "    \n",
              "            var poly_line_313798c09c51fb25c2afc50f606c261b = L.polyline(\n",
              "                [[37.735892705604904, -122.52361620862789], [37.735892705604904, -122.3483278940174]],\n",
              "                {&quot;bubblingMouseEvents&quot;: true, &quot;color&quot;: &quot;blue&quot;, &quot;dashArray&quot;: null, &quot;dashOffset&quot;: null, &quot;fill&quot;: false, &quot;fillColor&quot;: &quot;blue&quot;, &quot;fillOpacity&quot;: 0.2, &quot;fillRule&quot;: &quot;evenodd&quot;, &quot;lineCap&quot;: &quot;round&quot;, &quot;lineJoin&quot;: &quot;round&quot;, &quot;noClip&quot;: false, &quot;opacity&quot;: 1.0, &quot;smoothFactor&quot;: 1.0, &quot;stroke&quot;: true, &quot;weight&quot;: 0.5}\n",
              "            ).addTo(map_80cb45f4ec4403cff412eaf6bc328b02);\n",
              "        \n",
              "    \n",
              "            var poly_line_2cf83960260530bb40aac18f5fe325b7 = L.polyline(\n",
              "                [[37.740618577679385, -122.52361620862789], [37.740618577679385, -122.3483278940174]],\n",
              "                {&quot;bubblingMouseEvents&quot;: true, &quot;color&quot;: &quot;blue&quot;, &quot;dashArray&quot;: null, &quot;dashOffset&quot;: null, &quot;fill&quot;: false, &quot;fillColor&quot;: &quot;blue&quot;, &quot;fillOpacity&quot;: 0.2, &quot;fillRule&quot;: &quot;evenodd&quot;, &quot;lineCap&quot;: &quot;round&quot;, &quot;lineJoin&quot;: &quot;round&quot;, &quot;noClip&quot;: false, &quot;opacity&quot;: 1.0, &quot;smoothFactor&quot;: 1.0, &quot;stroke&quot;: true, &quot;weight&quot;: 0.5}\n",
              "            ).addTo(map_80cb45f4ec4403cff412eaf6bc328b02);\n",
              "        \n",
              "    \n",
              "            var poly_line_750fd6275bbef8ee82fac23879be9574 = L.polyline(\n",
              "                [[37.745344449753865, -122.52361620862789], [37.745344449753865, -122.3483278940174]],\n",
              "                {&quot;bubblingMouseEvents&quot;: true, &quot;color&quot;: &quot;blue&quot;, &quot;dashArray&quot;: null, &quot;dashOffset&quot;: null, &quot;fill&quot;: false, &quot;fillColor&quot;: &quot;blue&quot;, &quot;fillOpacity&quot;: 0.2, &quot;fillRule&quot;: &quot;evenodd&quot;, &quot;lineCap&quot;: &quot;round&quot;, &quot;lineJoin&quot;: &quot;round&quot;, &quot;noClip&quot;: false, &quot;opacity&quot;: 1.0, &quot;smoothFactor&quot;: 1.0, &quot;stroke&quot;: true, &quot;weight&quot;: 0.5}\n",
              "            ).addTo(map_80cb45f4ec4403cff412eaf6bc328b02);\n",
              "        \n",
              "    \n",
              "            var poly_line_e45ba282d665bcc4af42abf078a8bb69 = L.polyline(\n",
              "                [[37.75007032182834, -122.52361620862789], [37.75007032182834, -122.3483278940174]],\n",
              "                {&quot;bubblingMouseEvents&quot;: true, &quot;color&quot;: &quot;blue&quot;, &quot;dashArray&quot;: null, &quot;dashOffset&quot;: null, &quot;fill&quot;: false, &quot;fillColor&quot;: &quot;blue&quot;, &quot;fillOpacity&quot;: 0.2, &quot;fillRule&quot;: &quot;evenodd&quot;, &quot;lineCap&quot;: &quot;round&quot;, &quot;lineJoin&quot;: &quot;round&quot;, &quot;noClip&quot;: false, &quot;opacity&quot;: 1.0, &quot;smoothFactor&quot;: 1.0, &quot;stroke&quot;: true, &quot;weight&quot;: 0.5}\n",
              "            ).addTo(map_80cb45f4ec4403cff412eaf6bc328b02);\n",
              "        \n",
              "    \n",
              "            var poly_line_dad4a35f3acd28b77356509fcb7d5755 = L.polyline(\n",
              "                [[37.75479619390282, -122.52361620862789], [37.75479619390282, -122.3483278940174]],\n",
              "                {&quot;bubblingMouseEvents&quot;: true, &quot;color&quot;: &quot;blue&quot;, &quot;dashArray&quot;: null, &quot;dashOffset&quot;: null, &quot;fill&quot;: false, &quot;fillColor&quot;: &quot;blue&quot;, &quot;fillOpacity&quot;: 0.2, &quot;fillRule&quot;: &quot;evenodd&quot;, &quot;lineCap&quot;: &quot;round&quot;, &quot;lineJoin&quot;: &quot;round&quot;, &quot;noClip&quot;: false, &quot;opacity&quot;: 1.0, &quot;smoothFactor&quot;: 1.0, &quot;stroke&quot;: true, &quot;weight&quot;: 0.5}\n",
              "            ).addTo(map_80cb45f4ec4403cff412eaf6bc328b02);\n",
              "        \n",
              "    \n",
              "            var poly_line_b1ae3faedee8818ec5e03c8553e499e3 = L.polyline(\n",
              "                [[37.7595220659773, -122.52361620862789], [37.7595220659773, -122.3483278940174]],\n",
              "                {&quot;bubblingMouseEvents&quot;: true, &quot;color&quot;: &quot;blue&quot;, &quot;dashArray&quot;: null, &quot;dashOffset&quot;: null, &quot;fill&quot;: false, &quot;fillColor&quot;: &quot;blue&quot;, &quot;fillOpacity&quot;: 0.2, &quot;fillRule&quot;: &quot;evenodd&quot;, &quot;lineCap&quot;: &quot;round&quot;, &quot;lineJoin&quot;: &quot;round&quot;, &quot;noClip&quot;: false, &quot;opacity&quot;: 1.0, &quot;smoothFactor&quot;: 1.0, &quot;stroke&quot;: true, &quot;weight&quot;: 0.5}\n",
              "            ).addTo(map_80cb45f4ec4403cff412eaf6bc328b02);\n",
              "        \n",
              "    \n",
              "            var poly_line_6955114fdbd8ba91076fcfb708d8dcdb = L.polyline(\n",
              "                [[37.764247938051774, -122.52361620862789], [37.764247938051774, -122.3483278940174]],\n",
              "                {&quot;bubblingMouseEvents&quot;: true, &quot;color&quot;: &quot;blue&quot;, &quot;dashArray&quot;: null, &quot;dashOffset&quot;: null, &quot;fill&quot;: false, &quot;fillColor&quot;: &quot;blue&quot;, &quot;fillOpacity&quot;: 0.2, &quot;fillRule&quot;: &quot;evenodd&quot;, &quot;lineCap&quot;: &quot;round&quot;, &quot;lineJoin&quot;: &quot;round&quot;, &quot;noClip&quot;: false, &quot;opacity&quot;: 1.0, &quot;smoothFactor&quot;: 1.0, &quot;stroke&quot;: true, &quot;weight&quot;: 0.5}\n",
              "            ).addTo(map_80cb45f4ec4403cff412eaf6bc328b02);\n",
              "        \n",
              "    \n",
              "            var poly_line_c6985d7fee04b817c4cc4aeafd72676b = L.polyline(\n",
              "                [[37.768973810126255, -122.52361620862789], [37.768973810126255, -122.3483278940174]],\n",
              "                {&quot;bubblingMouseEvents&quot;: true, &quot;color&quot;: &quot;blue&quot;, &quot;dashArray&quot;: null, &quot;dashOffset&quot;: null, &quot;fill&quot;: false, &quot;fillColor&quot;: &quot;blue&quot;, &quot;fillOpacity&quot;: 0.2, &quot;fillRule&quot;: &quot;evenodd&quot;, &quot;lineCap&quot;: &quot;round&quot;, &quot;lineJoin&quot;: &quot;round&quot;, &quot;noClip&quot;: false, &quot;opacity&quot;: 1.0, &quot;smoothFactor&quot;: 1.0, &quot;stroke&quot;: true, &quot;weight&quot;: 0.5}\n",
              "            ).addTo(map_80cb45f4ec4403cff412eaf6bc328b02);\n",
              "        \n",
              "    \n",
              "            var poly_line_54d7118f1ebf48047dc59afb1d1169cb = L.polyline(\n",
              "                [[37.773699682200736, -122.52361620862789], [37.773699682200736, -122.3483278940174]],\n",
              "                {&quot;bubblingMouseEvents&quot;: true, &quot;color&quot;: &quot;blue&quot;, &quot;dashArray&quot;: null, &quot;dashOffset&quot;: null, &quot;fill&quot;: false, &quot;fillColor&quot;: &quot;blue&quot;, &quot;fillOpacity&quot;: 0.2, &quot;fillRule&quot;: &quot;evenodd&quot;, &quot;lineCap&quot;: &quot;round&quot;, &quot;lineJoin&quot;: &quot;round&quot;, &quot;noClip&quot;: false, &quot;opacity&quot;: 1.0, &quot;smoothFactor&quot;: 1.0, &quot;stroke&quot;: true, &quot;weight&quot;: 0.5}\n",
              "            ).addTo(map_80cb45f4ec4403cff412eaf6bc328b02);\n",
              "        \n",
              "    \n",
              "            var poly_line_de556c318aa505d2103a3dbe4cbedf53 = L.polyline(\n",
              "                [[37.77842555427521, -122.52361620862789], [37.77842555427521, -122.3483278940174]],\n",
              "                {&quot;bubblingMouseEvents&quot;: true, &quot;color&quot;: &quot;blue&quot;, &quot;dashArray&quot;: null, &quot;dashOffset&quot;: null, &quot;fill&quot;: false, &quot;fillColor&quot;: &quot;blue&quot;, &quot;fillOpacity&quot;: 0.2, &quot;fillRule&quot;: &quot;evenodd&quot;, &quot;lineCap&quot;: &quot;round&quot;, &quot;lineJoin&quot;: &quot;round&quot;, &quot;noClip&quot;: false, &quot;opacity&quot;: 1.0, &quot;smoothFactor&quot;: 1.0, &quot;stroke&quot;: true, &quot;weight&quot;: 0.5}\n",
              "            ).addTo(map_80cb45f4ec4403cff412eaf6bc328b02);\n",
              "        \n",
              "    \n",
              "            var poly_line_f9c90a9f4d00ab190bc45a574836af08 = L.polyline(\n",
              "                [[37.78315142634969, -122.52361620862789], [37.78315142634969, -122.3483278940174]],\n",
              "                {&quot;bubblingMouseEvents&quot;: true, &quot;color&quot;: &quot;blue&quot;, &quot;dashArray&quot;: null, &quot;dashOffset&quot;: null, &quot;fill&quot;: false, &quot;fillColor&quot;: &quot;blue&quot;, &quot;fillOpacity&quot;: 0.2, &quot;fillRule&quot;: &quot;evenodd&quot;, &quot;lineCap&quot;: &quot;round&quot;, &quot;lineJoin&quot;: &quot;round&quot;, &quot;noClip&quot;: false, &quot;opacity&quot;: 1.0, &quot;smoothFactor&quot;: 1.0, &quot;stroke&quot;: true, &quot;weight&quot;: 0.5}\n",
              "            ).addTo(map_80cb45f4ec4403cff412eaf6bc328b02);\n",
              "        \n",
              "    \n",
              "            var poly_line_173d3a3856c6efdfb635d79c8e8c0264 = L.polyline(\n",
              "                [[37.78787729842417, -122.52361620862789], [37.78787729842417, -122.3483278940174]],\n",
              "                {&quot;bubblingMouseEvents&quot;: true, &quot;color&quot;: &quot;blue&quot;, &quot;dashArray&quot;: null, &quot;dashOffset&quot;: null, &quot;fill&quot;: false, &quot;fillColor&quot;: &quot;blue&quot;, &quot;fillOpacity&quot;: 0.2, &quot;fillRule&quot;: &quot;evenodd&quot;, &quot;lineCap&quot;: &quot;round&quot;, &quot;lineJoin&quot;: &quot;round&quot;, &quot;noClip&quot;: false, &quot;opacity&quot;: 1.0, &quot;smoothFactor&quot;: 1.0, &quot;stroke&quot;: true, &quot;weight&quot;: 0.5}\n",
              "            ).addTo(map_80cb45f4ec4403cff412eaf6bc328b02);\n",
              "        \n",
              "    \n",
              "            var poly_line_9b3d81e4283e1c77b6439c5a7af3a5c5 = L.polyline(\n",
              "                [[37.792603170498644, -122.52361620862789], [37.792603170498644, -122.3483278940174]],\n",
              "                {&quot;bubblingMouseEvents&quot;: true, &quot;color&quot;: &quot;blue&quot;, &quot;dashArray&quot;: null, &quot;dashOffset&quot;: null, &quot;fill&quot;: false, &quot;fillColor&quot;: &quot;blue&quot;, &quot;fillOpacity&quot;: 0.2, &quot;fillRule&quot;: &quot;evenodd&quot;, &quot;lineCap&quot;: &quot;round&quot;, &quot;lineJoin&quot;: &quot;round&quot;, &quot;noClip&quot;: false, &quot;opacity&quot;: 1.0, &quot;smoothFactor&quot;: 1.0, &quot;stroke&quot;: true, &quot;weight&quot;: 0.5}\n",
              "            ).addTo(map_80cb45f4ec4403cff412eaf6bc328b02);\n",
              "        \n",
              "    \n",
              "            var poly_line_efa6ac2730d0898b3037cb7b3919bcce = L.polyline(\n",
              "                [[37.797329042573125, -122.52361620862789], [37.797329042573125, -122.3483278940174]],\n",
              "                {&quot;bubblingMouseEvents&quot;: true, &quot;color&quot;: &quot;blue&quot;, &quot;dashArray&quot;: null, &quot;dashOffset&quot;: null, &quot;fill&quot;: false, &quot;fillColor&quot;: &quot;blue&quot;, &quot;fillOpacity&quot;: 0.2, &quot;fillRule&quot;: &quot;evenodd&quot;, &quot;lineCap&quot;: &quot;round&quot;, &quot;lineJoin&quot;: &quot;round&quot;, &quot;noClip&quot;: false, &quot;opacity&quot;: 1.0, &quot;smoothFactor&quot;: 1.0, &quot;stroke&quot;: true, &quot;weight&quot;: 0.5}\n",
              "            ).addTo(map_80cb45f4ec4403cff412eaf6bc328b02);\n",
              "        \n",
              "    \n",
              "            var poly_line_7a02e95c3a67c0cc6000acdaf0b5939f = L.polyline(\n",
              "                [[37.802054914647606, -122.52361620862789], [37.802054914647606, -122.3483278940174]],\n",
              "                {&quot;bubblingMouseEvents&quot;: true, &quot;color&quot;: &quot;blue&quot;, &quot;dashArray&quot;: null, &quot;dashOffset&quot;: null, &quot;fill&quot;: false, &quot;fillColor&quot;: &quot;blue&quot;, &quot;fillOpacity&quot;: 0.2, &quot;fillRule&quot;: &quot;evenodd&quot;, &quot;lineCap&quot;: &quot;round&quot;, &quot;lineJoin&quot;: &quot;round&quot;, &quot;noClip&quot;: false, &quot;opacity&quot;: 1.0, &quot;smoothFactor&quot;: 1.0, &quot;stroke&quot;: true, &quot;weight&quot;: 0.5}\n",
              "            ).addTo(map_80cb45f4ec4403cff412eaf6bc328b02);\n",
              "        \n",
              "    \n",
              "            var poly_line_f07a60a2fe10068d579a62264b1f22da = L.polyline(\n",
              "                [[37.80678078672208, -122.52361620862789], [37.80678078672208, -122.3483278940174]],\n",
              "                {&quot;bubblingMouseEvents&quot;: true, &quot;color&quot;: &quot;blue&quot;, &quot;dashArray&quot;: null, &quot;dashOffset&quot;: null, &quot;fill&quot;: false, &quot;fillColor&quot;: &quot;blue&quot;, &quot;fillOpacity&quot;: 0.2, &quot;fillRule&quot;: &quot;evenodd&quot;, &quot;lineCap&quot;: &quot;round&quot;, &quot;lineJoin&quot;: &quot;round&quot;, &quot;noClip&quot;: false, &quot;opacity&quot;: 1.0, &quot;smoothFactor&quot;: 1.0, &quot;stroke&quot;: true, &quot;weight&quot;: 0.5}\n",
              "            ).addTo(map_80cb45f4ec4403cff412eaf6bc328b02);\n",
              "        \n",
              "    \n",
              "            var poly_line_8407005c7b79c34f046cefee9235253e = L.polyline(\n",
              "                [[37.81150665879656, -122.52361620862789], [37.81150665879656, -122.3483278940174]],\n",
              "                {&quot;bubblingMouseEvents&quot;: true, &quot;color&quot;: &quot;blue&quot;, &quot;dashArray&quot;: null, &quot;dashOffset&quot;: null, &quot;fill&quot;: false, &quot;fillColor&quot;: &quot;blue&quot;, &quot;fillOpacity&quot;: 0.2, &quot;fillRule&quot;: &quot;evenodd&quot;, &quot;lineCap&quot;: &quot;round&quot;, &quot;lineJoin&quot;: &quot;round&quot;, &quot;noClip&quot;: false, &quot;opacity&quot;: 1.0, &quot;smoothFactor&quot;: 1.0, &quot;stroke&quot;: true, &quot;weight&quot;: 0.5}\n",
              "            ).addTo(map_80cb45f4ec4403cff412eaf6bc328b02);\n",
              "        \n",
              "    \n",
              "            var poly_line_d8237f6160138c28c96fc4e0ef492fa8 = L.polyline(\n",
              "                [[37.81623253087104, -122.52361620862789], [37.81623253087104, -122.3483278940174]],\n",
              "                {&quot;bubblingMouseEvents&quot;: true, &quot;color&quot;: &quot;blue&quot;, &quot;dashArray&quot;: null, &quot;dashOffset&quot;: null, &quot;fill&quot;: false, &quot;fillColor&quot;: &quot;blue&quot;, &quot;fillOpacity&quot;: 0.2, &quot;fillRule&quot;: &quot;evenodd&quot;, &quot;lineCap&quot;: &quot;round&quot;, &quot;lineJoin&quot;: &quot;round&quot;, &quot;noClip&quot;: false, &quot;opacity&quot;: 1.0, &quot;smoothFactor&quot;: 1.0, &quot;stroke&quot;: true, &quot;weight&quot;: 0.5}\n",
              "            ).addTo(map_80cb45f4ec4403cff412eaf6bc328b02);\n",
              "        \n",
              "    \n",
              "            var poly_line_c6d5fea73fec5ce6629ca0dadc3c9f5a = L.polyline(\n",
              "                [[37.820958402945514, -122.52361620862789], [37.820958402945514, -122.3483278940174]],\n",
              "                {&quot;bubblingMouseEvents&quot;: true, &quot;color&quot;: &quot;blue&quot;, &quot;dashArray&quot;: null, &quot;dashOffset&quot;: null, &quot;fill&quot;: false, &quot;fillColor&quot;: &quot;blue&quot;, &quot;fillOpacity&quot;: 0.2, &quot;fillRule&quot;: &quot;evenodd&quot;, &quot;lineCap&quot;: &quot;round&quot;, &quot;lineJoin&quot;: &quot;round&quot;, &quot;noClip&quot;: false, &quot;opacity&quot;: 1.0, &quot;smoothFactor&quot;: 1.0, &quot;stroke&quot;: true, &quot;weight&quot;: 0.5}\n",
              "            ).addTo(map_80cb45f4ec4403cff412eaf6bc328b02);\n",
              "        \n",
              "    \n",
              "            var poly_line_271b05c2792b75f2a565341b87d0070d = L.polyline(\n",
              "                [[37.825684275019995, -122.52361620862789], [37.825684275019995, -122.3483278940174]],\n",
              "                {&quot;bubblingMouseEvents&quot;: true, &quot;color&quot;: &quot;blue&quot;, &quot;dashArray&quot;: null, &quot;dashOffset&quot;: null, &quot;fill&quot;: false, &quot;fillColor&quot;: &quot;blue&quot;, &quot;fillOpacity&quot;: 0.2, &quot;fillRule&quot;: &quot;evenodd&quot;, &quot;lineCap&quot;: &quot;round&quot;, &quot;lineJoin&quot;: &quot;round&quot;, &quot;noClip&quot;: false, &quot;opacity&quot;: 1.0, &quot;smoothFactor&quot;: 1.0, &quot;stroke&quot;: true, &quot;weight&quot;: 0.5}\n",
              "            ).addTo(map_80cb45f4ec4403cff412eaf6bc328b02);\n",
              "        \n",
              "    \n",
              "            var poly_line_20868515d11579e4103c1d9a46cbde3a = L.polyline(\n",
              "                [[37.830410147094476, -122.52361620862789], [37.830410147094476, -122.3483278940174]],\n",
              "                {&quot;bubblingMouseEvents&quot;: true, &quot;color&quot;: &quot;blue&quot;, &quot;dashArray&quot;: null, &quot;dashOffset&quot;: null, &quot;fill&quot;: false, &quot;fillColor&quot;: &quot;blue&quot;, &quot;fillOpacity&quot;: 0.2, &quot;fillRule&quot;: &quot;evenodd&quot;, &quot;lineCap&quot;: &quot;round&quot;, &quot;lineJoin&quot;: &quot;round&quot;, &quot;noClip&quot;: false, &quot;opacity&quot;: 1.0, &quot;smoothFactor&quot;: 1.0, &quot;stroke&quot;: true, &quot;weight&quot;: 0.5}\n",
              "            ).addTo(map_80cb45f4ec4403cff412eaf6bc328b02);\n",
              "        \n",
              "    \n",
              "            var poly_line_9cf8c7fd3d2cce9fa3e592cce2c2aa17 = L.polyline(\n",
              "                [[37.83513601916895, -122.52361620862789], [37.83513601916895, -122.3483278940174]],\n",
              "                {&quot;bubblingMouseEvents&quot;: true, &quot;color&quot;: &quot;blue&quot;, &quot;dashArray&quot;: null, &quot;dashOffset&quot;: null, &quot;fill&quot;: false, &quot;fillColor&quot;: &quot;blue&quot;, &quot;fillOpacity&quot;: 0.2, &quot;fillRule&quot;: &quot;evenodd&quot;, &quot;lineCap&quot;: &quot;round&quot;, &quot;lineJoin&quot;: &quot;round&quot;, &quot;noClip&quot;: false, &quot;opacity&quot;: 1.0, &quot;smoothFactor&quot;: 1.0, &quot;stroke&quot;: true, &quot;weight&quot;: 0.5}\n",
              "            ).addTo(map_80cb45f4ec4403cff412eaf6bc328b02);\n",
              "        \n",
              "    \n",
              "            var poly_line_13f70c8e875e6d3ed2937b87d82de4ee = L.polyline(\n",
              "                [[37.83986189124343, -122.52361620862789], [37.83986189124343, -122.3483278940174]],\n",
              "                {&quot;bubblingMouseEvents&quot;: true, &quot;color&quot;: &quot;blue&quot;, &quot;dashArray&quot;: null, &quot;dashOffset&quot;: null, &quot;fill&quot;: false, &quot;fillColor&quot;: &quot;blue&quot;, &quot;fillOpacity&quot;: 0.2, &quot;fillRule&quot;: &quot;evenodd&quot;, &quot;lineCap&quot;: &quot;round&quot;, &quot;lineJoin&quot;: &quot;round&quot;, &quot;noClip&quot;: false, &quot;opacity&quot;: 1.0, &quot;smoothFactor&quot;: 1.0, &quot;stroke&quot;: true, &quot;weight&quot;: 0.5}\n",
              "            ).addTo(map_80cb45f4ec4403cff412eaf6bc328b02);\n",
              "        \n",
              "    \n",
              "            var poly_line_c9787ab489c55befc2ee01dcb47d578f = L.polyline(\n",
              "                [[37.69808572900908, -122.52361620862789], [37.83986189124343, -122.52361620862789]],\n",
              "                {&quot;bubblingMouseEvents&quot;: true, &quot;color&quot;: &quot;blue&quot;, &quot;dashArray&quot;: null, &quot;dashOffset&quot;: null, &quot;fill&quot;: false, &quot;fillColor&quot;: &quot;blue&quot;, &quot;fillOpacity&quot;: 0.2, &quot;fillRule&quot;: &quot;evenodd&quot;, &quot;lineCap&quot;: &quot;round&quot;, &quot;lineJoin&quot;: &quot;round&quot;, &quot;noClip&quot;: false, &quot;opacity&quot;: 1.0, &quot;smoothFactor&quot;: 1.0, &quot;stroke&quot;: true, &quot;weight&quot;: 0.5}\n",
              "            ).addTo(map_80cb45f4ec4403cff412eaf6bc328b02);\n",
              "        \n",
              "    \n",
              "            var poly_line_6666fc9cfcc10638c1201fe245c823e3 = L.polyline(\n",
              "                [[37.69808572900908, -122.51777326480753], [37.83986189124343, -122.51777326480753]],\n",
              "                {&quot;bubblingMouseEvents&quot;: true, &quot;color&quot;: &quot;blue&quot;, &quot;dashArray&quot;: null, &quot;dashOffset&quot;: null, &quot;fill&quot;: false, &quot;fillColor&quot;: &quot;blue&quot;, &quot;fillOpacity&quot;: 0.2, &quot;fillRule&quot;: &quot;evenodd&quot;, &quot;lineCap&quot;: &quot;round&quot;, &quot;lineJoin&quot;: &quot;round&quot;, &quot;noClip&quot;: false, &quot;opacity&quot;: 1.0, &quot;smoothFactor&quot;: 1.0, &quot;stroke&quot;: true, &quot;weight&quot;: 0.5}\n",
              "            ).addTo(map_80cb45f4ec4403cff412eaf6bc328b02);\n",
              "        \n",
              "    \n",
              "            var poly_line_d554f351efd6699b37fe20acdb31ba42 = L.polyline(\n",
              "                [[37.69808572900908, -122.51193032098719], [37.83986189124343, -122.51193032098719]],\n",
              "                {&quot;bubblingMouseEvents&quot;: true, &quot;color&quot;: &quot;blue&quot;, &quot;dashArray&quot;: null, &quot;dashOffset&quot;: null, &quot;fill&quot;: false, &quot;fillColor&quot;: &quot;blue&quot;, &quot;fillOpacity&quot;: 0.2, &quot;fillRule&quot;: &quot;evenodd&quot;, &quot;lineCap&quot;: &quot;round&quot;, &quot;lineJoin&quot;: &quot;round&quot;, &quot;noClip&quot;: false, &quot;opacity&quot;: 1.0, &quot;smoothFactor&quot;: 1.0, &quot;stroke&quot;: true, &quot;weight&quot;: 0.5}\n",
              "            ).addTo(map_80cb45f4ec4403cff412eaf6bc328b02);\n",
              "        \n",
              "    \n",
              "            var poly_line_90788f8fa13a7fd62f167ba8ccce8d76 = L.polyline(\n",
              "                [[37.69808572900908, -122.50608737716684], [37.83986189124343, -122.50608737716684]],\n",
              "                {&quot;bubblingMouseEvents&quot;: true, &quot;color&quot;: &quot;blue&quot;, &quot;dashArray&quot;: null, &quot;dashOffset&quot;: null, &quot;fill&quot;: false, &quot;fillColor&quot;: &quot;blue&quot;, &quot;fillOpacity&quot;: 0.2, &quot;fillRule&quot;: &quot;evenodd&quot;, &quot;lineCap&quot;: &quot;round&quot;, &quot;lineJoin&quot;: &quot;round&quot;, &quot;noClip&quot;: false, &quot;opacity&quot;: 1.0, &quot;smoothFactor&quot;: 1.0, &quot;stroke&quot;: true, &quot;weight&quot;: 0.5}\n",
              "            ).addTo(map_80cb45f4ec4403cff412eaf6bc328b02);\n",
              "        \n",
              "    \n",
              "            var poly_line_8ce4246d4ffe89a36e38146afc3153e1 = L.polyline(\n",
              "                [[37.69808572900908, -122.50024443334648], [37.83986189124343, -122.50024443334648]],\n",
              "                {&quot;bubblingMouseEvents&quot;: true, &quot;color&quot;: &quot;blue&quot;, &quot;dashArray&quot;: null, &quot;dashOffset&quot;: null, &quot;fill&quot;: false, &quot;fillColor&quot;: &quot;blue&quot;, &quot;fillOpacity&quot;: 0.2, &quot;fillRule&quot;: &quot;evenodd&quot;, &quot;lineCap&quot;: &quot;round&quot;, &quot;lineJoin&quot;: &quot;round&quot;, &quot;noClip&quot;: false, &quot;opacity&quot;: 1.0, &quot;smoothFactor&quot;: 1.0, &quot;stroke&quot;: true, &quot;weight&quot;: 0.5}\n",
              "            ).addTo(map_80cb45f4ec4403cff412eaf6bc328b02);\n",
              "        \n",
              "    \n",
              "            var poly_line_0ca8c9163dbe1d38c194dcd0ec17766f = L.polyline(\n",
              "                [[37.69808572900908, -122.49440148952614], [37.83986189124343, -122.49440148952614]],\n",
              "                {&quot;bubblingMouseEvents&quot;: true, &quot;color&quot;: &quot;blue&quot;, &quot;dashArray&quot;: null, &quot;dashOffset&quot;: null, &quot;fill&quot;: false, &quot;fillColor&quot;: &quot;blue&quot;, &quot;fillOpacity&quot;: 0.2, &quot;fillRule&quot;: &quot;evenodd&quot;, &quot;lineCap&quot;: &quot;round&quot;, &quot;lineJoin&quot;: &quot;round&quot;, &quot;noClip&quot;: false, &quot;opacity&quot;: 1.0, &quot;smoothFactor&quot;: 1.0, &quot;stroke&quot;: true, &quot;weight&quot;: 0.5}\n",
              "            ).addTo(map_80cb45f4ec4403cff412eaf6bc328b02);\n",
              "        \n",
              "    \n",
              "            var poly_line_710b298b582a1dfcffb431ecf0625a38 = L.polyline(\n",
              "                [[37.69808572900908, -122.48855854570579], [37.83986189124343, -122.48855854570579]],\n",
              "                {&quot;bubblingMouseEvents&quot;: true, &quot;color&quot;: &quot;blue&quot;, &quot;dashArray&quot;: null, &quot;dashOffset&quot;: null, &quot;fill&quot;: false, &quot;fillColor&quot;: &quot;blue&quot;, &quot;fillOpacity&quot;: 0.2, &quot;fillRule&quot;: &quot;evenodd&quot;, &quot;lineCap&quot;: &quot;round&quot;, &quot;lineJoin&quot;: &quot;round&quot;, &quot;noClip&quot;: false, &quot;opacity&quot;: 1.0, &quot;smoothFactor&quot;: 1.0, &quot;stroke&quot;: true, &quot;weight&quot;: 0.5}\n",
              "            ).addTo(map_80cb45f4ec4403cff412eaf6bc328b02);\n",
              "        \n",
              "    \n",
              "            var poly_line_65b317e2f63114e3d62d0579b9e30905 = L.polyline(\n",
              "                [[37.69808572900908, -122.48271560188545], [37.83986189124343, -122.48271560188545]],\n",
              "                {&quot;bubblingMouseEvents&quot;: true, &quot;color&quot;: &quot;blue&quot;, &quot;dashArray&quot;: null, &quot;dashOffset&quot;: null, &quot;fill&quot;: false, &quot;fillColor&quot;: &quot;blue&quot;, &quot;fillOpacity&quot;: 0.2, &quot;fillRule&quot;: &quot;evenodd&quot;, &quot;lineCap&quot;: &quot;round&quot;, &quot;lineJoin&quot;: &quot;round&quot;, &quot;noClip&quot;: false, &quot;opacity&quot;: 1.0, &quot;smoothFactor&quot;: 1.0, &quot;stroke&quot;: true, &quot;weight&quot;: 0.5}\n",
              "            ).addTo(map_80cb45f4ec4403cff412eaf6bc328b02);\n",
              "        \n",
              "    \n",
              "            var poly_line_62160597e61a355ac28c8c147a7c3da8 = L.polyline(\n",
              "                [[37.69808572900908, -122.47687265806509], [37.83986189124343, -122.47687265806509]],\n",
              "                {&quot;bubblingMouseEvents&quot;: true, &quot;color&quot;: &quot;blue&quot;, &quot;dashArray&quot;: null, &quot;dashOffset&quot;: null, &quot;fill&quot;: false, &quot;fillColor&quot;: &quot;blue&quot;, &quot;fillOpacity&quot;: 0.2, &quot;fillRule&quot;: &quot;evenodd&quot;, &quot;lineCap&quot;: &quot;round&quot;, &quot;lineJoin&quot;: &quot;round&quot;, &quot;noClip&quot;: false, &quot;opacity&quot;: 1.0, &quot;smoothFactor&quot;: 1.0, &quot;stroke&quot;: true, &quot;weight&quot;: 0.5}\n",
              "            ).addTo(map_80cb45f4ec4403cff412eaf6bc328b02);\n",
              "        \n",
              "    \n",
              "            var poly_line_907daf08e2b0a7cd7b341a661fd0e857 = L.polyline(\n",
              "                [[37.69808572900908, -122.47102971424474], [37.83986189124343, -122.47102971424474]],\n",
              "                {&quot;bubblingMouseEvents&quot;: true, &quot;color&quot;: &quot;blue&quot;, &quot;dashArray&quot;: null, &quot;dashOffset&quot;: null, &quot;fill&quot;: false, &quot;fillColor&quot;: &quot;blue&quot;, &quot;fillOpacity&quot;: 0.2, &quot;fillRule&quot;: &quot;evenodd&quot;, &quot;lineCap&quot;: &quot;round&quot;, &quot;lineJoin&quot;: &quot;round&quot;, &quot;noClip&quot;: false, &quot;opacity&quot;: 1.0, &quot;smoothFactor&quot;: 1.0, &quot;stroke&quot;: true, &quot;weight&quot;: 0.5}\n",
              "            ).addTo(map_80cb45f4ec4403cff412eaf6bc328b02);\n",
              "        \n",
              "    \n",
              "            var poly_line_5cfd6793ec8d69915aaeba9373d8b255 = L.polyline(\n",
              "                [[37.69808572900908, -122.4651867704244], [37.83986189124343, -122.4651867704244]],\n",
              "                {&quot;bubblingMouseEvents&quot;: true, &quot;color&quot;: &quot;blue&quot;, &quot;dashArray&quot;: null, &quot;dashOffset&quot;: null, &quot;fill&quot;: false, &quot;fillColor&quot;: &quot;blue&quot;, &quot;fillOpacity&quot;: 0.2, &quot;fillRule&quot;: &quot;evenodd&quot;, &quot;lineCap&quot;: &quot;round&quot;, &quot;lineJoin&quot;: &quot;round&quot;, &quot;noClip&quot;: false, &quot;opacity&quot;: 1.0, &quot;smoothFactor&quot;: 1.0, &quot;stroke&quot;: true, &quot;weight&quot;: 0.5}\n",
              "            ).addTo(map_80cb45f4ec4403cff412eaf6bc328b02);\n",
              "        \n",
              "    \n",
              "            var poly_line_5442c92ba615fd766b15f5e3e68062e6 = L.polyline(\n",
              "                [[37.69808572900908, -122.45934382660404], [37.83986189124343, -122.45934382660404]],\n",
              "                {&quot;bubblingMouseEvents&quot;: true, &quot;color&quot;: &quot;blue&quot;, &quot;dashArray&quot;: null, &quot;dashOffset&quot;: null, &quot;fill&quot;: false, &quot;fillColor&quot;: &quot;blue&quot;, &quot;fillOpacity&quot;: 0.2, &quot;fillRule&quot;: &quot;evenodd&quot;, &quot;lineCap&quot;: &quot;round&quot;, &quot;lineJoin&quot;: &quot;round&quot;, &quot;noClip&quot;: false, &quot;opacity&quot;: 1.0, &quot;smoothFactor&quot;: 1.0, &quot;stroke&quot;: true, &quot;weight&quot;: 0.5}\n",
              "            ).addTo(map_80cb45f4ec4403cff412eaf6bc328b02);\n",
              "        \n",
              "    \n",
              "            var poly_line_754e7e5f7b178e5a5f5dada11287e1af = L.polyline(\n",
              "                [[37.69808572900908, -122.45350088278369], [37.83986189124343, -122.45350088278369]],\n",
              "                {&quot;bubblingMouseEvents&quot;: true, &quot;color&quot;: &quot;blue&quot;, &quot;dashArray&quot;: null, &quot;dashOffset&quot;: null, &quot;fill&quot;: false, &quot;fillColor&quot;: &quot;blue&quot;, &quot;fillOpacity&quot;: 0.2, &quot;fillRule&quot;: &quot;evenodd&quot;, &quot;lineCap&quot;: &quot;round&quot;, &quot;lineJoin&quot;: &quot;round&quot;, &quot;noClip&quot;: false, &quot;opacity&quot;: 1.0, &quot;smoothFactor&quot;: 1.0, &quot;stroke&quot;: true, &quot;weight&quot;: 0.5}\n",
              "            ).addTo(map_80cb45f4ec4403cff412eaf6bc328b02);\n",
              "        \n",
              "    \n",
              "            var poly_line_ba18ff01c1de05b1aabed86ec585c56d = L.polyline(\n",
              "                [[37.69808572900908, -122.44765793896335], [37.83986189124343, -122.44765793896335]],\n",
              "                {&quot;bubblingMouseEvents&quot;: true, &quot;color&quot;: &quot;blue&quot;, &quot;dashArray&quot;: null, &quot;dashOffset&quot;: null, &quot;fill&quot;: false, &quot;fillColor&quot;: &quot;blue&quot;, &quot;fillOpacity&quot;: 0.2, &quot;fillRule&quot;: &quot;evenodd&quot;, &quot;lineCap&quot;: &quot;round&quot;, &quot;lineJoin&quot;: &quot;round&quot;, &quot;noClip&quot;: false, &quot;opacity&quot;: 1.0, &quot;smoothFactor&quot;: 1.0, &quot;stroke&quot;: true, &quot;weight&quot;: 0.5}\n",
              "            ).addTo(map_80cb45f4ec4403cff412eaf6bc328b02);\n",
              "        \n",
              "    \n",
              "            var poly_line_c00d6455e72e603fd48df8244dc571aa = L.polyline(\n",
              "                [[37.69808572900908, -122.44181499514299], [37.83986189124343, -122.44181499514299]],\n",
              "                {&quot;bubblingMouseEvents&quot;: true, &quot;color&quot;: &quot;blue&quot;, &quot;dashArray&quot;: null, &quot;dashOffset&quot;: null, &quot;fill&quot;: false, &quot;fillColor&quot;: &quot;blue&quot;, &quot;fillOpacity&quot;: 0.2, &quot;fillRule&quot;: &quot;evenodd&quot;, &quot;lineCap&quot;: &quot;round&quot;, &quot;lineJoin&quot;: &quot;round&quot;, &quot;noClip&quot;: false, &quot;opacity&quot;: 1.0, &quot;smoothFactor&quot;: 1.0, &quot;stroke&quot;: true, &quot;weight&quot;: 0.5}\n",
              "            ).addTo(map_80cb45f4ec4403cff412eaf6bc328b02);\n",
              "        \n",
              "    \n",
              "            var poly_line_f6864d91931418b3b9a468fbf9a12612 = L.polyline(\n",
              "                [[37.69808572900908, -122.43597205132264], [37.83986189124343, -122.43597205132264]],\n",
              "                {&quot;bubblingMouseEvents&quot;: true, &quot;color&quot;: &quot;blue&quot;, &quot;dashArray&quot;: null, &quot;dashOffset&quot;: null, &quot;fill&quot;: false, &quot;fillColor&quot;: &quot;blue&quot;, &quot;fillOpacity&quot;: 0.2, &quot;fillRule&quot;: &quot;evenodd&quot;, &quot;lineCap&quot;: &quot;round&quot;, &quot;lineJoin&quot;: &quot;round&quot;, &quot;noClip&quot;: false, &quot;opacity&quot;: 1.0, &quot;smoothFactor&quot;: 1.0, &quot;stroke&quot;: true, &quot;weight&quot;: 0.5}\n",
              "            ).addTo(map_80cb45f4ec4403cff412eaf6bc328b02);\n",
              "        \n",
              "    \n",
              "            var poly_line_ff4177321d057839bbe7f6b477c11c1c = L.polyline(\n",
              "                [[37.69808572900908, -122.4301291075023], [37.83986189124343, -122.4301291075023]],\n",
              "                {&quot;bubblingMouseEvents&quot;: true, &quot;color&quot;: &quot;blue&quot;, &quot;dashArray&quot;: null, &quot;dashOffset&quot;: null, &quot;fill&quot;: false, &quot;fillColor&quot;: &quot;blue&quot;, &quot;fillOpacity&quot;: 0.2, &quot;fillRule&quot;: &quot;evenodd&quot;, &quot;lineCap&quot;: &quot;round&quot;, &quot;lineJoin&quot;: &quot;round&quot;, &quot;noClip&quot;: false, &quot;opacity&quot;: 1.0, &quot;smoothFactor&quot;: 1.0, &quot;stroke&quot;: true, &quot;weight&quot;: 0.5}\n",
              "            ).addTo(map_80cb45f4ec4403cff412eaf6bc328b02);\n",
              "        \n",
              "    \n",
              "            var poly_line_1a1061fe62a12e00cbe54c8f3e22ab98 = L.polyline(\n",
              "                [[37.69808572900908, -122.42428616368194], [37.83986189124343, -122.42428616368194]],\n",
              "                {&quot;bubblingMouseEvents&quot;: true, &quot;color&quot;: &quot;blue&quot;, &quot;dashArray&quot;: null, &quot;dashOffset&quot;: null, &quot;fill&quot;: false, &quot;fillColor&quot;: &quot;blue&quot;, &quot;fillOpacity&quot;: 0.2, &quot;fillRule&quot;: &quot;evenodd&quot;, &quot;lineCap&quot;: &quot;round&quot;, &quot;lineJoin&quot;: &quot;round&quot;, &quot;noClip&quot;: false, &quot;opacity&quot;: 1.0, &quot;smoothFactor&quot;: 1.0, &quot;stroke&quot;: true, &quot;weight&quot;: 0.5}\n",
              "            ).addTo(map_80cb45f4ec4403cff412eaf6bc328b02);\n",
              "        \n",
              "    \n",
              "            var poly_line_a28776fa59a95f123c37e2edeb4c89ff = L.polyline(\n",
              "                [[37.69808572900908, -122.4184432198616], [37.83986189124343, -122.4184432198616]],\n",
              "                {&quot;bubblingMouseEvents&quot;: true, &quot;color&quot;: &quot;blue&quot;, &quot;dashArray&quot;: null, &quot;dashOffset&quot;: null, &quot;fill&quot;: false, &quot;fillColor&quot;: &quot;blue&quot;, &quot;fillOpacity&quot;: 0.2, &quot;fillRule&quot;: &quot;evenodd&quot;, &quot;lineCap&quot;: &quot;round&quot;, &quot;lineJoin&quot;: &quot;round&quot;, &quot;noClip&quot;: false, &quot;opacity&quot;: 1.0, &quot;smoothFactor&quot;: 1.0, &quot;stroke&quot;: true, &quot;weight&quot;: 0.5}\n",
              "            ).addTo(map_80cb45f4ec4403cff412eaf6bc328b02);\n",
              "        \n",
              "    \n",
              "            var poly_line_cdac3e369b8811142ecb0b094454b298 = L.polyline(\n",
              "                [[37.69808572900908, -122.41260027604125], [37.83986189124343, -122.41260027604125]],\n",
              "                {&quot;bubblingMouseEvents&quot;: true, &quot;color&quot;: &quot;blue&quot;, &quot;dashArray&quot;: null, &quot;dashOffset&quot;: null, &quot;fill&quot;: false, &quot;fillColor&quot;: &quot;blue&quot;, &quot;fillOpacity&quot;: 0.2, &quot;fillRule&quot;: &quot;evenodd&quot;, &quot;lineCap&quot;: &quot;round&quot;, &quot;lineJoin&quot;: &quot;round&quot;, &quot;noClip&quot;: false, &quot;opacity&quot;: 1.0, &quot;smoothFactor&quot;: 1.0, &quot;stroke&quot;: true, &quot;weight&quot;: 0.5}\n",
              "            ).addTo(map_80cb45f4ec4403cff412eaf6bc328b02);\n",
              "        \n",
              "    \n",
              "            var poly_line_7000199ec9d76088ce0aedf5d093bae4 = L.polyline(\n",
              "                [[37.69808572900908, -122.40675733222089], [37.83986189124343, -122.40675733222089]],\n",
              "                {&quot;bubblingMouseEvents&quot;: true, &quot;color&quot;: &quot;blue&quot;, &quot;dashArray&quot;: null, &quot;dashOffset&quot;: null, &quot;fill&quot;: false, &quot;fillColor&quot;: &quot;blue&quot;, &quot;fillOpacity&quot;: 0.2, &quot;fillRule&quot;: &quot;evenodd&quot;, &quot;lineCap&quot;: &quot;round&quot;, &quot;lineJoin&quot;: &quot;round&quot;, &quot;noClip&quot;: false, &quot;opacity&quot;: 1.0, &quot;smoothFactor&quot;: 1.0, &quot;stroke&quot;: true, &quot;weight&quot;: 0.5}\n",
              "            ).addTo(map_80cb45f4ec4403cff412eaf6bc328b02);\n",
              "        \n",
              "    \n",
              "            var poly_line_ac827c277168ad8b5b8c4a47944a418b = L.polyline(\n",
              "                [[37.69808572900908, -122.40091438840055], [37.83986189124343, -122.40091438840055]],\n",
              "                {&quot;bubblingMouseEvents&quot;: true, &quot;color&quot;: &quot;blue&quot;, &quot;dashArray&quot;: null, &quot;dashOffset&quot;: null, &quot;fill&quot;: false, &quot;fillColor&quot;: &quot;blue&quot;, &quot;fillOpacity&quot;: 0.2, &quot;fillRule&quot;: &quot;evenodd&quot;, &quot;lineCap&quot;: &quot;round&quot;, &quot;lineJoin&quot;: &quot;round&quot;, &quot;noClip&quot;: false, &quot;opacity&quot;: 1.0, &quot;smoothFactor&quot;: 1.0, &quot;stroke&quot;: true, &quot;weight&quot;: 0.5}\n",
              "            ).addTo(map_80cb45f4ec4403cff412eaf6bc328b02);\n",
              "        \n",
              "    \n",
              "            var poly_line_51e3273895e0b67d8515195162bd69ad = L.polyline(\n",
              "                [[37.69808572900908, -122.3950714445802], [37.83986189124343, -122.3950714445802]],\n",
              "                {&quot;bubblingMouseEvents&quot;: true, &quot;color&quot;: &quot;blue&quot;, &quot;dashArray&quot;: null, &quot;dashOffset&quot;: null, &quot;fill&quot;: false, &quot;fillColor&quot;: &quot;blue&quot;, &quot;fillOpacity&quot;: 0.2, &quot;fillRule&quot;: &quot;evenodd&quot;, &quot;lineCap&quot;: &quot;round&quot;, &quot;lineJoin&quot;: &quot;round&quot;, &quot;noClip&quot;: false, &quot;opacity&quot;: 1.0, &quot;smoothFactor&quot;: 1.0, &quot;stroke&quot;: true, &quot;weight&quot;: 0.5}\n",
              "            ).addTo(map_80cb45f4ec4403cff412eaf6bc328b02);\n",
              "        \n",
              "    \n",
              "            var poly_line_8c86ce1d4448c4114c5fab495e4f9737 = L.polyline(\n",
              "                [[37.69808572900908, -122.38922850075984], [37.83986189124343, -122.38922850075984]],\n",
              "                {&quot;bubblingMouseEvents&quot;: true, &quot;color&quot;: &quot;blue&quot;, &quot;dashArray&quot;: null, &quot;dashOffset&quot;: null, &quot;fill&quot;: false, &quot;fillColor&quot;: &quot;blue&quot;, &quot;fillOpacity&quot;: 0.2, &quot;fillRule&quot;: &quot;evenodd&quot;, &quot;lineCap&quot;: &quot;round&quot;, &quot;lineJoin&quot;: &quot;round&quot;, &quot;noClip&quot;: false, &quot;opacity&quot;: 1.0, &quot;smoothFactor&quot;: 1.0, &quot;stroke&quot;: true, &quot;weight&quot;: 0.5}\n",
              "            ).addTo(map_80cb45f4ec4403cff412eaf6bc328b02);\n",
              "        \n",
              "    \n",
              "            var poly_line_a07fa344f72b67c9a15f95dce5d9df8e = L.polyline(\n",
              "                [[37.69808572900908, -122.3833855569395], [37.83986189124343, -122.3833855569395]],\n",
              "                {&quot;bubblingMouseEvents&quot;: true, &quot;color&quot;: &quot;blue&quot;, &quot;dashArray&quot;: null, &quot;dashOffset&quot;: null, &quot;fill&quot;: false, &quot;fillColor&quot;: &quot;blue&quot;, &quot;fillOpacity&quot;: 0.2, &quot;fillRule&quot;: &quot;evenodd&quot;, &quot;lineCap&quot;: &quot;round&quot;, &quot;lineJoin&quot;: &quot;round&quot;, &quot;noClip&quot;: false, &quot;opacity&quot;: 1.0, &quot;smoothFactor&quot;: 1.0, &quot;stroke&quot;: true, &quot;weight&quot;: 0.5}\n",
              "            ).addTo(map_80cb45f4ec4403cff412eaf6bc328b02);\n",
              "        \n",
              "    \n",
              "            var poly_line_2a3c7ae36208183bf6f55367dcb27157 = L.polyline(\n",
              "                [[37.69808572900908, -122.37754261311915], [37.83986189124343, -122.37754261311915]],\n",
              "                {&quot;bubblingMouseEvents&quot;: true, &quot;color&quot;: &quot;blue&quot;, &quot;dashArray&quot;: null, &quot;dashOffset&quot;: null, &quot;fill&quot;: false, &quot;fillColor&quot;: &quot;blue&quot;, &quot;fillOpacity&quot;: 0.2, &quot;fillRule&quot;: &quot;evenodd&quot;, &quot;lineCap&quot;: &quot;round&quot;, &quot;lineJoin&quot;: &quot;round&quot;, &quot;noClip&quot;: false, &quot;opacity&quot;: 1.0, &quot;smoothFactor&quot;: 1.0, &quot;stroke&quot;: true, &quot;weight&quot;: 0.5}\n",
              "            ).addTo(map_80cb45f4ec4403cff412eaf6bc328b02);\n",
              "        \n",
              "    \n",
              "            var poly_line_c0a2cb2690bfd46d0adf3cd42ddb99d4 = L.polyline(\n",
              "                [[37.69808572900908, -122.3716996692988], [37.83986189124343, -122.3716996692988]],\n",
              "                {&quot;bubblingMouseEvents&quot;: true, &quot;color&quot;: &quot;blue&quot;, &quot;dashArray&quot;: null, &quot;dashOffset&quot;: null, &quot;fill&quot;: false, &quot;fillColor&quot;: &quot;blue&quot;, &quot;fillOpacity&quot;: 0.2, &quot;fillRule&quot;: &quot;evenodd&quot;, &quot;lineCap&quot;: &quot;round&quot;, &quot;lineJoin&quot;: &quot;round&quot;, &quot;noClip&quot;: false, &quot;opacity&quot;: 1.0, &quot;smoothFactor&quot;: 1.0, &quot;stroke&quot;: true, &quot;weight&quot;: 0.5}\n",
              "            ).addTo(map_80cb45f4ec4403cff412eaf6bc328b02);\n",
              "        \n",
              "    \n",
              "            var poly_line_4914de14b680f8a897ffe4071bd6dbe9 = L.polyline(\n",
              "                [[37.69808572900908, -122.36585672547845], [37.83986189124343, -122.36585672547845]],\n",
              "                {&quot;bubblingMouseEvents&quot;: true, &quot;color&quot;: &quot;blue&quot;, &quot;dashArray&quot;: null, &quot;dashOffset&quot;: null, &quot;fill&quot;: false, &quot;fillColor&quot;: &quot;blue&quot;, &quot;fillOpacity&quot;: 0.2, &quot;fillRule&quot;: &quot;evenodd&quot;, &quot;lineCap&quot;: &quot;round&quot;, &quot;lineJoin&quot;: &quot;round&quot;, &quot;noClip&quot;: false, &quot;opacity&quot;: 1.0, &quot;smoothFactor&quot;: 1.0, &quot;stroke&quot;: true, &quot;weight&quot;: 0.5}\n",
              "            ).addTo(map_80cb45f4ec4403cff412eaf6bc328b02);\n",
              "        \n",
              "    \n",
              "            var poly_line_30c5687c449c57a04a4115afe4a1a478 = L.polyline(\n",
              "                [[37.69808572900908, -122.3600137816581], [37.83986189124343, -122.3600137816581]],\n",
              "                {&quot;bubblingMouseEvents&quot;: true, &quot;color&quot;: &quot;blue&quot;, &quot;dashArray&quot;: null, &quot;dashOffset&quot;: null, &quot;fill&quot;: false, &quot;fillColor&quot;: &quot;blue&quot;, &quot;fillOpacity&quot;: 0.2, &quot;fillRule&quot;: &quot;evenodd&quot;, &quot;lineCap&quot;: &quot;round&quot;, &quot;lineJoin&quot;: &quot;round&quot;, &quot;noClip&quot;: false, &quot;opacity&quot;: 1.0, &quot;smoothFactor&quot;: 1.0, &quot;stroke&quot;: true, &quot;weight&quot;: 0.5}\n",
              "            ).addTo(map_80cb45f4ec4403cff412eaf6bc328b02);\n",
              "        \n",
              "    \n",
              "            var poly_line_a19eaf6c5ae7b21078b323f5782f4db9 = L.polyline(\n",
              "                [[37.69808572900908, -122.35417083783776], [37.83986189124343, -122.35417083783776]],\n",
              "                {&quot;bubblingMouseEvents&quot;: true, &quot;color&quot;: &quot;blue&quot;, &quot;dashArray&quot;: null, &quot;dashOffset&quot;: null, &quot;fill&quot;: false, &quot;fillColor&quot;: &quot;blue&quot;, &quot;fillOpacity&quot;: 0.2, &quot;fillRule&quot;: &quot;evenodd&quot;, &quot;lineCap&quot;: &quot;round&quot;, &quot;lineJoin&quot;: &quot;round&quot;, &quot;noClip&quot;: false, &quot;opacity&quot;: 1.0, &quot;smoothFactor&quot;: 1.0, &quot;stroke&quot;: true, &quot;weight&quot;: 0.5}\n",
              "            ).addTo(map_80cb45f4ec4403cff412eaf6bc328b02);\n",
              "        \n",
              "    \n",
              "            var poly_line_438041f59bca344b503e55fd18e1ecc9 = L.polyline(\n",
              "                [[37.69808572900908, -122.3483278940174], [37.83986189124343, -122.3483278940174]],\n",
              "                {&quot;bubblingMouseEvents&quot;: true, &quot;color&quot;: &quot;blue&quot;, &quot;dashArray&quot;: null, &quot;dashOffset&quot;: null, &quot;fill&quot;: false, &quot;fillColor&quot;: &quot;blue&quot;, &quot;fillOpacity&quot;: 0.2, &quot;fillRule&quot;: &quot;evenodd&quot;, &quot;lineCap&quot;: &quot;round&quot;, &quot;lineJoin&quot;: &quot;round&quot;, &quot;noClip&quot;: false, &quot;opacity&quot;: 1.0, &quot;smoothFactor&quot;: 1.0, &quot;stroke&quot;: true, &quot;weight&quot;: 0.5}\n",
              "            ).addTo(map_80cb45f4ec4403cff412eaf6bc328b02);\n",
              "        \n",
              "&lt;/script&gt;\n",
              "&lt;/html&gt;\" style=\"position:absolute;width:100%;height:100%;left:0;top:0;border:none !important;\" allowfullscreen webkitallowfullscreen mozallowfullscreen></iframe></div></div>"
            ]
          },
          "metadata": {},
          "execution_count": 17
        }
      ]
    },
    {
      "cell_type": "code",
      "source": [
        "grid_boundaries = []\n",
        "\n",
        "# Iterate through latitude values\n",
        "for i in range(len(lat_values) - 1):\n",
        "    lat1, lat2 = lat_values[i], lat_values[i + 1]\n",
        "    # Iterate through longitude values\n",
        "    for j in range(len(long_values) - 1):\n",
        "        long1, long2 = long_values[j], long_values[j + 1]\n",
        "        # Define the boundaries of the grid area\n",
        "        boundary = [(lat1, long1), (lat1, long2), (lat2, long2), (lat2, long1), (lat1, long1)]\n",
        "        # Append the boundary to the list\n",
        "        grid_boundaries.append(boundary)"
      ],
      "metadata": {
        "id": "VyR_noEx2dcZ"
      },
      "execution_count": 18,
      "outputs": []
    },
    {
      "cell_type": "markdown",
      "source": [
        "# Preparing data for input"
      ],
      "metadata": {
        "id": "0NzpvpAPIBkA"
      }
    },
    {
      "cell_type": "code",
      "source": [
        "selected_dates.dropna(subset = ['latitude', 'longitude', \"month\", \"day_of_week\"], inplace=True)\n",
        "selected_dates.drop(columns = ['collision_datetime'], inplace=True)"
      ],
      "metadata": {
        "id": "zID8p9awAbUh"
      },
      "execution_count": 19,
      "outputs": []
    },
    {
      "cell_type": "markdown",
      "source": [
        "## Creating 30x30 matrices with the accident data assigned to its respective cell in the grid"
      ],
      "metadata": {
        "id": "cBWX4D-UIOjs"
      }
    },
    {
      "cell_type": "code",
      "source": [
        "# Group the accidents dataframe by 'collision_date'\n",
        "grouped_dates = selected_dates.groupby('collision_date')\n",
        "\n",
        "# Create a dataframe to store the input for each data\n",
        "start_date = datetime(2005, 1, 1)\n",
        "end_date = datetime(2014, 12, 31)\n",
        "one_day = timedelta(days=1)\n",
        "date_range = [start_date + timedelta(days=i) for i in range((end_date - start_date).days + 1)]\n",
        "input_numeric = pd.DataFrame(index=date_range, columns = ['dow', 'month', 'mintemp', 'maxtemp', 'avgtemp', 'precip'])\n",
        "matrices = pd.Series(index=date_range, dtype=object)"
      ],
      "metadata": {
        "id": "-YMMNzrWiRcX"
      },
      "execution_count": 20,
      "outputs": []
    },
    {
      "cell_type": "code",
      "source": [
        "selected_dates.head()"
      ],
      "metadata": {
        "colab": {
          "base_uri": "https://localhost:8080/",
          "height": 206
        },
        "id": "7BrQJCqGnUSq",
        "outputId": "3e4cd2d7-184a-488b-e6f5-98849afba4d1"
      },
      "execution_count": 21,
      "outputs": [
        {
          "output_type": "execute_result",
          "data": {
            "text/plain": [
              "      collision_date  accident_year  month  day_of_week   latitude   longitude\n",
              "12370     2005-01-01           2005      1          0.0  37.780656 -122.472312\n",
              "31833     2005-01-01           2005      1          0.0  37.753914 -122.483887\n",
              "34111     2005-01-01           2005      1          0.0  37.771054 -122.453902\n",
              "26282     2005-01-01           2005      1          0.0  37.743397 -122.475726\n",
              "25233     2005-01-01           2005      1          0.0  37.789452 -122.423832"
            ],
            "text/html": [
              "\n",
              "  <div id=\"df-4ec97e1b-bfc2-4c35-b8c6-3492dce09cbd\" class=\"colab-df-container\">\n",
              "    <div>\n",
              "<style scoped>\n",
              "    .dataframe tbody tr th:only-of-type {\n",
              "        vertical-align: middle;\n",
              "    }\n",
              "\n",
              "    .dataframe tbody tr th {\n",
              "        vertical-align: top;\n",
              "    }\n",
              "\n",
              "    .dataframe thead th {\n",
              "        text-align: right;\n",
              "    }\n",
              "</style>\n",
              "<table border=\"1\" class=\"dataframe\">\n",
              "  <thead>\n",
              "    <tr style=\"text-align: right;\">\n",
              "      <th></th>\n",
              "      <th>collision_date</th>\n",
              "      <th>accident_year</th>\n",
              "      <th>month</th>\n",
              "      <th>day_of_week</th>\n",
              "      <th>latitude</th>\n",
              "      <th>longitude</th>\n",
              "    </tr>\n",
              "  </thead>\n",
              "  <tbody>\n",
              "    <tr>\n",
              "      <th>12370</th>\n",
              "      <td>2005-01-01</td>\n",
              "      <td>2005</td>\n",
              "      <td>1</td>\n",
              "      <td>0.0</td>\n",
              "      <td>37.780656</td>\n",
              "      <td>-122.472312</td>\n",
              "    </tr>\n",
              "    <tr>\n",
              "      <th>31833</th>\n",
              "      <td>2005-01-01</td>\n",
              "      <td>2005</td>\n",
              "      <td>1</td>\n",
              "      <td>0.0</td>\n",
              "      <td>37.753914</td>\n",
              "      <td>-122.483887</td>\n",
              "    </tr>\n",
              "    <tr>\n",
              "      <th>34111</th>\n",
              "      <td>2005-01-01</td>\n",
              "      <td>2005</td>\n",
              "      <td>1</td>\n",
              "      <td>0.0</td>\n",
              "      <td>37.771054</td>\n",
              "      <td>-122.453902</td>\n",
              "    </tr>\n",
              "    <tr>\n",
              "      <th>26282</th>\n",
              "      <td>2005-01-01</td>\n",
              "      <td>2005</td>\n",
              "      <td>1</td>\n",
              "      <td>0.0</td>\n",
              "      <td>37.743397</td>\n",
              "      <td>-122.475726</td>\n",
              "    </tr>\n",
              "    <tr>\n",
              "      <th>25233</th>\n",
              "      <td>2005-01-01</td>\n",
              "      <td>2005</td>\n",
              "      <td>1</td>\n",
              "      <td>0.0</td>\n",
              "      <td>37.789452</td>\n",
              "      <td>-122.423832</td>\n",
              "    </tr>\n",
              "  </tbody>\n",
              "</table>\n",
              "</div>\n",
              "    <div class=\"colab-df-buttons\">\n",
              "\n",
              "  <div class=\"colab-df-container\">\n",
              "    <button class=\"colab-df-convert\" onclick=\"convertToInteractive('df-4ec97e1b-bfc2-4c35-b8c6-3492dce09cbd')\"\n",
              "            title=\"Convert this dataframe to an interactive table.\"\n",
              "            style=\"display:none;\">\n",
              "\n",
              "  <svg xmlns=\"http://www.w3.org/2000/svg\" height=\"24px\" viewBox=\"0 -960 960 960\">\n",
              "    <path d=\"M120-120v-720h720v720H120Zm60-500h600v-160H180v160Zm220 220h160v-160H400v160Zm0 220h160v-160H400v160ZM180-400h160v-160H180v160Zm440 0h160v-160H620v160ZM180-180h160v-160H180v160Zm440 0h160v-160H620v160Z\"/>\n",
              "  </svg>\n",
              "    </button>\n",
              "\n",
              "  <style>\n",
              "    .colab-df-container {\n",
              "      display:flex;\n",
              "      gap: 12px;\n",
              "    }\n",
              "\n",
              "    .colab-df-convert {\n",
              "      background-color: #E8F0FE;\n",
              "      border: none;\n",
              "      border-radius: 50%;\n",
              "      cursor: pointer;\n",
              "      display: none;\n",
              "      fill: #1967D2;\n",
              "      height: 32px;\n",
              "      padding: 0 0 0 0;\n",
              "      width: 32px;\n",
              "    }\n",
              "\n",
              "    .colab-df-convert:hover {\n",
              "      background-color: #E2EBFA;\n",
              "      box-shadow: 0px 1px 2px rgba(60, 64, 67, 0.3), 0px 1px 3px 1px rgba(60, 64, 67, 0.15);\n",
              "      fill: #174EA6;\n",
              "    }\n",
              "\n",
              "    .colab-df-buttons div {\n",
              "      margin-bottom: 4px;\n",
              "    }\n",
              "\n",
              "    [theme=dark] .colab-df-convert {\n",
              "      background-color: #3B4455;\n",
              "      fill: #D2E3FC;\n",
              "    }\n",
              "\n",
              "    [theme=dark] .colab-df-convert:hover {\n",
              "      background-color: #434B5C;\n",
              "      box-shadow: 0px 1px 3px 1px rgba(0, 0, 0, 0.15);\n",
              "      filter: drop-shadow(0px 1px 2px rgba(0, 0, 0, 0.3));\n",
              "      fill: #FFFFFF;\n",
              "    }\n",
              "  </style>\n",
              "\n",
              "    <script>\n",
              "      const buttonEl =\n",
              "        document.querySelector('#df-4ec97e1b-bfc2-4c35-b8c6-3492dce09cbd button.colab-df-convert');\n",
              "      buttonEl.style.display =\n",
              "        google.colab.kernel.accessAllowed ? 'block' : 'none';\n",
              "\n",
              "      async function convertToInteractive(key) {\n",
              "        const element = document.querySelector('#df-4ec97e1b-bfc2-4c35-b8c6-3492dce09cbd');\n",
              "        const dataTable =\n",
              "          await google.colab.kernel.invokeFunction('convertToInteractive',\n",
              "                                                    [key], {});\n",
              "        if (!dataTable) return;\n",
              "\n",
              "        const docLinkHtml = 'Like what you see? Visit the ' +\n",
              "          '<a target=\"_blank\" href=https://colab.research.google.com/notebooks/data_table.ipynb>data table notebook</a>'\n",
              "          + ' to learn more about interactive tables.';\n",
              "        element.innerHTML = '';\n",
              "        dataTable['output_type'] = 'display_data';\n",
              "        await google.colab.output.renderOutput(dataTable, element);\n",
              "        const docLink = document.createElement('div');\n",
              "        docLink.innerHTML = docLinkHtml;\n",
              "        element.appendChild(docLink);\n",
              "      }\n",
              "    </script>\n",
              "  </div>\n",
              "\n",
              "\n",
              "<div id=\"df-1118e757-8ff5-4efa-a723-318f5ea00538\">\n",
              "  <button class=\"colab-df-quickchart\" onclick=\"quickchart('df-1118e757-8ff5-4efa-a723-318f5ea00538')\"\n",
              "            title=\"Suggest charts\"\n",
              "            style=\"display:none;\">\n",
              "\n",
              "<svg xmlns=\"http://www.w3.org/2000/svg\" height=\"24px\"viewBox=\"0 0 24 24\"\n",
              "     width=\"24px\">\n",
              "    <g>\n",
              "        <path d=\"M19 3H5c-1.1 0-2 .9-2 2v14c0 1.1.9 2 2 2h14c1.1 0 2-.9 2-2V5c0-1.1-.9-2-2-2zM9 17H7v-7h2v7zm4 0h-2V7h2v10zm4 0h-2v-4h2v4z\"/>\n",
              "    </g>\n",
              "</svg>\n",
              "  </button>\n",
              "\n",
              "<style>\n",
              "  .colab-df-quickchart {\n",
              "      --bg-color: #E8F0FE;\n",
              "      --fill-color: #1967D2;\n",
              "      --hover-bg-color: #E2EBFA;\n",
              "      --hover-fill-color: #174EA6;\n",
              "      --disabled-fill-color: #AAA;\n",
              "      --disabled-bg-color: #DDD;\n",
              "  }\n",
              "\n",
              "  [theme=dark] .colab-df-quickchart {\n",
              "      --bg-color: #3B4455;\n",
              "      --fill-color: #D2E3FC;\n",
              "      --hover-bg-color: #434B5C;\n",
              "      --hover-fill-color: #FFFFFF;\n",
              "      --disabled-bg-color: #3B4455;\n",
              "      --disabled-fill-color: #666;\n",
              "  }\n",
              "\n",
              "  .colab-df-quickchart {\n",
              "    background-color: var(--bg-color);\n",
              "    border: none;\n",
              "    border-radius: 50%;\n",
              "    cursor: pointer;\n",
              "    display: none;\n",
              "    fill: var(--fill-color);\n",
              "    height: 32px;\n",
              "    padding: 0;\n",
              "    width: 32px;\n",
              "  }\n",
              "\n",
              "  .colab-df-quickchart:hover {\n",
              "    background-color: var(--hover-bg-color);\n",
              "    box-shadow: 0 1px 2px rgba(60, 64, 67, 0.3), 0 1px 3px 1px rgba(60, 64, 67, 0.15);\n",
              "    fill: var(--button-hover-fill-color);\n",
              "  }\n",
              "\n",
              "  .colab-df-quickchart-complete:disabled,\n",
              "  .colab-df-quickchart-complete:disabled:hover {\n",
              "    background-color: var(--disabled-bg-color);\n",
              "    fill: var(--disabled-fill-color);\n",
              "    box-shadow: none;\n",
              "  }\n",
              "\n",
              "  .colab-df-spinner {\n",
              "    border: 2px solid var(--fill-color);\n",
              "    border-color: transparent;\n",
              "    border-bottom-color: var(--fill-color);\n",
              "    animation:\n",
              "      spin 1s steps(1) infinite;\n",
              "  }\n",
              "\n",
              "  @keyframes spin {\n",
              "    0% {\n",
              "      border-color: transparent;\n",
              "      border-bottom-color: var(--fill-color);\n",
              "      border-left-color: var(--fill-color);\n",
              "    }\n",
              "    20% {\n",
              "      border-color: transparent;\n",
              "      border-left-color: var(--fill-color);\n",
              "      border-top-color: var(--fill-color);\n",
              "    }\n",
              "    30% {\n",
              "      border-color: transparent;\n",
              "      border-left-color: var(--fill-color);\n",
              "      border-top-color: var(--fill-color);\n",
              "      border-right-color: var(--fill-color);\n",
              "    }\n",
              "    40% {\n",
              "      border-color: transparent;\n",
              "      border-right-color: var(--fill-color);\n",
              "      border-top-color: var(--fill-color);\n",
              "    }\n",
              "    60% {\n",
              "      border-color: transparent;\n",
              "      border-right-color: var(--fill-color);\n",
              "    }\n",
              "    80% {\n",
              "      border-color: transparent;\n",
              "      border-right-color: var(--fill-color);\n",
              "      border-bottom-color: var(--fill-color);\n",
              "    }\n",
              "    90% {\n",
              "      border-color: transparent;\n",
              "      border-bottom-color: var(--fill-color);\n",
              "    }\n",
              "  }\n",
              "</style>\n",
              "\n",
              "  <script>\n",
              "    async function quickchart(key) {\n",
              "      const quickchartButtonEl =\n",
              "        document.querySelector('#' + key + ' button');\n",
              "      quickchartButtonEl.disabled = true;  // To prevent multiple clicks.\n",
              "      quickchartButtonEl.classList.add('colab-df-spinner');\n",
              "      try {\n",
              "        const charts = await google.colab.kernel.invokeFunction(\n",
              "            'suggestCharts', [key], {});\n",
              "      } catch (error) {\n",
              "        console.error('Error during call to suggestCharts:', error);\n",
              "      }\n",
              "      quickchartButtonEl.classList.remove('colab-df-spinner');\n",
              "      quickchartButtonEl.classList.add('colab-df-quickchart-complete');\n",
              "    }\n",
              "    (() => {\n",
              "      let quickchartButtonEl =\n",
              "        document.querySelector('#df-1118e757-8ff5-4efa-a723-318f5ea00538 button');\n",
              "      quickchartButtonEl.style.display =\n",
              "        google.colab.kernel.accessAllowed ? 'block' : 'none';\n",
              "    })();\n",
              "  </script>\n",
              "</div>\n",
              "    </div>\n",
              "  </div>\n"
            ],
            "application/vnd.google.colaboratory.intrinsic+json": {
              "type": "dataframe",
              "variable_name": "selected_dates",
              "repr_error": "0"
            }
          },
          "metadata": {},
          "execution_count": 21
        }
      ]
    },
    {
      "cell_type": "code",
      "source": [
        "# Iterate through each date group from the accidents df\n",
        "for date, group in grouped_dates:\n",
        "    # Create a 30x30 matrix initialized with zeros\n",
        "    matrix = np.zeros((30, 30), dtype=int)\n",
        "\n",
        "    # Iterate through each row in the group\n",
        "    for index, row in group.iterrows():\n",
        "        # Compute the indices for the matrix\n",
        "        lat_index = int((row['latitude'] - min_lat) / (max_lat - min_lat) * 30)-1\n",
        "        long_index = int((row['longitude'] - min_long) / (max_long - min_long) * 30)-1\n",
        "\n",
        "        # Increment the corresponding cell in the matrix\n",
        "        matrix[lat_index, long_index] += 1\n",
        "\n",
        "    # Store the matrix in the dataframe in the correct date\n",
        "    dt_object = date.strftime('%Y-%m-%d')\n",
        "\n",
        "    matrices.loc[dt_object] = matrix\n",
        "\n",
        "# Add 0s for dates that were missing in grouped_dates because they had 0 accidents\n",
        "matrices.replace(np.nan, 0, inplace=True)\n",
        "\n",
        "# Replace 0s with empty matrices\n",
        "for i in matrices.index:\n",
        "  if isinstance(matrices.loc[i], int):\n",
        "    matrices.loc[i] = np.zeros((30, 30), dtype=int)"
      ],
      "metadata": {
        "id": "ITUQJcA66Fih"
      },
      "execution_count": 22,
      "outputs": []
    },
    {
      "cell_type": "code",
      "source": [
        "# Convert to np array\n",
        "matrices_array = np.array(matrices.values)"
      ],
      "metadata": {
        "id": "iB8AQx1SKqe1"
      },
      "execution_count": 23,
      "outputs": []
    },
    {
      "cell_type": "code",
      "source": [
        "# Reshape into a 3d np array\n",
        "matrices_3d = np.stack(matrices_array)\n",
        "matrices_reshaped = matrices_3d.reshape(3652, 30, 30)"
      ],
      "metadata": {
        "id": "zuo4VhidSTCA"
      },
      "execution_count": 24,
      "outputs": []
    },
    {
      "cell_type": "code",
      "source": [
        "# Add days of week and month\n",
        "input_numeric['month'] = input_numeric.index.month\n",
        "input_numeric['dow'] = input_numeric.index.dayofweek\n",
        "\n",
        "# Subset weather df\n",
        "subset_weather_df = weather_df.loc[start_date:end_date]\n",
        "\n",
        "# Add weather data\n",
        "input_numeric[['mintemp', 'maxtemp', 'avgtemp', 'precip']] = subset_weather_df"
      ],
      "metadata": {
        "id": "85aIbyTXqe2x"
      },
      "execution_count": 25,
      "outputs": []
    },
    {
      "cell_type": "markdown",
      "source": [
        "# Make input suitable for LSTM"
      ],
      "metadata": {
        "id": "P_-dCFVcGfJA"
      }
    },
    {
      "cell_type": "code",
      "source": [
        "# Define which columns need to be scaled and one-hot encoded\n",
        "numeric_features = ['mintemp', 'maxtemp', 'avgtemp', 'precip']\n",
        "categorical_features = ['dow', 'month']\n",
        "\n",
        "# Preprocessing pipeline\n",
        "preprocessor = ColumnTransformer(\n",
        "    transformers=[\n",
        "        ('num', StandardScaler(), numeric_features),\n",
        "        ('cat', OneHotEncoder(categories=[range(7),\n",
        "                                          range(1, 13)]),\n",
        "         categorical_features)\n",
        "    ],\n",
        "    sparse_threshold=0)\n",
        "\n",
        "# Fit and transform the data\n",
        "input_numeric_processed = preprocessor.fit_transform(input_numeric)"
      ],
      "metadata": {
        "id": "RcONtHFbrNuw"
      },
      "execution_count": 51,
      "outputs": []
    },
    {
      "cell_type": "code",
      "source": [
        "# Flatten each 2D array\n",
        "flattened_matrices = matrices_reshaped.reshape(matrices_reshaped.shape[0], -1)\n",
        "\n",
        "# Scale/normalize the flattened data\n",
        "scaler = StandardScaler()\n",
        "matrices_scaled = scaler.fit_transform(flattened_matrices)\n",
        "\n",
        "# Reshape the scaled data back to 3D\n",
        "matrices_scaled_reshaped = matrices_scaled.reshape(matrices_reshaped.shape)\n",
        "\n",
        "# The shape of the scaled and reshaped data\n",
        "print(\"Shape of matrices_scaled_reshaped:\", matrices_scaled_reshaped.shape)"
      ],
      "metadata": {
        "id": "e1e_JXv9Q-7x",
        "outputId": "5c3fafae-ba13-456a-b53a-4dc644c9ec4c",
        "colab": {
          "base_uri": "https://localhost:8080/"
        }
      },
      "execution_count": 52,
      "outputs": [
        {
          "output_type": "stream",
          "name": "stdout",
          "text": [
            "Shape of matrices_scaled_reshaped: (3652, 30, 30)\n"
          ]
        }
      ]
    },
    {
      "cell_type": "markdown",
      "source": [
        "# Perform train test split"
      ],
      "metadata": {
        "id": "RVpBteJFNc96"
      }
    },
    {
      "cell_type": "code",
      "source": [
        "# Perform train-test split on both input_numeric_processed and matrices_scaled_reshaped\n",
        "X_train_numeric, X_test_numeric, X_train_matrices, X_test_matrices, y_train, y_test = train_test_split(input_numeric_processed, matrices_scaled_reshaped, matrices_scaled_reshaped, test_size=0.2, random_state=42)\n"
      ],
      "metadata": {
        "id": "ss1NnMi1Tpwv"
      },
      "execution_count": 236,
      "outputs": []
    },
    {
      "cell_type": "code",
      "source": [
        "print(\"Shape of X_train_numeric:\", X_train_numeric.shape)\n",
        "print(\"Shape of X_test_numeric:\", X_test_numeric.shape)\n",
        "print(\"Shape of X_train_matrices:\", X_train_matrices.shape)\n",
        "print(\"Shape of X_test_matrices:\", X_test_matrices.shape)\n",
        "print(\"Shape of y_train:\", y_train.shape)\n",
        "print(\"Shape of y_test:\", y_test.shape)"
      ],
      "metadata": {
        "colab": {
          "base_uri": "https://localhost:8080/"
        },
        "id": "gaWT42ZbS0t0",
        "outputId": "3b8136e0-46f5-4b70-9009-1347b5bf84ec"
      },
      "execution_count": 237,
      "outputs": [
        {
          "output_type": "stream",
          "name": "stdout",
          "text": [
            "Shape of X_train_numeric: (2921, 23)\n",
            "Shape of X_test_numeric: (731, 23)\n",
            "Shape of X_train_matrices: (2921, 30, 30)\n",
            "Shape of X_test_matrices: (731, 30, 30)\n",
            "Shape of y_train: (2921, 30, 30)\n",
            "Shape of y_test: (731, 30, 30)\n"
          ]
        }
      ]
    },
    {
      "cell_type": "code",
      "source": [
        "# Flatten y_train and y_test to match model's output layer\n",
        "# Model outputs a flattened 30x30 matrix\n",
        "y_train_flat = y_train.reshape(y_train.shape[0], -1)\n",
        "y_test_flat = y_test.reshape(y_test.shape[0], -1)"
      ],
      "metadata": {
        "id": "avqgmj_Nqh_B"
      },
      "execution_count": 245,
      "outputs": []
    },
    {
      "cell_type": "code",
      "source": [
        "y_train_reshaped = np.repeat(y_train[:, np.newaxis, :, :], 60, axis=1)\n",
        "y_test_reshaped = np.repeat(y_test[:, np.newaxis, :, :], 60, axis=1)\n",
        "\n",
        "print(\"Shape of y_train_reshaped:\", y_train_reshaped.shape)\n",
        "print(\"Shape of y_test_reshaped:\", y_test_reshaped.shape)"
      ],
      "metadata": {
        "colab": {
          "base_uri": "https://localhost:8080/"
        },
        "id": "uub_ObrwrGbW",
        "outputId": "cc1aa7fa-5eb6-4839-e65f-e6413dc68afe"
      },
      "execution_count": 252,
      "outputs": [
        {
          "output_type": "stream",
          "name": "stdout",
          "text": [
            "Shape of y_train_reshaped: (2921, 60, 30, 30)\n",
            "Shape of y_test_reshaped: (731, 60, 30, 30)\n"
          ]
        }
      ]
    },
    {
      "cell_type": "code",
      "source": [
        "# Reshape y_train_reshaped\n",
        "# Reshape y_train_reshaped\n",
        "y_train_flat = np.reshape(y_train_reshaped, (y_train_reshaped.shape[0], -1, y_train_reshaped.shape[2] * y_train_reshaped.shape[3]))\n",
        "print(\"Shape of y_train_flat:\", y_train_flat.shape)\n",
        "\n",
        "# Reshape y_test_reshaped\n",
        "y_test_flat = np.reshape(y_test_reshaped, (y_test_reshaped.shape[0], -1, y_test_reshaped.shape[2] * y_test_reshaped.shape[3]))\n",
        "print(\"Shape of y_test_flat:\", y_test_flat.shape)"
      ],
      "metadata": {
        "colab": {
          "base_uri": "https://localhost:8080/"
        },
        "id": "yqeRnhWaHTPd",
        "outputId": "926d9132-b8f6-4d67-9149-82d5f51737b0"
      },
      "execution_count": 255,
      "outputs": [
        {
          "output_type": "stream",
          "name": "stdout",
          "text": [
            "Shape of y_train_flat: (2921, 60, 900)\n",
            "Shape of y_test_flat: (731, 60, 900)\n"
          ]
        }
      ]
    },
    {
      "cell_type": "markdown",
      "source": [
        "# Model Architecture"
      ],
      "metadata": {
        "id": "6Y4FY0jZTzis"
      }
    },
    {
      "cell_type": "code",
      "source": [
        "# Define input layer for numeric data\n",
        "input_numeric = Input(shape=(None, 23),\n",
        "                      name='input_numeric')\n",
        "\n",
        "# Define input layer for matrix data\n",
        "input_matrices = Input(shape=(None, 30, 30),\n",
        "                       name='input_matrices')\n",
        "# Add a single dimension at the beginning to make it compatible with the shape\n",
        "# of the numeric input\n",
        "# Reshape the input to add a time dimension\n",
        "reshaped_matrices = Reshape((-1, 30))(input_matrices)"
      ],
      "metadata": {
        "id": "fZpCb8a455BL"
      },
      "execution_count": 193,
      "outputs": []
    },
    {
      "cell_type": "code",
      "source": [
        "# LSTM layer for matrix data\n",
        "matrix_lstm = LSTM(units=64,\n",
        "                   return_sequences=True,\n",
        "                   name='matrix_lstm')(reshaped_matrices)\n",
        "\n",
        "# Reshape input_numeric to 2D tensor to pass to RepeatVector\n",
        "numeric_reshaped = Reshape((23,),\n",
        "                           name='reshape_numeric')(input_numeric)\n",
        "\n",
        "# Repeat the numeric features across the sequence dimension to match length of\n",
        "# matrix_lstm output\n",
        "numeric_repeated = RepeatVector(30,\n",
        "                                name='repeat_numeric')(numeric_reshaped)\n",
        "\n",
        "# Dense layer for numeric features to match the dimensionality of LSTM output\n",
        "dense_numeric = Dense(units=64,\n",
        "                      activation='relu',\n",
        "                      name='dense_numeric')(numeric_repeated)\n",
        "\n",
        "# Concatenate LSTM output with the repeated numeric features\n",
        "concatenated = Concatenate(axis=1,\n",
        "                           name='concatenated')([matrix_lstm, dense_numeric])"
      ],
      "metadata": {
        "id": "424qRwlkPeh9"
      },
      "execution_count": 194,
      "outputs": []
    },
    {
      "cell_type": "markdown",
      "source": [],
      "metadata": {
        "id": "nPXdUoed9M09"
      }
    },
    {
      "cell_type": "code",
      "source": [
        "# Additional dense layers with dropout\n",
        "# Helps model learn complex patterns and non-linear relationships\n",
        "dense_layer_1 = Dense(units=128,\n",
        "                      activation='relu',\n",
        "                      name='dense_layer_1')(concatenated)\n",
        "dropout_layer_1 = Dropout(0.2,\n",
        "                          name='dropout_layer_1')(dense_layer_1)\n",
        "dense_layer_2 = Dense(units=64,\n",
        "                      activation='relu',\n",
        "                      name='dense_layer_2')(dropout_layer_1)\n",
        "dropout_layer_2 = Dropout(0.2,\n",
        "                          name='dropout_layer_2')(dense_layer_2)"
      ],
      "metadata": {
        "id": "HOGOy-2_otvE"
      },
      "execution_count": 195,
      "outputs": []
    },
    {
      "cell_type": "code",
      "source": [
        "# Final transformation applied to concatenated outputs of previous layers\n",
        "# Produces a flattened 30x30 matrix of predicted values\n",
        "output = Dense(units=900, activation='sigmoid', name='output')(dropout_layer_2)\n",
        "\n",
        "# Define model\n",
        "model = Model(inputs=[input_numeric, input_matrices],\n",
        "              outputs=output,\n",
        "              name='model_with_weather')\n",
        "\n",
        "model.summary()"
      ],
      "metadata": {
        "colab": {
          "base_uri": "https://localhost:8080/"
        },
        "id": "pcO9jfxZUEXB",
        "outputId": "840f33b7-3725-4471-84f9-cfbd55f4b32c"
      },
      "execution_count": 257,
      "outputs": [
        {
          "output_type": "stream",
          "name": "stdout",
          "text": [
            "Model: \"model_with_weather\"\n",
            "__________________________________________________________________________________________________\n",
            " Layer (type)                Output Shape                 Param #   Connected to                  \n",
            "==================================================================================================\n",
            " input_numeric (InputLayer)  [(None, None, 23)]           0         []                            \n",
            "                                                                                                  \n",
            " input_matrices (InputLayer  [(None, None, 30, 30)]       0         []                            \n",
            " )                                                                                                \n",
            "                                                                                                  \n",
            " reshape_numeric (Reshape)   (None, 23)                   0         ['input_numeric[0][0]']       \n",
            "                                                                                                  \n",
            " reshape_10 (Reshape)        (None, None, 30)             0         ['input_matrices[0][0]']      \n",
            "                                                                                                  \n",
            " repeat_numeric (RepeatVect  (None, 30, 23)               0         ['reshape_numeric[0][0]']     \n",
            " or)                                                                                              \n",
            "                                                                                                  \n",
            " matrix_lstm (LSTM)          (None, None, 64)             24320     ['reshape_10[0][0]']          \n",
            "                                                                                                  \n",
            " dense_numeric (Dense)       (None, 30, 64)               1536      ['repeat_numeric[0][0]']      \n",
            "                                                                                                  \n",
            " concatenated (Concatenate)  (None, None, 64)             0         ['matrix_lstm[0][0]',         \n",
            "                                                                     'dense_numeric[0][0]']       \n",
            "                                                                                                  \n",
            " dense_layer_1 (Dense)       (None, None, 128)            8320      ['concatenated[0][0]']        \n",
            "                                                                                                  \n",
            " dropout_layer_1 (Dropout)   (None, None, 128)            0         ['dense_layer_1[0][0]']       \n",
            "                                                                                                  \n",
            " dense_layer_2 (Dense)       (None, None, 64)             8256      ['dropout_layer_1[0][0]']     \n",
            "                                                                                                  \n",
            " dropout_layer_2 (Dropout)   (None, None, 64)             0         ['dense_layer_2[0][0]']       \n",
            "                                                                                                  \n",
            " output (Dense)              (None, None, 900)            58500     ['dropout_layer_2[0][0]']     \n",
            "                                                                                                  \n",
            "==================================================================================================\n",
            "Total params: 100932 (394.27 KB)\n",
            "Trainable params: 100932 (394.27 KB)\n",
            "Non-trainable params: 0 (0.00 Byte)\n",
            "__________________________________________________________________________________________________\n"
          ]
        }
      ]
    },
    {
      "cell_type": "code",
      "source": [
        "# Compile the model\n",
        "model.compile(optimizer='adam',\n",
        "              loss='mae',\n",
        "              metrics=['accuracy'])"
      ],
      "metadata": {
        "id": "7bzGJ_N9kPhz"
      },
      "execution_count": 258,
      "outputs": []
    },
    {
      "cell_type": "markdown",
      "source": [
        "# Fitting model"
      ],
      "metadata": {
        "id": "aqJNZN95co7_"
      }
    },
    {
      "cell_type": "code",
      "source": [
        "history = model.fit(\n",
        "    [X_train_numeric, X_train_matrices],\n",
        "    y_train_flat,\n",
        "    epochs=10,\n",
        "    batch_size=32,\n",
        "    validation_split=0.2  # 20% of the training data will be used for validation\n",
        ")"
      ],
      "metadata": {
        "colab": {
          "base_uri": "https://localhost:8080/"
        },
        "id": "ZXI68mYlkHz4",
        "outputId": "8b2e93a3-2a2b-41b8-a328-9bd92381b5b3"
      },
      "execution_count": 259,
      "outputs": [
        {
          "output_type": "stream",
          "name": "stdout",
          "text": [
            "Epoch 1/10\n",
            "73/73 [==============================] - 10s 94ms/step - loss: 0.2871 - accuracy: 7.8482e-04 - val_loss: 0.1118 - val_accuracy: 0.0000e+00\n",
            "Epoch 2/10\n",
            "73/73 [==============================] - 4s 57ms/step - loss: 0.1109 - accuracy: 6.2072e-04 - val_loss: 0.1098 - val_accuracy: 0.0000e+00\n",
            "Epoch 3/10\n",
            "73/73 [==============================] - 4s 57ms/step - loss: 0.1099 - accuracy: 7.2774e-04 - val_loss: 0.1094 - val_accuracy: 0.0000e+00\n",
            "Epoch 4/10\n",
            "73/73 [==============================] - 6s 80ms/step - loss: 0.1096 - accuracy: 6.7066e-04 - val_loss: 0.1092 - val_accuracy: 0.0000e+00\n",
            "Epoch 5/10\n",
            "73/73 [==============================] - 4s 57ms/step - loss: 0.1095 - accuracy: 7.1347e-04 - val_loss: 0.1091 - val_accuracy: 0.0000e+00\n",
            "Epoch 6/10\n",
            "73/73 [==============================] - 4s 61ms/step - loss: 0.1094 - accuracy: 6.1358e-04 - val_loss: 0.1091 - val_accuracy: 0.0000e+00\n",
            "Epoch 7/10\n",
            "73/73 [==============================] - 6s 83ms/step - loss: 0.1094 - accuracy: 6.4926e-04 - val_loss: 0.1091 - val_accuracy: 0.0000e+00\n",
            "Epoch 8/10\n",
            "73/73 [==============================] - 4s 57ms/step - loss: 0.1094 - accuracy: 7.2774e-04 - val_loss: 0.1091 - val_accuracy: 0.0000e+00\n",
            "Epoch 9/10\n",
            "73/73 [==============================] - 5s 65ms/step - loss: 0.1094 - accuracy: 8.1336e-04 - val_loss: 0.1091 - val_accuracy: 0.0000e+00\n",
            "Epoch 10/10\n",
            "73/73 [==============================] - 6s 80ms/step - loss: 0.1094 - accuracy: 7.8482e-04 - val_loss: 0.1091 - val_accuracy: 0.0000e+00\n"
          ]
        }
      ]
    },
    {
      "cell_type": "code",
      "source": [
        "# 1. Make predictions on the test data\n",
        "y_pred = model.predict([X_test_numeric, X_test_matrices])"
      ],
      "metadata": {
        "id": "qRLBMw-WCd60",
        "colab": {
          "base_uri": "https://localhost:8080/"
        },
        "outputId": "89ea6fcc-2775-497c-a756-a579dadbff7f"
      },
      "execution_count": 272,
      "outputs": [
        {
          "output_type": "stream",
          "name": "stdout",
          "text": [
            "23/23 [==============================] - 1s 38ms/step\n"
          ]
        }
      ]
    },
    {
      "cell_type": "code",
      "source": [],
      "metadata": {
        "id": "fAgKqs3-KZrc"
      },
      "execution_count": null,
      "outputs": []
    },
    {
      "cell_type": "code",
      "source": [
        "# Reshape y_test_flat and y_pred to 2D arrays so MAE will work\n",
        "y_test_flat_2d = y_test_flat.reshape(-1, y_test_flat.shape[-1])\n",
        "y_pred_2d = y_pred.reshape(-1, y_pred.shape[-1])\n"
      ],
      "metadata": {
        "id": "YMC01vvhJmcJ"
      },
      "execution_count": 269,
      "outputs": []
    },
    {
      "cell_type": "code",
      "source": [
        "# Calculate Mean Absolute Error (MAE)\n",
        "mae = mean_absolute_error(y_test_flat_2d, y_pred_2d)\n",
        "print(\"Mean Absolute Error:\", mae)"
      ],
      "metadata": {
        "colab": {
          "base_uri": "https://localhost:8080/"
        },
        "id": "UNw8CN-IJSrL",
        "outputId": "50f86e67-33b9-4d0b-dec8-be61faa61468"
      },
      "execution_count": 271,
      "outputs": [
        {
          "output_type": "stream",
          "name": "stdout",
          "text": [
            "Mean Absolute Error: 0.10813174824792841\n"
          ]
        }
      ]
    },
    {
      "cell_type": "code",
      "source": [
        "print(\"Shape of y_pred:\", y_pred.shape)"
      ],
      "metadata": {
        "colab": {
          "base_uri": "https://localhost:8080/"
        },
        "id": "7-K6xCR9JH3R",
        "outputId": "1eb89745-2cdf-461a-833c-678a464972a2"
      },
      "execution_count": 261,
      "outputs": [
        {
          "output_type": "stream",
          "name": "stdout",
          "text": [
            "Shape of y_pred: (731, 60, 900)\n"
          ]
        }
      ]
    },
    {
      "cell_type": "code",
      "source": [
        "pred_sum = np.sum(predictions, axis=0)\n",
        "actual_sum = np.sum(y_test, axis=0)\n",
        "train_sum = np.sum(input_matrices, axis=0)\n",
        "plt.subplot(1, 3, 1)\n",
        "plt.imshow(pred_sum)\n",
        "\n",
        "plt.subplot(1, 3, 2)\n",
        "plt.imshow(actual_sum)\n",
        "\n",
        "plt.subplot(1, 3, 3)\n",
        "plt.imshow(train_sum)"
      ],
      "metadata": {
        "id": "_3S3E86ZAzNq"
      },
      "execution_count": null,
      "outputs": []
    },
    {
      "cell_type": "code",
      "source": [
        "from sklearn.metrics import mean_absolute_error\n",
        "mae = mean_absolute_error(y_test, predictions)\n",
        "mae"
      ],
      "metadata": {
        "id": "S9yVZhk0ATbW"
      },
      "execution_count": null,
      "outputs": []
    },
    {
      "cell_type": "markdown",
      "source": [
        "# Evaluating performance of the model\n",
        "Problem: How to evaluate the performance of a neural network that outputs a 30x30 matrix?\n",
        "MSE and MAE are only considering the values in the matrix, not the location of the values.\n",
        "\n",
        "## Potential approach:\n",
        "- Comparing monthly estimates to actual monthly outcomes.\n",
        "- Sum all of the matrices for predicted month and actual month.\n",
        "- Convert summed matrices to 30x30 image.\n",
        "- Calculate the structural similarity index between the actual and predicted images."
      ],
      "metadata": {
        "id": "qKZy-oIvifsK"
      }
    },
    {
      "cell_type": "code",
      "source": [],
      "metadata": {
        "id": "oov4U75xs0QA"
      },
      "execution_count": null,
      "outputs": []
    },
    {
      "cell_type": "code",
      "source": [
        "import numpy as np"
      ],
      "metadata": {
        "id": "lEnLDqsMA1_7"
      },
      "execution_count": null,
      "outputs": []
    },
    {
      "cell_type": "code",
      "source": [
        "m1 = input_matrices[0]\n",
        "m2 = input_matrices[20]\n",
        "m3 = input_matrices[0]\n",
        "for i in input_matrices[1:31]:\n",
        "  m3 += i"
      ],
      "metadata": {
        "id": "qsJm5GTyAYrD"
      },
      "execution_count": null,
      "outputs": []
    },
    {
      "cell_type": "code",
      "source": [
        "print(\"m1\")\n",
        "print(m1)\n",
        "print(\"\\nm2\")\n",
        "print(m2)\n",
        "print()\n",
        "print(m3)"
      ],
      "metadata": {
        "id": "uzOw22fwtnzV"
      },
      "execution_count": null,
      "outputs": []
    },
    {
      "cell_type": "code",
      "source": [
        "from skimage.metrics import structural_similarity as ssim\n",
        "\n",
        "def compare_matrices_ssim(matrix1, matrix2):\n",
        "    \"\"\"\n",
        "    Compare the similarity between two matrices using Structural Similarity Index (SSIM).\n",
        "\n",
        "    Parameters:\n",
        "        matrix1 (numpy.ndarray): First matrix.\n",
        "        matrix2 (numpy.ndarray): Second matrix.\n",
        "\n",
        "    Returns:\n",
        "        float: Structural Similarity Index (SSIM) between the two matrices.\n",
        "    \"\"\"\n",
        "    return ssim(matrix1, matrix2)\n",
        "\n",
        "ssim_value = compare_matrices_ssim(m1, m2)\n",
        "ssim_value"
      ],
      "metadata": {
        "id": "3TuAwYfgBVdP"
      },
      "execution_count": null,
      "outputs": []
    },
    {
      "cell_type": "code",
      "source": [
        "import skimage\n",
        "skimage.data.camera()\n",
        "import numpy as np\n",
        "from matplotlib import pyplot as plt\n",
        "\n",
        "\n",
        "plt.subplot(1, 2, 1)\n",
        "plt.imshow(m1)\n",
        "plt.subplot(1, 2, 2)\n",
        "plt.imshow(m3)\n",
        "plt.title('Matrix 2')\n",
        "\n"
      ],
      "metadata": {
        "id": "D3cq88y_udc9"
      },
      "execution_count": null,
      "outputs": []
    },
    {
      "cell_type": "code",
      "source": [
        "from folium import plugins\n",
        "\n",
        "# Define the boundaries of the image overlay\n",
        "overlay_bounds = [(min_lat, min_long), (max_lat, max_long)]\n",
        "\n",
        "# Create the Folium map\n",
        "m = folium.Map(location=(mean_lat, mean_long), zoom_start=12)\n",
        "\n",
        "# Add the image overlay to the map\n",
        "folium.raster_layers.ImageOverlay(\n",
        "    image=np.array(m3),  # Convert m1 to numpy array\n",
        "    bounds=overlay_bounds,\n",
        "    opacity=0.5,\n",
        ").add_to(m)\n",
        "m"
      ],
      "metadata": {
        "id": "H2d4acRMayl5"
      },
      "execution_count": null,
      "outputs": []
    },
    {
      "cell_type": "code",
      "source": [
        "! pip install folium[plugins]\n"
      ],
      "metadata": {
        "id": "4a6Y5ieobA-_"
      },
      "execution_count": null,
      "outputs": []
    },
    {
      "cell_type": "markdown",
      "source": [],
      "metadata": {
        "id": "gu3rpJaHGiAX"
      }
    }
  ],
  "metadata": {
    "language_info": {
      "name": "python"
    },
    "colab": {
      "provenance": []
    },
    "kernelspec": {
      "name": "python3",
      "display_name": "Python 3"
    }
  },
  "nbformat": 4,
  "nbformat_minor": 0
}