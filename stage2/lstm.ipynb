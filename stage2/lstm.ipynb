{
  "cells": [
    {
      "cell_type": "markdown",
      "source": [
        "# San Francisco Traffic Accident Frequency\n",
        "## Miguel Candido Aurora Peralta\n",
        "### Transformative AI for Residential and Transportation Safety Vertically Integrated Project\n",
        "### Spring 2024 Senior Capstone Project <br><br>\n",
        "\n",
        "# Imports"
      ],
      "metadata": {
        "id": "igUhSeUYHUwb"
      }
    },
    {
      "cell_type": "code",
      "source": [
        "from google.colab import drive\n",
        "\n",
        "import matplotlib.pyplot as plt\n",
        "import numpy as np\n",
        "from datetime import datetime, timedelta\n",
        "import pandas as pd\n",
        "import json\n",
        "import requests\n",
        "\n",
        "import folium\n",
        "\n",
        "from sklearn.preprocessing import MinMaxScaler, OneHotEncoder\n",
        "from sklearn.metrics import mean_squared_error\n",
        "from sklearn.model_selection import train_test_split\n",
        "\n",
        "from keras.models import Model\n",
        "from keras.layers import LSTM, Dense, Input, concatenate, Reshape, Flatten"
      ],
      "metadata": {
        "id": "Po3ve8GnHWdL"
      },
      "execution_count": 1,
      "outputs": []
    },
    {
      "cell_type": "markdown",
      "source": [
        "# Getting data\n",
        "## Traffic Accident Data\n",
        "Data obtained from  SFGov's dataset titled \"Traffic Crashes Resulting in Injury\" from 1/1/2005 to 12/31/2023.\n",
        "\n",
        "About the data, including column descriptions: https://data.sfgov.org/Public-Safety/Traffic-Crashes-Resulting-in-Injury/ubvf-ztfx/about_data"
      ],
      "metadata": {
        "id": "Osj2Rhb1zsnR"
      }
    },
    {
      "cell_type": "code",
      "execution_count": 2,
      "metadata": {
        "id": "8nDUVJiFwlVT",
        "outputId": "a4f0305e-9143-4da3-ee55-a05786514665",
        "colab": {
          "base_uri": "https://localhost:8080/"
        }
      },
      "outputs": [
        {
          "output_type": "stream",
          "name": "stdout",
          "text": [
            "Mounted at /content/gdrive\n"
          ]
        }
      ],
      "source": [
        "drive.mount('/content/gdrive')\n"
      ]
    },
    {
      "cell_type": "code",
      "source": [
        "df=pd.read_csv('gdrive/My Drive/crashes.csv')"
      ],
      "metadata": {
        "colab": {
          "base_uri": "https://localhost:8080/"
        },
        "id": "MKX43B_UrFTh",
        "outputId": "e072e681-e8b6-44b7-9633-2f97b3ea88c6"
      },
      "execution_count": 3,
      "outputs": [
        {
          "output_type": "stream",
          "name": "stderr",
          "text": [
            "<ipython-input-3-01903bcfc559>:1: DtypeWarning: Columns (3,15) have mixed types. Specify dtype option on import or set low_memory=False.\n",
            "  df=pd.read_csv('gdrive/My Drive/crashes.csv')\n"
          ]
        }
      ]
    },
    {
      "cell_type": "markdown",
      "source": [
        "## Weather"
      ],
      "metadata": {
        "id": "rvcSMUgiHdmp"
      }
    },
    {
      "cell_type": "code",
      "source": [
        "# Retrieving daily data for max temp, min temp, average temp, and precipitation\n",
        "def get_weather_data():\n",
        "\n",
        "  # Generate the range of dates\n",
        "  start_date = datetime(2005, 4, 1)\n",
        "  end_date = datetime(2023, 9, 30)\n",
        "  one_day = timedelta(days=1)\n",
        "  date_range = [start_date + timedelta(days=i) for i in range((end_date - start_date).days + 1)]\n",
        "\n",
        "  # Initialize DataFrame\n",
        "  weather_df = pd.DataFrame(index=date_range)\n",
        "\n",
        "  # Codes for max temp, min temp, average temp, and precipitation\n",
        "  elements = {'max_temp':'1', 'min_temp':'2', 'avg_temp':'43', 'precip':'4'}\n",
        "\n",
        "  for key, val in elements.items():\n",
        "    # RCIS API call\n",
        "    url = \"http://data.rcc-acis.org/\"\n",
        "    input_dict = {\n",
        "        \"sid\":\"USW00023272 6\",\n",
        "        \"sdate\":\"2005-04-01\",\n",
        "        \"edate\":\"2023-09-30\",\n",
        "        \"elems\":val,\n",
        "        \"output\":\"json\"}\n",
        "    params = {'params': json.dumps(input_dict)}\n",
        "    headers = {'Accept': 'application/json'}\n",
        "    req = requests.post('http://data.rcc-acis.org/StnData', data=params, headers=headers)\n",
        "    response = req.json()\n",
        "    response_data = [item[1] for item in response['data']]\n",
        "\n",
        "    # Store in dataframe\n",
        "    weather_df[key] = response_data\n",
        "\n",
        "  return weather_df"
      ],
      "metadata": {
        "id": "ugreu5pTHf3X"
      },
      "execution_count": 4,
      "outputs": []
    },
    {
      "cell_type": "code",
      "source": [
        "raw_weather_df = get_weather_data()\n",
        "# Replace \"M\" with NaN\n",
        "raw_weather_df.replace(\"M\", np.nan, inplace=True)\n",
        "\n",
        "# Convert to numeric\n",
        "raw_weather_df = raw_weather_df.apply(pd.to_numeric, errors='ignore')\n",
        "\n",
        "# Impute with the median for each column\n",
        "raw_weather_df.fillna(raw_weather_df.median(), inplace=True)\n",
        "\n",
        "print(raw_weather_df.head())"
      ],
      "metadata": {
        "colab": {
          "base_uri": "https://localhost:8080/"
        },
        "id": "QDGNTwpSJ52J",
        "outputId": "9508cba7-a0e7-436f-a10c-556a87cd04bd"
      },
      "execution_count": 7,
      "outputs": [
        {
          "output_type": "stream",
          "name": "stdout",
          "text": [
            "            max_temp  min_temp  avg_temp  precip\n",
            "2005-04-01      69.0      51.0      60.0    0.00\n",
            "2005-04-02      60.0      50.0      55.0    0.00\n",
            "2005-04-03      59.0      46.0      52.5    0.61\n",
            "2005-04-04      60.0      46.0      53.0    0.01\n",
            "2005-04-05      72.0      47.0      59.5    0.00\n"
          ]
        }
      ]
    },
    {
      "cell_type": "code",
      "source": [],
      "metadata": {
        "id": "9Ej76UDBIqF-"
      },
      "execution_count": null,
      "outputs": []
    },
    {
      "cell_type": "markdown",
      "source": [
        "# Removing unnecessary data and checking datatypes"
      ],
      "metadata": {
        "id": "MBav0UKCzwhU"
      }
    },
    {
      "cell_type": "code",
      "source": [
        "# Selecting necessary columns\n",
        "df = df[[\"collision_datetime\", \"collision_date\", \"accident_year\", \"month\", \"day_of_week\", 'tb_latitude', 'tb_longitude']]"
      ],
      "metadata": {
        "id": "ZxUUS96H_iuG"
      },
      "execution_count": 13,
      "outputs": []
    },
    {
      "cell_type": "code",
      "source": [
        "print(df.info())"
      ],
      "metadata": {
        "colab": {
          "base_uri": "https://localhost:8080/"
        },
        "id": "sXK33VA8_tI_",
        "outputId": "4b8a089a-32a9-4e62-d706-59948f2b38bf"
      },
      "execution_count": 14,
      "outputs": [
        {
          "output_type": "stream",
          "name": "stdout",
          "text": [
            "<class 'pandas.core.frame.DataFrame'>\n",
            "RangeIndex: 58262 entries, 0 to 58261\n",
            "Data columns (total 7 columns):\n",
            " #   Column              Non-Null Count  Dtype  \n",
            "---  ------              --------------  -----  \n",
            " 0   collision_datetime  58262 non-null  object \n",
            " 1   collision_date      58262 non-null  object \n",
            " 2   accident_year       58262 non-null  int64  \n",
            " 3   month               58262 non-null  object \n",
            " 4   day_of_week         58254 non-null  object \n",
            " 5   tb_latitude         58064 non-null  float64\n",
            " 6   tb_longitude        58064 non-null  float64\n",
            "dtypes: float64(2), int64(1), object(4)\n",
            "memory usage: 3.1+ MB\n",
            "None\n"
          ]
        }
      ]
    },
    {
      "cell_type": "code",
      "source": [
        "df.head()"
      ],
      "metadata": {
        "id": "yKnBalw1BBLC",
        "outputId": "bc4e2705-fd4d-4f93-95d7-377636244103",
        "colab": {
          "base_uri": "https://localhost:8080/",
          "height": 206
        }
      },
      "execution_count": 15,
      "outputs": [
        {
          "output_type": "execute_result",
          "data": {
            "text/plain": [
              "       collision_datetime     collision_date  accident_year      month  \\\n",
              "0  12/18/2023 02:15:00 PM   2023 December 18           2023   December   \n",
              "1  01/20/2015 10:07:00 AM    2015 January 20           2015    January   \n",
              "2  04/23/2013 11:26:00 AM      2013 April 23           2013      April   \n",
              "3  08/22/2007 10:30:00 PM     2007 August 22           2007     August   \n",
              "4  09/03/2009 01:35:00 PM  2009 September 03           2009  September   \n",
              "\n",
              "  day_of_week  tb_latitude  tb_longitude  \n",
              "0      Monday    37.743586   -122.463710  \n",
              "1     Tuesday    37.781750   -122.396380  \n",
              "2     Tuesday    37.761830   -122.503878  \n",
              "3   Wednesday    37.783992   -122.408066  \n",
              "4    Thursday    37.785291   -122.424770  "
            ],
            "text/html": [
              "\n",
              "  <div id=\"df-5ad56dd7-1c94-4405-9f48-61e4af36a07b\" class=\"colab-df-container\">\n",
              "    <div>\n",
              "<style scoped>\n",
              "    .dataframe tbody tr th:only-of-type {\n",
              "        vertical-align: middle;\n",
              "    }\n",
              "\n",
              "    .dataframe tbody tr th {\n",
              "        vertical-align: top;\n",
              "    }\n",
              "\n",
              "    .dataframe thead th {\n",
              "        text-align: right;\n",
              "    }\n",
              "</style>\n",
              "<table border=\"1\" class=\"dataframe\">\n",
              "  <thead>\n",
              "    <tr style=\"text-align: right;\">\n",
              "      <th></th>\n",
              "      <th>collision_datetime</th>\n",
              "      <th>collision_date</th>\n",
              "      <th>accident_year</th>\n",
              "      <th>month</th>\n",
              "      <th>day_of_week</th>\n",
              "      <th>tb_latitude</th>\n",
              "      <th>tb_longitude</th>\n",
              "    </tr>\n",
              "  </thead>\n",
              "  <tbody>\n",
              "    <tr>\n",
              "      <th>0</th>\n",
              "      <td>12/18/2023 02:15:00 PM</td>\n",
              "      <td>2023 December 18</td>\n",
              "      <td>2023</td>\n",
              "      <td>December</td>\n",
              "      <td>Monday</td>\n",
              "      <td>37.743586</td>\n",
              "      <td>-122.463710</td>\n",
              "    </tr>\n",
              "    <tr>\n",
              "      <th>1</th>\n",
              "      <td>01/20/2015 10:07:00 AM</td>\n",
              "      <td>2015 January 20</td>\n",
              "      <td>2015</td>\n",
              "      <td>January</td>\n",
              "      <td>Tuesday</td>\n",
              "      <td>37.781750</td>\n",
              "      <td>-122.396380</td>\n",
              "    </tr>\n",
              "    <tr>\n",
              "      <th>2</th>\n",
              "      <td>04/23/2013 11:26:00 AM</td>\n",
              "      <td>2013 April 23</td>\n",
              "      <td>2013</td>\n",
              "      <td>April</td>\n",
              "      <td>Tuesday</td>\n",
              "      <td>37.761830</td>\n",
              "      <td>-122.503878</td>\n",
              "    </tr>\n",
              "    <tr>\n",
              "      <th>3</th>\n",
              "      <td>08/22/2007 10:30:00 PM</td>\n",
              "      <td>2007 August 22</td>\n",
              "      <td>2007</td>\n",
              "      <td>August</td>\n",
              "      <td>Wednesday</td>\n",
              "      <td>37.783992</td>\n",
              "      <td>-122.408066</td>\n",
              "    </tr>\n",
              "    <tr>\n",
              "      <th>4</th>\n",
              "      <td>09/03/2009 01:35:00 PM</td>\n",
              "      <td>2009 September 03</td>\n",
              "      <td>2009</td>\n",
              "      <td>September</td>\n",
              "      <td>Thursday</td>\n",
              "      <td>37.785291</td>\n",
              "      <td>-122.424770</td>\n",
              "    </tr>\n",
              "  </tbody>\n",
              "</table>\n",
              "</div>\n",
              "    <div class=\"colab-df-buttons\">\n",
              "\n",
              "  <div class=\"colab-df-container\">\n",
              "    <button class=\"colab-df-convert\" onclick=\"convertToInteractive('df-5ad56dd7-1c94-4405-9f48-61e4af36a07b')\"\n",
              "            title=\"Convert this dataframe to an interactive table.\"\n",
              "            style=\"display:none;\">\n",
              "\n",
              "  <svg xmlns=\"http://www.w3.org/2000/svg\" height=\"24px\" viewBox=\"0 -960 960 960\">\n",
              "    <path d=\"M120-120v-720h720v720H120Zm60-500h600v-160H180v160Zm220 220h160v-160H400v160Zm0 220h160v-160H400v160ZM180-400h160v-160H180v160Zm440 0h160v-160H620v160ZM180-180h160v-160H180v160Zm440 0h160v-160H620v160Z\"/>\n",
              "  </svg>\n",
              "    </button>\n",
              "\n",
              "  <style>\n",
              "    .colab-df-container {\n",
              "      display:flex;\n",
              "      gap: 12px;\n",
              "    }\n",
              "\n",
              "    .colab-df-convert {\n",
              "      background-color: #E8F0FE;\n",
              "      border: none;\n",
              "      border-radius: 50%;\n",
              "      cursor: pointer;\n",
              "      display: none;\n",
              "      fill: #1967D2;\n",
              "      height: 32px;\n",
              "      padding: 0 0 0 0;\n",
              "      width: 32px;\n",
              "    }\n",
              "\n",
              "    .colab-df-convert:hover {\n",
              "      background-color: #E2EBFA;\n",
              "      box-shadow: 0px 1px 2px rgba(60, 64, 67, 0.3), 0px 1px 3px 1px rgba(60, 64, 67, 0.15);\n",
              "      fill: #174EA6;\n",
              "    }\n",
              "\n",
              "    .colab-df-buttons div {\n",
              "      margin-bottom: 4px;\n",
              "    }\n",
              "\n",
              "    [theme=dark] .colab-df-convert {\n",
              "      background-color: #3B4455;\n",
              "      fill: #D2E3FC;\n",
              "    }\n",
              "\n",
              "    [theme=dark] .colab-df-convert:hover {\n",
              "      background-color: #434B5C;\n",
              "      box-shadow: 0px 1px 3px 1px rgba(0, 0, 0, 0.15);\n",
              "      filter: drop-shadow(0px 1px 2px rgba(0, 0, 0, 0.3));\n",
              "      fill: #FFFFFF;\n",
              "    }\n",
              "  </style>\n",
              "\n",
              "    <script>\n",
              "      const buttonEl =\n",
              "        document.querySelector('#df-5ad56dd7-1c94-4405-9f48-61e4af36a07b button.colab-df-convert');\n",
              "      buttonEl.style.display =\n",
              "        google.colab.kernel.accessAllowed ? 'block' : 'none';\n",
              "\n",
              "      async function convertToInteractive(key) {\n",
              "        const element = document.querySelector('#df-5ad56dd7-1c94-4405-9f48-61e4af36a07b');\n",
              "        const dataTable =\n",
              "          await google.colab.kernel.invokeFunction('convertToInteractive',\n",
              "                                                    [key], {});\n",
              "        if (!dataTable) return;\n",
              "\n",
              "        const docLinkHtml = 'Like what you see? Visit the ' +\n",
              "          '<a target=\"_blank\" href=https://colab.research.google.com/notebooks/data_table.ipynb>data table notebook</a>'\n",
              "          + ' to learn more about interactive tables.';\n",
              "        element.innerHTML = '';\n",
              "        dataTable['output_type'] = 'display_data';\n",
              "        await google.colab.output.renderOutput(dataTable, element);\n",
              "        const docLink = document.createElement('div');\n",
              "        docLink.innerHTML = docLinkHtml;\n",
              "        element.appendChild(docLink);\n",
              "      }\n",
              "    </script>\n",
              "  </div>\n",
              "\n",
              "\n",
              "<div id=\"df-8b211aac-3344-47e7-a30a-81dbfa959364\">\n",
              "  <button class=\"colab-df-quickchart\" onclick=\"quickchart('df-8b211aac-3344-47e7-a30a-81dbfa959364')\"\n",
              "            title=\"Suggest charts\"\n",
              "            style=\"display:none;\">\n",
              "\n",
              "<svg xmlns=\"http://www.w3.org/2000/svg\" height=\"24px\"viewBox=\"0 0 24 24\"\n",
              "     width=\"24px\">\n",
              "    <g>\n",
              "        <path d=\"M19 3H5c-1.1 0-2 .9-2 2v14c0 1.1.9 2 2 2h14c1.1 0 2-.9 2-2V5c0-1.1-.9-2-2-2zM9 17H7v-7h2v7zm4 0h-2V7h2v10zm4 0h-2v-4h2v4z\"/>\n",
              "    </g>\n",
              "</svg>\n",
              "  </button>\n",
              "\n",
              "<style>\n",
              "  .colab-df-quickchart {\n",
              "      --bg-color: #E8F0FE;\n",
              "      --fill-color: #1967D2;\n",
              "      --hover-bg-color: #E2EBFA;\n",
              "      --hover-fill-color: #174EA6;\n",
              "      --disabled-fill-color: #AAA;\n",
              "      --disabled-bg-color: #DDD;\n",
              "  }\n",
              "\n",
              "  [theme=dark] .colab-df-quickchart {\n",
              "      --bg-color: #3B4455;\n",
              "      --fill-color: #D2E3FC;\n",
              "      --hover-bg-color: #434B5C;\n",
              "      --hover-fill-color: #FFFFFF;\n",
              "      --disabled-bg-color: #3B4455;\n",
              "      --disabled-fill-color: #666;\n",
              "  }\n",
              "\n",
              "  .colab-df-quickchart {\n",
              "    background-color: var(--bg-color);\n",
              "    border: none;\n",
              "    border-radius: 50%;\n",
              "    cursor: pointer;\n",
              "    display: none;\n",
              "    fill: var(--fill-color);\n",
              "    height: 32px;\n",
              "    padding: 0;\n",
              "    width: 32px;\n",
              "  }\n",
              "\n",
              "  .colab-df-quickchart:hover {\n",
              "    background-color: var(--hover-bg-color);\n",
              "    box-shadow: 0 1px 2px rgba(60, 64, 67, 0.3), 0 1px 3px 1px rgba(60, 64, 67, 0.15);\n",
              "    fill: var(--button-hover-fill-color);\n",
              "  }\n",
              "\n",
              "  .colab-df-quickchart-complete:disabled,\n",
              "  .colab-df-quickchart-complete:disabled:hover {\n",
              "    background-color: var(--disabled-bg-color);\n",
              "    fill: var(--disabled-fill-color);\n",
              "    box-shadow: none;\n",
              "  }\n",
              "\n",
              "  .colab-df-spinner {\n",
              "    border: 2px solid var(--fill-color);\n",
              "    border-color: transparent;\n",
              "    border-bottom-color: var(--fill-color);\n",
              "    animation:\n",
              "      spin 1s steps(1) infinite;\n",
              "  }\n",
              "\n",
              "  @keyframes spin {\n",
              "    0% {\n",
              "      border-color: transparent;\n",
              "      border-bottom-color: var(--fill-color);\n",
              "      border-left-color: var(--fill-color);\n",
              "    }\n",
              "    20% {\n",
              "      border-color: transparent;\n",
              "      border-left-color: var(--fill-color);\n",
              "      border-top-color: var(--fill-color);\n",
              "    }\n",
              "    30% {\n",
              "      border-color: transparent;\n",
              "      border-left-color: var(--fill-color);\n",
              "      border-top-color: var(--fill-color);\n",
              "      border-right-color: var(--fill-color);\n",
              "    }\n",
              "    40% {\n",
              "      border-color: transparent;\n",
              "      border-right-color: var(--fill-color);\n",
              "      border-top-color: var(--fill-color);\n",
              "    }\n",
              "    60% {\n",
              "      border-color: transparent;\n",
              "      border-right-color: var(--fill-color);\n",
              "    }\n",
              "    80% {\n",
              "      border-color: transparent;\n",
              "      border-right-color: var(--fill-color);\n",
              "      border-bottom-color: var(--fill-color);\n",
              "    }\n",
              "    90% {\n",
              "      border-color: transparent;\n",
              "      border-bottom-color: var(--fill-color);\n",
              "    }\n",
              "  }\n",
              "</style>\n",
              "\n",
              "  <script>\n",
              "    async function quickchart(key) {\n",
              "      const quickchartButtonEl =\n",
              "        document.querySelector('#' + key + ' button');\n",
              "      quickchartButtonEl.disabled = true;  // To prevent multiple clicks.\n",
              "      quickchartButtonEl.classList.add('colab-df-spinner');\n",
              "      try {\n",
              "        const charts = await google.colab.kernel.invokeFunction(\n",
              "            'suggestCharts', [key], {});\n",
              "      } catch (error) {\n",
              "        console.error('Error during call to suggestCharts:', error);\n",
              "      }\n",
              "      quickchartButtonEl.classList.remove('colab-df-spinner');\n",
              "      quickchartButtonEl.classList.add('colab-df-quickchart-complete');\n",
              "    }\n",
              "    (() => {\n",
              "      let quickchartButtonEl =\n",
              "        document.querySelector('#df-8b211aac-3344-47e7-a30a-81dbfa959364 button');\n",
              "      quickchartButtonEl.style.display =\n",
              "        google.colab.kernel.accessAllowed ? 'block' : 'none';\n",
              "    })();\n",
              "  </script>\n",
              "</div>\n",
              "    </div>\n",
              "  </div>\n"
            ],
            "application/vnd.google.colaboratory.intrinsic+json": {
              "type": "dataframe",
              "variable_name": "df",
              "summary": "{\n  \"name\": \"df\",\n  \"rows\": 58262,\n  \"fields\": [\n    {\n      \"column\": \"collision_datetime\",\n      \"properties\": {\n        \"dtype\": \"object\",\n        \"num_unique_values\": 57768,\n        \"samples\": [\n          \"12/20/2023 08:46:00 PM\",\n          \"12/23/2016 08:11:00 PM\",\n          \"02/14/2005 03:28:00 PM\"\n        ],\n        \"semantic_type\": \"\",\n        \"description\": \"\"\n      }\n    },\n    {\n      \"column\": \"collision_date\",\n      \"properties\": {\n        \"dtype\": \"object\",\n        \"num_unique_values\": 6931,\n        \"samples\": [\n          \"2016 November 15\",\n          \"2010 August 09\",\n          \"2012 March 26\"\n        ],\n        \"semantic_type\": \"\",\n        \"description\": \"\"\n      }\n    },\n    {\n      \"column\": \"accident_year\",\n      \"properties\": {\n        \"dtype\": \"number\",\n        \"std\": 5,\n        \"min\": 2005,\n        \"max\": 2023,\n        \"num_unique_values\": 19,\n        \"samples\": [\n          2023,\n          2008,\n          2014\n        ],\n        \"semantic_type\": \"\",\n        \"description\": \"\"\n      }\n    },\n    {\n      \"column\": \"month\",\n      \"properties\": {\n        \"dtype\": \"category\",\n        \"num_unique_values\": 12,\n        \"samples\": [\n          \"February\",\n          \"November\",\n          \"December\"\n        ],\n        \"semantic_type\": \"\",\n        \"description\": \"\"\n      }\n    },\n    {\n      \"column\": \"day_of_week\",\n      \"properties\": {\n        \"dtype\": \"category\",\n        \"num_unique_values\": 7,\n        \"samples\": [\n          \"Monday\",\n          \"Tuesday\",\n          \"Sunday\"\n        ],\n        \"semantic_type\": \"\",\n        \"description\": \"\"\n      }\n    },\n    {\n      \"column\": \"tb_latitude\",\n      \"properties\": {\n        \"dtype\": \"number\",\n        \"std\": 0.024447108005044224,\n        \"min\": 37.70745860301913,\n        \"max\": 37.82999075549999,\n        \"num_unique_values\": 34582,\n        \"samples\": [\n          37.77641425242504,\n          37.76262486009998,\n          37.7270375412312\n        ],\n        \"semantic_type\": \"\",\n        \"description\": \"\"\n      }\n    },\n    {\n      \"column\": \"tb_longitude\",\n      \"properties\": {\n        \"dtype\": \"number\",\n        \"std\": 0.02839180499636907,\n        \"min\": -122.51361620862788,\n        \"max\": -122.3583278940174,\n        \"num_unique_values\": 33231,\n        \"samples\": [\n          -122.46965384900756,\n          -122.40753939391264,\n          -122.4441958561637\n        ],\n        \"semantic_type\": \"\",\n        \"description\": \"\"\n      }\n    }\n  ]\n}"
            }
          },
          "metadata": {},
          "execution_count": 15
        }
      ]
    },
    {
      "cell_type": "code",
      "source": [
        "df[\"collision_datetime\"]"
      ],
      "metadata": {
        "id": "ZDYpYu8mAXiD",
        "outputId": "4c9177fb-fc46-47c3-96ab-84fa368cd6d5",
        "colab": {
          "base_uri": "https://localhost:8080/"
        }
      },
      "execution_count": 16,
      "outputs": [
        {
          "output_type": "execute_result",
          "data": {
            "text/plain": [
              "0        12/18/2023 02:15:00 PM\n",
              "1        01/20/2015 10:07:00 AM\n",
              "2        04/23/2013 11:26:00 AM\n",
              "3        08/22/2007 10:30:00 PM\n",
              "4        09/03/2009 01:35:00 PM\n",
              "                  ...          \n",
              "58257    07/12/2012 11:48:00 AM\n",
              "58258    06/10/2023 11:03:00 PM\n",
              "58259    10/19/2021 08:25:00 PM\n",
              "58260    01/09/2012 08:25:00 AM\n",
              "58261    04/05/2023 07:41:00 AM\n",
              "Name: collision_datetime, Length: 58262, dtype: object"
            ]
          },
          "metadata": {},
          "execution_count": 16
        }
      ]
    },
    {
      "cell_type": "code",
      "source": [
        "# Casting accident year to int\n",
        "df['accident_year'] = df['accident_year'].astype(int)\n",
        "\n",
        "# Casting datetime to datetime object\n",
        "df['collision_datetime'] = pd.to_datetime(df[\"collision_datetime\"],\n",
        "                                          format=\"%m/%d/%Y %I:%M:%S %p\")\n",
        "df['collision_date'] = pd.to_datetime(df[\"collision_datetime\"],\n",
        "                                      format=\"%Y-%m-%d\")\n",
        "\n",
        "# Casting month and day of week to numeric format\n",
        "df['month'] = pd.to_datetime(df['month'], format='%B').dt.month\n",
        "df['day_of_week'] = pd.to_datetime(df['day_of_week'], format='%A').dt.dayofweek\n",
        "\n",
        "# Renaming latitude and longitude columns for convenience\n",
        "df = df.rename(columns={'tb_latitude':'latitude', 'tb_longitude':'longitude'})"
      ],
      "metadata": {
        "id": "OE8pK7fN0d1k"
      },
      "execution_count": 17,
      "outputs": []
    },
    {
      "cell_type": "markdown",
      "source": [
        "I will not be training the model on post-2020 data so that irregular traffic patterns caused by lockdowns in 2020 and 2021 will not affect the overall model."
      ],
      "metadata": {
        "id": "QTGr18a2Dcb7"
      }
    },
    {
      "cell_type": "code",
      "source": [
        "# Graph of accident counts by month over time\n",
        "yearly_counts = df.groupby(by=['accident_year', 'month']).size()\n",
        "print(yearly_counts)\n",
        "yearly_counts.plot(kind='line')"
      ],
      "metadata": {
        "id": "cT3Pgodu0lCQ",
        "outputId": "ff0b8ed4-2032-4c4b-aca2-ece1828c9cce",
        "colab": {
          "base_uri": "https://localhost:8080/",
          "height": 700
        }
      },
      "execution_count": 18,
      "outputs": [
        {
          "output_type": "stream",
          "name": "stdout",
          "text": [
            "accident_year  month\n",
            "2005           1        245\n",
            "               2        224\n",
            "               3        281\n",
            "               4        268\n",
            "               5        299\n",
            "                       ... \n",
            "2023           8        262\n",
            "               9        271\n",
            "               10       293\n",
            "               11       245\n",
            "               12       266\n",
            "Length: 228, dtype: int64\n"
          ]
        },
        {
          "output_type": "execute_result",
          "data": {
            "text/plain": [
              "<Axes: xlabel='accident_year,month'>"
            ]
          },
          "metadata": {},
          "execution_count": 18
        },
        {
          "output_type": "display_data",
          "data": {
            "text/plain": [
              "<Figure size 640x480 with 1 Axes>"
            ],
            "image/png": "[encoded data removed]"
          },
          "metadata": {}
        }
      ]
    },
    {
      "cell_type": "code",
      "source": [
        "# Subsetting data\n",
        "selected_dates = df[df['accident_year'] < 2015].sort_values(by='collision_datetime')"
      ],
      "metadata": {
        "id": "1yst7AtMyS97"
      },
      "execution_count": 19,
      "outputs": []
    },
    {
      "cell_type": "markdown",
      "source": [
        "# Creating map of area where accidents in dataset are occurring"
      ],
      "metadata": {
        "id": "hgUHvCjlwURZ"
      }
    },
    {
      "cell_type": "code",
      "source": [
        "mean_lat = selected_dates['latitude'].mean()\n",
        "mean_long = selected_dates['longitude'].mean()"
      ],
      "metadata": {
        "id": "7wk_LkwSwXT7"
      },
      "execution_count": 20,
      "outputs": []
    },
    {
      "cell_type": "code",
      "source": [
        "min_lat = selected_dates['latitude'].min()-.01\n",
        "max_lat = selected_dates['latitude'].max()+.01\n",
        "print(f\"Minimum latitude: {min_lat}\")\n",
        "print(f\"Maximum latitude: {max_lat}\")\n"
      ],
      "metadata": {
        "id": "uEwTRRCww1uX",
        "outputId": "bc6b4085-0710-40c1-870b-905fd4884b4e",
        "colab": {
          "base_uri": "https://localhost:8080/"
        }
      },
      "execution_count": 21,
      "outputs": [
        {
          "output_type": "stream",
          "name": "stdout",
          "text": [
            "Minimum latitude: 37.69808572900908\n",
            "Maximum latitude: 37.83986189124343\n"
          ]
        }
      ]
    },
    {
      "cell_type": "code",
      "source": [
        "min_long = selected_dates['longitude'].min()-.01\n",
        "max_long = selected_dates['longitude'].max()+.01\n",
        "print(f\"Minimum longitude: {min_long}\")\n",
        "print(f\"Maximum longitude: {max_long}\")\n",
        "\n"
      ],
      "metadata": {
        "id": "fQtkYte3w5er",
        "outputId": "be4bc767-186e-498c-e20b-05b5d4a26b53",
        "colab": {
          "base_uri": "https://localhost:8080/"
        }
      },
      "execution_count": 22,
      "outputs": [
        {
          "output_type": "stream",
          "name": "stdout",
          "text": [
            "Minimum longitude: -122.52361620862789\n",
            "Maximum longitude: -122.3483278940174\n"
          ]
        }
      ]
    },
    {
      "cell_type": "markdown",
      "source": [
        "All possible latitude and longitude values within the city limits should fit in this area. I'll encode the accidents by assigning them to a cell in a square matrix that covers this area."
      ],
      "metadata": {
        "id": "pdNad1eM32LK"
      }
    },
    {
      "cell_type": "code",
      "source": [
        "m = folium.Map(location=(mean_lat, mean_long),\n",
        "               zoom_start=12,\n",
        "               tiles='OpenStreetMap')\n",
        "\n",
        "folium.Marker(\n",
        "    location = [min_lat, min_long]\n",
        ").add_to(m)\n",
        "folium.Marker(\n",
        "    location = [max_lat, max_long]\n",
        ").add_to(m)\n",
        "folium.Marker(\n",
        "    location = [max_lat, min_long]\n",
        ").add_to(m)\n",
        "folium.Marker(\n",
        "    location = [min_lat, max_long]\n",
        ").add_to(m)\n",
        "m"
      ],
      "metadata": {
        "id": "aMET6tSowtS1",
        "outputId": "86c70c3d-0fd0-4e11-cf02-d7e0c75ecce0",
        "colab": {
          "base_uri": "https://localhost:8080/",
          "height": 674
        }
      },
      "execution_count": 23,
      "outputs": [
        {
          "output_type": "execute_result",
          "data": {
            "text/plain": [
              "<folium.folium.Map at 0x7917e6db7790>"
            ],
            "text/html": [
              "<div style=\"width:100%;\"><div style=\"position:relative;width:100%;height:0;padding-bottom:60%;\"><span style=\"color:#565656\">Make this Notebook Trusted to load map: File -> Trust Notebook</span><iframe srcdoc=\"&lt;!DOCTYPE html&gt;\n",
              "&lt;html&gt;\n",
              "&lt;head&gt;\n",
              "    \n",
              "    &lt;meta http-equiv=&quot;content-type&quot; content=&quot;text/html; charset=UTF-8&quot; /&gt;\n",
              "    \n",
              "        &lt;script&gt;\n",
              "            L_NO_TOUCH = false;\n",
              "            L_DISABLE_3D = false;\n",
              "        &lt;/script&gt;\n",
              "    \n",
              "    &lt;style&gt;html, body {width: 100%;height: 100%;margin: 0;padding: 0;}&lt;/style&gt;\n",
              "    &lt;style&gt;#map {position:absolute;top:0;bottom:0;right:0;left:0;}&lt;/style&gt;\n",
              "    &lt;script src=&quot;https://cdn.jsdelivr.net/npm/leaflet@1.9.3/dist/leaflet.js&quot;&gt;&lt;/script&gt;\n",
              "    &lt;script src=&quot;https://code.jquery.com/jquery-1.12.4.min.js&quot;&gt;&lt;/script&gt;\n",
              "    &lt;script src=&quot;https://cdn.jsdelivr.net/npm/bootstrap@5.2.2/dist/js/bootstrap.bundle.min.js&quot;&gt;&lt;/script&gt;\n",
              "    &lt;script src=&quot;https://cdnjs.cloudflare.com/ajax/libs/Leaflet.awesome-markers/2.0.2/leaflet.awesome-markers.js&quot;&gt;&lt;/script&gt;\n",
              "    &lt;link rel=&quot;stylesheet&quot; href=&quot;https://cdn.jsdelivr.net/npm/leaflet@1.9.3/dist/leaflet.css&quot;/&gt;\n",
              "    &lt;link rel=&quot;stylesheet&quot; href=&quot;https://cdn.jsdelivr.net/npm/bootstrap@5.2.2/dist/css/bootstrap.min.css&quot;/&gt;\n",
              "    &lt;link rel=&quot;stylesheet&quot; href=&quot;https://netdna.bootstrapcdn.com/bootstrap/3.0.0/css/bootstrap.min.css&quot;/&gt;\n",
              "    &lt;link rel=&quot;stylesheet&quot; href=&quot;https://cdn.jsdelivr.net/npm/@fortawesome/fontawesome-free@6.2.0/css/all.min.css&quot;/&gt;\n",
              "    &lt;link rel=&quot;stylesheet&quot; href=&quot;https://cdnjs.cloudflare.com/ajax/libs/Leaflet.awesome-markers/2.0.2/leaflet.awesome-markers.css&quot;/&gt;\n",
              "    &lt;link rel=&quot;stylesheet&quot; href=&quot;https://cdn.jsdelivr.net/gh/python-visualization/folium/folium/templates/leaflet.awesome.rotate.min.css&quot;/&gt;\n",
              "    \n",
              "            &lt;meta name=&quot;viewport&quot; content=&quot;width=device-width,\n",
              "                initial-scale=1.0, maximum-scale=1.0, user-scalable=no&quot; /&gt;\n",
              "            &lt;style&gt;\n",
              "                #map_7867328c621a6e3187a3066bfbeebdcf {\n",
              "                    position: relative;\n",
              "                    width: 100.0%;\n",
              "                    height: 100.0%;\n",
              "                    left: 0.0%;\n",
              "                    top: 0.0%;\n",
              "                }\n",
              "                .leaflet-container { font-size: 1rem; }\n",
              "            &lt;/style&gt;\n",
              "        \n",
              "&lt;/head&gt;\n",
              "&lt;body&gt;\n",
              "    \n",
              "    \n",
              "            &lt;div class=&quot;folium-map&quot; id=&quot;map_7867328c621a6e3187a3066bfbeebdcf&quot; &gt;&lt;/div&gt;\n",
              "        \n",
              "&lt;/body&gt;\n",
              "&lt;script&gt;\n",
              "    \n",
              "    \n",
              "            var map_7867328c621a6e3187a3066bfbeebdcf = L.map(\n",
              "                &quot;map_7867328c621a6e3187a3066bfbeebdcf&quot;,\n",
              "                {\n",
              "                    center: [37.76636692822554, -122.4302354829426],\n",
              "                    crs: L.CRS.EPSG3857,\n",
              "                    zoom: 12,\n",
              "                    zoomControl: true,\n",
              "                    preferCanvas: false,\n",
              "                }\n",
              "            );\n",
              "\n",
              "            \n",
              "\n",
              "        \n",
              "    \n",
              "            var tile_layer_1c6f1b9f3ea2ae49ba99725ac0c25782 = L.tileLayer(\n",
              "                &quot;https://{s}.tile.openstreetmap.org/{z}/{x}/{y}.png&quot;,\n",
              "                {&quot;attribution&quot;: &quot;Data by \\u0026copy; \\u003ca target=\\&quot;_blank\\&quot; href=\\&quot;http://openstreetmap.org\\&quot;\\u003eOpenStreetMap\\u003c/a\\u003e, under \\u003ca target=\\&quot;_blank\\&quot; href=\\&quot;http://www.openstreetmap.org/copyright\\&quot;\\u003eODbL\\u003c/a\\u003e.&quot;, &quot;detectRetina&quot;: false, &quot;maxNativeZoom&quot;: 18, &quot;maxZoom&quot;: 18, &quot;minZoom&quot;: 0, &quot;noWrap&quot;: false, &quot;opacity&quot;: 1, &quot;subdomains&quot;: &quot;abc&quot;, &quot;tms&quot;: false}\n",
              "            ).addTo(map_7867328c621a6e3187a3066bfbeebdcf);\n",
              "        \n",
              "    \n",
              "            var marker_44859904b582ad131a72a67d777a2b0e = L.marker(\n",
              "                [37.69808572900908, -122.52361620862789],\n",
              "                {}\n",
              "            ).addTo(map_7867328c621a6e3187a3066bfbeebdcf);\n",
              "        \n",
              "    \n",
              "            var marker_0d1105d3fe27fa92c1f004a304223a4b = L.marker(\n",
              "                [37.83986189124343, -122.3483278940174],\n",
              "                {}\n",
              "            ).addTo(map_7867328c621a6e3187a3066bfbeebdcf);\n",
              "        \n",
              "    \n",
              "            var marker_21ed20347b0815a140b05f1ede3c3d5c = L.marker(\n",
              "                [37.83986189124343, -122.52361620862789],\n",
              "                {}\n",
              "            ).addTo(map_7867328c621a6e3187a3066bfbeebdcf);\n",
              "        \n",
              "    \n",
              "            var marker_b32b42914cb502c08bf8fd2cb74c81ef = L.marker(\n",
              "                [37.69808572900908, -122.3483278940174],\n",
              "                {}\n",
              "            ).addTo(map_7867328c621a6e3187a3066bfbeebdcf);\n",
              "        \n",
              "&lt;/script&gt;\n",
              "&lt;/html&gt;\" style=\"position:absolute;width:100%;height:100%;left:0;top:0;border:none !important;\" allowfullscreen webkitallowfullscreen mozallowfullscreen></iframe></div></div>"
            ]
          },
          "metadata": {},
          "execution_count": 23
        }
      ]
    },
    {
      "cell_type": "code",
      "source": [
        "import numpy as np\n",
        "\n",
        "# Generate 31 equally spaced points within the latitude and longitude ranges (30x30 grid)\n",
        "lat_values = np.linspace(min_lat, max_lat, 31)\n",
        "long_values = np.linspace(min_long, max_long, 31)\n",
        "\n",
        "# Center map\n",
        "mean_lat = np.mean(lat_values)\n",
        "mean_long = np.mean(long_values)\n",
        "m_grid = folium.Map(location=(mean_lat, mean_long), zoom_start=12)\n",
        "\n",
        "# Horizontal grid lines\n",
        "for lat in lat_values:\n",
        "    polyline = [(lat, min_long), (lat, max_long)]\n",
        "    folium.PolyLine(locations=polyline, color='blue', weight = 0.5).add_to(m_grid)\n",
        "\n",
        "# Vertical grid lines\n",
        "for long in long_values:\n",
        "    polyline = [(min_lat, long), (max_lat, long)]\n",
        "    folium.PolyLine(locations=polyline, color='blue', weight = 0.5).add_to(m_grid)\n",
        "\n",
        "m_grid"
      ],
      "metadata": {
        "id": "b1lJ2fTyyuIv",
        "outputId": "adab0ace-a4dc-4dae-99f7-b57dbd76e210",
        "colab": {
          "base_uri": "https://localhost:8080/",
          "height": 674
        }
      },
      "execution_count": 24,
      "outputs": [
        {
          "output_type": "execute_result",
          "data": {
            "text/plain": [
              "<folium.folium.Map at 0x7917e6db6f20>"
            ],
            "text/html": [
              "<div style=\"width:100%;\"><div style=\"position:relative;width:100%;height:0;padding-bottom:60%;\"><span style=\"color:#565656\">Make this Notebook Trusted to load map: File -> Trust Notebook</span><iframe srcdoc=\"&lt;!DOCTYPE html&gt;\n",
              "&lt;html&gt;\n",
              "&lt;head&gt;\n",
              "    \n",
              "    &lt;meta http-equiv=&quot;content-type&quot; content=&quot;text/html; charset=UTF-8&quot; /&gt;\n",
              "    \n",
              "        &lt;script&gt;\n",
              "            L_NO_TOUCH = false;\n",
              "            L_DISABLE_3D = false;\n",
              "        &lt;/script&gt;\n",
              "    \n",
              "    &lt;style&gt;html, body {width: 100%;height: 100%;margin: 0;padding: 0;}&lt;/style&gt;\n",
              "    &lt;style&gt;#map {position:absolute;top:0;bottom:0;right:0;left:0;}&lt;/style&gt;\n",
              "    &lt;script src=&quot;https://cdn.jsdelivr.net/npm/leaflet@1.9.3/dist/leaflet.js&quot;&gt;&lt;/script&gt;\n",
              "    &lt;script src=&quot;https://code.jquery.com/jquery-1.12.4.min.js&quot;&gt;&lt;/script&gt;\n",
              "    &lt;script src=&quot;https://cdn.jsdelivr.net/npm/bootstrap@5.2.2/dist/js/bootstrap.bundle.min.js&quot;&gt;&lt;/script&gt;\n",
              "    &lt;script src=&quot;https://cdnjs.cloudflare.com/ajax/libs/Leaflet.awesome-markers/2.0.2/leaflet.awesome-markers.js&quot;&gt;&lt;/script&gt;\n",
              "    &lt;link rel=&quot;stylesheet&quot; href=&quot;https://cdn.jsdelivr.net/npm/leaflet@1.9.3/dist/leaflet.css&quot;/&gt;\n",
              "    &lt;link rel=&quot;stylesheet&quot; href=&quot;https://cdn.jsdelivr.net/npm/bootstrap@5.2.2/dist/css/bootstrap.min.css&quot;/&gt;\n",
              "    &lt;link rel=&quot;stylesheet&quot; href=&quot;https://netdna.bootstrapcdn.com/bootstrap/3.0.0/css/bootstrap.min.css&quot;/&gt;\n",
              "    &lt;link rel=&quot;stylesheet&quot; href=&quot;https://cdn.jsdelivr.net/npm/@fortawesome/fontawesome-free@6.2.0/css/all.min.css&quot;/&gt;\n",
              "    &lt;link rel=&quot;stylesheet&quot; href=&quot;https://cdnjs.cloudflare.com/ajax/libs/Leaflet.awesome-markers/2.0.2/leaflet.awesome-markers.css&quot;/&gt;\n",
              "    &lt;link rel=&quot;stylesheet&quot; href=&quot;https://cdn.jsdelivr.net/gh/python-visualization/folium/folium/templates/leaflet.awesome.rotate.min.css&quot;/&gt;\n",
              "    \n",
              "            &lt;meta name=&quot;viewport&quot; content=&quot;width=device-width,\n",
              "                initial-scale=1.0, maximum-scale=1.0, user-scalable=no&quot; /&gt;\n",
              "            &lt;style&gt;\n",
              "                #map_21ad680b8750717ca5ae8b3cadcb7d92 {\n",
              "                    position: relative;\n",
              "                    width: 100.0%;\n",
              "                    height: 100.0%;\n",
              "                    left: 0.0%;\n",
              "                    top: 0.0%;\n",
              "                }\n",
              "                .leaflet-container { font-size: 1rem; }\n",
              "            &lt;/style&gt;\n",
              "        \n",
              "&lt;/head&gt;\n",
              "&lt;body&gt;\n",
              "    \n",
              "    \n",
              "            &lt;div class=&quot;folium-map&quot; id=&quot;map_21ad680b8750717ca5ae8b3cadcb7d92&quot; &gt;&lt;/div&gt;\n",
              "        \n",
              "&lt;/body&gt;\n",
              "&lt;script&gt;\n",
              "    \n",
              "    \n",
              "            var map_21ad680b8750717ca5ae8b3cadcb7d92 = L.map(\n",
              "                &quot;map_21ad680b8750717ca5ae8b3cadcb7d92&quot;,\n",
              "                {\n",
              "                    center: [37.76897381012625, -122.43597205132264],\n",
              "                    crs: L.CRS.EPSG3857,\n",
              "                    zoom: 12,\n",
              "                    zoomControl: true,\n",
              "                    preferCanvas: false,\n",
              "                }\n",
              "            );\n",
              "\n",
              "            \n",
              "\n",
              "        \n",
              "    \n",
              "            var tile_layer_d264778e12ae222d55b9447b1ba91cf1 = L.tileLayer(\n",
              "                &quot;https://{s}.tile.openstreetmap.org/{z}/{x}/{y}.png&quot;,\n",
              "                {&quot;attribution&quot;: &quot;Data by \\u0026copy; \\u003ca target=\\&quot;_blank\\&quot; href=\\&quot;http://openstreetmap.org\\&quot;\\u003eOpenStreetMap\\u003c/a\\u003e, under \\u003ca target=\\&quot;_blank\\&quot; href=\\&quot;http://www.openstreetmap.org/copyright\\&quot;\\u003eODbL\\u003c/a\\u003e.&quot;, &quot;detectRetina&quot;: false, &quot;maxNativeZoom&quot;: 18, &quot;maxZoom&quot;: 18, &quot;minZoom&quot;: 0, &quot;noWrap&quot;: false, &quot;opacity&quot;: 1, &quot;subdomains&quot;: &quot;abc&quot;, &quot;tms&quot;: false}\n",
              "            ).addTo(map_21ad680b8750717ca5ae8b3cadcb7d92);\n",
              "        \n",
              "    \n",
              "            var poly_line_d5fe66d4495b4db4aa7214ffdd1091e3 = L.polyline(\n",
              "                [[37.69808572900908, -122.52361620862789], [37.69808572900908, -122.3483278940174]],\n",
              "                {&quot;bubblingMouseEvents&quot;: true, &quot;color&quot;: &quot;blue&quot;, &quot;dashArray&quot;: null, &quot;dashOffset&quot;: null, &quot;fill&quot;: false, &quot;fillColor&quot;: &quot;blue&quot;, &quot;fillOpacity&quot;: 0.2, &quot;fillRule&quot;: &quot;evenodd&quot;, &quot;lineCap&quot;: &quot;round&quot;, &quot;lineJoin&quot;: &quot;round&quot;, &quot;noClip&quot;: false, &quot;opacity&quot;: 1.0, &quot;smoothFactor&quot;: 1.0, &quot;stroke&quot;: true, &quot;weight&quot;: 0.5}\n",
              "            ).addTo(map_21ad680b8750717ca5ae8b3cadcb7d92);\n",
              "        \n",
              "    \n",
              "            var poly_line_1181b4fbfcb02f3add88a9557af8dc2f = L.polyline(\n",
              "                [[37.70281160108356, -122.52361620862789], [37.70281160108356, -122.3483278940174]],\n",
              "                {&quot;bubblingMouseEvents&quot;: true, &quot;color&quot;: &quot;blue&quot;, &quot;dashArray&quot;: null, &quot;dashOffset&quot;: null, &quot;fill&quot;: false, &quot;fillColor&quot;: &quot;blue&quot;, &quot;fillOpacity&quot;: 0.2, &quot;fillRule&quot;: &quot;evenodd&quot;, &quot;lineCap&quot;: &quot;round&quot;, &quot;lineJoin&quot;: &quot;round&quot;, &quot;noClip&quot;: false, &quot;opacity&quot;: 1.0, &quot;smoothFactor&quot;: 1.0, &quot;stroke&quot;: true, &quot;weight&quot;: 0.5}\n",
              "            ).addTo(map_21ad680b8750717ca5ae8b3cadcb7d92);\n",
              "        \n",
              "    \n",
              "            var poly_line_7a0d11561f45c15e602e820c52151322 = L.polyline(\n",
              "                [[37.707537473158034, -122.52361620862789], [37.707537473158034, -122.3483278940174]],\n",
              "                {&quot;bubblingMouseEvents&quot;: true, &quot;color&quot;: &quot;blue&quot;, &quot;dashArray&quot;: null, &quot;dashOffset&quot;: null, &quot;fill&quot;: false, &quot;fillColor&quot;: &quot;blue&quot;, &quot;fillOpacity&quot;: 0.2, &quot;fillRule&quot;: &quot;evenodd&quot;, &quot;lineCap&quot;: &quot;round&quot;, &quot;lineJoin&quot;: &quot;round&quot;, &quot;noClip&quot;: false, &quot;opacity&quot;: 1.0, &quot;smoothFactor&quot;: 1.0, &quot;stroke&quot;: true, &quot;weight&quot;: 0.5}\n",
              "            ).addTo(map_21ad680b8750717ca5ae8b3cadcb7d92);\n",
              "        \n",
              "    \n",
              "            var poly_line_1563658971bed7bd448608838c5e2ee4 = L.polyline(\n",
              "                [[37.712263345232515, -122.52361620862789], [37.712263345232515, -122.3483278940174]],\n",
              "                {&quot;bubblingMouseEvents&quot;: true, &quot;color&quot;: &quot;blue&quot;, &quot;dashArray&quot;: null, &quot;dashOffset&quot;: null, &quot;fill&quot;: false, &quot;fillColor&quot;: &quot;blue&quot;, &quot;fillOpacity&quot;: 0.2, &quot;fillRule&quot;: &quot;evenodd&quot;, &quot;lineCap&quot;: &quot;round&quot;, &quot;lineJoin&quot;: &quot;round&quot;, &quot;noClip&quot;: false, &quot;opacity&quot;: 1.0, &quot;smoothFactor&quot;: 1.0, &quot;stroke&quot;: true, &quot;weight&quot;: 0.5}\n",
              "            ).addTo(map_21ad680b8750717ca5ae8b3cadcb7d92);\n",
              "        \n",
              "    \n",
              "            var poly_line_5b36e16247ec36179d47394a6630c026 = L.polyline(\n",
              "                [[37.716989217306995, -122.52361620862789], [37.716989217306995, -122.3483278940174]],\n",
              "                {&quot;bubblingMouseEvents&quot;: true, &quot;color&quot;: &quot;blue&quot;, &quot;dashArray&quot;: null, &quot;dashOffset&quot;: null, &quot;fill&quot;: false, &quot;fillColor&quot;: &quot;blue&quot;, &quot;fillOpacity&quot;: 0.2, &quot;fillRule&quot;: &quot;evenodd&quot;, &quot;lineCap&quot;: &quot;round&quot;, &quot;lineJoin&quot;: &quot;round&quot;, &quot;noClip&quot;: false, &quot;opacity&quot;: 1.0, &quot;smoothFactor&quot;: 1.0, &quot;stroke&quot;: true, &quot;weight&quot;: 0.5}\n",
              "            ).addTo(map_21ad680b8750717ca5ae8b3cadcb7d92);\n",
              "        \n",
              "    \n",
              "            var poly_line_d64e370b776207d93f496b72324f85e1 = L.polyline(\n",
              "                [[37.72171508938147, -122.52361620862789], [37.72171508938147, -122.3483278940174]],\n",
              "                {&quot;bubblingMouseEvents&quot;: true, &quot;color&quot;: &quot;blue&quot;, &quot;dashArray&quot;: null, &quot;dashOffset&quot;: null, &quot;fill&quot;: false, &quot;fillColor&quot;: &quot;blue&quot;, &quot;fillOpacity&quot;: 0.2, &quot;fillRule&quot;: &quot;evenodd&quot;, &quot;lineCap&quot;: &quot;round&quot;, &quot;lineJoin&quot;: &quot;round&quot;, &quot;noClip&quot;: false, &quot;opacity&quot;: 1.0, &quot;smoothFactor&quot;: 1.0, &quot;stroke&quot;: true, &quot;weight&quot;: 0.5}\n",
              "            ).addTo(map_21ad680b8750717ca5ae8b3cadcb7d92);\n",
              "        \n",
              "    \n",
              "            var poly_line_86e1eb9e797b4046eeda9e7caa1f55b5 = L.polyline(\n",
              "                [[37.72644096145595, -122.52361620862789], [37.72644096145595, -122.3483278940174]],\n",
              "                {&quot;bubblingMouseEvents&quot;: true, &quot;color&quot;: &quot;blue&quot;, &quot;dashArray&quot;: null, &quot;dashOffset&quot;: null, &quot;fill&quot;: false, &quot;fillColor&quot;: &quot;blue&quot;, &quot;fillOpacity&quot;: 0.2, &quot;fillRule&quot;: &quot;evenodd&quot;, &quot;lineCap&quot;: &quot;round&quot;, &quot;lineJoin&quot;: &quot;round&quot;, &quot;noClip&quot;: false, &quot;opacity&quot;: 1.0, &quot;smoothFactor&quot;: 1.0, &quot;stroke&quot;: true, &quot;weight&quot;: 0.5}\n",
              "            ).addTo(map_21ad680b8750717ca5ae8b3cadcb7d92);\n",
              "        \n",
              "    \n",
              "            var poly_line_92e438eaa48cdd7bb5fc5fd2ce124bf7 = L.polyline(\n",
              "                [[37.73116683353043, -122.52361620862789], [37.73116683353043, -122.3483278940174]],\n",
              "                {&quot;bubblingMouseEvents&quot;: true, &quot;color&quot;: &quot;blue&quot;, &quot;dashArray&quot;: null, &quot;dashOffset&quot;: null, &quot;fill&quot;: false, &quot;fillColor&quot;: &quot;blue&quot;, &quot;fillOpacity&quot;: 0.2, &quot;fillRule&quot;: &quot;evenodd&quot;, &quot;lineCap&quot;: &quot;round&quot;, &quot;lineJoin&quot;: &quot;round&quot;, &quot;noClip&quot;: false, &quot;opacity&quot;: 1.0, &quot;smoothFactor&quot;: 1.0, &quot;stroke&quot;: true, &quot;weight&quot;: 0.5}\n",
              "            ).addTo(map_21ad680b8750717ca5ae8b3cadcb7d92);\n",
              "        \n",
              "    \n",
              "            var poly_line_bfdc09fb73de978f42cb74b097e0da75 = L.polyline(\n",
              "                [[37.735892705604904, -122.52361620862789], [37.735892705604904, -122.3483278940174]],\n",
              "                {&quot;bubblingMouseEvents&quot;: true, &quot;color&quot;: &quot;blue&quot;, &quot;dashArray&quot;: null, &quot;dashOffset&quot;: null, &quot;fill&quot;: false, &quot;fillColor&quot;: &quot;blue&quot;, &quot;fillOpacity&quot;: 0.2, &quot;fillRule&quot;: &quot;evenodd&quot;, &quot;lineCap&quot;: &quot;round&quot;, &quot;lineJoin&quot;: &quot;round&quot;, &quot;noClip&quot;: false, &quot;opacity&quot;: 1.0, &quot;smoothFactor&quot;: 1.0, &quot;stroke&quot;: true, &quot;weight&quot;: 0.5}\n",
              "            ).addTo(map_21ad680b8750717ca5ae8b3cadcb7d92);\n",
              "        \n",
              "    \n",
              "            var poly_line_4172c009878c33e128f8453498ce2c5d = L.polyline(\n",
              "                [[37.740618577679385, -122.52361620862789], [37.740618577679385, -122.3483278940174]],\n",
              "                {&quot;bubblingMouseEvents&quot;: true, &quot;color&quot;: &quot;blue&quot;, &quot;dashArray&quot;: null, &quot;dashOffset&quot;: null, &quot;fill&quot;: false, &quot;fillColor&quot;: &quot;blue&quot;, &quot;fillOpacity&quot;: 0.2, &quot;fillRule&quot;: &quot;evenodd&quot;, &quot;lineCap&quot;: &quot;round&quot;, &quot;lineJoin&quot;: &quot;round&quot;, &quot;noClip&quot;: false, &quot;opacity&quot;: 1.0, &quot;smoothFactor&quot;: 1.0, &quot;stroke&quot;: true, &quot;weight&quot;: 0.5}\n",
              "            ).addTo(map_21ad680b8750717ca5ae8b3cadcb7d92);\n",
              "        \n",
              "    \n",
              "            var poly_line_d755ee5f7172e34639b056dc589d9e90 = L.polyline(\n",
              "                [[37.745344449753865, -122.52361620862789], [37.745344449753865, -122.3483278940174]],\n",
              "                {&quot;bubblingMouseEvents&quot;: true, &quot;color&quot;: &quot;blue&quot;, &quot;dashArray&quot;: null, &quot;dashOffset&quot;: null, &quot;fill&quot;: false, &quot;fillColor&quot;: &quot;blue&quot;, &quot;fillOpacity&quot;: 0.2, &quot;fillRule&quot;: &quot;evenodd&quot;, &quot;lineCap&quot;: &quot;round&quot;, &quot;lineJoin&quot;: &quot;round&quot;, &quot;noClip&quot;: false, &quot;opacity&quot;: 1.0, &quot;smoothFactor&quot;: 1.0, &quot;stroke&quot;: true, &quot;weight&quot;: 0.5}\n",
              "            ).addTo(map_21ad680b8750717ca5ae8b3cadcb7d92);\n",
              "        \n",
              "    \n",
              "            var poly_line_e768009fad9930e0d20d3a076d522083 = L.polyline(\n",
              "                [[37.75007032182834, -122.52361620862789], [37.75007032182834, -122.3483278940174]],\n",
              "                {&quot;bubblingMouseEvents&quot;: true, &quot;color&quot;: &quot;blue&quot;, &quot;dashArray&quot;: null, &quot;dashOffset&quot;: null, &quot;fill&quot;: false, &quot;fillColor&quot;: &quot;blue&quot;, &quot;fillOpacity&quot;: 0.2, &quot;fillRule&quot;: &quot;evenodd&quot;, &quot;lineCap&quot;: &quot;round&quot;, &quot;lineJoin&quot;: &quot;round&quot;, &quot;noClip&quot;: false, &quot;opacity&quot;: 1.0, &quot;smoothFactor&quot;: 1.0, &quot;stroke&quot;: true, &quot;weight&quot;: 0.5}\n",
              "            ).addTo(map_21ad680b8750717ca5ae8b3cadcb7d92);\n",
              "        \n",
              "    \n",
              "            var poly_line_a462786c55a0c5699ab37ffdd2880634 = L.polyline(\n",
              "                [[37.75479619390282, -122.52361620862789], [37.75479619390282, -122.3483278940174]],\n",
              "                {&quot;bubblingMouseEvents&quot;: true, &quot;color&quot;: &quot;blue&quot;, &quot;dashArray&quot;: null, &quot;dashOffset&quot;: null, &quot;fill&quot;: false, &quot;fillColor&quot;: &quot;blue&quot;, &quot;fillOpacity&quot;: 0.2, &quot;fillRule&quot;: &quot;evenodd&quot;, &quot;lineCap&quot;: &quot;round&quot;, &quot;lineJoin&quot;: &quot;round&quot;, &quot;noClip&quot;: false, &quot;opacity&quot;: 1.0, &quot;smoothFactor&quot;: 1.0, &quot;stroke&quot;: true, &quot;weight&quot;: 0.5}\n",
              "            ).addTo(map_21ad680b8750717ca5ae8b3cadcb7d92);\n",
              "        \n",
              "    \n",
              "            var poly_line_8fbb3125d63e1f208b2b9850ec81f752 = L.polyline(\n",
              "                [[37.7595220659773, -122.52361620862789], [37.7595220659773, -122.3483278940174]],\n",
              "                {&quot;bubblingMouseEvents&quot;: true, &quot;color&quot;: &quot;blue&quot;, &quot;dashArray&quot;: null, &quot;dashOffset&quot;: null, &quot;fill&quot;: false, &quot;fillColor&quot;: &quot;blue&quot;, &quot;fillOpacity&quot;: 0.2, &quot;fillRule&quot;: &quot;evenodd&quot;, &quot;lineCap&quot;: &quot;round&quot;, &quot;lineJoin&quot;: &quot;round&quot;, &quot;noClip&quot;: false, &quot;opacity&quot;: 1.0, &quot;smoothFactor&quot;: 1.0, &quot;stroke&quot;: true, &quot;weight&quot;: 0.5}\n",
              "            ).addTo(map_21ad680b8750717ca5ae8b3cadcb7d92);\n",
              "        \n",
              "    \n",
              "            var poly_line_330944640c8d13b2630a2c02b4897f1a = L.polyline(\n",
              "                [[37.764247938051774, -122.52361620862789], [37.764247938051774, -122.3483278940174]],\n",
              "                {&quot;bubblingMouseEvents&quot;: true, &quot;color&quot;: &quot;blue&quot;, &quot;dashArray&quot;: null, &quot;dashOffset&quot;: null, &quot;fill&quot;: false, &quot;fillColor&quot;: &quot;blue&quot;, &quot;fillOpacity&quot;: 0.2, &quot;fillRule&quot;: &quot;evenodd&quot;, &quot;lineCap&quot;: &quot;round&quot;, &quot;lineJoin&quot;: &quot;round&quot;, &quot;noClip&quot;: false, &quot;opacity&quot;: 1.0, &quot;smoothFactor&quot;: 1.0, &quot;stroke&quot;: true, &quot;weight&quot;: 0.5}\n",
              "            ).addTo(map_21ad680b8750717ca5ae8b3cadcb7d92);\n",
              "        \n",
              "    \n",
              "            var poly_line_6b8b7f71407259c2fde0c695ffa46ccb = L.polyline(\n",
              "                [[37.768973810126255, -122.52361620862789], [37.768973810126255, -122.3483278940174]],\n",
              "                {&quot;bubblingMouseEvents&quot;: true, &quot;color&quot;: &quot;blue&quot;, &quot;dashArray&quot;: null, &quot;dashOffset&quot;: null, &quot;fill&quot;: false, &quot;fillColor&quot;: &quot;blue&quot;, &quot;fillOpacity&quot;: 0.2, &quot;fillRule&quot;: &quot;evenodd&quot;, &quot;lineCap&quot;: &quot;round&quot;, &quot;lineJoin&quot;: &quot;round&quot;, &quot;noClip&quot;: false, &quot;opacity&quot;: 1.0, &quot;smoothFactor&quot;: 1.0, &quot;stroke&quot;: true, &quot;weight&quot;: 0.5}\n",
              "            ).addTo(map_21ad680b8750717ca5ae8b3cadcb7d92);\n",
              "        \n",
              "    \n",
              "            var poly_line_2ae8216292639a3fd94e107a10a53764 = L.polyline(\n",
              "                [[37.773699682200736, -122.52361620862789], [37.773699682200736, -122.3483278940174]],\n",
              "                {&quot;bubblingMouseEvents&quot;: true, &quot;color&quot;: &quot;blue&quot;, &quot;dashArray&quot;: null, &quot;dashOffset&quot;: null, &quot;fill&quot;: false, &quot;fillColor&quot;: &quot;blue&quot;, &quot;fillOpacity&quot;: 0.2, &quot;fillRule&quot;: &quot;evenodd&quot;, &quot;lineCap&quot;: &quot;round&quot;, &quot;lineJoin&quot;: &quot;round&quot;, &quot;noClip&quot;: false, &quot;opacity&quot;: 1.0, &quot;smoothFactor&quot;: 1.0, &quot;stroke&quot;: true, &quot;weight&quot;: 0.5}\n",
              "            ).addTo(map_21ad680b8750717ca5ae8b3cadcb7d92);\n",
              "        \n",
              "    \n",
              "            var poly_line_faac370ed6932447cd50fe00b2c8b50b = L.polyline(\n",
              "                [[37.77842555427521, -122.52361620862789], [37.77842555427521, -122.3483278940174]],\n",
              "                {&quot;bubblingMouseEvents&quot;: true, &quot;color&quot;: &quot;blue&quot;, &quot;dashArray&quot;: null, &quot;dashOffset&quot;: null, &quot;fill&quot;: false, &quot;fillColor&quot;: &quot;blue&quot;, &quot;fillOpacity&quot;: 0.2, &quot;fillRule&quot;: &quot;evenodd&quot;, &quot;lineCap&quot;: &quot;round&quot;, &quot;lineJoin&quot;: &quot;round&quot;, &quot;noClip&quot;: false, &quot;opacity&quot;: 1.0, &quot;smoothFactor&quot;: 1.0, &quot;stroke&quot;: true, &quot;weight&quot;: 0.5}\n",
              "            ).addTo(map_21ad680b8750717ca5ae8b3cadcb7d92);\n",
              "        \n",
              "    \n",
              "            var poly_line_8b1fb71acae3d41988a81bb54177eda8 = L.polyline(\n",
              "                [[37.78315142634969, -122.52361620862789], [37.78315142634969, -122.3483278940174]],\n",
              "                {&quot;bubblingMouseEvents&quot;: true, &quot;color&quot;: &quot;blue&quot;, &quot;dashArray&quot;: null, &quot;dashOffset&quot;: null, &quot;fill&quot;: false, &quot;fillColor&quot;: &quot;blue&quot;, &quot;fillOpacity&quot;: 0.2, &quot;fillRule&quot;: &quot;evenodd&quot;, &quot;lineCap&quot;: &quot;round&quot;, &quot;lineJoin&quot;: &quot;round&quot;, &quot;noClip&quot;: false, &quot;opacity&quot;: 1.0, &quot;smoothFactor&quot;: 1.0, &quot;stroke&quot;: true, &quot;weight&quot;: 0.5}\n",
              "            ).addTo(map_21ad680b8750717ca5ae8b3cadcb7d92);\n",
              "        \n",
              "    \n",
              "            var poly_line_029bc54adea81394e9f3df13703115b1 = L.polyline(\n",
              "                [[37.78787729842417, -122.52361620862789], [37.78787729842417, -122.3483278940174]],\n",
              "                {&quot;bubblingMouseEvents&quot;: true, &quot;color&quot;: &quot;blue&quot;, &quot;dashArray&quot;: null, &quot;dashOffset&quot;: null, &quot;fill&quot;: false, &quot;fillColor&quot;: &quot;blue&quot;, &quot;fillOpacity&quot;: 0.2, &quot;fillRule&quot;: &quot;evenodd&quot;, &quot;lineCap&quot;: &quot;round&quot;, &quot;lineJoin&quot;: &quot;round&quot;, &quot;noClip&quot;: false, &quot;opacity&quot;: 1.0, &quot;smoothFactor&quot;: 1.0, &quot;stroke&quot;: true, &quot;weight&quot;: 0.5}\n",
              "            ).addTo(map_21ad680b8750717ca5ae8b3cadcb7d92);\n",
              "        \n",
              "    \n",
              "            var poly_line_8ddfef6b8fcabc7441e7abbcbf7ad22f = L.polyline(\n",
              "                [[37.792603170498644, -122.52361620862789], [37.792603170498644, -122.3483278940174]],\n",
              "                {&quot;bubblingMouseEvents&quot;: true, &quot;color&quot;: &quot;blue&quot;, &quot;dashArray&quot;: null, &quot;dashOffset&quot;: null, &quot;fill&quot;: false, &quot;fillColor&quot;: &quot;blue&quot;, &quot;fillOpacity&quot;: 0.2, &quot;fillRule&quot;: &quot;evenodd&quot;, &quot;lineCap&quot;: &quot;round&quot;, &quot;lineJoin&quot;: &quot;round&quot;, &quot;noClip&quot;: false, &quot;opacity&quot;: 1.0, &quot;smoothFactor&quot;: 1.0, &quot;stroke&quot;: true, &quot;weight&quot;: 0.5}\n",
              "            ).addTo(map_21ad680b8750717ca5ae8b3cadcb7d92);\n",
              "        \n",
              "    \n",
              "            var poly_line_2d6f62d975d89b500d967271cffe245a = L.polyline(\n",
              "                [[37.797329042573125, -122.52361620862789], [37.797329042573125, -122.3483278940174]],\n",
              "                {&quot;bubblingMouseEvents&quot;: true, &quot;color&quot;: &quot;blue&quot;, &quot;dashArray&quot;: null, &quot;dashOffset&quot;: null, &quot;fill&quot;: false, &quot;fillColor&quot;: &quot;blue&quot;, &quot;fillOpacity&quot;: 0.2, &quot;fillRule&quot;: &quot;evenodd&quot;, &quot;lineCap&quot;: &quot;round&quot;, &quot;lineJoin&quot;: &quot;round&quot;, &quot;noClip&quot;: false, &quot;opacity&quot;: 1.0, &quot;smoothFactor&quot;: 1.0, &quot;stroke&quot;: true, &quot;weight&quot;: 0.5}\n",
              "            ).addTo(map_21ad680b8750717ca5ae8b3cadcb7d92);\n",
              "        \n",
              "    \n",
              "            var poly_line_22d688d4f9fd8189bd0d3d5e6b9aeef4 = L.polyline(\n",
              "                [[37.802054914647606, -122.52361620862789], [37.802054914647606, -122.3483278940174]],\n",
              "                {&quot;bubblingMouseEvents&quot;: true, &quot;color&quot;: &quot;blue&quot;, &quot;dashArray&quot;: null, &quot;dashOffset&quot;: null, &quot;fill&quot;: false, &quot;fillColor&quot;: &quot;blue&quot;, &quot;fillOpacity&quot;: 0.2, &quot;fillRule&quot;: &quot;evenodd&quot;, &quot;lineCap&quot;: &quot;round&quot;, &quot;lineJoin&quot;: &quot;round&quot;, &quot;noClip&quot;: false, &quot;opacity&quot;: 1.0, &quot;smoothFactor&quot;: 1.0, &quot;stroke&quot;: true, &quot;weight&quot;: 0.5}\n",
              "            ).addTo(map_21ad680b8750717ca5ae8b3cadcb7d92);\n",
              "        \n",
              "    \n",
              "            var poly_line_c123812ecb099940accb052363d95935 = L.polyline(\n",
              "                [[37.80678078672208, -122.52361620862789], [37.80678078672208, -122.3483278940174]],\n",
              "                {&quot;bubblingMouseEvents&quot;: true, &quot;color&quot;: &quot;blue&quot;, &quot;dashArray&quot;: null, &quot;dashOffset&quot;: null, &quot;fill&quot;: false, &quot;fillColor&quot;: &quot;blue&quot;, &quot;fillOpacity&quot;: 0.2, &quot;fillRule&quot;: &quot;evenodd&quot;, &quot;lineCap&quot;: &quot;round&quot;, &quot;lineJoin&quot;: &quot;round&quot;, &quot;noClip&quot;: false, &quot;opacity&quot;: 1.0, &quot;smoothFactor&quot;: 1.0, &quot;stroke&quot;: true, &quot;weight&quot;: 0.5}\n",
              "            ).addTo(map_21ad680b8750717ca5ae8b3cadcb7d92);\n",
              "        \n",
              "    \n",
              "            var poly_line_35b07e01700e809967dc76ca992008a5 = L.polyline(\n",
              "                [[37.81150665879656, -122.52361620862789], [37.81150665879656, -122.3483278940174]],\n",
              "                {&quot;bubblingMouseEvents&quot;: true, &quot;color&quot;: &quot;blue&quot;, &quot;dashArray&quot;: null, &quot;dashOffset&quot;: null, &quot;fill&quot;: false, &quot;fillColor&quot;: &quot;blue&quot;, &quot;fillOpacity&quot;: 0.2, &quot;fillRule&quot;: &quot;evenodd&quot;, &quot;lineCap&quot;: &quot;round&quot;, &quot;lineJoin&quot;: &quot;round&quot;, &quot;noClip&quot;: false, &quot;opacity&quot;: 1.0, &quot;smoothFactor&quot;: 1.0, &quot;stroke&quot;: true, &quot;weight&quot;: 0.5}\n",
              "            ).addTo(map_21ad680b8750717ca5ae8b3cadcb7d92);\n",
              "        \n",
              "    \n",
              "            var poly_line_6ef6d35aa6b0186e7c87f751d9842f69 = L.polyline(\n",
              "                [[37.81623253087104, -122.52361620862789], [37.81623253087104, -122.3483278940174]],\n",
              "                {&quot;bubblingMouseEvents&quot;: true, &quot;color&quot;: &quot;blue&quot;, &quot;dashArray&quot;: null, &quot;dashOffset&quot;: null, &quot;fill&quot;: false, &quot;fillColor&quot;: &quot;blue&quot;, &quot;fillOpacity&quot;: 0.2, &quot;fillRule&quot;: &quot;evenodd&quot;, &quot;lineCap&quot;: &quot;round&quot;, &quot;lineJoin&quot;: &quot;round&quot;, &quot;noClip&quot;: false, &quot;opacity&quot;: 1.0, &quot;smoothFactor&quot;: 1.0, &quot;stroke&quot;: true, &quot;weight&quot;: 0.5}\n",
              "            ).addTo(map_21ad680b8750717ca5ae8b3cadcb7d92);\n",
              "        \n",
              "    \n",
              "            var poly_line_c7bd0281bed3410e8f4482ed7e52006e = L.polyline(\n",
              "                [[37.820958402945514, -122.52361620862789], [37.820958402945514, -122.3483278940174]],\n",
              "                {&quot;bubblingMouseEvents&quot;: true, &quot;color&quot;: &quot;blue&quot;, &quot;dashArray&quot;: null, &quot;dashOffset&quot;: null, &quot;fill&quot;: false, &quot;fillColor&quot;: &quot;blue&quot;, &quot;fillOpacity&quot;: 0.2, &quot;fillRule&quot;: &quot;evenodd&quot;, &quot;lineCap&quot;: &quot;round&quot;, &quot;lineJoin&quot;: &quot;round&quot;, &quot;noClip&quot;: false, &quot;opacity&quot;: 1.0, &quot;smoothFactor&quot;: 1.0, &quot;stroke&quot;: true, &quot;weight&quot;: 0.5}\n",
              "            ).addTo(map_21ad680b8750717ca5ae8b3cadcb7d92);\n",
              "        \n",
              "    \n",
              "            var poly_line_06d801b8a128b3c8d9c56e3bdbcfdaba = L.polyline(\n",
              "                [[37.825684275019995, -122.52361620862789], [37.825684275019995, -122.3483278940174]],\n",
              "                {&quot;bubblingMouseEvents&quot;: true, &quot;color&quot;: &quot;blue&quot;, &quot;dashArray&quot;: null, &quot;dashOffset&quot;: null, &quot;fill&quot;: false, &quot;fillColor&quot;: &quot;blue&quot;, &quot;fillOpacity&quot;: 0.2, &quot;fillRule&quot;: &quot;evenodd&quot;, &quot;lineCap&quot;: &quot;round&quot;, &quot;lineJoin&quot;: &quot;round&quot;, &quot;noClip&quot;: false, &quot;opacity&quot;: 1.0, &quot;smoothFactor&quot;: 1.0, &quot;stroke&quot;: true, &quot;weight&quot;: 0.5}\n",
              "            ).addTo(map_21ad680b8750717ca5ae8b3cadcb7d92);\n",
              "        \n",
              "    \n",
              "            var poly_line_96edfa6c3ac17c999ab01b2c00c25db2 = L.polyline(\n",
              "                [[37.830410147094476, -122.52361620862789], [37.830410147094476, -122.3483278940174]],\n",
              "                {&quot;bubblingMouseEvents&quot;: true, &quot;color&quot;: &quot;blue&quot;, &quot;dashArray&quot;: null, &quot;dashOffset&quot;: null, &quot;fill&quot;: false, &quot;fillColor&quot;: &quot;blue&quot;, &quot;fillOpacity&quot;: 0.2, &quot;fillRule&quot;: &quot;evenodd&quot;, &quot;lineCap&quot;: &quot;round&quot;, &quot;lineJoin&quot;: &quot;round&quot;, &quot;noClip&quot;: false, &quot;opacity&quot;: 1.0, &quot;smoothFactor&quot;: 1.0, &quot;stroke&quot;: true, &quot;weight&quot;: 0.5}\n",
              "            ).addTo(map_21ad680b8750717ca5ae8b3cadcb7d92);\n",
              "        \n",
              "    \n",
              "            var poly_line_bdfb1f3560d5bb381ecd4301222fd651 = L.polyline(\n",
              "                [[37.83513601916895, -122.52361620862789], [37.83513601916895, -122.3483278940174]],\n",
              "                {&quot;bubblingMouseEvents&quot;: true, &quot;color&quot;: &quot;blue&quot;, &quot;dashArray&quot;: null, &quot;dashOffset&quot;: null, &quot;fill&quot;: false, &quot;fillColor&quot;: &quot;blue&quot;, &quot;fillOpacity&quot;: 0.2, &quot;fillRule&quot;: &quot;evenodd&quot;, &quot;lineCap&quot;: &quot;round&quot;, &quot;lineJoin&quot;: &quot;round&quot;, &quot;noClip&quot;: false, &quot;opacity&quot;: 1.0, &quot;smoothFactor&quot;: 1.0, &quot;stroke&quot;: true, &quot;weight&quot;: 0.5}\n",
              "            ).addTo(map_21ad680b8750717ca5ae8b3cadcb7d92);\n",
              "        \n",
              "    \n",
              "            var poly_line_2e1b68de8c6d26c3668c8c61722efdd8 = L.polyline(\n",
              "                [[37.83986189124343, -122.52361620862789], [37.83986189124343, -122.3483278940174]],\n",
              "                {&quot;bubblingMouseEvents&quot;: true, &quot;color&quot;: &quot;blue&quot;, &quot;dashArray&quot;: null, &quot;dashOffset&quot;: null, &quot;fill&quot;: false, &quot;fillColor&quot;: &quot;blue&quot;, &quot;fillOpacity&quot;: 0.2, &quot;fillRule&quot;: &quot;evenodd&quot;, &quot;lineCap&quot;: &quot;round&quot;, &quot;lineJoin&quot;: &quot;round&quot;, &quot;noClip&quot;: false, &quot;opacity&quot;: 1.0, &quot;smoothFactor&quot;: 1.0, &quot;stroke&quot;: true, &quot;weight&quot;: 0.5}\n",
              "            ).addTo(map_21ad680b8750717ca5ae8b3cadcb7d92);\n",
              "        \n",
              "    \n",
              "            var poly_line_761ad6c002151d6252abd1521b6e1bae = L.polyline(\n",
              "                [[37.69808572900908, -122.52361620862789], [37.83986189124343, -122.52361620862789]],\n",
              "                {&quot;bubblingMouseEvents&quot;: true, &quot;color&quot;: &quot;blue&quot;, &quot;dashArray&quot;: null, &quot;dashOffset&quot;: null, &quot;fill&quot;: false, &quot;fillColor&quot;: &quot;blue&quot;, &quot;fillOpacity&quot;: 0.2, &quot;fillRule&quot;: &quot;evenodd&quot;, &quot;lineCap&quot;: &quot;round&quot;, &quot;lineJoin&quot;: &quot;round&quot;, &quot;noClip&quot;: false, &quot;opacity&quot;: 1.0, &quot;smoothFactor&quot;: 1.0, &quot;stroke&quot;: true, &quot;weight&quot;: 0.5}\n",
              "            ).addTo(map_21ad680b8750717ca5ae8b3cadcb7d92);\n",
              "        \n",
              "    \n",
              "            var poly_line_bece18c73b5d9b7208c996ff2a01fc7d = L.polyline(\n",
              "                [[37.69808572900908, -122.51777326480753], [37.83986189124343, -122.51777326480753]],\n",
              "                {&quot;bubblingMouseEvents&quot;: true, &quot;color&quot;: &quot;blue&quot;, &quot;dashArray&quot;: null, &quot;dashOffset&quot;: null, &quot;fill&quot;: false, &quot;fillColor&quot;: &quot;blue&quot;, &quot;fillOpacity&quot;: 0.2, &quot;fillRule&quot;: &quot;evenodd&quot;, &quot;lineCap&quot;: &quot;round&quot;, &quot;lineJoin&quot;: &quot;round&quot;, &quot;noClip&quot;: false, &quot;opacity&quot;: 1.0, &quot;smoothFactor&quot;: 1.0, &quot;stroke&quot;: true, &quot;weight&quot;: 0.5}\n",
              "            ).addTo(map_21ad680b8750717ca5ae8b3cadcb7d92);\n",
              "        \n",
              "    \n",
              "            var poly_line_592a56e4f4d678bea1832fdc1741eac8 = L.polyline(\n",
              "                [[37.69808572900908, -122.51193032098719], [37.83986189124343, -122.51193032098719]],\n",
              "                {&quot;bubblingMouseEvents&quot;: true, &quot;color&quot;: &quot;blue&quot;, &quot;dashArray&quot;: null, &quot;dashOffset&quot;: null, &quot;fill&quot;: false, &quot;fillColor&quot;: &quot;blue&quot;, &quot;fillOpacity&quot;: 0.2, &quot;fillRule&quot;: &quot;evenodd&quot;, &quot;lineCap&quot;: &quot;round&quot;, &quot;lineJoin&quot;: &quot;round&quot;, &quot;noClip&quot;: false, &quot;opacity&quot;: 1.0, &quot;smoothFactor&quot;: 1.0, &quot;stroke&quot;: true, &quot;weight&quot;: 0.5}\n",
              "            ).addTo(map_21ad680b8750717ca5ae8b3cadcb7d92);\n",
              "        \n",
              "    \n",
              "            var poly_line_aad2cd801e4ae06fe182e2136a82230a = L.polyline(\n",
              "                [[37.69808572900908, -122.50608737716684], [37.83986189124343, -122.50608737716684]],\n",
              "                {&quot;bubblingMouseEvents&quot;: true, &quot;color&quot;: &quot;blue&quot;, &quot;dashArray&quot;: null, &quot;dashOffset&quot;: null, &quot;fill&quot;: false, &quot;fillColor&quot;: &quot;blue&quot;, &quot;fillOpacity&quot;: 0.2, &quot;fillRule&quot;: &quot;evenodd&quot;, &quot;lineCap&quot;: &quot;round&quot;, &quot;lineJoin&quot;: &quot;round&quot;, &quot;noClip&quot;: false, &quot;opacity&quot;: 1.0, &quot;smoothFactor&quot;: 1.0, &quot;stroke&quot;: true, &quot;weight&quot;: 0.5}\n",
              "            ).addTo(map_21ad680b8750717ca5ae8b3cadcb7d92);\n",
              "        \n",
              "    \n",
              "            var poly_line_0b1d5015ae8f547333cbc5305affc212 = L.polyline(\n",
              "                [[37.69808572900908, -122.50024443334648], [37.83986189124343, -122.50024443334648]],\n",
              "                {&quot;bubblingMouseEvents&quot;: true, &quot;color&quot;: &quot;blue&quot;, &quot;dashArray&quot;: null, &quot;dashOffset&quot;: null, &quot;fill&quot;: false, &quot;fillColor&quot;: &quot;blue&quot;, &quot;fillOpacity&quot;: 0.2, &quot;fillRule&quot;: &quot;evenodd&quot;, &quot;lineCap&quot;: &quot;round&quot;, &quot;lineJoin&quot;: &quot;round&quot;, &quot;noClip&quot;: false, &quot;opacity&quot;: 1.0, &quot;smoothFactor&quot;: 1.0, &quot;stroke&quot;: true, &quot;weight&quot;: 0.5}\n",
              "            ).addTo(map_21ad680b8750717ca5ae8b3cadcb7d92);\n",
              "        \n",
              "    \n",
              "            var poly_line_e92370634825f4f1e72bf94017510b91 = L.polyline(\n",
              "                [[37.69808572900908, -122.49440148952614], [37.83986189124343, -122.49440148952614]],\n",
              "                {&quot;bubblingMouseEvents&quot;: true, &quot;color&quot;: &quot;blue&quot;, &quot;dashArray&quot;: null, &quot;dashOffset&quot;: null, &quot;fill&quot;: false, &quot;fillColor&quot;: &quot;blue&quot;, &quot;fillOpacity&quot;: 0.2, &quot;fillRule&quot;: &quot;evenodd&quot;, &quot;lineCap&quot;: &quot;round&quot;, &quot;lineJoin&quot;: &quot;round&quot;, &quot;noClip&quot;: false, &quot;opacity&quot;: 1.0, &quot;smoothFactor&quot;: 1.0, &quot;stroke&quot;: true, &quot;weight&quot;: 0.5}\n",
              "            ).addTo(map_21ad680b8750717ca5ae8b3cadcb7d92);\n",
              "        \n",
              "    \n",
              "            var poly_line_47dd6dcf835f337027c8942eb0e43d1b = L.polyline(\n",
              "                [[37.69808572900908, -122.48855854570579], [37.83986189124343, -122.48855854570579]],\n",
              "                {&quot;bubblingMouseEvents&quot;: true, &quot;color&quot;: &quot;blue&quot;, &quot;dashArray&quot;: null, &quot;dashOffset&quot;: null, &quot;fill&quot;: false, &quot;fillColor&quot;: &quot;blue&quot;, &quot;fillOpacity&quot;: 0.2, &quot;fillRule&quot;: &quot;evenodd&quot;, &quot;lineCap&quot;: &quot;round&quot;, &quot;lineJoin&quot;: &quot;round&quot;, &quot;noClip&quot;: false, &quot;opacity&quot;: 1.0, &quot;smoothFactor&quot;: 1.0, &quot;stroke&quot;: true, &quot;weight&quot;: 0.5}\n",
              "            ).addTo(map_21ad680b8750717ca5ae8b3cadcb7d92);\n",
              "        \n",
              "    \n",
              "            var poly_line_4bd0ee872ca3a492975589eddeef8de9 = L.polyline(\n",
              "                [[37.69808572900908, -122.48271560188545], [37.83986189124343, -122.48271560188545]],\n",
              "                {&quot;bubblingMouseEvents&quot;: true, &quot;color&quot;: &quot;blue&quot;, &quot;dashArray&quot;: null, &quot;dashOffset&quot;: null, &quot;fill&quot;: false, &quot;fillColor&quot;: &quot;blue&quot;, &quot;fillOpacity&quot;: 0.2, &quot;fillRule&quot;: &quot;evenodd&quot;, &quot;lineCap&quot;: &quot;round&quot;, &quot;lineJoin&quot;: &quot;round&quot;, &quot;noClip&quot;: false, &quot;opacity&quot;: 1.0, &quot;smoothFactor&quot;: 1.0, &quot;stroke&quot;: true, &quot;weight&quot;: 0.5}\n",
              "            ).addTo(map_21ad680b8750717ca5ae8b3cadcb7d92);\n",
              "        \n",
              "    \n",
              "            var poly_line_d337ef6e6f966f516c8de967c9106342 = L.polyline(\n",
              "                [[37.69808572900908, -122.47687265806509], [37.83986189124343, -122.47687265806509]],\n",
              "                {&quot;bubblingMouseEvents&quot;: true, &quot;color&quot;: &quot;blue&quot;, &quot;dashArray&quot;: null, &quot;dashOffset&quot;: null, &quot;fill&quot;: false, &quot;fillColor&quot;: &quot;blue&quot;, &quot;fillOpacity&quot;: 0.2, &quot;fillRule&quot;: &quot;evenodd&quot;, &quot;lineCap&quot;: &quot;round&quot;, &quot;lineJoin&quot;: &quot;round&quot;, &quot;noClip&quot;: false, &quot;opacity&quot;: 1.0, &quot;smoothFactor&quot;: 1.0, &quot;stroke&quot;: true, &quot;weight&quot;: 0.5}\n",
              "            ).addTo(map_21ad680b8750717ca5ae8b3cadcb7d92);\n",
              "        \n",
              "    \n",
              "            var poly_line_fe37b5c9d85405b42f13970def6bd67c = L.polyline(\n",
              "                [[37.69808572900908, -122.47102971424474], [37.83986189124343, -122.47102971424474]],\n",
              "                {&quot;bubblingMouseEvents&quot;: true, &quot;color&quot;: &quot;blue&quot;, &quot;dashArray&quot;: null, &quot;dashOffset&quot;: null, &quot;fill&quot;: false, &quot;fillColor&quot;: &quot;blue&quot;, &quot;fillOpacity&quot;: 0.2, &quot;fillRule&quot;: &quot;evenodd&quot;, &quot;lineCap&quot;: &quot;round&quot;, &quot;lineJoin&quot;: &quot;round&quot;, &quot;noClip&quot;: false, &quot;opacity&quot;: 1.0, &quot;smoothFactor&quot;: 1.0, &quot;stroke&quot;: true, &quot;weight&quot;: 0.5}\n",
              "            ).addTo(map_21ad680b8750717ca5ae8b3cadcb7d92);\n",
              "        \n",
              "    \n",
              "            var poly_line_09969ce18c5c2bef1522ae4f7427af76 = L.polyline(\n",
              "                [[37.69808572900908, -122.4651867704244], [37.83986189124343, -122.4651867704244]],\n",
              "                {&quot;bubblingMouseEvents&quot;: true, &quot;color&quot;: &quot;blue&quot;, &quot;dashArray&quot;: null, &quot;dashOffset&quot;: null, &quot;fill&quot;: false, &quot;fillColor&quot;: &quot;blue&quot;, &quot;fillOpacity&quot;: 0.2, &quot;fillRule&quot;: &quot;evenodd&quot;, &quot;lineCap&quot;: &quot;round&quot;, &quot;lineJoin&quot;: &quot;round&quot;, &quot;noClip&quot;: false, &quot;opacity&quot;: 1.0, &quot;smoothFactor&quot;: 1.0, &quot;stroke&quot;: true, &quot;weight&quot;: 0.5}\n",
              "            ).addTo(map_21ad680b8750717ca5ae8b3cadcb7d92);\n",
              "        \n",
              "    \n",
              "            var poly_line_ee3a436f252e2a929e78b84c880031c3 = L.polyline(\n",
              "                [[37.69808572900908, -122.45934382660404], [37.83986189124343, -122.45934382660404]],\n",
              "                {&quot;bubblingMouseEvents&quot;: true, &quot;color&quot;: &quot;blue&quot;, &quot;dashArray&quot;: null, &quot;dashOffset&quot;: null, &quot;fill&quot;: false, &quot;fillColor&quot;: &quot;blue&quot;, &quot;fillOpacity&quot;: 0.2, &quot;fillRule&quot;: &quot;evenodd&quot;, &quot;lineCap&quot;: &quot;round&quot;, &quot;lineJoin&quot;: &quot;round&quot;, &quot;noClip&quot;: false, &quot;opacity&quot;: 1.0, &quot;smoothFactor&quot;: 1.0, &quot;stroke&quot;: true, &quot;weight&quot;: 0.5}\n",
              "            ).addTo(map_21ad680b8750717ca5ae8b3cadcb7d92);\n",
              "        \n",
              "    \n",
              "            var poly_line_912d4f574a3ea59780d72efe7184cfd1 = L.polyline(\n",
              "                [[37.69808572900908, -122.45350088278369], [37.83986189124343, -122.45350088278369]],\n",
              "                {&quot;bubblingMouseEvents&quot;: true, &quot;color&quot;: &quot;blue&quot;, &quot;dashArray&quot;: null, &quot;dashOffset&quot;: null, &quot;fill&quot;: false, &quot;fillColor&quot;: &quot;blue&quot;, &quot;fillOpacity&quot;: 0.2, &quot;fillRule&quot;: &quot;evenodd&quot;, &quot;lineCap&quot;: &quot;round&quot;, &quot;lineJoin&quot;: &quot;round&quot;, &quot;noClip&quot;: false, &quot;opacity&quot;: 1.0, &quot;smoothFactor&quot;: 1.0, &quot;stroke&quot;: true, &quot;weight&quot;: 0.5}\n",
              "            ).addTo(map_21ad680b8750717ca5ae8b3cadcb7d92);\n",
              "        \n",
              "    \n",
              "            var poly_line_09ff88c70b664c52f287a8ac3806354a = L.polyline(\n",
              "                [[37.69808572900908, -122.44765793896335], [37.83986189124343, -122.44765793896335]],\n",
              "                {&quot;bubblingMouseEvents&quot;: true, &quot;color&quot;: &quot;blue&quot;, &quot;dashArray&quot;: null, &quot;dashOffset&quot;: null, &quot;fill&quot;: false, &quot;fillColor&quot;: &quot;blue&quot;, &quot;fillOpacity&quot;: 0.2, &quot;fillRule&quot;: &quot;evenodd&quot;, &quot;lineCap&quot;: &quot;round&quot;, &quot;lineJoin&quot;: &quot;round&quot;, &quot;noClip&quot;: false, &quot;opacity&quot;: 1.0, &quot;smoothFactor&quot;: 1.0, &quot;stroke&quot;: true, &quot;weight&quot;: 0.5}\n",
              "            ).addTo(map_21ad680b8750717ca5ae8b3cadcb7d92);\n",
              "        \n",
              "    \n",
              "            var poly_line_2b5d0d64c03d34dd36222201cd3ad552 = L.polyline(\n",
              "                [[37.69808572900908, -122.44181499514299], [37.83986189124343, -122.44181499514299]],\n",
              "                {&quot;bubblingMouseEvents&quot;: true, &quot;color&quot;: &quot;blue&quot;, &quot;dashArray&quot;: null, &quot;dashOffset&quot;: null, &quot;fill&quot;: false, &quot;fillColor&quot;: &quot;blue&quot;, &quot;fillOpacity&quot;: 0.2, &quot;fillRule&quot;: &quot;evenodd&quot;, &quot;lineCap&quot;: &quot;round&quot;, &quot;lineJoin&quot;: &quot;round&quot;, &quot;noClip&quot;: false, &quot;opacity&quot;: 1.0, &quot;smoothFactor&quot;: 1.0, &quot;stroke&quot;: true, &quot;weight&quot;: 0.5}\n",
              "            ).addTo(map_21ad680b8750717ca5ae8b3cadcb7d92);\n",
              "        \n",
              "    \n",
              "            var poly_line_6655d4879a8de9288d53abebbaa1ebea = L.polyline(\n",
              "                [[37.69808572900908, -122.43597205132264], [37.83986189124343, -122.43597205132264]],\n",
              "                {&quot;bubblingMouseEvents&quot;: true, &quot;color&quot;: &quot;blue&quot;, &quot;dashArray&quot;: null, &quot;dashOffset&quot;: null, &quot;fill&quot;: false, &quot;fillColor&quot;: &quot;blue&quot;, &quot;fillOpacity&quot;: 0.2, &quot;fillRule&quot;: &quot;evenodd&quot;, &quot;lineCap&quot;: &quot;round&quot;, &quot;lineJoin&quot;: &quot;round&quot;, &quot;noClip&quot;: false, &quot;opacity&quot;: 1.0, &quot;smoothFactor&quot;: 1.0, &quot;stroke&quot;: true, &quot;weight&quot;: 0.5}\n",
              "            ).addTo(map_21ad680b8750717ca5ae8b3cadcb7d92);\n",
              "        \n",
              "    \n",
              "            var poly_line_40ab49afacbd43239e7016a7db631d2f = L.polyline(\n",
              "                [[37.69808572900908, -122.4301291075023], [37.83986189124343, -122.4301291075023]],\n",
              "                {&quot;bubblingMouseEvents&quot;: true, &quot;color&quot;: &quot;blue&quot;, &quot;dashArray&quot;: null, &quot;dashOffset&quot;: null, &quot;fill&quot;: false, &quot;fillColor&quot;: &quot;blue&quot;, &quot;fillOpacity&quot;: 0.2, &quot;fillRule&quot;: &quot;evenodd&quot;, &quot;lineCap&quot;: &quot;round&quot;, &quot;lineJoin&quot;: &quot;round&quot;, &quot;noClip&quot;: false, &quot;opacity&quot;: 1.0, &quot;smoothFactor&quot;: 1.0, &quot;stroke&quot;: true, &quot;weight&quot;: 0.5}\n",
              "            ).addTo(map_21ad680b8750717ca5ae8b3cadcb7d92);\n",
              "        \n",
              "    \n",
              "            var poly_line_cb67050609c09117e6fa7c3e74b1762b = L.polyline(\n",
              "                [[37.69808572900908, -122.42428616368194], [37.83986189124343, -122.42428616368194]],\n",
              "                {&quot;bubblingMouseEvents&quot;: true, &quot;color&quot;: &quot;blue&quot;, &quot;dashArray&quot;: null, &quot;dashOffset&quot;: null, &quot;fill&quot;: false, &quot;fillColor&quot;: &quot;blue&quot;, &quot;fillOpacity&quot;: 0.2, &quot;fillRule&quot;: &quot;evenodd&quot;, &quot;lineCap&quot;: &quot;round&quot;, &quot;lineJoin&quot;: &quot;round&quot;, &quot;noClip&quot;: false, &quot;opacity&quot;: 1.0, &quot;smoothFactor&quot;: 1.0, &quot;stroke&quot;: true, &quot;weight&quot;: 0.5}\n",
              "            ).addTo(map_21ad680b8750717ca5ae8b3cadcb7d92);\n",
              "        \n",
              "    \n",
              "            var poly_line_62f476031b1c8c86709d05f841715b4f = L.polyline(\n",
              "                [[37.69808572900908, -122.4184432198616], [37.83986189124343, -122.4184432198616]],\n",
              "                {&quot;bubblingMouseEvents&quot;: true, &quot;color&quot;: &quot;blue&quot;, &quot;dashArray&quot;: null, &quot;dashOffset&quot;: null, &quot;fill&quot;: false, &quot;fillColor&quot;: &quot;blue&quot;, &quot;fillOpacity&quot;: 0.2, &quot;fillRule&quot;: &quot;evenodd&quot;, &quot;lineCap&quot;: &quot;round&quot;, &quot;lineJoin&quot;: &quot;round&quot;, &quot;noClip&quot;: false, &quot;opacity&quot;: 1.0, &quot;smoothFactor&quot;: 1.0, &quot;stroke&quot;: true, &quot;weight&quot;: 0.5}\n",
              "            ).addTo(map_21ad680b8750717ca5ae8b3cadcb7d92);\n",
              "        \n",
              "    \n",
              "            var poly_line_72c2dad2abf56551502453e251bb18df = L.polyline(\n",
              "                [[37.69808572900908, -122.41260027604125], [37.83986189124343, -122.41260027604125]],\n",
              "                {&quot;bubblingMouseEvents&quot;: true, &quot;color&quot;: &quot;blue&quot;, &quot;dashArray&quot;: null, &quot;dashOffset&quot;: null, &quot;fill&quot;: false, &quot;fillColor&quot;: &quot;blue&quot;, &quot;fillOpacity&quot;: 0.2, &quot;fillRule&quot;: &quot;evenodd&quot;, &quot;lineCap&quot;: &quot;round&quot;, &quot;lineJoin&quot;: &quot;round&quot;, &quot;noClip&quot;: false, &quot;opacity&quot;: 1.0, &quot;smoothFactor&quot;: 1.0, &quot;stroke&quot;: true, &quot;weight&quot;: 0.5}\n",
              "            ).addTo(map_21ad680b8750717ca5ae8b3cadcb7d92);\n",
              "        \n",
              "    \n",
              "            var poly_line_655698fd6c41dc75a3340552205bb732 = L.polyline(\n",
              "                [[37.69808572900908, -122.40675733222089], [37.83986189124343, -122.40675733222089]],\n",
              "                {&quot;bubblingMouseEvents&quot;: true, &quot;color&quot;: &quot;blue&quot;, &quot;dashArray&quot;: null, &quot;dashOffset&quot;: null, &quot;fill&quot;: false, &quot;fillColor&quot;: &quot;blue&quot;, &quot;fillOpacity&quot;: 0.2, &quot;fillRule&quot;: &quot;evenodd&quot;, &quot;lineCap&quot;: &quot;round&quot;, &quot;lineJoin&quot;: &quot;round&quot;, &quot;noClip&quot;: false, &quot;opacity&quot;: 1.0, &quot;smoothFactor&quot;: 1.0, &quot;stroke&quot;: true, &quot;weight&quot;: 0.5}\n",
              "            ).addTo(map_21ad680b8750717ca5ae8b3cadcb7d92);\n",
              "        \n",
              "    \n",
              "            var poly_line_3e8dd94914644a8daa301b2da4446d48 = L.polyline(\n",
              "                [[37.69808572900908, -122.40091438840055], [37.83986189124343, -122.40091438840055]],\n",
              "                {&quot;bubblingMouseEvents&quot;: true, &quot;color&quot;: &quot;blue&quot;, &quot;dashArray&quot;: null, &quot;dashOffset&quot;: null, &quot;fill&quot;: false, &quot;fillColor&quot;: &quot;blue&quot;, &quot;fillOpacity&quot;: 0.2, &quot;fillRule&quot;: &quot;evenodd&quot;, &quot;lineCap&quot;: &quot;round&quot;, &quot;lineJoin&quot;: &quot;round&quot;, &quot;noClip&quot;: false, &quot;opacity&quot;: 1.0, &quot;smoothFactor&quot;: 1.0, &quot;stroke&quot;: true, &quot;weight&quot;: 0.5}\n",
              "            ).addTo(map_21ad680b8750717ca5ae8b3cadcb7d92);\n",
              "        \n",
              "    \n",
              "            var poly_line_d9fbd3f0b855d24a55ecf2127bd11c16 = L.polyline(\n",
              "                [[37.69808572900908, -122.3950714445802], [37.83986189124343, -122.3950714445802]],\n",
              "                {&quot;bubblingMouseEvents&quot;: true, &quot;color&quot;: &quot;blue&quot;, &quot;dashArray&quot;: null, &quot;dashOffset&quot;: null, &quot;fill&quot;: false, &quot;fillColor&quot;: &quot;blue&quot;, &quot;fillOpacity&quot;: 0.2, &quot;fillRule&quot;: &quot;evenodd&quot;, &quot;lineCap&quot;: &quot;round&quot;, &quot;lineJoin&quot;: &quot;round&quot;, &quot;noClip&quot;: false, &quot;opacity&quot;: 1.0, &quot;smoothFactor&quot;: 1.0, &quot;stroke&quot;: true, &quot;weight&quot;: 0.5}\n",
              "            ).addTo(map_21ad680b8750717ca5ae8b3cadcb7d92);\n",
              "        \n",
              "    \n",
              "            var poly_line_5901830fa4350b45f61a535963d104aa = L.polyline(\n",
              "                [[37.69808572900908, -122.38922850075984], [37.83986189124343, -122.38922850075984]],\n",
              "                {&quot;bubblingMouseEvents&quot;: true, &quot;color&quot;: &quot;blue&quot;, &quot;dashArray&quot;: null, &quot;dashOffset&quot;: null, &quot;fill&quot;: false, &quot;fillColor&quot;: &quot;blue&quot;, &quot;fillOpacity&quot;: 0.2, &quot;fillRule&quot;: &quot;evenodd&quot;, &quot;lineCap&quot;: &quot;round&quot;, &quot;lineJoin&quot;: &quot;round&quot;, &quot;noClip&quot;: false, &quot;opacity&quot;: 1.0, &quot;smoothFactor&quot;: 1.0, &quot;stroke&quot;: true, &quot;weight&quot;: 0.5}\n",
              "            ).addTo(map_21ad680b8750717ca5ae8b3cadcb7d92);\n",
              "        \n",
              "    \n",
              "            var poly_line_bd12ae7be6178b46f08891552671be62 = L.polyline(\n",
              "                [[37.69808572900908, -122.3833855569395], [37.83986189124343, -122.3833855569395]],\n",
              "                {&quot;bubblingMouseEvents&quot;: true, &quot;color&quot;: &quot;blue&quot;, &quot;dashArray&quot;: null, &quot;dashOffset&quot;: null, &quot;fill&quot;: false, &quot;fillColor&quot;: &quot;blue&quot;, &quot;fillOpacity&quot;: 0.2, &quot;fillRule&quot;: &quot;evenodd&quot;, &quot;lineCap&quot;: &quot;round&quot;, &quot;lineJoin&quot;: &quot;round&quot;, &quot;noClip&quot;: false, &quot;opacity&quot;: 1.0, &quot;smoothFactor&quot;: 1.0, &quot;stroke&quot;: true, &quot;weight&quot;: 0.5}\n",
              "            ).addTo(map_21ad680b8750717ca5ae8b3cadcb7d92);\n",
              "        \n",
              "    \n",
              "            var poly_line_6aa93db8fe0e0b33dbb06202dcdce059 = L.polyline(\n",
              "                [[37.69808572900908, -122.37754261311915], [37.83986189124343, -122.37754261311915]],\n",
              "                {&quot;bubblingMouseEvents&quot;: true, &quot;color&quot;: &quot;blue&quot;, &quot;dashArray&quot;: null, &quot;dashOffset&quot;: null, &quot;fill&quot;: false, &quot;fillColor&quot;: &quot;blue&quot;, &quot;fillOpacity&quot;: 0.2, &quot;fillRule&quot;: &quot;evenodd&quot;, &quot;lineCap&quot;: &quot;round&quot;, &quot;lineJoin&quot;: &quot;round&quot;, &quot;noClip&quot;: false, &quot;opacity&quot;: 1.0, &quot;smoothFactor&quot;: 1.0, &quot;stroke&quot;: true, &quot;weight&quot;: 0.5}\n",
              "            ).addTo(map_21ad680b8750717ca5ae8b3cadcb7d92);\n",
              "        \n",
              "    \n",
              "            var poly_line_d25178e86f83408d75a6d7107f4999cd = L.polyline(\n",
              "                [[37.69808572900908, -122.3716996692988], [37.83986189124343, -122.3716996692988]],\n",
              "                {&quot;bubblingMouseEvents&quot;: true, &quot;color&quot;: &quot;blue&quot;, &quot;dashArray&quot;: null, &quot;dashOffset&quot;: null, &quot;fill&quot;: false, &quot;fillColor&quot;: &quot;blue&quot;, &quot;fillOpacity&quot;: 0.2, &quot;fillRule&quot;: &quot;evenodd&quot;, &quot;lineCap&quot;: &quot;round&quot;, &quot;lineJoin&quot;: &quot;round&quot;, &quot;noClip&quot;: false, &quot;opacity&quot;: 1.0, &quot;smoothFactor&quot;: 1.0, &quot;stroke&quot;: true, &quot;weight&quot;: 0.5}\n",
              "            ).addTo(map_21ad680b8750717ca5ae8b3cadcb7d92);\n",
              "        \n",
              "    \n",
              "            var poly_line_58d466f84ae0fd3e5af3bcc303dd2177 = L.polyline(\n",
              "                [[37.69808572900908, -122.36585672547845], [37.83986189124343, -122.36585672547845]],\n",
              "                {&quot;bubblingMouseEvents&quot;: true, &quot;color&quot;: &quot;blue&quot;, &quot;dashArray&quot;: null, &quot;dashOffset&quot;: null, &quot;fill&quot;: false, &quot;fillColor&quot;: &quot;blue&quot;, &quot;fillOpacity&quot;: 0.2, &quot;fillRule&quot;: &quot;evenodd&quot;, &quot;lineCap&quot;: &quot;round&quot;, &quot;lineJoin&quot;: &quot;round&quot;, &quot;noClip&quot;: false, &quot;opacity&quot;: 1.0, &quot;smoothFactor&quot;: 1.0, &quot;stroke&quot;: true, &quot;weight&quot;: 0.5}\n",
              "            ).addTo(map_21ad680b8750717ca5ae8b3cadcb7d92);\n",
              "        \n",
              "    \n",
              "            var poly_line_a07227b524e512035848acc99d9862a8 = L.polyline(\n",
              "                [[37.69808572900908, -122.3600137816581], [37.83986189124343, -122.3600137816581]],\n",
              "                {&quot;bubblingMouseEvents&quot;: true, &quot;color&quot;: &quot;blue&quot;, &quot;dashArray&quot;: null, &quot;dashOffset&quot;: null, &quot;fill&quot;: false, &quot;fillColor&quot;: &quot;blue&quot;, &quot;fillOpacity&quot;: 0.2, &quot;fillRule&quot;: &quot;evenodd&quot;, &quot;lineCap&quot;: &quot;round&quot;, &quot;lineJoin&quot;: &quot;round&quot;, &quot;noClip&quot;: false, &quot;opacity&quot;: 1.0, &quot;smoothFactor&quot;: 1.0, &quot;stroke&quot;: true, &quot;weight&quot;: 0.5}\n",
              "            ).addTo(map_21ad680b8750717ca5ae8b3cadcb7d92);\n",
              "        \n",
              "    \n",
              "            var poly_line_0c9a2701b2dd56188ff6016e70d365ca = L.polyline(\n",
              "                [[37.69808572900908, -122.35417083783776], [37.83986189124343, -122.35417083783776]],\n",
              "                {&quot;bubblingMouseEvents&quot;: true, &quot;color&quot;: &quot;blue&quot;, &quot;dashArray&quot;: null, &quot;dashOffset&quot;: null, &quot;fill&quot;: false, &quot;fillColor&quot;: &quot;blue&quot;, &quot;fillOpacity&quot;: 0.2, &quot;fillRule&quot;: &quot;evenodd&quot;, &quot;lineCap&quot;: &quot;round&quot;, &quot;lineJoin&quot;: &quot;round&quot;, &quot;noClip&quot;: false, &quot;opacity&quot;: 1.0, &quot;smoothFactor&quot;: 1.0, &quot;stroke&quot;: true, &quot;weight&quot;: 0.5}\n",
              "            ).addTo(map_21ad680b8750717ca5ae8b3cadcb7d92);\n",
              "        \n",
              "    \n",
              "            var poly_line_be801c0896cdfe659933e185dd50486c = L.polyline(\n",
              "                [[37.69808572900908, -122.3483278940174], [37.83986189124343, -122.3483278940174]],\n",
              "                {&quot;bubblingMouseEvents&quot;: true, &quot;color&quot;: &quot;blue&quot;, &quot;dashArray&quot;: null, &quot;dashOffset&quot;: null, &quot;fill&quot;: false, &quot;fillColor&quot;: &quot;blue&quot;, &quot;fillOpacity&quot;: 0.2, &quot;fillRule&quot;: &quot;evenodd&quot;, &quot;lineCap&quot;: &quot;round&quot;, &quot;lineJoin&quot;: &quot;round&quot;, &quot;noClip&quot;: false, &quot;opacity&quot;: 1.0, &quot;smoothFactor&quot;: 1.0, &quot;stroke&quot;: true, &quot;weight&quot;: 0.5}\n",
              "            ).addTo(map_21ad680b8750717ca5ae8b3cadcb7d92);\n",
              "        \n",
              "&lt;/script&gt;\n",
              "&lt;/html&gt;\" style=\"position:absolute;width:100%;height:100%;left:0;top:0;border:none !important;\" allowfullscreen webkitallowfullscreen mozallowfullscreen></iframe></div></div>"
            ]
          },
          "metadata": {},
          "execution_count": 24
        }
      ]
    },
    {
      "cell_type": "code",
      "source": [
        "grid_boundaries = []\n",
        "\n",
        "# Iterate through latitude values\n",
        "for i in range(len(lat_values) - 1):\n",
        "    lat1, lat2 = lat_values[i], lat_values[i + 1]\n",
        "    # Iterate through longitude values\n",
        "    for j in range(len(long_values) - 1):\n",
        "        long1, long2 = long_values[j], long_values[j + 1]\n",
        "        # Define the boundaries of the grid area\n",
        "        boundary = [(lat1, long1), (lat1, long2), (lat2, long2), (lat2, long1), (lat1, long1)]\n",
        "        # Append the boundary to the list\n",
        "        grid_boundaries.append(boundary)"
      ],
      "metadata": {
        "id": "VyR_noEx2dcZ"
      },
      "execution_count": 25,
      "outputs": []
    },
    {
      "cell_type": "markdown",
      "source": [
        "# Preparing data for input"
      ],
      "metadata": {
        "id": "0NzpvpAPIBkA"
      }
    },
    {
      "cell_type": "code",
      "source": [
        "selected_dates.dropna(subset = ['latitude', 'longitude', \"month\", \"day_of_week\"], inplace=True)"
      ],
      "metadata": {
        "id": "zID8p9awAbUh"
      },
      "execution_count": 26,
      "outputs": []
    },
    {
      "cell_type": "markdown",
      "source": [
        "## Creating 30x30 matrices with the accident data assigned to its respective cell in the grid"
      ],
      "metadata": {
        "id": "cBWX4D-UIOjs"
      }
    },
    {
      "cell_type": "code",
      "source": [
        "# Create a dictionary to store the matrices for each date\n",
        "date_matrices = {}\n",
        "\n",
        "# Group the dataframe by 'collision_date'\n",
        "grouped_dates = selected_dates.groupby('collision_date')\n",
        "\n",
        "# Iterate through each date group\n",
        "for date, group in grouped_dates:\n",
        "    # Create a 30x30 matrix initialized with zeros\n",
        "    matrix = np.zeros((30, 30), dtype=int)\n",
        "\n",
        "    # Iterate through each row in the group\n",
        "    for index, row in group.iterrows():\n",
        "        # Compute the indices for the matrix\n",
        "        lat_index = int((row['latitude'] - min_lat) / (max_lat - min_lat) * 30)-1\n",
        "        long_index = int((row['longitude'] - min_long) / (max_long - min_long) * 30)-1\n",
        "\n",
        "        # Increment the corresponding cell in the matrix\n",
        "        matrix[lat_index, long_index] += 1\n",
        "\n",
        "    # Store the matrix in the dictionary with the date as the key\n",
        "    dt_object = date.strftime('%Y-%m-%d')\n",
        "    date_matrices[dt_object] = matrix"
      ],
      "metadata": {
        "id": "ITUQJcA66Fih"
      },
      "execution_count": 51,
      "outputs": []
    },
    {
      "cell_type": "code",
      "source": [
        "# Check if daily accident sums are equal\n",
        "daily_count = grouped_dates.size().to_list()\n",
        "matrices_sum = []\n",
        "for key in date_matrices.keys():\n",
        "  matrices_sum.append(sum(sum(date_matrices[key])))\n",
        "daily_count == matrices_sum"
      ],
      "metadata": {
        "id": "WV1Ft7_IAtFU",
        "outputId": "c9ff5c6b-d1f1-4c2b-d7e1-64ebc8660317",
        "colab": {
          "base_uri": "https://localhost:8080/"
        }
      },
      "execution_count": 28,
      "outputs": [
        {
          "output_type": "execute_result",
          "data": {
            "text/plain": [
              "True"
            ]
          },
          "metadata": {},
          "execution_count": 28
        }
      ]
    },
    {
      "cell_type": "markdown",
      "source": [
        "# Make input suitable for LSTM"
      ],
      "metadata": {
        "id": "P_-dCFVcGfJA"
      }
    },
    {
      "cell_type": "code",
      "source": [
        "# Prepare input matrices\n",
        "dates = list(date_matrices.keys())\n",
        "matrices = [date_matrices[date] for date in dates]\n",
        "input_matrices = np.array(matrices)\n",
        "\n",
        "# Prepare target matrices\n",
        "# Shift the matrices by one time step for sequence prediction\n",
        "target_matrices = np.roll(input_matrices, -1, axis=0)"
      ],
      "metadata": {
        "id": "9nJDrVjQA9ZD"
      },
      "execution_count": 29,
      "outputs": []
    },
    {
      "cell_type": "code",
      "source": [
        "# Extract day of week and month\n",
        "days_of_week = selected_dates['day_of_week']\n",
        "months = selected_dates['month']\n",
        "\n",
        "# Convert the list of days_of_week and months to np arrays\n",
        "days_of_week_array = np.array(days_of_week)\n",
        "months_array = np.array(months)\n",
        "\n",
        "# Reshape the arrays to be column vectors\n",
        "days_of_week_array = days_of_week_array.reshape(-1, 1)\n",
        "months_array = months_array.reshape(-1, 1)\n",
        "\n",
        "# Create OneHotEncoder instances for day of the week and month separately\n",
        "encoder_day_of_week = OneHotEncoder(categories='auto', sparse_output=False)\n",
        "encoder_month = OneHotEncoder(categories='auto', sparse_output=False)\n",
        "\n",
        "# Fit and transform the data for day of the week\n",
        "encoded_days_of_week = encoder_day_of_week.fit_transform(days_of_week_array)\n",
        "\n",
        "# Fit and transform the data for month\n",
        "encoded_months = encoder_month.fit_transform(months_array)"
      ],
      "metadata": {
        "id": "MfwTcsMZIN7X"
      },
      "execution_count": 30,
      "outputs": []
    },
    {
      "cell_type": "code",
      "source": [],
      "metadata": {
        "id": "h3l2XmCDKOMd",
        "outputId": "989a4b0c-6476-4f9c-be60-0956636fb03d",
        "colab": {
          "base_uri": "https://localhost:8080/"
        }
      },
      "execution_count": 58,
      "outputs": [
        {
          "output_type": "execute_result",
          "data": {
            "text/plain": [
              "Index(['2005-01-01', '2005-01-01', '2005-01-01', '2005-01-01', '2005-01-01',\n",
              "       '2005-01-01', '2005-01-02', '2005-01-02', '2005-01-02', '2005-01-02',\n",
              "       ...\n",
              "       '2014-12-30', '2014-12-30', '2014-12-30', '2014-12-31', '2014-12-31',\n",
              "       '2014-12-31', '2014-12-31', '2014-12-31', '2014-12-31', '2014-12-31'],\n",
              "      dtype='object', length=30373)"
            ]
          },
          "metadata": {},
          "execution_count": 58
        }
      ]
    },
    {
      "cell_type": "code",
      "source": [
        "raw_weather_df"
      ],
      "metadata": {
        "id": "z39vE-q3MEuv",
        "outputId": "f4f8dff7-630e-4258-810a-8a6b026d6438",
        "colab": {
          "base_uri": "https://localhost:8080/",
          "height": 424
        }
      },
      "execution_count": 60,
      "outputs": [
        {
          "output_type": "execute_result",
          "data": {
            "text/plain": [
              "            max_temp  min_temp  avg_temp  precip\n",
              "2005-04-01      69.0      51.0      60.0    0.00\n",
              "2005-04-02      60.0      50.0      55.0    0.00\n",
              "2005-04-03      59.0      46.0      52.5    0.61\n",
              "2005-04-04      60.0      46.0      53.0    0.01\n",
              "2005-04-05      72.0      47.0      59.5    0.00\n",
              "...              ...       ...       ...     ...\n",
              "2023-09-26      70.0      60.0      65.0    0.07\n",
              "2023-09-27      71.0      57.0      64.0    0.00\n",
              "2023-09-28      71.0      56.0      63.5    0.00\n",
              "2023-09-29      65.0      57.0      61.0    0.00\n",
              "2023-09-30      66.0      55.0      60.5    0.02\n",
              "\n",
              "[6757 rows x 4 columns]"
            ],
            "text/html": [
              "\n",
              "  <div id=\"df-3c5be5d6-b586-4a0d-a49d-5bba0a8f0f33\" class=\"colab-df-container\">\n",
              "    <div>\n",
              "<style scoped>\n",
              "    .dataframe tbody tr th:only-of-type {\n",
              "        vertical-align: middle;\n",
              "    }\n",
              "\n",
              "    .dataframe tbody tr th {\n",
              "        vertical-align: top;\n",
              "    }\n",
              "\n",
              "    .dataframe thead th {\n",
              "        text-align: right;\n",
              "    }\n",
              "</style>\n",
              "<table border=\"1\" class=\"dataframe\">\n",
              "  <thead>\n",
              "    <tr style=\"text-align: right;\">\n",
              "      <th></th>\n",
              "      <th>max_temp</th>\n",
              "      <th>min_temp</th>\n",
              "      <th>avg_temp</th>\n",
              "      <th>precip</th>\n",
              "    </tr>\n",
              "  </thead>\n",
              "  <tbody>\n",
              "    <tr>\n",
              "      <th>2005-04-01</th>\n",
              "      <td>69.0</td>\n",
              "      <td>51.0</td>\n",
              "      <td>60.0</td>\n",
              "      <td>0.00</td>\n",
              "    </tr>\n",
              "    <tr>\n",
              "      <th>2005-04-02</th>\n",
              "      <td>60.0</td>\n",
              "      <td>50.0</td>\n",
              "      <td>55.0</td>\n",
              "      <td>0.00</td>\n",
              "    </tr>\n",
              "    <tr>\n",
              "      <th>2005-04-03</th>\n",
              "      <td>59.0</td>\n",
              "      <td>46.0</td>\n",
              "      <td>52.5</td>\n",
              "      <td>0.61</td>\n",
              "    </tr>\n",
              "    <tr>\n",
              "      <th>2005-04-04</th>\n",
              "      <td>60.0</td>\n",
              "      <td>46.0</td>\n",
              "      <td>53.0</td>\n",
              "      <td>0.01</td>\n",
              "    </tr>\n",
              "    <tr>\n",
              "      <th>2005-04-05</th>\n",
              "      <td>72.0</td>\n",
              "      <td>47.0</td>\n",
              "      <td>59.5</td>\n",
              "      <td>0.00</td>\n",
              "    </tr>\n",
              "    <tr>\n",
              "      <th>...</th>\n",
              "      <td>...</td>\n",
              "      <td>...</td>\n",
              "      <td>...</td>\n",
              "      <td>...</td>\n",
              "    </tr>\n",
              "    <tr>\n",
              "      <th>2023-09-26</th>\n",
              "      <td>70.0</td>\n",
              "      <td>60.0</td>\n",
              "      <td>65.0</td>\n",
              "      <td>0.07</td>\n",
              "    </tr>\n",
              "    <tr>\n",
              "      <th>2023-09-27</th>\n",
              "      <td>71.0</td>\n",
              "      <td>57.0</td>\n",
              "      <td>64.0</td>\n",
              "      <td>0.00</td>\n",
              "    </tr>\n",
              "    <tr>\n",
              "      <th>2023-09-28</th>\n",
              "      <td>71.0</td>\n",
              "      <td>56.0</td>\n",
              "      <td>63.5</td>\n",
              "      <td>0.00</td>\n",
              "    </tr>\n",
              "    <tr>\n",
              "      <th>2023-09-29</th>\n",
              "      <td>65.0</td>\n",
              "      <td>57.0</td>\n",
              "      <td>61.0</td>\n",
              "      <td>0.00</td>\n",
              "    </tr>\n",
              "    <tr>\n",
              "      <th>2023-09-30</th>\n",
              "      <td>66.0</td>\n",
              "      <td>55.0</td>\n",
              "      <td>60.5</td>\n",
              "      <td>0.02</td>\n",
              "    </tr>\n",
              "  </tbody>\n",
              "</table>\n",
              "<p>6757 rows × 4 columns</p>\n",
              "</div>\n",
              "    <div class=\"colab-df-buttons\">\n",
              "\n",
              "  <div class=\"colab-df-container\">\n",
              "    <button class=\"colab-df-convert\" onclick=\"convertToInteractive('df-3c5be5d6-b586-4a0d-a49d-5bba0a8f0f33')\"\n",
              "            title=\"Convert this dataframe to an interactive table.\"\n",
              "            style=\"display:none;\">\n",
              "\n",
              "  <svg xmlns=\"http://www.w3.org/2000/svg\" height=\"24px\" viewBox=\"0 -960 960 960\">\n",
              "    <path d=\"M120-120v-720h720v720H120Zm60-500h600v-160H180v160Zm220 220h160v-160H400v160Zm0 220h160v-160H400v160ZM180-400h160v-160H180v160Zm440 0h160v-160H620v160ZM180-180h160v-160H180v160Zm440 0h160v-160H620v160Z\"/>\n",
              "  </svg>\n",
              "    </button>\n",
              "\n",
              "  <style>\n",
              "    .colab-df-container {\n",
              "      display:flex;\n",
              "      gap: 12px;\n",
              "    }\n",
              "\n",
              "    .colab-df-convert {\n",
              "      background-color: #E8F0FE;\n",
              "      border: none;\n",
              "      border-radius: 50%;\n",
              "      cursor: pointer;\n",
              "      display: none;\n",
              "      fill: #1967D2;\n",
              "      height: 32px;\n",
              "      padding: 0 0 0 0;\n",
              "      width: 32px;\n",
              "    }\n",
              "\n",
              "    .colab-df-convert:hover {\n",
              "      background-color: #E2EBFA;\n",
              "      box-shadow: 0px 1px 2px rgba(60, 64, 67, 0.3), 0px 1px 3px 1px rgba(60, 64, 67, 0.15);\n",
              "      fill: #174EA6;\n",
              "    }\n",
              "\n",
              "    .colab-df-buttons div {\n",
              "      margin-bottom: 4px;\n",
              "    }\n",
              "\n",
              "    [theme=dark] .colab-df-convert {\n",
              "      background-color: #3B4455;\n",
              "      fill: #D2E3FC;\n",
              "    }\n",
              "\n",
              "    [theme=dark] .colab-df-convert:hover {\n",
              "      background-color: #434B5C;\n",
              "      box-shadow: 0px 1px 3px 1px rgba(0, 0, 0, 0.15);\n",
              "      filter: drop-shadow(0px 1px 2px rgba(0, 0, 0, 0.3));\n",
              "      fill: #FFFFFF;\n",
              "    }\n",
              "  </style>\n",
              "\n",
              "    <script>\n",
              "      const buttonEl =\n",
              "        document.querySelector('#df-3c5be5d6-b586-4a0d-a49d-5bba0a8f0f33 button.colab-df-convert');\n",
              "      buttonEl.style.display =\n",
              "        google.colab.kernel.accessAllowed ? 'block' : 'none';\n",
              "\n",
              "      async function convertToInteractive(key) {\n",
              "        const element = document.querySelector('#df-3c5be5d6-b586-4a0d-a49d-5bba0a8f0f33');\n",
              "        const dataTable =\n",
              "          await google.colab.kernel.invokeFunction('convertToInteractive',\n",
              "                                                    [key], {});\n",
              "        if (!dataTable) return;\n",
              "\n",
              "        const docLinkHtml = 'Like what you see? Visit the ' +\n",
              "          '<a target=\"_blank\" href=https://colab.research.google.com/notebooks/data_table.ipynb>data table notebook</a>'\n",
              "          + ' to learn more about interactive tables.';\n",
              "        element.innerHTML = '';\n",
              "        dataTable['output_type'] = 'display_data';\n",
              "        await google.colab.output.renderOutput(dataTable, element);\n",
              "        const docLink = document.createElement('div');\n",
              "        docLink.innerHTML = docLinkHtml;\n",
              "        element.appendChild(docLink);\n",
              "      }\n",
              "    </script>\n",
              "  </div>\n",
              "\n",
              "\n",
              "<div id=\"df-b7294f91-34e1-4547-a74b-f1ea4630659a\">\n",
              "  <button class=\"colab-df-quickchart\" onclick=\"quickchart('df-b7294f91-34e1-4547-a74b-f1ea4630659a')\"\n",
              "            title=\"Suggest charts\"\n",
              "            style=\"display:none;\">\n",
              "\n",
              "<svg xmlns=\"http://www.w3.org/2000/svg\" height=\"24px\"viewBox=\"0 0 24 24\"\n",
              "     width=\"24px\">\n",
              "    <g>\n",
              "        <path d=\"M19 3H5c-1.1 0-2 .9-2 2v14c0 1.1.9 2 2 2h14c1.1 0 2-.9 2-2V5c0-1.1-.9-2-2-2zM9 17H7v-7h2v7zm4 0h-2V7h2v10zm4 0h-2v-4h2v4z\"/>\n",
              "    </g>\n",
              "</svg>\n",
              "  </button>\n",
              "\n",
              "<style>\n",
              "  .colab-df-quickchart {\n",
              "      --bg-color: #E8F0FE;\n",
              "      --fill-color: #1967D2;\n",
              "      --hover-bg-color: #E2EBFA;\n",
              "      --hover-fill-color: #174EA6;\n",
              "      --disabled-fill-color: #AAA;\n",
              "      --disabled-bg-color: #DDD;\n",
              "  }\n",
              "\n",
              "  [theme=dark] .colab-df-quickchart {\n",
              "      --bg-color: #3B4455;\n",
              "      --fill-color: #D2E3FC;\n",
              "      --hover-bg-color: #434B5C;\n",
              "      --hover-fill-color: #FFFFFF;\n",
              "      --disabled-bg-color: #3B4455;\n",
              "      --disabled-fill-color: #666;\n",
              "  }\n",
              "\n",
              "  .colab-df-quickchart {\n",
              "    background-color: var(--bg-color);\n",
              "    border: none;\n",
              "    border-radius: 50%;\n",
              "    cursor: pointer;\n",
              "    display: none;\n",
              "    fill: var(--fill-color);\n",
              "    height: 32px;\n",
              "    padding: 0;\n",
              "    width: 32px;\n",
              "  }\n",
              "\n",
              "  .colab-df-quickchart:hover {\n",
              "    background-color: var(--hover-bg-color);\n",
              "    box-shadow: 0 1px 2px rgba(60, 64, 67, 0.3), 0 1px 3px 1px rgba(60, 64, 67, 0.15);\n",
              "    fill: var(--button-hover-fill-color);\n",
              "  }\n",
              "\n",
              "  .colab-df-quickchart-complete:disabled,\n",
              "  .colab-df-quickchart-complete:disabled:hover {\n",
              "    background-color: var(--disabled-bg-color);\n",
              "    fill: var(--disabled-fill-color);\n",
              "    box-shadow: none;\n",
              "  }\n",
              "\n",
              "  .colab-df-spinner {\n",
              "    border: 2px solid var(--fill-color);\n",
              "    border-color: transparent;\n",
              "    border-bottom-color: var(--fill-color);\n",
              "    animation:\n",
              "      spin 1s steps(1) infinite;\n",
              "  }\n",
              "\n",
              "  @keyframes spin {\n",
              "    0% {\n",
              "      border-color: transparent;\n",
              "      border-bottom-color: var(--fill-color);\n",
              "      border-left-color: var(--fill-color);\n",
              "    }\n",
              "    20% {\n",
              "      border-color: transparent;\n",
              "      border-left-color: var(--fill-color);\n",
              "      border-top-color: var(--fill-color);\n",
              "    }\n",
              "    30% {\n",
              "      border-color: transparent;\n",
              "      border-left-color: var(--fill-color);\n",
              "      border-top-color: var(--fill-color);\n",
              "      border-right-color: var(--fill-color);\n",
              "    }\n",
              "    40% {\n",
              "      border-color: transparent;\n",
              "      border-right-color: var(--fill-color);\n",
              "      border-top-color: var(--fill-color);\n",
              "    }\n",
              "    60% {\n",
              "      border-color: transparent;\n",
              "      border-right-color: var(--fill-color);\n",
              "    }\n",
              "    80% {\n",
              "      border-color: transparent;\n",
              "      border-right-color: var(--fill-color);\n",
              "      border-bottom-color: var(--fill-color);\n",
              "    }\n",
              "    90% {\n",
              "      border-color: transparent;\n",
              "      border-bottom-color: var(--fill-color);\n",
              "    }\n",
              "  }\n",
              "</style>\n",
              "\n",
              "  <script>\n",
              "    async function quickchart(key) {\n",
              "      const quickchartButtonEl =\n",
              "        document.querySelector('#' + key + ' button');\n",
              "      quickchartButtonEl.disabled = true;  // To prevent multiple clicks.\n",
              "      quickchartButtonEl.classList.add('colab-df-spinner');\n",
              "      try {\n",
              "        const charts = await google.colab.kernel.invokeFunction(\n",
              "            'suggestCharts', [key], {});\n",
              "      } catch (error) {\n",
              "        console.error('Error during call to suggestCharts:', error);\n",
              "      }\n",
              "      quickchartButtonEl.classList.remove('colab-df-spinner');\n",
              "      quickchartButtonEl.classList.add('colab-df-quickchart-complete');\n",
              "    }\n",
              "    (() => {\n",
              "      let quickchartButtonEl =\n",
              "        document.querySelector('#df-b7294f91-34e1-4547-a74b-f1ea4630659a button');\n",
              "      quickchartButtonEl.style.display =\n",
              "        google.colab.kernel.accessAllowed ? 'block' : 'none';\n",
              "    })();\n",
              "  </script>\n",
              "</div>\n",
              "    </div>\n",
              "  </div>\n"
            ],
            "application/vnd.google.colaboratory.intrinsic+json": {
              "type": "dataframe",
              "variable_name": "raw_weather_df",
              "summary": "{\n  \"name\": \"raw_weather_df\",\n  \"rows\": 6757,\n  \"fields\": [\n    {\n      \"column\": \"max_temp\",\n      \"properties\": {\n        \"dtype\": \"number\",\n        \"std\": 7.2571268042990225,\n        \"min\": 44.0,\n        \"max\": 106.0,\n        \"num_unique_values\": 58,\n        \"samples\": [\n          69.0,\n          58.0,\n          86.0\n        ],\n        \"semantic_type\": \"\",\n        \"description\": \"\"\n      }\n    },\n    {\n      \"column\": \"min_temp\",\n      \"properties\": {\n        \"dtype\": \"number\",\n        \"std\": 4.53999833877057,\n        \"min\": 36.0,\n        \"max\": 75.0,\n        \"num_unique_values\": 36,\n        \"samples\": [\n          71.0,\n          59.0,\n          66.0\n        ],\n        \"semantic_type\": \"\",\n        \"description\": \"\"\n      }\n    },\n    {\n      \"column\": \"avg_temp\",\n      \"properties\": {\n        \"dtype\": \"number\",\n        \"std\": 5.462570132219056,\n        \"min\": 41.5,\n        \"max\": 88.5,\n        \"num_unique_values\": 86,\n        \"samples\": [\n          79.0,\n          60.0,\n          42.0\n        ],\n        \"semantic_type\": \"\",\n        \"description\": \"\"\n      }\n    },\n    {\n      \"column\": \"precip\",\n      \"properties\": {\n        \"dtype\": \"number\",\n        \"std\": 0.21977847015595622,\n        \"min\": 0.0,\n        \"max\": 5.46,\n        \"num_unique_values\": 151,\n        \"samples\": [\n          0.52,\n          0.08,\n          0.38\n        ],\n        \"semantic_type\": \"\",\n        \"description\": \"\"\n      }\n    }\n  ]\n}"
            }
          },
          "metadata": {},
          "execution_count": 60
        }
      ]
    },
    {
      "cell_type": "code",
      "source": [
        "# Get weather data\n",
        "weather_df = pd.DataFrame(raw_weather_df[pd.to_datetime(dates).strftime('%Y-%m-%d'), :])\n",
        "temp_precip_data = raw_weather_df[['max_temp', 'min_temp', 'avg_temp', 'precip']].values\n",
        "\n",
        "# Normalization\n",
        "scaler = MinMaxScaler()\n",
        "temp_precip_data_normalized = scaler.fit_transform(temp_precip_data)\n",
        "\n",
        "# Reshape temperature and precipitation data to match model input shape\n",
        "temp_precip_data_reshaped = temp_precip_data_normalized.reshape(-1, 1, 4)"
      ],
      "metadata": {
        "id": "-3ju-t2gIy60",
        "outputId": "dbb5c40b-a72c-469f-e185-fdeb07634487",
        "colab": {
          "base_uri": "https://localhost:8080/",
          "height": 597
        }
      },
      "execution_count": 62,
      "outputs": [
        {
          "output_type": "error",
          "ename": "InvalidIndexError",
          "evalue": "(Index(['2005-01-01', '2005-01-01', '2005-01-01', '2005-01-01', '2005-01-01',\n       '2005-01-01', '2005-01-02', '2005-01-02', '2005-01-02', '2005-01-02',\n       ...\n       '2014-12-30', '2014-12-30', '2014-12-30', '2014-12-31', '2014-12-31',\n       '2014-12-31', '2014-12-31', '2014-12-31', '2014-12-31', '2014-12-31'],\n      dtype='object', length=30373), slice(None, None, None))",
          "traceback": [
            "\u001b[0;31m---------------------------------------------------------------------------\u001b[0m",
            "\u001b[0;31mTypeError\u001b[0m                                 Traceback (most recent call last)",
            "\u001b[0;32m/usr/local/lib/python3.10/dist-packages/pandas/core/indexes/base.py\u001b[0m in \u001b[0;36mget_loc\u001b[0;34m(self, key)\u001b[0m\n\u001b[1;32m   3652\u001b[0m         \u001b[0;32mtry\u001b[0m\u001b[0;34m:\u001b[0m\u001b[0;34m\u001b[0m\u001b[0;34m\u001b[0m\u001b[0m\n\u001b[0;32m-> 3653\u001b[0;31m             \u001b[0;32mreturn\u001b[0m \u001b[0mself\u001b[0m\u001b[0;34m.\u001b[0m\u001b[0m_engine\u001b[0m\u001b[0;34m.\u001b[0m\u001b[0mget_loc\u001b[0m\u001b[0;34m(\u001b[0m\u001b[0mcasted_key\u001b[0m\u001b[0;34m)\u001b[0m\u001b[0;34m\u001b[0m\u001b[0;34m\u001b[0m\u001b[0m\n\u001b[0m\u001b[1;32m   3654\u001b[0m         \u001b[0;32mexcept\u001b[0m \u001b[0mKeyError\u001b[0m \u001b[0;32mas\u001b[0m \u001b[0merr\u001b[0m\u001b[0;34m:\u001b[0m\u001b[0;34m\u001b[0m\u001b[0;34m\u001b[0m\u001b[0m\n",
            "\u001b[0;32m/usr/local/lib/python3.10/dist-packages/pandas/_libs/index.pyx\u001b[0m in \u001b[0;36mpandas._libs.index.IndexEngine.get_loc\u001b[0;34m()\u001b[0m\n",
            "\u001b[0;32m/usr/local/lib/python3.10/dist-packages/pandas/_libs/index.pyx\u001b[0m in \u001b[0;36mpandas._libs.index.IndexEngine.get_loc\u001b[0;34m()\u001b[0m\n",
            "\u001b[0;31mTypeError\u001b[0m: '(Index(['2005-01-01', '2005-01-01', '2005-01-01', '2005-01-01', '2005-01-01',\n       '2005-01-01', '2005-01-02', '2005-01-02', '2005-01-02', '2005-01-02',\n       ...\n       '2014-12-30', '2014-12-30', '2014-12-30', '2014-12-31', '2014-12-31',\n       '2014-12-31', '2014-12-31', '2014-12-31', '2014-12-31', '2014-12-31'],\n      dtype='object', length=30373), slice(None, None, None))' is an invalid key",
            "\nDuring handling of the above exception, another exception occurred:\n",
            "\u001b[0;31mInvalidIndexError\u001b[0m                         Traceback (most recent call last)",
            "\u001b[0;32m<ipython-input-62-c7dfce9c3830>\u001b[0m in \u001b[0;36m<cell line: 2>\u001b[0;34m()\u001b[0m\n\u001b[1;32m      1\u001b[0m \u001b[0;31m# Get weather data\u001b[0m\u001b[0;34m\u001b[0m\u001b[0;34m\u001b[0m\u001b[0m\n\u001b[0;32m----> 2\u001b[0;31m \u001b[0mweather_df\u001b[0m \u001b[0;34m=\u001b[0m \u001b[0mpd\u001b[0m\u001b[0;34m.\u001b[0m\u001b[0mDataFrame\u001b[0m\u001b[0;34m(\u001b[0m\u001b[0mraw_weather_df\u001b[0m\u001b[0;34m[\u001b[0m\u001b[0mpd\u001b[0m\u001b[0;34m.\u001b[0m\u001b[0mto_datetime\u001b[0m\u001b[0;34m(\u001b[0m\u001b[0mdates\u001b[0m\u001b[0;34m)\u001b[0m\u001b[0;34m.\u001b[0m\u001b[0mstrftime\u001b[0m\u001b[0;34m(\u001b[0m\u001b[0;34m'%Y-%m-%d'\u001b[0m\u001b[0;34m)\u001b[0m\u001b[0;34m,\u001b[0m \u001b[0;34m:\u001b[0m\u001b[0;34m]\u001b[0m\u001b[0;34m)\u001b[0m\u001b[0;34m\u001b[0m\u001b[0;34m\u001b[0m\u001b[0m\n\u001b[0m\u001b[1;32m      3\u001b[0m \u001b[0mtemp_precip_data\u001b[0m \u001b[0;34m=\u001b[0m \u001b[0mraw_weather_df\u001b[0m\u001b[0;34m[\u001b[0m\u001b[0;34m[\u001b[0m\u001b[0;34m'max_temp'\u001b[0m\u001b[0;34m,\u001b[0m \u001b[0;34m'min_temp'\u001b[0m\u001b[0;34m,\u001b[0m \u001b[0;34m'avg_temp'\u001b[0m\u001b[0;34m,\u001b[0m \u001b[0;34m'precip'\u001b[0m\u001b[0;34m]\u001b[0m\u001b[0;34m]\u001b[0m\u001b[0;34m.\u001b[0m\u001b[0mvalues\u001b[0m\u001b[0;34m\u001b[0m\u001b[0;34m\u001b[0m\u001b[0m\n\u001b[1;32m      4\u001b[0m \u001b[0;34m\u001b[0m\u001b[0m\n\u001b[1;32m      5\u001b[0m \u001b[0;31m# Normalization\u001b[0m\u001b[0;34m\u001b[0m\u001b[0;34m\u001b[0m\u001b[0m\n",
            "\u001b[0;32m/usr/local/lib/python3.10/dist-packages/pandas/core/frame.py\u001b[0m in \u001b[0;36m__getitem__\u001b[0;34m(self, key)\u001b[0m\n\u001b[1;32m   3759\u001b[0m             \u001b[0;32mif\u001b[0m \u001b[0mself\u001b[0m\u001b[0;34m.\u001b[0m\u001b[0mcolumns\u001b[0m\u001b[0;34m.\u001b[0m\u001b[0mnlevels\u001b[0m \u001b[0;34m>\u001b[0m \u001b[0;36m1\u001b[0m\u001b[0;34m:\u001b[0m\u001b[0;34m\u001b[0m\u001b[0;34m\u001b[0m\u001b[0m\n\u001b[1;32m   3760\u001b[0m                 \u001b[0;32mreturn\u001b[0m \u001b[0mself\u001b[0m\u001b[0;34m.\u001b[0m\u001b[0m_getitem_multilevel\u001b[0m\u001b[0;34m(\u001b[0m\u001b[0mkey\u001b[0m\u001b[0;34m)\u001b[0m\u001b[0;34m\u001b[0m\u001b[0;34m\u001b[0m\u001b[0m\n\u001b[0;32m-> 3761\u001b[0;31m             \u001b[0mindexer\u001b[0m \u001b[0;34m=\u001b[0m \u001b[0mself\u001b[0m\u001b[0;34m.\u001b[0m\u001b[0mcolumns\u001b[0m\u001b[0;34m.\u001b[0m\u001b[0mget_loc\u001b[0m\u001b[0;34m(\u001b[0m\u001b[0mkey\u001b[0m\u001b[0;34m)\u001b[0m\u001b[0;34m\u001b[0m\u001b[0;34m\u001b[0m\u001b[0m\n\u001b[0m\u001b[1;32m   3762\u001b[0m             \u001b[0;32mif\u001b[0m \u001b[0mis_integer\u001b[0m\u001b[0;34m(\u001b[0m\u001b[0mindexer\u001b[0m\u001b[0;34m)\u001b[0m\u001b[0;34m:\u001b[0m\u001b[0;34m\u001b[0m\u001b[0;34m\u001b[0m\u001b[0m\n\u001b[1;32m   3763\u001b[0m                 \u001b[0mindexer\u001b[0m \u001b[0;34m=\u001b[0m \u001b[0;34m[\u001b[0m\u001b[0mindexer\u001b[0m\u001b[0;34m]\u001b[0m\u001b[0;34m\u001b[0m\u001b[0;34m\u001b[0m\u001b[0m\n",
            "\u001b[0;32m/usr/local/lib/python3.10/dist-packages/pandas/core/indexes/base.py\u001b[0m in \u001b[0;36mget_loc\u001b[0;34m(self, key)\u001b[0m\n\u001b[1;32m   3658\u001b[0m             \u001b[0;31m#  InvalidIndexError. Otherwise we fall through and re-raise\u001b[0m\u001b[0;34m\u001b[0m\u001b[0;34m\u001b[0m\u001b[0m\n\u001b[1;32m   3659\u001b[0m             \u001b[0;31m#  the TypeError.\u001b[0m\u001b[0;34m\u001b[0m\u001b[0;34m\u001b[0m\u001b[0m\n\u001b[0;32m-> 3660\u001b[0;31m             \u001b[0mself\u001b[0m\u001b[0;34m.\u001b[0m\u001b[0m_check_indexing_error\u001b[0m\u001b[0;34m(\u001b[0m\u001b[0mkey\u001b[0m\u001b[0;34m)\u001b[0m\u001b[0;34m\u001b[0m\u001b[0;34m\u001b[0m\u001b[0m\n\u001b[0m\u001b[1;32m   3661\u001b[0m             \u001b[0;32mraise\u001b[0m\u001b[0;34m\u001b[0m\u001b[0;34m\u001b[0m\u001b[0m\n\u001b[1;32m   3662\u001b[0m \u001b[0;34m\u001b[0m\u001b[0m\n",
            "\u001b[0;32m/usr/local/lib/python3.10/dist-packages/pandas/core/indexes/base.py\u001b[0m in \u001b[0;36m_check_indexing_error\u001b[0;34m(self, key)\u001b[0m\n\u001b[1;32m   5735\u001b[0m             \u001b[0;31m# if key is not a scalar, directly raise an error (the code below\u001b[0m\u001b[0;34m\u001b[0m\u001b[0;34m\u001b[0m\u001b[0m\n\u001b[1;32m   5736\u001b[0m             \u001b[0;31m# would convert to numpy arrays and raise later any way) - GH29926\u001b[0m\u001b[0;34m\u001b[0m\u001b[0;34m\u001b[0m\u001b[0m\n\u001b[0;32m-> 5737\u001b[0;31m             \u001b[0;32mraise\u001b[0m \u001b[0mInvalidIndexError\u001b[0m\u001b[0;34m(\u001b[0m\u001b[0mkey\u001b[0m\u001b[0;34m)\u001b[0m\u001b[0;34m\u001b[0m\u001b[0;34m\u001b[0m\u001b[0m\n\u001b[0m\u001b[1;32m   5738\u001b[0m \u001b[0;34m\u001b[0m\u001b[0m\n\u001b[1;32m   5739\u001b[0m     \u001b[0;34m@\u001b[0m\u001b[0mcache_readonly\u001b[0m\u001b[0;34m\u001b[0m\u001b[0;34m\u001b[0m\u001b[0m\n",
            "\u001b[0;31mInvalidIndexError\u001b[0m: (Index(['2005-01-01', '2005-01-01', '2005-01-01', '2005-01-01', '2005-01-01',\n       '2005-01-01', '2005-01-02', '2005-01-02', '2005-01-02', '2005-01-02',\n       ...\n       '2014-12-30', '2014-12-30', '2014-12-30', '2014-12-31', '2014-12-31',\n       '2014-12-31', '2014-12-31', '2014-12-31', '2014-12-31', '2014-12-31'],\n      dtype='object', length=30373), slice(None, None, None))"
          ]
        }
      ]
    },
    {
      "cell_type": "markdown",
      "source": [
        "# Train validation test split"
      ],
      "metadata": {
        "id": "Ax7vweLdq4zj"
      }
    },
    {
      "cell_type": "code",
      "source": [
        "# For the model without weather\n",
        "X_train_no_weather, X_test_no_weather, y_train_no_weather, y_test_no_weather = train_test_split(input_matrices,\n",
        "                                                                                                target_matrices,\n",
        "                                                                                                test_size=0.2,\n",
        "                                                                                                random_state=42)\n",
        "\n",
        "# For the model with weather\n",
        "X_train_weather_data = [input_matrices, days_of_week_array, months_array, temp_precip_data_reshaped]\n",
        "X_train_weather, X_test_weather, y_train_weather, y_test_weather = train_test_split(X_train_weather_data,\n",
        "                                                                                    target_matrices,\n",
        "                                                                                    test_size=0.2,\n",
        "                                                                                    random_state=42)\n"
      ],
      "metadata": {
        "colab": {
          "base_uri": "https://localhost:8080/",
          "height": 365
        },
        "id": "NOqhgz8Xq9Fv",
        "outputId": "fbaf28c6-9abc-4cb1-aafe-b2ab9dfad4b5"
      },
      "execution_count": 97,
      "outputs": [
        {
          "output_type": "error",
          "ename": "ValueError",
          "evalue": "Found input variables with inconsistent numbers of samples: [4, 30373]",
          "traceback": [
            "\u001b[0;31m---------------------------------------------------------------------------\u001b[0m",
            "\u001b[0;31mValueError\u001b[0m                                Traceback (most recent call last)",
            "\u001b[0;32m<ipython-input-97-f2c2a6493b52>\u001b[0m in \u001b[0;36m<cell line: 9>\u001b[0;34m()\u001b[0m\n\u001b[1;32m      7\u001b[0m \u001b[0;31m# For the model with weather\u001b[0m\u001b[0;34m\u001b[0m\u001b[0;34m\u001b[0m\u001b[0m\n\u001b[1;32m      8\u001b[0m \u001b[0mX_train_weather_data\u001b[0m \u001b[0;34m=\u001b[0m \u001b[0;34m[\u001b[0m\u001b[0minput_matrices\u001b[0m\u001b[0;34m,\u001b[0m \u001b[0mdays_of_week_array\u001b[0m\u001b[0;34m,\u001b[0m \u001b[0mmonths_array\u001b[0m\u001b[0;34m,\u001b[0m \u001b[0mtemp_precip_data_reshaped\u001b[0m\u001b[0;34m]\u001b[0m\u001b[0;34m\u001b[0m\u001b[0;34m\u001b[0m\u001b[0m\n\u001b[0;32m----> 9\u001b[0;31m X_train_weather, X_test_weather, y_train_weather, y_test_weather = train_test_split(X_train_weather_data, \n\u001b[0m\u001b[1;32m     10\u001b[0m                                                                                     \u001b[0mtarget_matrices\u001b[0m\u001b[0;34m,\u001b[0m\u001b[0;34m\u001b[0m\u001b[0;34m\u001b[0m\u001b[0m\n\u001b[1;32m     11\u001b[0m                                                                                     \u001b[0mtest_size\u001b[0m\u001b[0;34m=\u001b[0m\u001b[0;36m0.2\u001b[0m\u001b[0;34m,\u001b[0m\u001b[0;34m\u001b[0m\u001b[0;34m\u001b[0m\u001b[0m\n",
            "\u001b[0;32m/usr/local/lib/python3.10/dist-packages/sklearn/model_selection/_split.py\u001b[0m in \u001b[0;36mtrain_test_split\u001b[0;34m(test_size, train_size, random_state, shuffle, stratify, *arrays)\u001b[0m\n\u001b[1;32m   2557\u001b[0m         \u001b[0;32mraise\u001b[0m \u001b[0mValueError\u001b[0m\u001b[0;34m(\u001b[0m\u001b[0;34m\"At least one array required as input\"\u001b[0m\u001b[0;34m)\u001b[0m\u001b[0;34m\u001b[0m\u001b[0;34m\u001b[0m\u001b[0m\n\u001b[1;32m   2558\u001b[0m \u001b[0;34m\u001b[0m\u001b[0m\n\u001b[0;32m-> 2559\u001b[0;31m     \u001b[0marrays\u001b[0m \u001b[0;34m=\u001b[0m \u001b[0mindexable\u001b[0m\u001b[0;34m(\u001b[0m\u001b[0;34m*\u001b[0m\u001b[0marrays\u001b[0m\u001b[0;34m)\u001b[0m\u001b[0;34m\u001b[0m\u001b[0;34m\u001b[0m\u001b[0m\n\u001b[0m\u001b[1;32m   2560\u001b[0m \u001b[0;34m\u001b[0m\u001b[0m\n\u001b[1;32m   2561\u001b[0m     \u001b[0mn_samples\u001b[0m \u001b[0;34m=\u001b[0m \u001b[0m_num_samples\u001b[0m\u001b[0;34m(\u001b[0m\u001b[0marrays\u001b[0m\u001b[0;34m[\u001b[0m\u001b[0;36m0\u001b[0m\u001b[0;34m]\u001b[0m\u001b[0;34m)\u001b[0m\u001b[0;34m\u001b[0m\u001b[0;34m\u001b[0m\u001b[0m\n",
            "\u001b[0;32m/usr/local/lib/python3.10/dist-packages/sklearn/utils/validation.py\u001b[0m in \u001b[0;36mindexable\u001b[0;34m(*iterables)\u001b[0m\n\u001b[1;32m    441\u001b[0m \u001b[0;34m\u001b[0m\u001b[0m\n\u001b[1;32m    442\u001b[0m     \u001b[0mresult\u001b[0m \u001b[0;34m=\u001b[0m \u001b[0;34m[\u001b[0m\u001b[0m_make_indexable\u001b[0m\u001b[0;34m(\u001b[0m\u001b[0mX\u001b[0m\u001b[0;34m)\u001b[0m \u001b[0;32mfor\u001b[0m \u001b[0mX\u001b[0m \u001b[0;32min\u001b[0m \u001b[0miterables\u001b[0m\u001b[0;34m]\u001b[0m\u001b[0;34m\u001b[0m\u001b[0;34m\u001b[0m\u001b[0m\n\u001b[0;32m--> 443\u001b[0;31m     \u001b[0mcheck_consistent_length\u001b[0m\u001b[0;34m(\u001b[0m\u001b[0;34m*\u001b[0m\u001b[0mresult\u001b[0m\u001b[0;34m)\u001b[0m\u001b[0;34m\u001b[0m\u001b[0;34m\u001b[0m\u001b[0m\n\u001b[0m\u001b[1;32m    444\u001b[0m     \u001b[0;32mreturn\u001b[0m \u001b[0mresult\u001b[0m\u001b[0;34m\u001b[0m\u001b[0;34m\u001b[0m\u001b[0m\n\u001b[1;32m    445\u001b[0m \u001b[0;34m\u001b[0m\u001b[0m\n",
            "\u001b[0;32m/usr/local/lib/python3.10/dist-packages/sklearn/utils/validation.py\u001b[0m in \u001b[0;36mcheck_consistent_length\u001b[0;34m(*arrays)\u001b[0m\n\u001b[1;32m    395\u001b[0m     \u001b[0muniques\u001b[0m \u001b[0;34m=\u001b[0m \u001b[0mnp\u001b[0m\u001b[0;34m.\u001b[0m\u001b[0munique\u001b[0m\u001b[0;34m(\u001b[0m\u001b[0mlengths\u001b[0m\u001b[0;34m)\u001b[0m\u001b[0;34m\u001b[0m\u001b[0;34m\u001b[0m\u001b[0m\n\u001b[1;32m    396\u001b[0m     \u001b[0;32mif\u001b[0m \u001b[0mlen\u001b[0m\u001b[0;34m(\u001b[0m\u001b[0muniques\u001b[0m\u001b[0;34m)\u001b[0m \u001b[0;34m>\u001b[0m \u001b[0;36m1\u001b[0m\u001b[0;34m:\u001b[0m\u001b[0;34m\u001b[0m\u001b[0;34m\u001b[0m\u001b[0m\n\u001b[0;32m--> 397\u001b[0;31m         raise ValueError(\n\u001b[0m\u001b[1;32m    398\u001b[0m             \u001b[0;34m\"Found input variables with inconsistent numbers of samples: %r\"\u001b[0m\u001b[0;34m\u001b[0m\u001b[0;34m\u001b[0m\u001b[0m\n\u001b[1;32m    399\u001b[0m             \u001b[0;34m%\u001b[0m \u001b[0;34m[\u001b[0m\u001b[0mint\u001b[0m\u001b[0;34m(\u001b[0m\u001b[0ml\u001b[0m\u001b[0;34m)\u001b[0m \u001b[0;32mfor\u001b[0m \u001b[0ml\u001b[0m \u001b[0;32min\u001b[0m \u001b[0mlengths\u001b[0m\u001b[0;34m]\u001b[0m\u001b[0;34m\u001b[0m\u001b[0;34m\u001b[0m\u001b[0m\n",
            "\u001b[0;31mValueError\u001b[0m: Found input variables with inconsistent numbers of samples: [4, 30373]"
          ]
        }
      ]
    },
    {
      "cell_type": "code",
      "source": [
        "print(\"Shape of input_matrices:\", input_matrices.shape)\n",
        "print(\"Shape of days_of_week_array:\", days_of_week_array.shape)\n",
        "print(\"Shape of months_array:\", months_array.shape)\n",
        "print(\"Shape of temp_precip_data_reshaped:\", temp_precip_data_reshaped.shape)\n",
        "print(\"Shape of target_matrices:\", target_matrices.shape)"
      ],
      "metadata": {
        "id": "dDC9Ck7laZ5v",
        "outputId": "7f8f43e7-e8e8-46c5-c40c-db8eab265373",
        "colab": {
          "base_uri": "https://localhost:8080/"
        }
      },
      "execution_count": 98,
      "outputs": [
        {
          "output_type": "stream",
          "name": "stdout",
          "text": [
            "Shape of input_matrices: (30373, 30, 30)\n",
            "Shape of days_of_week_array: (30600, 1)\n",
            "Shape of months_array: (30600, 1)\n",
            "Shape of temp_precip_data_reshaped: (6757, 1, 4)\n",
            "Shape of target_matrices: (30373, 30, 30)\n"
          ]
        }
      ]
    },
    {
      "cell_type": "markdown",
      "source": [
        "# Define models\n",
        "Defining two models, one that includes the weather data and one that does not. I will compare the performance of the two.\n",
        "\n",
        "## Without weather data"
      ],
      "metadata": {
        "id": "d5L9spiKq2rk"
      }
    },
    {
      "cell_type": "code",
      "source": [
        "# Input shapes\n",
        "input_shape_matrices = (30, 30)\n",
        "input_shape_day_of_week = (7,)\n",
        "input_shape_month = (12,)\n",
        "\n",
        "# Define input layers\n",
        "input_matrices_layer = Input(shape=input_shape_matrices,\n",
        "                             name=\"input_matrices\")\n",
        "input_day_of_week = Input(shape=input_shape_day_of_week,\n",
        "                          name=\"input_day_of_week\")\n",
        "input_month = Input(shape=input_shape_month,\n",
        "                    name=\"input_month\")\n",
        "\n",
        "# Concatenate the day of week and month inputs\n",
        "concatenated_inputs = concatenate([input_day_of_week, input_month],\n",
        "                                  name=\"concatenate_dow_and_month\")\n",
        "\n",
        "# Reshape concatenated input to include the timestep dimension\n",
        "reshaped_inputs = Reshape((1, -1),\n",
        "                          name=\"reshape_concat\")(concatenated_inputs)\n",
        "\n",
        "# Define LSTM layer for processing the concatenated input\n",
        "lstm = LSTM(units=64,\n",
        "            name=\"lstm\")(reshaped_inputs)\n",
        "\n",
        "# Flatten the matrix input\n",
        "flattened_matrices = Flatten(name=\"flatten_matrices\")(input_matrices_layer)\n",
        "\n",
        "# Concatenate LSTM output with the flattened matrix input\n",
        "concatenated_outputs = concatenate([lstm, flattened_matrices],\n",
        "                                   name = 'concatenate_lstm_with_matrix')\n",
        "\n",
        "# Define output layer\n",
        "output = Dense(units=30*30,\n",
        "               activation='linear',\n",
        "               name=\"dense_output\")(concatenated_outputs)  # Output is a matrix\n",
        "\n",
        "# Reshape output to match the shape of the input matrix\n",
        "output = Reshape((30, 30),\n",
        "                 name=\"reshape_output_match_input\")(output)\n",
        "\n",
        "# Define the model\n",
        "model = Model(inputs=[input_matrices_layer, input_day_of_week, input_month],\n",
        "              outputs=output,\n",
        "              name=\"no_weather\")\n",
        "\n",
        "# Compile the model\n",
        "model.compile(optimizer='adam', loss='mse', metrics=['mae'])\n",
        "\n",
        "# Display model summary\n",
        "model.summary()\n"
      ],
      "metadata": {
        "id": "GqorvfgDIy5c"
      },
      "execution_count": null,
      "outputs": []
    },
    {
      "cell_type": "code",
      "source": [
        "# Fit model\n",
        "history_no_weather = model.fit(\n",
        "    [X_train, encoded_days_of_week[:len(X_train)], encoded_months[:len(X_train)]],\n",
        "    y_train,\n",
        "    epochs=50,\n",
        "    batch_size=32,\n",
        "    validation_data=([X_val, encoded_days_of_week[len(X_train):len(X_train)+len(X_val)], encoded_months[len(X_train):len(X_train)+len(X_val)]], y_val)\n",
        ")"
      ],
      "metadata": {
        "id": "QqJsutMMseD0"
      },
      "execution_count": null,
      "outputs": []
    },
    {
      "cell_type": "markdown",
      "source": [
        "## Model including weather"
      ],
      "metadata": {
        "id": "g4_Gn28yLZ3d"
      }
    },
    {
      "cell_type": "code",
      "source": [
        "input_shape_weather = (4,)\n",
        "\n",
        "# Define weather input layer\n",
        "input_weather = Input(shape=input_shape_weather,\n",
        "                      name='input_weather')\n",
        "\n",
        "# Concatenate the day of week, month, and temp/precip inputs\n",
        "concatenated_inputs_weather = concatenate([input_day_of_week, input_month, input_weather],\n",
        "                                          name=\"concatenated_dow_month_weather\")\n",
        "\n",
        "# Reshape concatenated input to include the timestep dimension\n",
        "reshaped_inputs_weather = Reshape((1, -1),\n",
        "                                  name='reshape_concat_input_weather')(concatenated_inputs_weather)\n",
        "\n",
        "# Define LSTM layer for processing the concatenated input\n",
        "lstm_out_weather = LSTM(units=64,\n",
        "                        name='lstm_weather')(reshaped_inputs_weather)\n",
        "\n",
        "# Flatten the matrix input\n",
        "flattened_matrices_weather = Flatten(name = 'flatten_matrices_weather')(input_matrices_layer)\n",
        "\n",
        "# Concatenate LSTM output with the flattened matrix input\n",
        "concatenated_outputs_weather = concatenate([lstm_out_weather, flattened_matrices_weather],\n",
        "                                           name = 'concat_lstm_out_matrix_weather')\n",
        "\n",
        "# Define output layer\n",
        "output_weather = Dense(units=30*30, activation='linear',\n",
        "                       name = 'weather_out')(concatenated_outputs_weather)  # Output is a matrix\n",
        "\n",
        "# Reshape output to match the shape of the input matrix\n",
        "output = Reshape((30, 30),\n",
        "                 name='reshape_out_weather')(output)\n",
        "\n",
        "# Define the model\n",
        "model_weather = Model(inputs=[input_matrices_layer,\n",
        "                              input_day_of_week,\n",
        "                              input_month,\n",
        "                              input_weather],\n",
        "                      outputs=output,\n",
        "                      name = 'model_weather')\n",
        "\n",
        "# Compile the model\n",
        "model_weather.compile(optimizer='adam', loss='mse', metrics=['mae'])\n",
        "\n",
        "# Display model summary\n",
        "model_weather.summary()"
      ],
      "metadata": {
        "id": "Ojww-ra162bt"
      },
      "execution_count": null,
      "outputs": []
    },
    {
      "cell_type": "markdown",
      "source": [],
      "metadata": {
        "id": "P_PLouIVTMnU"
      }
    },
    {
      "cell_type": "code",
      "source": [
        "predictions = model.predict([X_test, encoded_days_of_week[len(X_train) + len(X_val):], encoded_months[len(X_train) + len(X_val):]])"
      ],
      "metadata": {
        "id": "zbXn5-s1ACoI"
      },
      "execution_count": null,
      "outputs": []
    },
    {
      "cell_type": "code",
      "source": [],
      "metadata": {
        "id": "qRLBMw-WCd60"
      },
      "execution_count": null,
      "outputs": []
    },
    {
      "cell_type": "code",
      "source": [
        "pred_sum = np.sum(predictions, axis=0)\n",
        "actual_sum = np.sum(y_test, axis=0)\n",
        "train_sum = np.sum(input_matrices, axis=0)\n",
        "plt.subplot(1, 3, 1)\n",
        "plt.imshow(pred_sum)\n",
        "\n",
        "plt.subplot(1, 3, 2)\n",
        "plt.imshow(actual_sum)\n",
        "\n",
        "plt.subplot(1, 3, 3)\n",
        "plt.imshow(train_sum)"
      ],
      "metadata": {
        "id": "_3S3E86ZAzNq"
      },
      "execution_count": null,
      "outputs": []
    },
    {
      "cell_type": "code",
      "source": [
        "from sklearn.metrics import mean_absolute_error\n",
        "mae = mean_absolute_error(y_test, predictions)\n",
        "mae"
      ],
      "metadata": {
        "id": "S9yVZhk0ATbW"
      },
      "execution_count": null,
      "outputs": []
    },
    {
      "cell_type": "markdown",
      "source": [
        "# Evaluating performance of the model\n",
        "Problem: How to evaluate the performance of a neural network that outputs a 30x30 matrix?\n",
        "MSE and MAE are only considering the values in the matrix, not the location of the values.\n",
        "\n",
        "## Potential approach:\n",
        "- Comparing monthly estimates to actual monthly outcomes.\n",
        "- Sum all of the matrices for predicted month and actual month.\n",
        "- Convert summed matrices to 30x30 image.\n",
        "- Calculate the structural similarity index between the actual and predicted images."
      ],
      "metadata": {
        "id": "qKZy-oIvifsK"
      }
    },
    {
      "cell_type": "code",
      "source": [],
      "metadata": {
        "id": "oov4U75xs0QA"
      },
      "execution_count": null,
      "outputs": []
    },
    {
      "cell_type": "code",
      "source": [
        "import numpy as np"
      ],
      "metadata": {
        "id": "lEnLDqsMA1_7"
      },
      "execution_count": null,
      "outputs": []
    },
    {
      "cell_type": "code",
      "source": [
        "m1 = input_matrices[0]\n",
        "m2 = input_matrices[20]\n",
        "m3 = input_matrices[0]\n",
        "for i in input_matrices[1:31]:\n",
        "  m3 += i"
      ],
      "metadata": {
        "id": "qsJm5GTyAYrD"
      },
      "execution_count": null,
      "outputs": []
    },
    {
      "cell_type": "code",
      "source": [
        "print(\"m1\")\n",
        "print(m1)\n",
        "print(\"\\nm2\")\n",
        "print(m2)\n",
        "print()\n",
        "print(m3)"
      ],
      "metadata": {
        "id": "uzOw22fwtnzV"
      },
      "execution_count": null,
      "outputs": []
    },
    {
      "cell_type": "code",
      "source": [
        "from skimage.metrics import structural_similarity as ssim\n",
        "\n",
        "def compare_matrices_ssim(matrix1, matrix2):\n",
        "    \"\"\"\n",
        "    Compare the similarity between two matrices using Structural Similarity Index (SSIM).\n",
        "\n",
        "    Parameters:\n",
        "        matrix1 (numpy.ndarray): First matrix.\n",
        "        matrix2 (numpy.ndarray): Second matrix.\n",
        "\n",
        "    Returns:\n",
        "        float: Structural Similarity Index (SSIM) between the two matrices.\n",
        "    \"\"\"\n",
        "    return ssim(matrix1, matrix2)\n",
        "\n",
        "ssim_value = compare_matrices_ssim(m1, m2)\n",
        "ssim_value"
      ],
      "metadata": {
        "id": "3TuAwYfgBVdP"
      },
      "execution_count": null,
      "outputs": []
    },
    {
      "cell_type": "code",
      "source": [
        "import skimage\n",
        "skimage.data.camera()\n",
        "import numpy as np\n",
        "from matplotlib import pyplot as plt\n",
        "\n",
        "\n",
        "plt.subplot(1, 2, 1)\n",
        "plt.imshow(m1)\n",
        "plt.subplot(1, 2, 2)\n",
        "plt.imshow(m3)\n",
        "plt.title('Matrix 2')\n",
        "\n"
      ],
      "metadata": {
        "id": "D3cq88y_udc9"
      },
      "execution_count": null,
      "outputs": []
    },
    {
      "cell_type": "code",
      "source": [
        "from folium import plugins\n",
        "\n",
        "# Define the boundaries of the image overlay\n",
        "overlay_bounds = [(min_lat, min_long), (max_lat, max_long)]\n",
        "\n",
        "# Create the Folium map\n",
        "m = folium.Map(location=(mean_lat, mean_long), zoom_start=12)\n",
        "\n",
        "# Add the image overlay to the map\n",
        "folium.raster_layers.ImageOverlay(\n",
        "    image=np.array(m3),  # Convert m1 to numpy array\n",
        "    bounds=overlay_bounds,\n",
        "    opacity=0.5,\n",
        ").add_to(m)\n",
        "m"
      ],
      "metadata": {
        "id": "H2d4acRMayl5"
      },
      "execution_count": null,
      "outputs": []
    },
    {
      "cell_type": "code",
      "source": [
        "! pip install folium[plugins]\n"
      ],
      "metadata": {
        "id": "4a6Y5ieobA-_"
      },
      "execution_count": null,
      "outputs": []
    },
    {
      "cell_type": "markdown",
      "source": [],
      "metadata": {
        "id": "gu3rpJaHGiAX"
      }
    }
  ],
  "metadata": {
    "language_info": {
      "name": "python"
    },
    "colab": {
      "provenance": []
    },
    "kernelspec": {
      "name": "python3",
      "display_name": "Python 3"
    }
  },
  "nbformat": 4,
  "nbformat_minor": 0
}