{
  "cells": [
    {
      "cell_type": "markdown",
      "source": [
        "# San Francisco Traffic Accident Frequency\n",
        "## Miguel Candido Aurora Peralta\n",
        "### Transformative AI for Residential and Transportation Safety Vertically Integrated Project\n",
        "### Spring 2024 Senior Capstone Project <br><br>\n",
        "\n",
        "# Imports"
      ],
      "metadata": {
        "id": "igUhSeUYHUwb"
      }
    },
    {
      "cell_type": "code",
      "source": [
        "from google.colab import drive\n",
        "\n",
        "import matplotlib.pyplot as plt\n",
        "import numpy as np\n",
        "from datetime import datetime, timedelta\n",
        "import pandas as pd\n",
        "import json\n",
        "import requests\n",
        "\n",
        "import folium\n",
        "\n",
        "from sklearn.preprocessing import MinMaxScaler, StandardScaler, OneHotEncoder\n",
        "from sklearn.compose import ColumnTransformer\n",
        "from sklearn.metrics import mean_squared_error\n",
        "from sklearn.model_selection import train_test_split\n",
        "\n",
        "from keras.models import Model\n",
        "from keras.layers import (Input, LSTM, Dense, Concatenate,\n",
        "                          TimeDistributed, Reshape, RepeatVector, Dropout)\n",
        "\n"
      ],
      "metadata": {
        "id": "Po3ve8GnHWdL"
      },
      "execution_count": 453,
      "outputs": []
    },
    {
      "cell_type": "markdown",
      "source": [
        "# Getting data\n",
        "## Traffic Accident Data\n",
        "Data obtained from  SFGov's dataset titled \"Traffic Crashes Resulting in Injury\" from 1/1/2005 to 12/31/2023.\n",
        "\n",
        "About the data, including column descriptions: https://data.sfgov.org/Public-Safety/Traffic-Crashes-Resulting-in-Injury/ubvf-ztfx/about_data"
      ],
      "metadata": {
        "id": "Osj2Rhb1zsnR"
      }
    },
    {
      "cell_type": "code",
      "execution_count": 454,
      "metadata": {
        "id": "8nDUVJiFwlVT",
        "outputId": "26635c38-4109-4da9-8e47-854c7be5a062",
        "colab": {
          "base_uri": "https://localhost:8080/"
        }
      },
      "outputs": [
        {
          "output_type": "stream",
          "name": "stdout",
          "text": [
            "Drive already mounted at /content/gdrive; to attempt to forcibly remount, call drive.mount(\"/content/gdrive\", force_remount=True).\n"
          ]
        }
      ],
      "source": [
        "drive.mount('/content/gdrive')\n"
      ]
    },
    {
      "cell_type": "code",
      "source": [
        "df=pd.read_csv('gdrive/My Drive/crashes.csv')"
      ],
      "metadata": {
        "colab": {
          "base_uri": "https://localhost:8080/"
        },
        "id": "MKX43B_UrFTh",
        "outputId": "365aca14-6e3c-41c2-bb01-ed30b91b4af4"
      },
      "execution_count": 455,
      "outputs": [
        {
          "output_type": "stream",
          "name": "stderr",
          "text": [
            "<ipython-input-455-01903bcfc559>:1: DtypeWarning: Columns (3,15) have mixed types. Specify dtype option on import or set low_memory=False.\n",
            "  df=pd.read_csv('gdrive/My Drive/crashes.csv')\n"
          ]
        }
      ]
    },
    {
      "cell_type": "markdown",
      "source": [
        "## Weather"
      ],
      "metadata": {
        "id": "rvcSMUgiHdmp"
      }
    },
    {
      "cell_type": "code",
      "source": [
        "# Retrieving daily data for max temp, min temp, average temp, and precipitation\n",
        "def get_weather_data():\n",
        "\n",
        "  # Generate the range of dates\n",
        "  start_date = datetime(2005, 1, 1)\n",
        "  end_date = datetime(2023, 12, 31)\n",
        "  one_day = timedelta(days=1)\n",
        "  date_range = [start_date + timedelta(days=i) for i in range((end_date - start_date).days + 1)]\n",
        "\n",
        "  # Initialize DataFrame\n",
        "  weather_df = pd.DataFrame(index=date_range)\n",
        "\n",
        "  # Codes for max temp, min temp, average temp, and precipitation\n",
        "  elements = {'max_temp':'1', 'min_temp':'2', 'avg_temp':'43', 'precip':'4'}\n",
        "\n",
        "  for key, val in elements.items():\n",
        "    # RCIS API call\n",
        "    url = \"http://data.rcc-acis.org/\"\n",
        "    input_dict = {\n",
        "        \"sid\":\"USW00023272 6\",\n",
        "        \"sdate\":\"2005-01-01\",\n",
        "        \"edate\":\"2023-12-31\",\n",
        "        \"elems\":val,\n",
        "        \"output\":\"json\"}\n",
        "    params = {'params': json.dumps(input_dict)}\n",
        "    headers = {'Accept': 'application/json'}\n",
        "    req = requests.post('http://data.rcc-acis.org/StnData', data=params, headers=headers)\n",
        "    response = req.json()\n",
        "    response_data = [item[1] for item in response['data']]\n",
        "\n",
        "    # Store in dataframe\n",
        "    weather_df[key] = response_data\n",
        "\n",
        "  return weather_df"
      ],
      "metadata": {
        "id": "ugreu5pTHf3X"
      },
      "execution_count": 456,
      "outputs": []
    },
    {
      "cell_type": "code",
      "source": [
        "raw_weather_df = get_weather_data()\n",
        "# Replace \"M\" with NaN\n",
        "raw_weather_df.replace(\"M\", np.nan, inplace=True)\n",
        "\n",
        "# Convert to numeric\n",
        "raw_weather_df = raw_weather_df.apply(pd.to_numeric, errors='ignore')\n",
        "\n",
        "# Impute with the median for each column\n",
        "weather_df = raw_weather_df.fillna(raw_weather_df.median())\n",
        "\n",
        "print(weather_df.head())"
      ],
      "metadata": {
        "colab": {
          "base_uri": "https://localhost:8080/"
        },
        "id": "QDGNTwpSJ52J",
        "outputId": "509142a3-5bf9-4b56-8540-f35265c0b852"
      },
      "execution_count": 457,
      "outputs": [
        {
          "output_type": "stream",
          "name": "stdout",
          "text": [
            "            max_temp  min_temp  avg_temp  precip\n",
            "2005-01-01      54.0      45.0      49.5    0.37\n",
            "2005-01-02      47.0      46.0      46.5    0.93\n",
            "2005-01-03      54.0      44.0      49.0    0.03\n",
            "2005-01-04      53.0      44.0      48.5    0.04\n",
            "2005-01-05      51.0      46.0      48.5    0.03\n"
          ]
        }
      ]
    },
    {
      "cell_type": "markdown",
      "source": [
        "# Removing unnecessary data and checking datatypes"
      ],
      "metadata": {
        "id": "MBav0UKCzwhU"
      }
    },
    {
      "cell_type": "code",
      "source": [
        "# Selecting necessary columns\n",
        "df = df[[\"collision_datetime\", \"collision_date\", \"accident_year\", \"month\", \"day_of_week\", 'tb_latitude', 'tb_longitude']]"
      ],
      "metadata": {
        "id": "ZxUUS96H_iuG"
      },
      "execution_count": 458,
      "outputs": []
    },
    {
      "cell_type": "code",
      "source": [
        "print(df.info())"
      ],
      "metadata": {
        "colab": {
          "base_uri": "https://localhost:8080/"
        },
        "id": "sXK33VA8_tI_",
        "outputId": "fdc46809-19f5-4a36-c703-3c86f9f7e2a6"
      },
      "execution_count": 459,
      "outputs": [
        {
          "output_type": "stream",
          "name": "stdout",
          "text": [
            "<class 'pandas.core.frame.DataFrame'>\n",
            "RangeIndex: 58262 entries, 0 to 58261\n",
            "Data columns (total 7 columns):\n",
            " #   Column              Non-Null Count  Dtype  \n",
            "---  ------              --------------  -----  \n",
            " 0   collision_datetime  58262 non-null  object \n",
            " 1   collision_date      58262 non-null  object \n",
            " 2   accident_year       58262 non-null  int64  \n",
            " 3   month               58262 non-null  object \n",
            " 4   day_of_week         58254 non-null  object \n",
            " 5   tb_latitude         58064 non-null  float64\n",
            " 6   tb_longitude        58064 non-null  float64\n",
            "dtypes: float64(2), int64(1), object(4)\n",
            "memory usage: 3.1+ MB\n",
            "None\n"
          ]
        }
      ]
    },
    {
      "cell_type": "code",
      "source": [
        "df.head()"
      ],
      "metadata": {
        "id": "yKnBalw1BBLC",
        "outputId": "e2621660-c400-4621-e0bf-d947be6a76b2",
        "colab": {
          "base_uri": "https://localhost:8080/",
          "height": 313
        }
      },
      "execution_count": 460,
      "outputs": [
        {
          "output_type": "execute_result",
          "data": {
            "text/plain": [
              "       collision_datetime     collision_date  accident_year      month  \\\n",
              "0  12/18/2023 02:15:00 PM   2023 December 18           2023   December   \n",
              "1  01/20/2015 10:07:00 AM    2015 January 20           2015    January   \n",
              "2  04/23/2013 11:26:00 AM      2013 April 23           2013      April   \n",
              "3  08/22/2007 10:30:00 PM     2007 August 22           2007     August   \n",
              "4  09/03/2009 01:35:00 PM  2009 September 03           2009  September   \n",
              "\n",
              "  day_of_week  tb_latitude  tb_longitude  \n",
              "0      Monday    37.743586   -122.463710  \n",
              "1     Tuesday    37.781750   -122.396380  \n",
              "2     Tuesday    37.761830   -122.503878  \n",
              "3   Wednesday    37.783992   -122.408066  \n",
              "4    Thursday    37.785291   -122.424770  "
            ],
            "text/html": [
              "\n",
              "  <div id=\"df-4beb0382-3766-46f4-a498-c61ff3c6af94\" class=\"colab-df-container\">\n",
              "    <div>\n",
              "<style scoped>\n",
              "    .dataframe tbody tr th:only-of-type {\n",
              "        vertical-align: middle;\n",
              "    }\n",
              "\n",
              "    .dataframe tbody tr th {\n",
              "        vertical-align: top;\n",
              "    }\n",
              "\n",
              "    .dataframe thead th {\n",
              "        text-align: right;\n",
              "    }\n",
              "</style>\n",
              "<table border=\"1\" class=\"dataframe\">\n",
              "  <thead>\n",
              "    <tr style=\"text-align: right;\">\n",
              "      <th></th>\n",
              "      <th>collision_datetime</th>\n",
              "      <th>collision_date</th>\n",
              "      <th>accident_year</th>\n",
              "      <th>month</th>\n",
              "      <th>day_of_week</th>\n",
              "      <th>tb_latitude</th>\n",
              "      <th>tb_longitude</th>\n",
              "    </tr>\n",
              "  </thead>\n",
              "  <tbody>\n",
              "    <tr>\n",
              "      <th>0</th>\n",
              "      <td>12/18/2023 02:15:00 PM</td>\n",
              "      <td>2023 December 18</td>\n",
              "      <td>2023</td>\n",
              "      <td>December</td>\n",
              "      <td>Monday</td>\n",
              "      <td>37.743586</td>\n",
              "      <td>-122.463710</td>\n",
              "    </tr>\n",
              "    <tr>\n",
              "      <th>1</th>\n",
              "      <td>01/20/2015 10:07:00 AM</td>\n",
              "      <td>2015 January 20</td>\n",
              "      <td>2015</td>\n",
              "      <td>January</td>\n",
              "      <td>Tuesday</td>\n",
              "      <td>37.781750</td>\n",
              "      <td>-122.396380</td>\n",
              "    </tr>\n",
              "    <tr>\n",
              "      <th>2</th>\n",
              "      <td>04/23/2013 11:26:00 AM</td>\n",
              "      <td>2013 April 23</td>\n",
              "      <td>2013</td>\n",
              "      <td>April</td>\n",
              "      <td>Tuesday</td>\n",
              "      <td>37.761830</td>\n",
              "      <td>-122.503878</td>\n",
              "    </tr>\n",
              "    <tr>\n",
              "      <th>3</th>\n",
              "      <td>08/22/2007 10:30:00 PM</td>\n",
              "      <td>2007 August 22</td>\n",
              "      <td>2007</td>\n",
              "      <td>August</td>\n",
              "      <td>Wednesday</td>\n",
              "      <td>37.783992</td>\n",
              "      <td>-122.408066</td>\n",
              "    </tr>\n",
              "    <tr>\n",
              "      <th>4</th>\n",
              "      <td>09/03/2009 01:35:00 PM</td>\n",
              "      <td>2009 September 03</td>\n",
              "      <td>2009</td>\n",
              "      <td>September</td>\n",
              "      <td>Thursday</td>\n",
              "      <td>37.785291</td>\n",
              "      <td>-122.424770</td>\n",
              "    </tr>\n",
              "  </tbody>\n",
              "</table>\n",
              "</div>\n",
              "    <div class=\"colab-df-buttons\">\n",
              "\n",
              "  <div class=\"colab-df-container\">\n",
              "    <button class=\"colab-df-convert\" onclick=\"convertToInteractive('df-4beb0382-3766-46f4-a498-c61ff3c6af94')\"\n",
              "            title=\"Convert this dataframe to an interactive table.\"\n",
              "            style=\"display:none;\">\n",
              "\n",
              "  <svg xmlns=\"http://www.w3.org/2000/svg\" height=\"24px\" viewBox=\"0 -960 960 960\">\n",
              "    <path d=\"M120-120v-720h720v720H120Zm60-500h600v-160H180v160Zm220 220h160v-160H400v160Zm0 220h160v-160H400v160ZM180-400h160v-160H180v160Zm440 0h160v-160H620v160ZM180-180h160v-160H180v160Zm440 0h160v-160H620v160Z\"/>\n",
              "  </svg>\n",
              "    </button>\n",
              "\n",
              "  <style>\n",
              "    .colab-df-container {\n",
              "      display:flex;\n",
              "      gap: 12px;\n",
              "    }\n",
              "\n",
              "    .colab-df-convert {\n",
              "      background-color: #E8F0FE;\n",
              "      border: none;\n",
              "      border-radius: 50%;\n",
              "      cursor: pointer;\n",
              "      display: none;\n",
              "      fill: #1967D2;\n",
              "      height: 32px;\n",
              "      padding: 0 0 0 0;\n",
              "      width: 32px;\n",
              "    }\n",
              "\n",
              "    .colab-df-convert:hover {\n",
              "      background-color: #E2EBFA;\n",
              "      box-shadow: 0px 1px 2px rgba(60, 64, 67, 0.3), 0px 1px 3px 1px rgba(60, 64, 67, 0.15);\n",
              "      fill: #174EA6;\n",
              "    }\n",
              "\n",
              "    .colab-df-buttons div {\n",
              "      margin-bottom: 4px;\n",
              "    }\n",
              "\n",
              "    [theme=dark] .colab-df-convert {\n",
              "      background-color: #3B4455;\n",
              "      fill: #D2E3FC;\n",
              "    }\n",
              "\n",
              "    [theme=dark] .colab-df-convert:hover {\n",
              "      background-color: #434B5C;\n",
              "      box-shadow: 0px 1px 3px 1px rgba(0, 0, 0, 0.15);\n",
              "      filter: drop-shadow(0px 1px 2px rgba(0, 0, 0, 0.3));\n",
              "      fill: #FFFFFF;\n",
              "    }\n",
              "  </style>\n",
              "\n",
              "    <script>\n",
              "      const buttonEl =\n",
              "        document.querySelector('#df-4beb0382-3766-46f4-a498-c61ff3c6af94 button.colab-df-convert');\n",
              "      buttonEl.style.display =\n",
              "        google.colab.kernel.accessAllowed ? 'block' : 'none';\n",
              "\n",
              "      async function convertToInteractive(key) {\n",
              "        const element = document.querySelector('#df-4beb0382-3766-46f4-a498-c61ff3c6af94');\n",
              "        const dataTable =\n",
              "          await google.colab.kernel.invokeFunction('convertToInteractive',\n",
              "                                                    [key], {});\n",
              "        if (!dataTable) return;\n",
              "\n",
              "        const docLinkHtml = 'Like what you see? Visit the ' +\n",
              "          '<a target=\"_blank\" href=https://colab.research.google.com/notebooks/data_table.ipynb>data table notebook</a>'\n",
              "          + ' to learn more about interactive tables.';\n",
              "        element.innerHTML = '';\n",
              "        dataTable['output_type'] = 'display_data';\n",
              "        await google.colab.output.renderOutput(dataTable, element);\n",
              "        const docLink = document.createElement('div');\n",
              "        docLink.innerHTML = docLinkHtml;\n",
              "        element.appendChild(docLink);\n",
              "      }\n",
              "    </script>\n",
              "  </div>\n",
              "\n",
              "\n",
              "<div id=\"df-2a8395b4-01ad-46cf-ad5e-6be63ae00346\">\n",
              "  <button class=\"colab-df-quickchart\" onclick=\"quickchart('df-2a8395b4-01ad-46cf-ad5e-6be63ae00346')\"\n",
              "            title=\"Suggest charts\"\n",
              "            style=\"display:none;\">\n",
              "\n",
              "<svg xmlns=\"http://www.w3.org/2000/svg\" height=\"24px\"viewBox=\"0 0 24 24\"\n",
              "     width=\"24px\">\n",
              "    <g>\n",
              "        <path d=\"M19 3H5c-1.1 0-2 .9-2 2v14c0 1.1.9 2 2 2h14c1.1 0 2-.9 2-2V5c0-1.1-.9-2-2-2zM9 17H7v-7h2v7zm4 0h-2V7h2v10zm4 0h-2v-4h2v4z\"/>\n",
              "    </g>\n",
              "</svg>\n",
              "  </button>\n",
              "\n",
              "<style>\n",
              "  .colab-df-quickchart {\n",
              "      --bg-color: #E8F0FE;\n",
              "      --fill-color: #1967D2;\n",
              "      --hover-bg-color: #E2EBFA;\n",
              "      --hover-fill-color: #174EA6;\n",
              "      --disabled-fill-color: #AAA;\n",
              "      --disabled-bg-color: #DDD;\n",
              "  }\n",
              "\n",
              "  [theme=dark] .colab-df-quickchart {\n",
              "      --bg-color: #3B4455;\n",
              "      --fill-color: #D2E3FC;\n",
              "      --hover-bg-color: #434B5C;\n",
              "      --hover-fill-color: #FFFFFF;\n",
              "      --disabled-bg-color: #3B4455;\n",
              "      --disabled-fill-color: #666;\n",
              "  }\n",
              "\n",
              "  .colab-df-quickchart {\n",
              "    background-color: var(--bg-color);\n",
              "    border: none;\n",
              "    border-radius: 50%;\n",
              "    cursor: pointer;\n",
              "    display: none;\n",
              "    fill: var(--fill-color);\n",
              "    height: 32px;\n",
              "    padding: 0;\n",
              "    width: 32px;\n",
              "  }\n",
              "\n",
              "  .colab-df-quickchart:hover {\n",
              "    background-color: var(--hover-bg-color);\n",
              "    box-shadow: 0 1px 2px rgba(60, 64, 67, 0.3), 0 1px 3px 1px rgba(60, 64, 67, 0.15);\n",
              "    fill: var(--button-hover-fill-color);\n",
              "  }\n",
              "\n",
              "  .colab-df-quickchart-complete:disabled,\n",
              "  .colab-df-quickchart-complete:disabled:hover {\n",
              "    background-color: var(--disabled-bg-color);\n",
              "    fill: var(--disabled-fill-color);\n",
              "    box-shadow: none;\n",
              "  }\n",
              "\n",
              "  .colab-df-spinner {\n",
              "    border: 2px solid var(--fill-color);\n",
              "    border-color: transparent;\n",
              "    border-bottom-color: var(--fill-color);\n",
              "    animation:\n",
              "      spin 1s steps(1) infinite;\n",
              "  }\n",
              "\n",
              "  @keyframes spin {\n",
              "    0% {\n",
              "      border-color: transparent;\n",
              "      border-bottom-color: var(--fill-color);\n",
              "      border-left-color: var(--fill-color);\n",
              "    }\n",
              "    20% {\n",
              "      border-color: transparent;\n",
              "      border-left-color: var(--fill-color);\n",
              "      border-top-color: var(--fill-color);\n",
              "    }\n",
              "    30% {\n",
              "      border-color: transparent;\n",
              "      border-left-color: var(--fill-color);\n",
              "      border-top-color: var(--fill-color);\n",
              "      border-right-color: var(--fill-color);\n",
              "    }\n",
              "    40% {\n",
              "      border-color: transparent;\n",
              "      border-right-color: var(--fill-color);\n",
              "      border-top-color: var(--fill-color);\n",
              "    }\n",
              "    60% {\n",
              "      border-color: transparent;\n",
              "      border-right-color: var(--fill-color);\n",
              "    }\n",
              "    80% {\n",
              "      border-color: transparent;\n",
              "      border-right-color: var(--fill-color);\n",
              "      border-bottom-color: var(--fill-color);\n",
              "    }\n",
              "    90% {\n",
              "      border-color: transparent;\n",
              "      border-bottom-color: var(--fill-color);\n",
              "    }\n",
              "  }\n",
              "</style>\n",
              "\n",
              "  <script>\n",
              "    async function quickchart(key) {\n",
              "      const quickchartButtonEl =\n",
              "        document.querySelector('#' + key + ' button');\n",
              "      quickchartButtonEl.disabled = true;  // To prevent multiple clicks.\n",
              "      quickchartButtonEl.classList.add('colab-df-spinner');\n",
              "      try {\n",
              "        const charts = await google.colab.kernel.invokeFunction(\n",
              "            'suggestCharts', [key], {});\n",
              "      } catch (error) {\n",
              "        console.error('Error during call to suggestCharts:', error);\n",
              "      }\n",
              "      quickchartButtonEl.classList.remove('colab-df-spinner');\n",
              "      quickchartButtonEl.classList.add('colab-df-quickchart-complete');\n",
              "    }\n",
              "    (() => {\n",
              "      let quickchartButtonEl =\n",
              "        document.querySelector('#df-2a8395b4-01ad-46cf-ad5e-6be63ae00346 button');\n",
              "      quickchartButtonEl.style.display =\n",
              "        google.colab.kernel.accessAllowed ? 'block' : 'none';\n",
              "    })();\n",
              "  </script>\n",
              "</div>\n",
              "    </div>\n",
              "  </div>\n"
            ],
            "application/vnd.google.colaboratory.intrinsic+json": {
              "type": "dataframe",
              "variable_name": "df",
              "summary": "{\n  \"name\": \"df\",\n  \"rows\": 58262,\n  \"fields\": [\n    {\n      \"column\": \"collision_datetime\",\n      \"properties\": {\n        \"dtype\": \"object\",\n        \"num_unique_values\": 57768,\n        \"samples\": [\n          \"12/20/2023 08:46:00 PM\",\n          \"12/23/2016 08:11:00 PM\",\n          \"02/14/2005 03:28:00 PM\"\n        ],\n        \"semantic_type\": \"\",\n        \"description\": \"\"\n      }\n    },\n    {\n      \"column\": \"collision_date\",\n      \"properties\": {\n        \"dtype\": \"object\",\n        \"num_unique_values\": 6931,\n        \"samples\": [\n          \"2016 November 15\",\n          \"2010 August 09\",\n          \"2012 March 26\"\n        ],\n        \"semantic_type\": \"\",\n        \"description\": \"\"\n      }\n    },\n    {\n      \"column\": \"accident_year\",\n      \"properties\": {\n        \"dtype\": \"number\",\n        \"std\": 5,\n        \"min\": 2005,\n        \"max\": 2023,\n        \"num_unique_values\": 19,\n        \"samples\": [\n          2023,\n          2008,\n          2014\n        ],\n        \"semantic_type\": \"\",\n        \"description\": \"\"\n      }\n    },\n    {\n      \"column\": \"month\",\n      \"properties\": {\n        \"dtype\": \"category\",\n        \"num_unique_values\": 12,\n        \"samples\": [\n          \"February\",\n          \"November\",\n          \"December\"\n        ],\n        \"semantic_type\": \"\",\n        \"description\": \"\"\n      }\n    },\n    {\n      \"column\": \"day_of_week\",\n      \"properties\": {\n        \"dtype\": \"category\",\n        \"num_unique_values\": 7,\n        \"samples\": [\n          \"Monday\",\n          \"Tuesday\",\n          \"Sunday\"\n        ],\n        \"semantic_type\": \"\",\n        \"description\": \"\"\n      }\n    },\n    {\n      \"column\": \"tb_latitude\",\n      \"properties\": {\n        \"dtype\": \"number\",\n        \"std\": 0.024447108005044224,\n        \"min\": 37.70745860301913,\n        \"max\": 37.82999075549999,\n        \"num_unique_values\": 34582,\n        \"samples\": [\n          37.77641425242504,\n          37.76262486009998,\n          37.7270375412312\n        ],\n        \"semantic_type\": \"\",\n        \"description\": \"\"\n      }\n    },\n    {\n      \"column\": \"tb_longitude\",\n      \"properties\": {\n        \"dtype\": \"number\",\n        \"std\": 0.02839180499636907,\n        \"min\": -122.51361620862788,\n        \"max\": -122.3583278940174,\n        \"num_unique_values\": 33231,\n        \"samples\": [\n          -122.46965384900756,\n          -122.40753939391264,\n          -122.4441958561637\n        ],\n        \"semantic_type\": \"\",\n        \"description\": \"\"\n      }\n    }\n  ]\n}"
            }
          },
          "metadata": {},
          "execution_count": 460
        }
      ]
    },
    {
      "cell_type": "code",
      "source": [
        "df[\"collision_datetime\"]"
      ],
      "metadata": {
        "id": "ZDYpYu8mAXiD",
        "outputId": "57f2d71b-b8d3-496e-9a44-fa1c3dc80a97",
        "colab": {
          "base_uri": "https://localhost:8080/"
        }
      },
      "execution_count": 461,
      "outputs": [
        {
          "output_type": "execute_result",
          "data": {
            "text/plain": [
              "0        12/18/2023 02:15:00 PM\n",
              "1        01/20/2015 10:07:00 AM\n",
              "2        04/23/2013 11:26:00 AM\n",
              "3        08/22/2007 10:30:00 PM\n",
              "4        09/03/2009 01:35:00 PM\n",
              "                  ...          \n",
              "58257    07/12/2012 11:48:00 AM\n",
              "58258    06/10/2023 11:03:00 PM\n",
              "58259    10/19/2021 08:25:00 PM\n",
              "58260    01/09/2012 08:25:00 AM\n",
              "58261    04/05/2023 07:41:00 AM\n",
              "Name: collision_datetime, Length: 58262, dtype: object"
            ]
          },
          "metadata": {},
          "execution_count": 461
        }
      ]
    },
    {
      "cell_type": "code",
      "source": [
        "# Casting accident year to int\n",
        "df['accident_year'] = df['accident_year'].astype(int)\n",
        "\n",
        "# Casting datetime to datetime object\n",
        "df['collision_datetime'] = pd.to_datetime(df[\"collision_datetime\"],\n",
        "                                          format=\"%m/%d/%Y %I:%M:%S %p\")\n",
        "df['collision_date'] = pd.to_datetime(df[\"collision_datetime\"],\n",
        "                                      format=\"%Y-%m-%d\").dt.date\n",
        "\n",
        "# Casting month and day of week to numeric format\n",
        "df['month'] = pd.to_datetime(df['month'], format='%B').dt.month\n",
        "df['day_of_week'] = pd.to_datetime(df['day_of_week'], format='%A').dt.dayofweek\n",
        "\n",
        "# Renaming latitude and longitude columns for convenience\n",
        "df = df.rename(columns={'tb_latitude':'latitude', 'tb_longitude':'longitude'})"
      ],
      "metadata": {
        "id": "OE8pK7fN0d1k"
      },
      "execution_count": 462,
      "outputs": []
    },
    {
      "cell_type": "markdown",
      "source": [
        "I will not be training the model on post-2020 data so that irregular traffic patterns caused by lockdowns in 2020 and 2021 will not affect the overall model."
      ],
      "metadata": {
        "id": "QTGr18a2Dcb7"
      }
    },
    {
      "cell_type": "code",
      "source": [
        "# Graph of accident counts by month over time\n",
        "yearly_counts = df.groupby(by=['accident_year', 'month']).size()\n",
        "print(yearly_counts)\n",
        "yearly_counts.plot(kind='line')"
      ],
      "metadata": {
        "id": "cT3Pgodu0lCQ",
        "outputId": "9aef6f56-8de6-4eef-a467-be2cf968d06e",
        "colab": {
          "base_uri": "https://localhost:8080/",
          "height": 700
        }
      },
      "execution_count": 463,
      "outputs": [
        {
          "output_type": "stream",
          "name": "stdout",
          "text": [
            "accident_year  month\n",
            "2005           1        245\n",
            "               2        224\n",
            "               3        281\n",
            "               4        268\n",
            "               5        299\n",
            "                       ... \n",
            "2023           8        262\n",
            "               9        271\n",
            "               10       293\n",
            "               11       245\n",
            "               12       266\n",
            "Length: 228, dtype: int64\n"
          ]
        },
        {
          "output_type": "execute_result",
          "data": {
            "text/plain": [
              "<Axes: xlabel='accident_year,month'>"
            ]
          },
          "metadata": {},
          "execution_count": 463
        },
        {
          "output_type": "display_data",
          "data": {
            "text/plain": [
              "<Figure size 640x480 with 1 Axes>"
            ],
            "image/png": "[encoded data removed]"
          },
          "metadata": {}
        }
      ]
    },
    {
      "cell_type": "code",
      "source": [
        "# Subsetting data\n",
        "selected_dates = df[df['accident_year'] < 2015].sort_values(by='collision_date')"
      ],
      "metadata": {
        "id": "1yst7AtMyS97"
      },
      "execution_count": 464,
      "outputs": []
    },
    {
      "cell_type": "markdown",
      "source": [
        "# Creating map of area where accidents in dataset are occurring"
      ],
      "metadata": {
        "id": "hgUHvCjlwURZ"
      }
    },
    {
      "cell_type": "code",
      "source": [
        "mean_lat = selected_dates['latitude'].mean()\n",
        "mean_long = selected_dates['longitude'].mean()"
      ],
      "metadata": {
        "id": "7wk_LkwSwXT7"
      },
      "execution_count": 465,
      "outputs": []
    },
    {
      "cell_type": "code",
      "source": [
        "min_lat = selected_dates['latitude'].min()-.01\n",
        "max_lat = selected_dates['latitude'].max()+.01\n",
        "print(f\"Minimum latitude: {min_lat}\")\n",
        "print(f\"Maximum latitude: {max_lat}\")\n"
      ],
      "metadata": {
        "id": "uEwTRRCww1uX",
        "outputId": "0ca801cf-ac32-49a5-d855-c642d88d0a55",
        "colab": {
          "base_uri": "https://localhost:8080/"
        }
      },
      "execution_count": 466,
      "outputs": [
        {
          "output_type": "stream",
          "name": "stdout",
          "text": [
            "Minimum latitude: 37.69808572900908\n",
            "Maximum latitude: 37.83986189124343\n"
          ]
        }
      ]
    },
    {
      "cell_type": "code",
      "source": [
        "min_long = selected_dates['longitude'].min()-.01\n",
        "max_long = selected_dates['longitude'].max()+.01\n",
        "print(f\"Minimum longitude: {min_long}\")\n",
        "print(f\"Maximum longitude: {max_long}\")\n",
        "\n"
      ],
      "metadata": {
        "id": "fQtkYte3w5er",
        "outputId": "f1bf51bb-4d58-4b2d-ae3d-fe0e12c76dba",
        "colab": {
          "base_uri": "https://localhost:8080/"
        }
      },
      "execution_count": 467,
      "outputs": [
        {
          "output_type": "stream",
          "name": "stdout",
          "text": [
            "Minimum longitude: -122.52361620862789\n",
            "Maximum longitude: -122.3483278940174\n"
          ]
        }
      ]
    },
    {
      "cell_type": "markdown",
      "source": [
        "All possible latitude and longitude values within the city limits should fit in this area. I'll encode the accidents by assigning them to a cell in a square matrix that covers this area."
      ],
      "metadata": {
        "id": "pdNad1eM32LK"
      }
    },
    {
      "cell_type": "code",
      "source": [
        "m = folium.Map(location=(mean_lat, mean_long),\n",
        "               zoom_start=12,\n",
        "               tiles='OpenStreetMap')\n",
        "\n",
        "folium.Marker(\n",
        "    location = [min_lat, min_long]\n",
        ").add_to(m)\n",
        "folium.Marker(\n",
        "    location = [max_lat, max_long]\n",
        ").add_to(m)\n",
        "folium.Marker(\n",
        "    location = [max_lat, min_long]\n",
        ").add_to(m)\n",
        "folium.Marker(\n",
        "    location = [min_lat, max_long]\n",
        ").add_to(m)\n",
        "m"
      ],
      "metadata": {
        "id": "aMET6tSowtS1",
        "outputId": "e93fe5cd-1911-4f09-f8a4-6e513258b5f8",
        "colab": {
          "base_uri": "https://localhost:8080/",
          "height": 499
        }
      },
      "execution_count": 468,
      "outputs": [
        {
          "output_type": "execute_result",
          "data": {
            "text/plain": [
              "<folium.folium.Map at 0x7bac778bc400>"
            ],
            "text/html": [
              "<div style=\"width:100%;\"><div style=\"position:relative;width:100%;height:0;padding-bottom:60%;\"><span style=\"color:#565656\">Make this Notebook Trusted to load map: File -> Trust Notebook</span><iframe srcdoc=\"&lt;!DOCTYPE html&gt;\n",
              "&lt;html&gt;\n",
              "&lt;head&gt;\n",
              "    \n",
              "    &lt;meta http-equiv=&quot;content-type&quot; content=&quot;text/html; charset=UTF-8&quot; /&gt;\n",
              "    \n",
              "        &lt;script&gt;\n",
              "            L_NO_TOUCH = false;\n",
              "            L_DISABLE_3D = false;\n",
              "        &lt;/script&gt;\n",
              "    \n",
              "    &lt;style&gt;html, body {width: 100%;height: 100%;margin: 0;padding: 0;}&lt;/style&gt;\n",
              "    &lt;style&gt;#map {position:absolute;top:0;bottom:0;right:0;left:0;}&lt;/style&gt;\n",
              "    &lt;script src=&quot;https://cdn.jsdelivr.net/npm/leaflet@1.9.3/dist/leaflet.js&quot;&gt;&lt;/script&gt;\n",
              "    &lt;script src=&quot;https://code.jquery.com/jquery-1.12.4.min.js&quot;&gt;&lt;/script&gt;\n",
              "    &lt;script src=&quot;https://cdn.jsdelivr.net/npm/bootstrap@5.2.2/dist/js/bootstrap.bundle.min.js&quot;&gt;&lt;/script&gt;\n",
              "    &lt;script src=&quot;https://cdnjs.cloudflare.com/ajax/libs/Leaflet.awesome-markers/2.0.2/leaflet.awesome-markers.js&quot;&gt;&lt;/script&gt;\n",
              "    &lt;link rel=&quot;stylesheet&quot; href=&quot;https://cdn.jsdelivr.net/npm/leaflet@1.9.3/dist/leaflet.css&quot;/&gt;\n",
              "    &lt;link rel=&quot;stylesheet&quot; href=&quot;https://cdn.jsdelivr.net/npm/bootstrap@5.2.2/dist/css/bootstrap.min.css&quot;/&gt;\n",
              "    &lt;link rel=&quot;stylesheet&quot; href=&quot;https://netdna.bootstrapcdn.com/bootstrap/3.0.0/css/bootstrap.min.css&quot;/&gt;\n",
              "    &lt;link rel=&quot;stylesheet&quot; href=&quot;https://cdn.jsdelivr.net/npm/@fortawesome/fontawesome-free@6.2.0/css/all.min.css&quot;/&gt;\n",
              "    &lt;link rel=&quot;stylesheet&quot; href=&quot;https://cdnjs.cloudflare.com/ajax/libs/Leaflet.awesome-markers/2.0.2/leaflet.awesome-markers.css&quot;/&gt;\n",
              "    &lt;link rel=&quot;stylesheet&quot; href=&quot;https://cdn.jsdelivr.net/gh/python-visualization/folium/folium/templates/leaflet.awesome.rotate.min.css&quot;/&gt;\n",
              "    \n",
              "            &lt;meta name=&quot;viewport&quot; content=&quot;width=device-width,\n",
              "                initial-scale=1.0, maximum-scale=1.0, user-scalable=no&quot; /&gt;\n",
              "            &lt;style&gt;\n",
              "                #map_7cd286071aafcfc748a53b9b61fb621a {\n",
              "                    position: relative;\n",
              "                    width: 100.0%;\n",
              "                    height: 100.0%;\n",
              "                    left: 0.0%;\n",
              "                    top: 0.0%;\n",
              "                }\n",
              "                .leaflet-container { font-size: 1rem; }\n",
              "            &lt;/style&gt;\n",
              "        \n",
              "&lt;/head&gt;\n",
              "&lt;body&gt;\n",
              "    \n",
              "    \n",
              "            &lt;div class=&quot;folium-map&quot; id=&quot;map_7cd286071aafcfc748a53b9b61fb621a&quot; &gt;&lt;/div&gt;\n",
              "        \n",
              "&lt;/body&gt;\n",
              "&lt;script&gt;\n",
              "    \n",
              "    \n",
              "            var map_7cd286071aafcfc748a53b9b61fb621a = L.map(\n",
              "                &quot;map_7cd286071aafcfc748a53b9b61fb621a&quot;,\n",
              "                {\n",
              "                    center: [37.766366928225544, -122.43023548294262],\n",
              "                    crs: L.CRS.EPSG3857,\n",
              "                    zoom: 12,\n",
              "                    zoomControl: true,\n",
              "                    preferCanvas: false,\n",
              "                }\n",
              "            );\n",
              "\n",
              "            \n",
              "\n",
              "        \n",
              "    \n",
              "            var tile_layer_8dc3629f2cd656813e25740068fba5ed = L.tileLayer(\n",
              "                &quot;https://{s}.tile.openstreetmap.org/{z}/{x}/{y}.png&quot;,\n",
              "                {&quot;attribution&quot;: &quot;Data by \\u0026copy; \\u003ca target=\\&quot;_blank\\&quot; href=\\&quot;http://openstreetmap.org\\&quot;\\u003eOpenStreetMap\\u003c/a\\u003e, under \\u003ca target=\\&quot;_blank\\&quot; href=\\&quot;http://www.openstreetmap.org/copyright\\&quot;\\u003eODbL\\u003c/a\\u003e.&quot;, &quot;detectRetina&quot;: false, &quot;maxNativeZoom&quot;: 18, &quot;maxZoom&quot;: 18, &quot;minZoom&quot;: 0, &quot;noWrap&quot;: false, &quot;opacity&quot;: 1, &quot;subdomains&quot;: &quot;abc&quot;, &quot;tms&quot;: false}\n",
              "            ).addTo(map_7cd286071aafcfc748a53b9b61fb621a);\n",
              "        \n",
              "    \n",
              "            var marker_fe9b90a7fe383244508041b035fbb0dc = L.marker(\n",
              "                [37.69808572900908, -122.52361620862789],\n",
              "                {}\n",
              "            ).addTo(map_7cd286071aafcfc748a53b9b61fb621a);\n",
              "        \n",
              "    \n",
              "            var marker_47de489a06b9c450c7697f7432ccc482 = L.marker(\n",
              "                [37.83986189124343, -122.3483278940174],\n",
              "                {}\n",
              "            ).addTo(map_7cd286071aafcfc748a53b9b61fb621a);\n",
              "        \n",
              "    \n",
              "            var marker_6a78c5c8b845da36cb1956fb8c00f52a = L.marker(\n",
              "                [37.83986189124343, -122.52361620862789],\n",
              "                {}\n",
              "            ).addTo(map_7cd286071aafcfc748a53b9b61fb621a);\n",
              "        \n",
              "    \n",
              "            var marker_d53fbdab1ae974616d0a5be9767b931d = L.marker(\n",
              "                [37.69808572900908, -122.3483278940174],\n",
              "                {}\n",
              "            ).addTo(map_7cd286071aafcfc748a53b9b61fb621a);\n",
              "        \n",
              "&lt;/script&gt;\n",
              "&lt;/html&gt;\" style=\"position:absolute;width:100%;height:100%;left:0;top:0;border:none !important;\" allowfullscreen webkitallowfullscreen mozallowfullscreen></iframe></div></div>"
            ]
          },
          "metadata": {},
          "execution_count": 468
        }
      ]
    },
    {
      "cell_type": "code",
      "source": [
        "import numpy as np\n",
        "\n",
        "# Generate 31 equally spaced points within the latitude and longitude ranges (30x30 grid)\n",
        "lat_values = np.linspace(min_lat, max_lat, 31)\n",
        "long_values = np.linspace(min_long, max_long, 31)\n",
        "\n",
        "# Center map\n",
        "mean_lat = np.mean(lat_values)\n",
        "mean_long = np.mean(long_values)\n",
        "m_grid = folium.Map(location=(mean_lat, mean_long), zoom_start=12, tiles='Cartodb Positron')\n",
        "\n",
        "# Horizontal grid lines\n",
        "for lat in lat_values:\n",
        "    polyline = [(lat, min_long), (lat, max_long)]\n",
        "    folium.PolyLine(locations=polyline, color='blue', weight = 0.5).add_to(m_grid)\n",
        "\n",
        "# Vertical grid lines\n",
        "for long in long_values:\n",
        "    polyline = [(min_lat, long), (max_lat, long)]\n",
        "    folium.PolyLine(locations=polyline, color='blue', weight = 0.5).add_to(m_grid)\n",
        "\n",
        "m_grid"
      ],
      "metadata": {
        "id": "b1lJ2fTyyuIv",
        "outputId": "24257521-a1bd-415c-cf3b-c3d9d855c127",
        "colab": {
          "base_uri": "https://localhost:8080/",
          "height": 499
        }
      },
      "execution_count": 469,
      "outputs": [
        {
          "output_type": "execute_result",
          "data": {
            "text/plain": [
              "<folium.folium.Map at 0x7bac778bd060>"
            ],
            "text/html": [
              "<div style=\"width:100%;\"><div style=\"position:relative;width:100%;height:0;padding-bottom:60%;\"><span style=\"color:#565656\">Make this Notebook Trusted to load map: File -> Trust Notebook</span><iframe srcdoc=\"&lt;!DOCTYPE html&gt;\n",
              "&lt;html&gt;\n",
              "&lt;head&gt;\n",
              "    \n",
              "    &lt;meta http-equiv=&quot;content-type&quot; content=&quot;text/html; charset=UTF-8&quot; /&gt;\n",
              "    \n",
              "        &lt;script&gt;\n",
              "            L_NO_TOUCH = false;\n",
              "            L_DISABLE_3D = false;\n",
              "        &lt;/script&gt;\n",
              "    \n",
              "    &lt;style&gt;html, body {width: 100%;height: 100%;margin: 0;padding: 0;}&lt;/style&gt;\n",
              "    &lt;style&gt;#map {position:absolute;top:0;bottom:0;right:0;left:0;}&lt;/style&gt;\n",
              "    &lt;script src=&quot;https://cdn.jsdelivr.net/npm/leaflet@1.9.3/dist/leaflet.js&quot;&gt;&lt;/script&gt;\n",
              "    &lt;script src=&quot;https://code.jquery.com/jquery-1.12.4.min.js&quot;&gt;&lt;/script&gt;\n",
              "    &lt;script src=&quot;https://cdn.jsdelivr.net/npm/bootstrap@5.2.2/dist/js/bootstrap.bundle.min.js&quot;&gt;&lt;/script&gt;\n",
              "    &lt;script src=&quot;https://cdnjs.cloudflare.com/ajax/libs/Leaflet.awesome-markers/2.0.2/leaflet.awesome-markers.js&quot;&gt;&lt;/script&gt;\n",
              "    &lt;link rel=&quot;stylesheet&quot; href=&quot;https://cdn.jsdelivr.net/npm/leaflet@1.9.3/dist/leaflet.css&quot;/&gt;\n",
              "    &lt;link rel=&quot;stylesheet&quot; href=&quot;https://cdn.jsdelivr.net/npm/bootstrap@5.2.2/dist/css/bootstrap.min.css&quot;/&gt;\n",
              "    &lt;link rel=&quot;stylesheet&quot; href=&quot;https://netdna.bootstrapcdn.com/bootstrap/3.0.0/css/bootstrap.min.css&quot;/&gt;\n",
              "    &lt;link rel=&quot;stylesheet&quot; href=&quot;https://cdn.jsdelivr.net/npm/@fortawesome/fontawesome-free@6.2.0/css/all.min.css&quot;/&gt;\n",
              "    &lt;link rel=&quot;stylesheet&quot; href=&quot;https://cdnjs.cloudflare.com/ajax/libs/Leaflet.awesome-markers/2.0.2/leaflet.awesome-markers.css&quot;/&gt;\n",
              "    &lt;link rel=&quot;stylesheet&quot; href=&quot;https://cdn.jsdelivr.net/gh/python-visualization/folium/folium/templates/leaflet.awesome.rotate.min.css&quot;/&gt;\n",
              "    \n",
              "            &lt;meta name=&quot;viewport&quot; content=&quot;width=device-width,\n",
              "                initial-scale=1.0, maximum-scale=1.0, user-scalable=no&quot; /&gt;\n",
              "            &lt;style&gt;\n",
              "                #map_5e492536885ec1cd7d236d3b06a2c256 {\n",
              "                    position: relative;\n",
              "                    width: 100.0%;\n",
              "                    height: 100.0%;\n",
              "                    left: 0.0%;\n",
              "                    top: 0.0%;\n",
              "                }\n",
              "                .leaflet-container { font-size: 1rem; }\n",
              "            &lt;/style&gt;\n",
              "        \n",
              "&lt;/head&gt;\n",
              "&lt;body&gt;\n",
              "    \n",
              "    \n",
              "            &lt;div class=&quot;folium-map&quot; id=&quot;map_5e492536885ec1cd7d236d3b06a2c256&quot; &gt;&lt;/div&gt;\n",
              "        \n",
              "&lt;/body&gt;\n",
              "&lt;script&gt;\n",
              "    \n",
              "    \n",
              "            var map_5e492536885ec1cd7d236d3b06a2c256 = L.map(\n",
              "                &quot;map_5e492536885ec1cd7d236d3b06a2c256&quot;,\n",
              "                {\n",
              "                    center: [37.76897381012625, -122.43597205132264],\n",
              "                    crs: L.CRS.EPSG3857,\n",
              "                    zoom: 12,\n",
              "                    zoomControl: true,\n",
              "                    preferCanvas: false,\n",
              "                }\n",
              "            );\n",
              "\n",
              "            \n",
              "\n",
              "        \n",
              "    \n",
              "            var tile_layer_636c219d9b4409f67a0b9905f4b2c327 = L.tileLayer(\n",
              "                &quot;https://cartodb-basemaps-{s}.global.ssl.fastly.net/light_all/{z}/{x}/{y}.png&quot;,\n",
              "                {&quot;attribution&quot;: &quot;\\u0026copy; \\u003ca target=\\&quot;_blank\\&quot; href=\\&quot;http://www.openstreetmap.org/copyright\\&quot;\\u003eOpenStreetMap\\u003c/a\\u003e contributors \\u0026copy; \\u003ca target=\\&quot;_blank\\&quot; href=\\&quot;http://cartodb.com/attributions\\&quot;\\u003eCartoDB\\u003c/a\\u003e, CartoDB \\u003ca target=\\&quot;_blank\\&quot; href =\\&quot;http://cartodb.com/attributions\\&quot;\\u003eattributions\\u003c/a\\u003e&quot;, &quot;detectRetina&quot;: false, &quot;maxNativeZoom&quot;: 18, &quot;maxZoom&quot;: 18, &quot;minZoom&quot;: 0, &quot;noWrap&quot;: false, &quot;opacity&quot;: 1, &quot;subdomains&quot;: &quot;abc&quot;, &quot;tms&quot;: false}\n",
              "            ).addTo(map_5e492536885ec1cd7d236d3b06a2c256);\n",
              "        \n",
              "    \n",
              "            var poly_line_00a434daa7134146b11ef35452e92243 = L.polyline(\n",
              "                [[37.69808572900908, -122.52361620862789], [37.69808572900908, -122.3483278940174]],\n",
              "                {&quot;bubblingMouseEvents&quot;: true, &quot;color&quot;: &quot;blue&quot;, &quot;dashArray&quot;: null, &quot;dashOffset&quot;: null, &quot;fill&quot;: false, &quot;fillColor&quot;: &quot;blue&quot;, &quot;fillOpacity&quot;: 0.2, &quot;fillRule&quot;: &quot;evenodd&quot;, &quot;lineCap&quot;: &quot;round&quot;, &quot;lineJoin&quot;: &quot;round&quot;, &quot;noClip&quot;: false, &quot;opacity&quot;: 1.0, &quot;smoothFactor&quot;: 1.0, &quot;stroke&quot;: true, &quot;weight&quot;: 0.5}\n",
              "            ).addTo(map_5e492536885ec1cd7d236d3b06a2c256);\n",
              "        \n",
              "    \n",
              "            var poly_line_bebd8e4c7261afabc3d6e7a4ecbbe6a6 = L.polyline(\n",
              "                [[37.70281160108356, -122.52361620862789], [37.70281160108356, -122.3483278940174]],\n",
              "                {&quot;bubblingMouseEvents&quot;: true, &quot;color&quot;: &quot;blue&quot;, &quot;dashArray&quot;: null, &quot;dashOffset&quot;: null, &quot;fill&quot;: false, &quot;fillColor&quot;: &quot;blue&quot;, &quot;fillOpacity&quot;: 0.2, &quot;fillRule&quot;: &quot;evenodd&quot;, &quot;lineCap&quot;: &quot;round&quot;, &quot;lineJoin&quot;: &quot;round&quot;, &quot;noClip&quot;: false, &quot;opacity&quot;: 1.0, &quot;smoothFactor&quot;: 1.0, &quot;stroke&quot;: true, &quot;weight&quot;: 0.5}\n",
              "            ).addTo(map_5e492536885ec1cd7d236d3b06a2c256);\n",
              "        \n",
              "    \n",
              "            var poly_line_6b6b363d0a664f9ecaae342cb41e267c = L.polyline(\n",
              "                [[37.707537473158034, -122.52361620862789], [37.707537473158034, -122.3483278940174]],\n",
              "                {&quot;bubblingMouseEvents&quot;: true, &quot;color&quot;: &quot;blue&quot;, &quot;dashArray&quot;: null, &quot;dashOffset&quot;: null, &quot;fill&quot;: false, &quot;fillColor&quot;: &quot;blue&quot;, &quot;fillOpacity&quot;: 0.2, &quot;fillRule&quot;: &quot;evenodd&quot;, &quot;lineCap&quot;: &quot;round&quot;, &quot;lineJoin&quot;: &quot;round&quot;, &quot;noClip&quot;: false, &quot;opacity&quot;: 1.0, &quot;smoothFactor&quot;: 1.0, &quot;stroke&quot;: true, &quot;weight&quot;: 0.5}\n",
              "            ).addTo(map_5e492536885ec1cd7d236d3b06a2c256);\n",
              "        \n",
              "    \n",
              "            var poly_line_7796d90f0a241f5785cf05b159352bc4 = L.polyline(\n",
              "                [[37.712263345232515, -122.52361620862789], [37.712263345232515, -122.3483278940174]],\n",
              "                {&quot;bubblingMouseEvents&quot;: true, &quot;color&quot;: &quot;blue&quot;, &quot;dashArray&quot;: null, &quot;dashOffset&quot;: null, &quot;fill&quot;: false, &quot;fillColor&quot;: &quot;blue&quot;, &quot;fillOpacity&quot;: 0.2, &quot;fillRule&quot;: &quot;evenodd&quot;, &quot;lineCap&quot;: &quot;round&quot;, &quot;lineJoin&quot;: &quot;round&quot;, &quot;noClip&quot;: false, &quot;opacity&quot;: 1.0, &quot;smoothFactor&quot;: 1.0, &quot;stroke&quot;: true, &quot;weight&quot;: 0.5}\n",
              "            ).addTo(map_5e492536885ec1cd7d236d3b06a2c256);\n",
              "        \n",
              "    \n",
              "            var poly_line_8137e60ab32cee336faec8351fc750ac = L.polyline(\n",
              "                [[37.716989217306995, -122.52361620862789], [37.716989217306995, -122.3483278940174]],\n",
              "                {&quot;bubblingMouseEvents&quot;: true, &quot;color&quot;: &quot;blue&quot;, &quot;dashArray&quot;: null, &quot;dashOffset&quot;: null, &quot;fill&quot;: false, &quot;fillColor&quot;: &quot;blue&quot;, &quot;fillOpacity&quot;: 0.2, &quot;fillRule&quot;: &quot;evenodd&quot;, &quot;lineCap&quot;: &quot;round&quot;, &quot;lineJoin&quot;: &quot;round&quot;, &quot;noClip&quot;: false, &quot;opacity&quot;: 1.0, &quot;smoothFactor&quot;: 1.0, &quot;stroke&quot;: true, &quot;weight&quot;: 0.5}\n",
              "            ).addTo(map_5e492536885ec1cd7d236d3b06a2c256);\n",
              "        \n",
              "    \n",
              "            var poly_line_d394a9f3c80fdf535e74ecf49ba07b7e = L.polyline(\n",
              "                [[37.72171508938147, -122.52361620862789], [37.72171508938147, -122.3483278940174]],\n",
              "                {&quot;bubblingMouseEvents&quot;: true, &quot;color&quot;: &quot;blue&quot;, &quot;dashArray&quot;: null, &quot;dashOffset&quot;: null, &quot;fill&quot;: false, &quot;fillColor&quot;: &quot;blue&quot;, &quot;fillOpacity&quot;: 0.2, &quot;fillRule&quot;: &quot;evenodd&quot;, &quot;lineCap&quot;: &quot;round&quot;, &quot;lineJoin&quot;: &quot;round&quot;, &quot;noClip&quot;: false, &quot;opacity&quot;: 1.0, &quot;smoothFactor&quot;: 1.0, &quot;stroke&quot;: true, &quot;weight&quot;: 0.5}\n",
              "            ).addTo(map_5e492536885ec1cd7d236d3b06a2c256);\n",
              "        \n",
              "    \n",
              "            var poly_line_705497fb24f37ba09b908c9906906afe = L.polyline(\n",
              "                [[37.72644096145595, -122.52361620862789], [37.72644096145595, -122.3483278940174]],\n",
              "                {&quot;bubblingMouseEvents&quot;: true, &quot;color&quot;: &quot;blue&quot;, &quot;dashArray&quot;: null, &quot;dashOffset&quot;: null, &quot;fill&quot;: false, &quot;fillColor&quot;: &quot;blue&quot;, &quot;fillOpacity&quot;: 0.2, &quot;fillRule&quot;: &quot;evenodd&quot;, &quot;lineCap&quot;: &quot;round&quot;, &quot;lineJoin&quot;: &quot;round&quot;, &quot;noClip&quot;: false, &quot;opacity&quot;: 1.0, &quot;smoothFactor&quot;: 1.0, &quot;stroke&quot;: true, &quot;weight&quot;: 0.5}\n",
              "            ).addTo(map_5e492536885ec1cd7d236d3b06a2c256);\n",
              "        \n",
              "    \n",
              "            var poly_line_9719e144cd798b7c51ef5d27a739f2bf = L.polyline(\n",
              "                [[37.73116683353043, -122.52361620862789], [37.73116683353043, -122.3483278940174]],\n",
              "                {&quot;bubblingMouseEvents&quot;: true, &quot;color&quot;: &quot;blue&quot;, &quot;dashArray&quot;: null, &quot;dashOffset&quot;: null, &quot;fill&quot;: false, &quot;fillColor&quot;: &quot;blue&quot;, &quot;fillOpacity&quot;: 0.2, &quot;fillRule&quot;: &quot;evenodd&quot;, &quot;lineCap&quot;: &quot;round&quot;, &quot;lineJoin&quot;: &quot;round&quot;, &quot;noClip&quot;: false, &quot;opacity&quot;: 1.0, &quot;smoothFactor&quot;: 1.0, &quot;stroke&quot;: true, &quot;weight&quot;: 0.5}\n",
              "            ).addTo(map_5e492536885ec1cd7d236d3b06a2c256);\n",
              "        \n",
              "    \n",
              "            var poly_line_9b1a2a4ea59099d4ca1e5f3b24a2814f = L.polyline(\n",
              "                [[37.735892705604904, -122.52361620862789], [37.735892705604904, -122.3483278940174]],\n",
              "                {&quot;bubblingMouseEvents&quot;: true, &quot;color&quot;: &quot;blue&quot;, &quot;dashArray&quot;: null, &quot;dashOffset&quot;: null, &quot;fill&quot;: false, &quot;fillColor&quot;: &quot;blue&quot;, &quot;fillOpacity&quot;: 0.2, &quot;fillRule&quot;: &quot;evenodd&quot;, &quot;lineCap&quot;: &quot;round&quot;, &quot;lineJoin&quot;: &quot;round&quot;, &quot;noClip&quot;: false, &quot;opacity&quot;: 1.0, &quot;smoothFactor&quot;: 1.0, &quot;stroke&quot;: true, &quot;weight&quot;: 0.5}\n",
              "            ).addTo(map_5e492536885ec1cd7d236d3b06a2c256);\n",
              "        \n",
              "    \n",
              "            var poly_line_8cc366ba20b06d97c50dbd1714c1305a = L.polyline(\n",
              "                [[37.740618577679385, -122.52361620862789], [37.740618577679385, -122.3483278940174]],\n",
              "                {&quot;bubblingMouseEvents&quot;: true, &quot;color&quot;: &quot;blue&quot;, &quot;dashArray&quot;: null, &quot;dashOffset&quot;: null, &quot;fill&quot;: false, &quot;fillColor&quot;: &quot;blue&quot;, &quot;fillOpacity&quot;: 0.2, &quot;fillRule&quot;: &quot;evenodd&quot;, &quot;lineCap&quot;: &quot;round&quot;, &quot;lineJoin&quot;: &quot;round&quot;, &quot;noClip&quot;: false, &quot;opacity&quot;: 1.0, &quot;smoothFactor&quot;: 1.0, &quot;stroke&quot;: true, &quot;weight&quot;: 0.5}\n",
              "            ).addTo(map_5e492536885ec1cd7d236d3b06a2c256);\n",
              "        \n",
              "    \n",
              "            var poly_line_e3c57ebcc3a5680923926d36630c0ef2 = L.polyline(\n",
              "                [[37.745344449753865, -122.52361620862789], [37.745344449753865, -122.3483278940174]],\n",
              "                {&quot;bubblingMouseEvents&quot;: true, &quot;color&quot;: &quot;blue&quot;, &quot;dashArray&quot;: null, &quot;dashOffset&quot;: null, &quot;fill&quot;: false, &quot;fillColor&quot;: &quot;blue&quot;, &quot;fillOpacity&quot;: 0.2, &quot;fillRule&quot;: &quot;evenodd&quot;, &quot;lineCap&quot;: &quot;round&quot;, &quot;lineJoin&quot;: &quot;round&quot;, &quot;noClip&quot;: false, &quot;opacity&quot;: 1.0, &quot;smoothFactor&quot;: 1.0, &quot;stroke&quot;: true, &quot;weight&quot;: 0.5}\n",
              "            ).addTo(map_5e492536885ec1cd7d236d3b06a2c256);\n",
              "        \n",
              "    \n",
              "            var poly_line_740b271c595e154599be7891541755dd = L.polyline(\n",
              "                [[37.75007032182834, -122.52361620862789], [37.75007032182834, -122.3483278940174]],\n",
              "                {&quot;bubblingMouseEvents&quot;: true, &quot;color&quot;: &quot;blue&quot;, &quot;dashArray&quot;: null, &quot;dashOffset&quot;: null, &quot;fill&quot;: false, &quot;fillColor&quot;: &quot;blue&quot;, &quot;fillOpacity&quot;: 0.2, &quot;fillRule&quot;: &quot;evenodd&quot;, &quot;lineCap&quot;: &quot;round&quot;, &quot;lineJoin&quot;: &quot;round&quot;, &quot;noClip&quot;: false, &quot;opacity&quot;: 1.0, &quot;smoothFactor&quot;: 1.0, &quot;stroke&quot;: true, &quot;weight&quot;: 0.5}\n",
              "            ).addTo(map_5e492536885ec1cd7d236d3b06a2c256);\n",
              "        \n",
              "    \n",
              "            var poly_line_9ca94ee279e10a4c6760bb63c9f8125b = L.polyline(\n",
              "                [[37.75479619390282, -122.52361620862789], [37.75479619390282, -122.3483278940174]],\n",
              "                {&quot;bubblingMouseEvents&quot;: true, &quot;color&quot;: &quot;blue&quot;, &quot;dashArray&quot;: null, &quot;dashOffset&quot;: null, &quot;fill&quot;: false, &quot;fillColor&quot;: &quot;blue&quot;, &quot;fillOpacity&quot;: 0.2, &quot;fillRule&quot;: &quot;evenodd&quot;, &quot;lineCap&quot;: &quot;round&quot;, &quot;lineJoin&quot;: &quot;round&quot;, &quot;noClip&quot;: false, &quot;opacity&quot;: 1.0, &quot;smoothFactor&quot;: 1.0, &quot;stroke&quot;: true, &quot;weight&quot;: 0.5}\n",
              "            ).addTo(map_5e492536885ec1cd7d236d3b06a2c256);\n",
              "        \n",
              "    \n",
              "            var poly_line_d144c965eddf55b20bdbea18b1ef6cee = L.polyline(\n",
              "                [[37.7595220659773, -122.52361620862789], [37.7595220659773, -122.3483278940174]],\n",
              "                {&quot;bubblingMouseEvents&quot;: true, &quot;color&quot;: &quot;blue&quot;, &quot;dashArray&quot;: null, &quot;dashOffset&quot;: null, &quot;fill&quot;: false, &quot;fillColor&quot;: &quot;blue&quot;, &quot;fillOpacity&quot;: 0.2, &quot;fillRule&quot;: &quot;evenodd&quot;, &quot;lineCap&quot;: &quot;round&quot;, &quot;lineJoin&quot;: &quot;round&quot;, &quot;noClip&quot;: false, &quot;opacity&quot;: 1.0, &quot;smoothFactor&quot;: 1.0, &quot;stroke&quot;: true, &quot;weight&quot;: 0.5}\n",
              "            ).addTo(map_5e492536885ec1cd7d236d3b06a2c256);\n",
              "        \n",
              "    \n",
              "            var poly_line_556cf745ce4559b2c7df38b3ec48e840 = L.polyline(\n",
              "                [[37.764247938051774, -122.52361620862789], [37.764247938051774, -122.3483278940174]],\n",
              "                {&quot;bubblingMouseEvents&quot;: true, &quot;color&quot;: &quot;blue&quot;, &quot;dashArray&quot;: null, &quot;dashOffset&quot;: null, &quot;fill&quot;: false, &quot;fillColor&quot;: &quot;blue&quot;, &quot;fillOpacity&quot;: 0.2, &quot;fillRule&quot;: &quot;evenodd&quot;, &quot;lineCap&quot;: &quot;round&quot;, &quot;lineJoin&quot;: &quot;round&quot;, &quot;noClip&quot;: false, &quot;opacity&quot;: 1.0, &quot;smoothFactor&quot;: 1.0, &quot;stroke&quot;: true, &quot;weight&quot;: 0.5}\n",
              "            ).addTo(map_5e492536885ec1cd7d236d3b06a2c256);\n",
              "        \n",
              "    \n",
              "            var poly_line_c90eef7ef123f62116545b5da16eed3d = L.polyline(\n",
              "                [[37.768973810126255, -122.52361620862789], [37.768973810126255, -122.3483278940174]],\n",
              "                {&quot;bubblingMouseEvents&quot;: true, &quot;color&quot;: &quot;blue&quot;, &quot;dashArray&quot;: null, &quot;dashOffset&quot;: null, &quot;fill&quot;: false, &quot;fillColor&quot;: &quot;blue&quot;, &quot;fillOpacity&quot;: 0.2, &quot;fillRule&quot;: &quot;evenodd&quot;, &quot;lineCap&quot;: &quot;round&quot;, &quot;lineJoin&quot;: &quot;round&quot;, &quot;noClip&quot;: false, &quot;opacity&quot;: 1.0, &quot;smoothFactor&quot;: 1.0, &quot;stroke&quot;: true, &quot;weight&quot;: 0.5}\n",
              "            ).addTo(map_5e492536885ec1cd7d236d3b06a2c256);\n",
              "        \n",
              "    \n",
              "            var poly_line_e5b552dcddde7a0f4492e649083a1e84 = L.polyline(\n",
              "                [[37.773699682200736, -122.52361620862789], [37.773699682200736, -122.3483278940174]],\n",
              "                {&quot;bubblingMouseEvents&quot;: true, &quot;color&quot;: &quot;blue&quot;, &quot;dashArray&quot;: null, &quot;dashOffset&quot;: null, &quot;fill&quot;: false, &quot;fillColor&quot;: &quot;blue&quot;, &quot;fillOpacity&quot;: 0.2, &quot;fillRule&quot;: &quot;evenodd&quot;, &quot;lineCap&quot;: &quot;round&quot;, &quot;lineJoin&quot;: &quot;round&quot;, &quot;noClip&quot;: false, &quot;opacity&quot;: 1.0, &quot;smoothFactor&quot;: 1.0, &quot;stroke&quot;: true, &quot;weight&quot;: 0.5}\n",
              "            ).addTo(map_5e492536885ec1cd7d236d3b06a2c256);\n",
              "        \n",
              "    \n",
              "            var poly_line_2b28cc7f6820b5c634a761ce8016c4c8 = L.polyline(\n",
              "                [[37.77842555427521, -122.52361620862789], [37.77842555427521, -122.3483278940174]],\n",
              "                {&quot;bubblingMouseEvents&quot;: true, &quot;color&quot;: &quot;blue&quot;, &quot;dashArray&quot;: null, &quot;dashOffset&quot;: null, &quot;fill&quot;: false, &quot;fillColor&quot;: &quot;blue&quot;, &quot;fillOpacity&quot;: 0.2, &quot;fillRule&quot;: &quot;evenodd&quot;, &quot;lineCap&quot;: &quot;round&quot;, &quot;lineJoin&quot;: &quot;round&quot;, &quot;noClip&quot;: false, &quot;opacity&quot;: 1.0, &quot;smoothFactor&quot;: 1.0, &quot;stroke&quot;: true, &quot;weight&quot;: 0.5}\n",
              "            ).addTo(map_5e492536885ec1cd7d236d3b06a2c256);\n",
              "        \n",
              "    \n",
              "            var poly_line_b8a1e8f7823bf27a28af2a595f1a5fc9 = L.polyline(\n",
              "                [[37.78315142634969, -122.52361620862789], [37.78315142634969, -122.3483278940174]],\n",
              "                {&quot;bubblingMouseEvents&quot;: true, &quot;color&quot;: &quot;blue&quot;, &quot;dashArray&quot;: null, &quot;dashOffset&quot;: null, &quot;fill&quot;: false, &quot;fillColor&quot;: &quot;blue&quot;, &quot;fillOpacity&quot;: 0.2, &quot;fillRule&quot;: &quot;evenodd&quot;, &quot;lineCap&quot;: &quot;round&quot;, &quot;lineJoin&quot;: &quot;round&quot;, &quot;noClip&quot;: false, &quot;opacity&quot;: 1.0, &quot;smoothFactor&quot;: 1.0, &quot;stroke&quot;: true, &quot;weight&quot;: 0.5}\n",
              "            ).addTo(map_5e492536885ec1cd7d236d3b06a2c256);\n",
              "        \n",
              "    \n",
              "            var poly_line_3216bd95d1ed2152d1a2fbcede4d519e = L.polyline(\n",
              "                [[37.78787729842417, -122.52361620862789], [37.78787729842417, -122.3483278940174]],\n",
              "                {&quot;bubblingMouseEvents&quot;: true, &quot;color&quot;: &quot;blue&quot;, &quot;dashArray&quot;: null, &quot;dashOffset&quot;: null, &quot;fill&quot;: false, &quot;fillColor&quot;: &quot;blue&quot;, &quot;fillOpacity&quot;: 0.2, &quot;fillRule&quot;: &quot;evenodd&quot;, &quot;lineCap&quot;: &quot;round&quot;, &quot;lineJoin&quot;: &quot;round&quot;, &quot;noClip&quot;: false, &quot;opacity&quot;: 1.0, &quot;smoothFactor&quot;: 1.0, &quot;stroke&quot;: true, &quot;weight&quot;: 0.5}\n",
              "            ).addTo(map_5e492536885ec1cd7d236d3b06a2c256);\n",
              "        \n",
              "    \n",
              "            var poly_line_e5ecb087fe5d9df94cc522f2e72190e5 = L.polyline(\n",
              "                [[37.792603170498644, -122.52361620862789], [37.792603170498644, -122.3483278940174]],\n",
              "                {&quot;bubblingMouseEvents&quot;: true, &quot;color&quot;: &quot;blue&quot;, &quot;dashArray&quot;: null, &quot;dashOffset&quot;: null, &quot;fill&quot;: false, &quot;fillColor&quot;: &quot;blue&quot;, &quot;fillOpacity&quot;: 0.2, &quot;fillRule&quot;: &quot;evenodd&quot;, &quot;lineCap&quot;: &quot;round&quot;, &quot;lineJoin&quot;: &quot;round&quot;, &quot;noClip&quot;: false, &quot;opacity&quot;: 1.0, &quot;smoothFactor&quot;: 1.0, &quot;stroke&quot;: true, &quot;weight&quot;: 0.5}\n",
              "            ).addTo(map_5e492536885ec1cd7d236d3b06a2c256);\n",
              "        \n",
              "    \n",
              "            var poly_line_55588c74d249eda0e53172f9da19852b = L.polyline(\n",
              "                [[37.797329042573125, -122.52361620862789], [37.797329042573125, -122.3483278940174]],\n",
              "                {&quot;bubblingMouseEvents&quot;: true, &quot;color&quot;: &quot;blue&quot;, &quot;dashArray&quot;: null, &quot;dashOffset&quot;: null, &quot;fill&quot;: false, &quot;fillColor&quot;: &quot;blue&quot;, &quot;fillOpacity&quot;: 0.2, &quot;fillRule&quot;: &quot;evenodd&quot;, &quot;lineCap&quot;: &quot;round&quot;, &quot;lineJoin&quot;: &quot;round&quot;, &quot;noClip&quot;: false, &quot;opacity&quot;: 1.0, &quot;smoothFactor&quot;: 1.0, &quot;stroke&quot;: true, &quot;weight&quot;: 0.5}\n",
              "            ).addTo(map_5e492536885ec1cd7d236d3b06a2c256);\n",
              "        \n",
              "    \n",
              "            var poly_line_a90a7ef40294f9ed54af21f47a23bd4e = L.polyline(\n",
              "                [[37.802054914647606, -122.52361620862789], [37.802054914647606, -122.3483278940174]],\n",
              "                {&quot;bubblingMouseEvents&quot;: true, &quot;color&quot;: &quot;blue&quot;, &quot;dashArray&quot;: null, &quot;dashOffset&quot;: null, &quot;fill&quot;: false, &quot;fillColor&quot;: &quot;blue&quot;, &quot;fillOpacity&quot;: 0.2, &quot;fillRule&quot;: &quot;evenodd&quot;, &quot;lineCap&quot;: &quot;round&quot;, &quot;lineJoin&quot;: &quot;round&quot;, &quot;noClip&quot;: false, &quot;opacity&quot;: 1.0, &quot;smoothFactor&quot;: 1.0, &quot;stroke&quot;: true, &quot;weight&quot;: 0.5}\n",
              "            ).addTo(map_5e492536885ec1cd7d236d3b06a2c256);\n",
              "        \n",
              "    \n",
              "            var poly_line_8afd780f2fc0b0b3d7f06a19283d19e5 = L.polyline(\n",
              "                [[37.80678078672208, -122.52361620862789], [37.80678078672208, -122.3483278940174]],\n",
              "                {&quot;bubblingMouseEvents&quot;: true, &quot;color&quot;: &quot;blue&quot;, &quot;dashArray&quot;: null, &quot;dashOffset&quot;: null, &quot;fill&quot;: false, &quot;fillColor&quot;: &quot;blue&quot;, &quot;fillOpacity&quot;: 0.2, &quot;fillRule&quot;: &quot;evenodd&quot;, &quot;lineCap&quot;: &quot;round&quot;, &quot;lineJoin&quot;: &quot;round&quot;, &quot;noClip&quot;: false, &quot;opacity&quot;: 1.0, &quot;smoothFactor&quot;: 1.0, &quot;stroke&quot;: true, &quot;weight&quot;: 0.5}\n",
              "            ).addTo(map_5e492536885ec1cd7d236d3b06a2c256);\n",
              "        \n",
              "    \n",
              "            var poly_line_2a49d9bd6697e4e5daa0464150850232 = L.polyline(\n",
              "                [[37.81150665879656, -122.52361620862789], [37.81150665879656, -122.3483278940174]],\n",
              "                {&quot;bubblingMouseEvents&quot;: true, &quot;color&quot;: &quot;blue&quot;, &quot;dashArray&quot;: null, &quot;dashOffset&quot;: null, &quot;fill&quot;: false, &quot;fillColor&quot;: &quot;blue&quot;, &quot;fillOpacity&quot;: 0.2, &quot;fillRule&quot;: &quot;evenodd&quot;, &quot;lineCap&quot;: &quot;round&quot;, &quot;lineJoin&quot;: &quot;round&quot;, &quot;noClip&quot;: false, &quot;opacity&quot;: 1.0, &quot;smoothFactor&quot;: 1.0, &quot;stroke&quot;: true, &quot;weight&quot;: 0.5}\n",
              "            ).addTo(map_5e492536885ec1cd7d236d3b06a2c256);\n",
              "        \n",
              "    \n",
              "            var poly_line_9dae9ab7a1f561d64d4b3b22ba52c91a = L.polyline(\n",
              "                [[37.81623253087104, -122.52361620862789], [37.81623253087104, -122.3483278940174]],\n",
              "                {&quot;bubblingMouseEvents&quot;: true, &quot;color&quot;: &quot;blue&quot;, &quot;dashArray&quot;: null, &quot;dashOffset&quot;: null, &quot;fill&quot;: false, &quot;fillColor&quot;: &quot;blue&quot;, &quot;fillOpacity&quot;: 0.2, &quot;fillRule&quot;: &quot;evenodd&quot;, &quot;lineCap&quot;: &quot;round&quot;, &quot;lineJoin&quot;: &quot;round&quot;, &quot;noClip&quot;: false, &quot;opacity&quot;: 1.0, &quot;smoothFactor&quot;: 1.0, &quot;stroke&quot;: true, &quot;weight&quot;: 0.5}\n",
              "            ).addTo(map_5e492536885ec1cd7d236d3b06a2c256);\n",
              "        \n",
              "    \n",
              "            var poly_line_54fa80b0e562ea2154a4783eaacdfe14 = L.polyline(\n",
              "                [[37.820958402945514, -122.52361620862789], [37.820958402945514, -122.3483278940174]],\n",
              "                {&quot;bubblingMouseEvents&quot;: true, &quot;color&quot;: &quot;blue&quot;, &quot;dashArray&quot;: null, &quot;dashOffset&quot;: null, &quot;fill&quot;: false, &quot;fillColor&quot;: &quot;blue&quot;, &quot;fillOpacity&quot;: 0.2, &quot;fillRule&quot;: &quot;evenodd&quot;, &quot;lineCap&quot;: &quot;round&quot;, &quot;lineJoin&quot;: &quot;round&quot;, &quot;noClip&quot;: false, &quot;opacity&quot;: 1.0, &quot;smoothFactor&quot;: 1.0, &quot;stroke&quot;: true, &quot;weight&quot;: 0.5}\n",
              "            ).addTo(map_5e492536885ec1cd7d236d3b06a2c256);\n",
              "        \n",
              "    \n",
              "            var poly_line_21a6d9a31b5b8026860338228a9210b0 = L.polyline(\n",
              "                [[37.825684275019995, -122.52361620862789], [37.825684275019995, -122.3483278940174]],\n",
              "                {&quot;bubblingMouseEvents&quot;: true, &quot;color&quot;: &quot;blue&quot;, &quot;dashArray&quot;: null, &quot;dashOffset&quot;: null, &quot;fill&quot;: false, &quot;fillColor&quot;: &quot;blue&quot;, &quot;fillOpacity&quot;: 0.2, &quot;fillRule&quot;: &quot;evenodd&quot;, &quot;lineCap&quot;: &quot;round&quot;, &quot;lineJoin&quot;: &quot;round&quot;, &quot;noClip&quot;: false, &quot;opacity&quot;: 1.0, &quot;smoothFactor&quot;: 1.0, &quot;stroke&quot;: true, &quot;weight&quot;: 0.5}\n",
              "            ).addTo(map_5e492536885ec1cd7d236d3b06a2c256);\n",
              "        \n",
              "    \n",
              "            var poly_line_318509b938c233c02677071b19e61fa6 = L.polyline(\n",
              "                [[37.830410147094476, -122.52361620862789], [37.830410147094476, -122.3483278940174]],\n",
              "                {&quot;bubblingMouseEvents&quot;: true, &quot;color&quot;: &quot;blue&quot;, &quot;dashArray&quot;: null, &quot;dashOffset&quot;: null, &quot;fill&quot;: false, &quot;fillColor&quot;: &quot;blue&quot;, &quot;fillOpacity&quot;: 0.2, &quot;fillRule&quot;: &quot;evenodd&quot;, &quot;lineCap&quot;: &quot;round&quot;, &quot;lineJoin&quot;: &quot;round&quot;, &quot;noClip&quot;: false, &quot;opacity&quot;: 1.0, &quot;smoothFactor&quot;: 1.0, &quot;stroke&quot;: true, &quot;weight&quot;: 0.5}\n",
              "            ).addTo(map_5e492536885ec1cd7d236d3b06a2c256);\n",
              "        \n",
              "    \n",
              "            var poly_line_90240fd5260a3dd3b2ab73995ce0350c = L.polyline(\n",
              "                [[37.83513601916895, -122.52361620862789], [37.83513601916895, -122.3483278940174]],\n",
              "                {&quot;bubblingMouseEvents&quot;: true, &quot;color&quot;: &quot;blue&quot;, &quot;dashArray&quot;: null, &quot;dashOffset&quot;: null, &quot;fill&quot;: false, &quot;fillColor&quot;: &quot;blue&quot;, &quot;fillOpacity&quot;: 0.2, &quot;fillRule&quot;: &quot;evenodd&quot;, &quot;lineCap&quot;: &quot;round&quot;, &quot;lineJoin&quot;: &quot;round&quot;, &quot;noClip&quot;: false, &quot;opacity&quot;: 1.0, &quot;smoothFactor&quot;: 1.0, &quot;stroke&quot;: true, &quot;weight&quot;: 0.5}\n",
              "            ).addTo(map_5e492536885ec1cd7d236d3b06a2c256);\n",
              "        \n",
              "    \n",
              "            var poly_line_abcee0065b35602969993eaf27ef6898 = L.polyline(\n",
              "                [[37.83986189124343, -122.52361620862789], [37.83986189124343, -122.3483278940174]],\n",
              "                {&quot;bubblingMouseEvents&quot;: true, &quot;color&quot;: &quot;blue&quot;, &quot;dashArray&quot;: null, &quot;dashOffset&quot;: null, &quot;fill&quot;: false, &quot;fillColor&quot;: &quot;blue&quot;, &quot;fillOpacity&quot;: 0.2, &quot;fillRule&quot;: &quot;evenodd&quot;, &quot;lineCap&quot;: &quot;round&quot;, &quot;lineJoin&quot;: &quot;round&quot;, &quot;noClip&quot;: false, &quot;opacity&quot;: 1.0, &quot;smoothFactor&quot;: 1.0, &quot;stroke&quot;: true, &quot;weight&quot;: 0.5}\n",
              "            ).addTo(map_5e492536885ec1cd7d236d3b06a2c256);\n",
              "        \n",
              "    \n",
              "            var poly_line_9fc98885426aac63f60cc2e8fcd5f53c = L.polyline(\n",
              "                [[37.69808572900908, -122.52361620862789], [37.83986189124343, -122.52361620862789]],\n",
              "                {&quot;bubblingMouseEvents&quot;: true, &quot;color&quot;: &quot;blue&quot;, &quot;dashArray&quot;: null, &quot;dashOffset&quot;: null, &quot;fill&quot;: false, &quot;fillColor&quot;: &quot;blue&quot;, &quot;fillOpacity&quot;: 0.2, &quot;fillRule&quot;: &quot;evenodd&quot;, &quot;lineCap&quot;: &quot;round&quot;, &quot;lineJoin&quot;: &quot;round&quot;, &quot;noClip&quot;: false, &quot;opacity&quot;: 1.0, &quot;smoothFactor&quot;: 1.0, &quot;stroke&quot;: true, &quot;weight&quot;: 0.5}\n",
              "            ).addTo(map_5e492536885ec1cd7d236d3b06a2c256);\n",
              "        \n",
              "    \n",
              "            var poly_line_90a8d2288a107bcb9e2acd4d63019bda = L.polyline(\n",
              "                [[37.69808572900908, -122.51777326480753], [37.83986189124343, -122.51777326480753]],\n",
              "                {&quot;bubblingMouseEvents&quot;: true, &quot;color&quot;: &quot;blue&quot;, &quot;dashArray&quot;: null, &quot;dashOffset&quot;: null, &quot;fill&quot;: false, &quot;fillColor&quot;: &quot;blue&quot;, &quot;fillOpacity&quot;: 0.2, &quot;fillRule&quot;: &quot;evenodd&quot;, &quot;lineCap&quot;: &quot;round&quot;, &quot;lineJoin&quot;: &quot;round&quot;, &quot;noClip&quot;: false, &quot;opacity&quot;: 1.0, &quot;smoothFactor&quot;: 1.0, &quot;stroke&quot;: true, &quot;weight&quot;: 0.5}\n",
              "            ).addTo(map_5e492536885ec1cd7d236d3b06a2c256);\n",
              "        \n",
              "    \n",
              "            var poly_line_7a83a0d2dc5d240b1143b0761b490219 = L.polyline(\n",
              "                [[37.69808572900908, -122.51193032098719], [37.83986189124343, -122.51193032098719]],\n",
              "                {&quot;bubblingMouseEvents&quot;: true, &quot;color&quot;: &quot;blue&quot;, &quot;dashArray&quot;: null, &quot;dashOffset&quot;: null, &quot;fill&quot;: false, &quot;fillColor&quot;: &quot;blue&quot;, &quot;fillOpacity&quot;: 0.2, &quot;fillRule&quot;: &quot;evenodd&quot;, &quot;lineCap&quot;: &quot;round&quot;, &quot;lineJoin&quot;: &quot;round&quot;, &quot;noClip&quot;: false, &quot;opacity&quot;: 1.0, &quot;smoothFactor&quot;: 1.0, &quot;stroke&quot;: true, &quot;weight&quot;: 0.5}\n",
              "            ).addTo(map_5e492536885ec1cd7d236d3b06a2c256);\n",
              "        \n",
              "    \n",
              "            var poly_line_1d4c67b6f9b0dc88d319d876775ae8d2 = L.polyline(\n",
              "                [[37.69808572900908, -122.50608737716684], [37.83986189124343, -122.50608737716684]],\n",
              "                {&quot;bubblingMouseEvents&quot;: true, &quot;color&quot;: &quot;blue&quot;, &quot;dashArray&quot;: null, &quot;dashOffset&quot;: null, &quot;fill&quot;: false, &quot;fillColor&quot;: &quot;blue&quot;, &quot;fillOpacity&quot;: 0.2, &quot;fillRule&quot;: &quot;evenodd&quot;, &quot;lineCap&quot;: &quot;round&quot;, &quot;lineJoin&quot;: &quot;round&quot;, &quot;noClip&quot;: false, &quot;opacity&quot;: 1.0, &quot;smoothFactor&quot;: 1.0, &quot;stroke&quot;: true, &quot;weight&quot;: 0.5}\n",
              "            ).addTo(map_5e492536885ec1cd7d236d3b06a2c256);\n",
              "        \n",
              "    \n",
              "            var poly_line_8a1e55c27da256afded628378cef807b = L.polyline(\n",
              "                [[37.69808572900908, -122.50024443334648], [37.83986189124343, -122.50024443334648]],\n",
              "                {&quot;bubblingMouseEvents&quot;: true, &quot;color&quot;: &quot;blue&quot;, &quot;dashArray&quot;: null, &quot;dashOffset&quot;: null, &quot;fill&quot;: false, &quot;fillColor&quot;: &quot;blue&quot;, &quot;fillOpacity&quot;: 0.2, &quot;fillRule&quot;: &quot;evenodd&quot;, &quot;lineCap&quot;: &quot;round&quot;, &quot;lineJoin&quot;: &quot;round&quot;, &quot;noClip&quot;: false, &quot;opacity&quot;: 1.0, &quot;smoothFactor&quot;: 1.0, &quot;stroke&quot;: true, &quot;weight&quot;: 0.5}\n",
              "            ).addTo(map_5e492536885ec1cd7d236d3b06a2c256);\n",
              "        \n",
              "    \n",
              "            var poly_line_4e088293dffc9a08b34229a6fe3bc942 = L.polyline(\n",
              "                [[37.69808572900908, -122.49440148952614], [37.83986189124343, -122.49440148952614]],\n",
              "                {&quot;bubblingMouseEvents&quot;: true, &quot;color&quot;: &quot;blue&quot;, &quot;dashArray&quot;: null, &quot;dashOffset&quot;: null, &quot;fill&quot;: false, &quot;fillColor&quot;: &quot;blue&quot;, &quot;fillOpacity&quot;: 0.2, &quot;fillRule&quot;: &quot;evenodd&quot;, &quot;lineCap&quot;: &quot;round&quot;, &quot;lineJoin&quot;: &quot;round&quot;, &quot;noClip&quot;: false, &quot;opacity&quot;: 1.0, &quot;smoothFactor&quot;: 1.0, &quot;stroke&quot;: true, &quot;weight&quot;: 0.5}\n",
              "            ).addTo(map_5e492536885ec1cd7d236d3b06a2c256);\n",
              "        \n",
              "    \n",
              "            var poly_line_6c470c1bbf0f1f3087c60b5f88656b1b = L.polyline(\n",
              "                [[37.69808572900908, -122.48855854570579], [37.83986189124343, -122.48855854570579]],\n",
              "                {&quot;bubblingMouseEvents&quot;: true, &quot;color&quot;: &quot;blue&quot;, &quot;dashArray&quot;: null, &quot;dashOffset&quot;: null, &quot;fill&quot;: false, &quot;fillColor&quot;: &quot;blue&quot;, &quot;fillOpacity&quot;: 0.2, &quot;fillRule&quot;: &quot;evenodd&quot;, &quot;lineCap&quot;: &quot;round&quot;, &quot;lineJoin&quot;: &quot;round&quot;, &quot;noClip&quot;: false, &quot;opacity&quot;: 1.0, &quot;smoothFactor&quot;: 1.0, &quot;stroke&quot;: true, &quot;weight&quot;: 0.5}\n",
              "            ).addTo(map_5e492536885ec1cd7d236d3b06a2c256);\n",
              "        \n",
              "    \n",
              "            var poly_line_dc0083e0dafabd277a42ea1b6d256100 = L.polyline(\n",
              "                [[37.69808572900908, -122.48271560188545], [37.83986189124343, -122.48271560188545]],\n",
              "                {&quot;bubblingMouseEvents&quot;: true, &quot;color&quot;: &quot;blue&quot;, &quot;dashArray&quot;: null, &quot;dashOffset&quot;: null, &quot;fill&quot;: false, &quot;fillColor&quot;: &quot;blue&quot;, &quot;fillOpacity&quot;: 0.2, &quot;fillRule&quot;: &quot;evenodd&quot;, &quot;lineCap&quot;: &quot;round&quot;, &quot;lineJoin&quot;: &quot;round&quot;, &quot;noClip&quot;: false, &quot;opacity&quot;: 1.0, &quot;smoothFactor&quot;: 1.0, &quot;stroke&quot;: true, &quot;weight&quot;: 0.5}\n",
              "            ).addTo(map_5e492536885ec1cd7d236d3b06a2c256);\n",
              "        \n",
              "    \n",
              "            var poly_line_987673c34a7084c0fa20cc22d926f5dc = L.polyline(\n",
              "                [[37.69808572900908, -122.47687265806509], [37.83986189124343, -122.47687265806509]],\n",
              "                {&quot;bubblingMouseEvents&quot;: true, &quot;color&quot;: &quot;blue&quot;, &quot;dashArray&quot;: null, &quot;dashOffset&quot;: null, &quot;fill&quot;: false, &quot;fillColor&quot;: &quot;blue&quot;, &quot;fillOpacity&quot;: 0.2, &quot;fillRule&quot;: &quot;evenodd&quot;, &quot;lineCap&quot;: &quot;round&quot;, &quot;lineJoin&quot;: &quot;round&quot;, &quot;noClip&quot;: false, &quot;opacity&quot;: 1.0, &quot;smoothFactor&quot;: 1.0, &quot;stroke&quot;: true, &quot;weight&quot;: 0.5}\n",
              "            ).addTo(map_5e492536885ec1cd7d236d3b06a2c256);\n",
              "        \n",
              "    \n",
              "            var poly_line_111cfe819fc9dde00b10f6fb892cf657 = L.polyline(\n",
              "                [[37.69808572900908, -122.47102971424474], [37.83986189124343, -122.47102971424474]],\n",
              "                {&quot;bubblingMouseEvents&quot;: true, &quot;color&quot;: &quot;blue&quot;, &quot;dashArray&quot;: null, &quot;dashOffset&quot;: null, &quot;fill&quot;: false, &quot;fillColor&quot;: &quot;blue&quot;, &quot;fillOpacity&quot;: 0.2, &quot;fillRule&quot;: &quot;evenodd&quot;, &quot;lineCap&quot;: &quot;round&quot;, &quot;lineJoin&quot;: &quot;round&quot;, &quot;noClip&quot;: false, &quot;opacity&quot;: 1.0, &quot;smoothFactor&quot;: 1.0, &quot;stroke&quot;: true, &quot;weight&quot;: 0.5}\n",
              "            ).addTo(map_5e492536885ec1cd7d236d3b06a2c256);\n",
              "        \n",
              "    \n",
              "            var poly_line_b201b3e6f7d19b9082d8ee88af1b34ad = L.polyline(\n",
              "                [[37.69808572900908, -122.4651867704244], [37.83986189124343, -122.4651867704244]],\n",
              "                {&quot;bubblingMouseEvents&quot;: true, &quot;color&quot;: &quot;blue&quot;, &quot;dashArray&quot;: null, &quot;dashOffset&quot;: null, &quot;fill&quot;: false, &quot;fillColor&quot;: &quot;blue&quot;, &quot;fillOpacity&quot;: 0.2, &quot;fillRule&quot;: &quot;evenodd&quot;, &quot;lineCap&quot;: &quot;round&quot;, &quot;lineJoin&quot;: &quot;round&quot;, &quot;noClip&quot;: false, &quot;opacity&quot;: 1.0, &quot;smoothFactor&quot;: 1.0, &quot;stroke&quot;: true, &quot;weight&quot;: 0.5}\n",
              "            ).addTo(map_5e492536885ec1cd7d236d3b06a2c256);\n",
              "        \n",
              "    \n",
              "            var poly_line_3f50724f2ef6e1dc97cff85172d9379e = L.polyline(\n",
              "                [[37.69808572900908, -122.45934382660404], [37.83986189124343, -122.45934382660404]],\n",
              "                {&quot;bubblingMouseEvents&quot;: true, &quot;color&quot;: &quot;blue&quot;, &quot;dashArray&quot;: null, &quot;dashOffset&quot;: null, &quot;fill&quot;: false, &quot;fillColor&quot;: &quot;blue&quot;, &quot;fillOpacity&quot;: 0.2, &quot;fillRule&quot;: &quot;evenodd&quot;, &quot;lineCap&quot;: &quot;round&quot;, &quot;lineJoin&quot;: &quot;round&quot;, &quot;noClip&quot;: false, &quot;opacity&quot;: 1.0, &quot;smoothFactor&quot;: 1.0, &quot;stroke&quot;: true, &quot;weight&quot;: 0.5}\n",
              "            ).addTo(map_5e492536885ec1cd7d236d3b06a2c256);\n",
              "        \n",
              "    \n",
              "            var poly_line_8927b89085cc637d5d76ec15f247bb61 = L.polyline(\n",
              "                [[37.69808572900908, -122.45350088278369], [37.83986189124343, -122.45350088278369]],\n",
              "                {&quot;bubblingMouseEvents&quot;: true, &quot;color&quot;: &quot;blue&quot;, &quot;dashArray&quot;: null, &quot;dashOffset&quot;: null, &quot;fill&quot;: false, &quot;fillColor&quot;: &quot;blue&quot;, &quot;fillOpacity&quot;: 0.2, &quot;fillRule&quot;: &quot;evenodd&quot;, &quot;lineCap&quot;: &quot;round&quot;, &quot;lineJoin&quot;: &quot;round&quot;, &quot;noClip&quot;: false, &quot;opacity&quot;: 1.0, &quot;smoothFactor&quot;: 1.0, &quot;stroke&quot;: true, &quot;weight&quot;: 0.5}\n",
              "            ).addTo(map_5e492536885ec1cd7d236d3b06a2c256);\n",
              "        \n",
              "    \n",
              "            var poly_line_53dab8d19b6d7798f9cfa552dd6bd28b = L.polyline(\n",
              "                [[37.69808572900908, -122.44765793896335], [37.83986189124343, -122.44765793896335]],\n",
              "                {&quot;bubblingMouseEvents&quot;: true, &quot;color&quot;: &quot;blue&quot;, &quot;dashArray&quot;: null, &quot;dashOffset&quot;: null, &quot;fill&quot;: false, &quot;fillColor&quot;: &quot;blue&quot;, &quot;fillOpacity&quot;: 0.2, &quot;fillRule&quot;: &quot;evenodd&quot;, &quot;lineCap&quot;: &quot;round&quot;, &quot;lineJoin&quot;: &quot;round&quot;, &quot;noClip&quot;: false, &quot;opacity&quot;: 1.0, &quot;smoothFactor&quot;: 1.0, &quot;stroke&quot;: true, &quot;weight&quot;: 0.5}\n",
              "            ).addTo(map_5e492536885ec1cd7d236d3b06a2c256);\n",
              "        \n",
              "    \n",
              "            var poly_line_201fec12c64a31be95674c828c9aa201 = L.polyline(\n",
              "                [[37.69808572900908, -122.44181499514299], [37.83986189124343, -122.44181499514299]],\n",
              "                {&quot;bubblingMouseEvents&quot;: true, &quot;color&quot;: &quot;blue&quot;, &quot;dashArray&quot;: null, &quot;dashOffset&quot;: null, &quot;fill&quot;: false, &quot;fillColor&quot;: &quot;blue&quot;, &quot;fillOpacity&quot;: 0.2, &quot;fillRule&quot;: &quot;evenodd&quot;, &quot;lineCap&quot;: &quot;round&quot;, &quot;lineJoin&quot;: &quot;round&quot;, &quot;noClip&quot;: false, &quot;opacity&quot;: 1.0, &quot;smoothFactor&quot;: 1.0, &quot;stroke&quot;: true, &quot;weight&quot;: 0.5}\n",
              "            ).addTo(map_5e492536885ec1cd7d236d3b06a2c256);\n",
              "        \n",
              "    \n",
              "            var poly_line_5cb5fdcf6d360f60a12bbcf98d6f3f41 = L.polyline(\n",
              "                [[37.69808572900908, -122.43597205132264], [37.83986189124343, -122.43597205132264]],\n",
              "                {&quot;bubblingMouseEvents&quot;: true, &quot;color&quot;: &quot;blue&quot;, &quot;dashArray&quot;: null, &quot;dashOffset&quot;: null, &quot;fill&quot;: false, &quot;fillColor&quot;: &quot;blue&quot;, &quot;fillOpacity&quot;: 0.2, &quot;fillRule&quot;: &quot;evenodd&quot;, &quot;lineCap&quot;: &quot;round&quot;, &quot;lineJoin&quot;: &quot;round&quot;, &quot;noClip&quot;: false, &quot;opacity&quot;: 1.0, &quot;smoothFactor&quot;: 1.0, &quot;stroke&quot;: true, &quot;weight&quot;: 0.5}\n",
              "            ).addTo(map_5e492536885ec1cd7d236d3b06a2c256);\n",
              "        \n",
              "    \n",
              "            var poly_line_e698e791782a5e3711a0bff7f2f1120b = L.polyline(\n",
              "                [[37.69808572900908, -122.4301291075023], [37.83986189124343, -122.4301291075023]],\n",
              "                {&quot;bubblingMouseEvents&quot;: true, &quot;color&quot;: &quot;blue&quot;, &quot;dashArray&quot;: null, &quot;dashOffset&quot;: null, &quot;fill&quot;: false, &quot;fillColor&quot;: &quot;blue&quot;, &quot;fillOpacity&quot;: 0.2, &quot;fillRule&quot;: &quot;evenodd&quot;, &quot;lineCap&quot;: &quot;round&quot;, &quot;lineJoin&quot;: &quot;round&quot;, &quot;noClip&quot;: false, &quot;opacity&quot;: 1.0, &quot;smoothFactor&quot;: 1.0, &quot;stroke&quot;: true, &quot;weight&quot;: 0.5}\n",
              "            ).addTo(map_5e492536885ec1cd7d236d3b06a2c256);\n",
              "        \n",
              "    \n",
              "            var poly_line_5612145a061d37423e0da093de316906 = L.polyline(\n",
              "                [[37.69808572900908, -122.42428616368194], [37.83986189124343, -122.42428616368194]],\n",
              "                {&quot;bubblingMouseEvents&quot;: true, &quot;color&quot;: &quot;blue&quot;, &quot;dashArray&quot;: null, &quot;dashOffset&quot;: null, &quot;fill&quot;: false, &quot;fillColor&quot;: &quot;blue&quot;, &quot;fillOpacity&quot;: 0.2, &quot;fillRule&quot;: &quot;evenodd&quot;, &quot;lineCap&quot;: &quot;round&quot;, &quot;lineJoin&quot;: &quot;round&quot;, &quot;noClip&quot;: false, &quot;opacity&quot;: 1.0, &quot;smoothFactor&quot;: 1.0, &quot;stroke&quot;: true, &quot;weight&quot;: 0.5}\n",
              "            ).addTo(map_5e492536885ec1cd7d236d3b06a2c256);\n",
              "        \n",
              "    \n",
              "            var poly_line_95e1bfd07fe2ec5b7bf5249df273e43b = L.polyline(\n",
              "                [[37.69808572900908, -122.4184432198616], [37.83986189124343, -122.4184432198616]],\n",
              "                {&quot;bubblingMouseEvents&quot;: true, &quot;color&quot;: &quot;blue&quot;, &quot;dashArray&quot;: null, &quot;dashOffset&quot;: null, &quot;fill&quot;: false, &quot;fillColor&quot;: &quot;blue&quot;, &quot;fillOpacity&quot;: 0.2, &quot;fillRule&quot;: &quot;evenodd&quot;, &quot;lineCap&quot;: &quot;round&quot;, &quot;lineJoin&quot;: &quot;round&quot;, &quot;noClip&quot;: false, &quot;opacity&quot;: 1.0, &quot;smoothFactor&quot;: 1.0, &quot;stroke&quot;: true, &quot;weight&quot;: 0.5}\n",
              "            ).addTo(map_5e492536885ec1cd7d236d3b06a2c256);\n",
              "        \n",
              "    \n",
              "            var poly_line_16a1983561af609f8187e07f9aae4c8e = L.polyline(\n",
              "                [[37.69808572900908, -122.41260027604125], [37.83986189124343, -122.41260027604125]],\n",
              "                {&quot;bubblingMouseEvents&quot;: true, &quot;color&quot;: &quot;blue&quot;, &quot;dashArray&quot;: null, &quot;dashOffset&quot;: null, &quot;fill&quot;: false, &quot;fillColor&quot;: &quot;blue&quot;, &quot;fillOpacity&quot;: 0.2, &quot;fillRule&quot;: &quot;evenodd&quot;, &quot;lineCap&quot;: &quot;round&quot;, &quot;lineJoin&quot;: &quot;round&quot;, &quot;noClip&quot;: false, &quot;opacity&quot;: 1.0, &quot;smoothFactor&quot;: 1.0, &quot;stroke&quot;: true, &quot;weight&quot;: 0.5}\n",
              "            ).addTo(map_5e492536885ec1cd7d236d3b06a2c256);\n",
              "        \n",
              "    \n",
              "            var poly_line_ddd6b3ed9f4e36fb09c04867f1d2173c = L.polyline(\n",
              "                [[37.69808572900908, -122.40675733222089], [37.83986189124343, -122.40675733222089]],\n",
              "                {&quot;bubblingMouseEvents&quot;: true, &quot;color&quot;: &quot;blue&quot;, &quot;dashArray&quot;: null, &quot;dashOffset&quot;: null, &quot;fill&quot;: false, &quot;fillColor&quot;: &quot;blue&quot;, &quot;fillOpacity&quot;: 0.2, &quot;fillRule&quot;: &quot;evenodd&quot;, &quot;lineCap&quot;: &quot;round&quot;, &quot;lineJoin&quot;: &quot;round&quot;, &quot;noClip&quot;: false, &quot;opacity&quot;: 1.0, &quot;smoothFactor&quot;: 1.0, &quot;stroke&quot;: true, &quot;weight&quot;: 0.5}\n",
              "            ).addTo(map_5e492536885ec1cd7d236d3b06a2c256);\n",
              "        \n",
              "    \n",
              "            var poly_line_0f75db0c739c81ee8a126df3b901489a = L.polyline(\n",
              "                [[37.69808572900908, -122.40091438840055], [37.83986189124343, -122.40091438840055]],\n",
              "                {&quot;bubblingMouseEvents&quot;: true, &quot;color&quot;: &quot;blue&quot;, &quot;dashArray&quot;: null, &quot;dashOffset&quot;: null, &quot;fill&quot;: false, &quot;fillColor&quot;: &quot;blue&quot;, &quot;fillOpacity&quot;: 0.2, &quot;fillRule&quot;: &quot;evenodd&quot;, &quot;lineCap&quot;: &quot;round&quot;, &quot;lineJoin&quot;: &quot;round&quot;, &quot;noClip&quot;: false, &quot;opacity&quot;: 1.0, &quot;smoothFactor&quot;: 1.0, &quot;stroke&quot;: true, &quot;weight&quot;: 0.5}\n",
              "            ).addTo(map_5e492536885ec1cd7d236d3b06a2c256);\n",
              "        \n",
              "    \n",
              "            var poly_line_8d803902ef819a11a4d1a8cc38f431ba = L.polyline(\n",
              "                [[37.69808572900908, -122.3950714445802], [37.83986189124343, -122.3950714445802]],\n",
              "                {&quot;bubblingMouseEvents&quot;: true, &quot;color&quot;: &quot;blue&quot;, &quot;dashArray&quot;: null, &quot;dashOffset&quot;: null, &quot;fill&quot;: false, &quot;fillColor&quot;: &quot;blue&quot;, &quot;fillOpacity&quot;: 0.2, &quot;fillRule&quot;: &quot;evenodd&quot;, &quot;lineCap&quot;: &quot;round&quot;, &quot;lineJoin&quot;: &quot;round&quot;, &quot;noClip&quot;: false, &quot;opacity&quot;: 1.0, &quot;smoothFactor&quot;: 1.0, &quot;stroke&quot;: true, &quot;weight&quot;: 0.5}\n",
              "            ).addTo(map_5e492536885ec1cd7d236d3b06a2c256);\n",
              "        \n",
              "    \n",
              "            var poly_line_740539ff05dbe7aa6324ff0756bced0a = L.polyline(\n",
              "                [[37.69808572900908, -122.38922850075984], [37.83986189124343, -122.38922850075984]],\n",
              "                {&quot;bubblingMouseEvents&quot;: true, &quot;color&quot;: &quot;blue&quot;, &quot;dashArray&quot;: null, &quot;dashOffset&quot;: null, &quot;fill&quot;: false, &quot;fillColor&quot;: &quot;blue&quot;, &quot;fillOpacity&quot;: 0.2, &quot;fillRule&quot;: &quot;evenodd&quot;, &quot;lineCap&quot;: &quot;round&quot;, &quot;lineJoin&quot;: &quot;round&quot;, &quot;noClip&quot;: false, &quot;opacity&quot;: 1.0, &quot;smoothFactor&quot;: 1.0, &quot;stroke&quot;: true, &quot;weight&quot;: 0.5}\n",
              "            ).addTo(map_5e492536885ec1cd7d236d3b06a2c256);\n",
              "        \n",
              "    \n",
              "            var poly_line_be328babf98b0937ba8ddc4ebb50c2b1 = L.polyline(\n",
              "                [[37.69808572900908, -122.3833855569395], [37.83986189124343, -122.3833855569395]],\n",
              "                {&quot;bubblingMouseEvents&quot;: true, &quot;color&quot;: &quot;blue&quot;, &quot;dashArray&quot;: null, &quot;dashOffset&quot;: null, &quot;fill&quot;: false, &quot;fillColor&quot;: &quot;blue&quot;, &quot;fillOpacity&quot;: 0.2, &quot;fillRule&quot;: &quot;evenodd&quot;, &quot;lineCap&quot;: &quot;round&quot;, &quot;lineJoin&quot;: &quot;round&quot;, &quot;noClip&quot;: false, &quot;opacity&quot;: 1.0, &quot;smoothFactor&quot;: 1.0, &quot;stroke&quot;: true, &quot;weight&quot;: 0.5}\n",
              "            ).addTo(map_5e492536885ec1cd7d236d3b06a2c256);\n",
              "        \n",
              "    \n",
              "            var poly_line_23045c906c3f2eba293b24879026ad56 = L.polyline(\n",
              "                [[37.69808572900908, -122.37754261311915], [37.83986189124343, -122.37754261311915]],\n",
              "                {&quot;bubblingMouseEvents&quot;: true, &quot;color&quot;: &quot;blue&quot;, &quot;dashArray&quot;: null, &quot;dashOffset&quot;: null, &quot;fill&quot;: false, &quot;fillColor&quot;: &quot;blue&quot;, &quot;fillOpacity&quot;: 0.2, &quot;fillRule&quot;: &quot;evenodd&quot;, &quot;lineCap&quot;: &quot;round&quot;, &quot;lineJoin&quot;: &quot;round&quot;, &quot;noClip&quot;: false, &quot;opacity&quot;: 1.0, &quot;smoothFactor&quot;: 1.0, &quot;stroke&quot;: true, &quot;weight&quot;: 0.5}\n",
              "            ).addTo(map_5e492536885ec1cd7d236d3b06a2c256);\n",
              "        \n",
              "    \n",
              "            var poly_line_824a1b5136dfd5d27f2c5322e6de5052 = L.polyline(\n",
              "                [[37.69808572900908, -122.3716996692988], [37.83986189124343, -122.3716996692988]],\n",
              "                {&quot;bubblingMouseEvents&quot;: true, &quot;color&quot;: &quot;blue&quot;, &quot;dashArray&quot;: null, &quot;dashOffset&quot;: null, &quot;fill&quot;: false, &quot;fillColor&quot;: &quot;blue&quot;, &quot;fillOpacity&quot;: 0.2, &quot;fillRule&quot;: &quot;evenodd&quot;, &quot;lineCap&quot;: &quot;round&quot;, &quot;lineJoin&quot;: &quot;round&quot;, &quot;noClip&quot;: false, &quot;opacity&quot;: 1.0, &quot;smoothFactor&quot;: 1.0, &quot;stroke&quot;: true, &quot;weight&quot;: 0.5}\n",
              "            ).addTo(map_5e492536885ec1cd7d236d3b06a2c256);\n",
              "        \n",
              "    \n",
              "            var poly_line_1f18773002a3261cf191c50d98c3cc13 = L.polyline(\n",
              "                [[37.69808572900908, -122.36585672547845], [37.83986189124343, -122.36585672547845]],\n",
              "                {&quot;bubblingMouseEvents&quot;: true, &quot;color&quot;: &quot;blue&quot;, &quot;dashArray&quot;: null, &quot;dashOffset&quot;: null, &quot;fill&quot;: false, &quot;fillColor&quot;: &quot;blue&quot;, &quot;fillOpacity&quot;: 0.2, &quot;fillRule&quot;: &quot;evenodd&quot;, &quot;lineCap&quot;: &quot;round&quot;, &quot;lineJoin&quot;: &quot;round&quot;, &quot;noClip&quot;: false, &quot;opacity&quot;: 1.0, &quot;smoothFactor&quot;: 1.0, &quot;stroke&quot;: true, &quot;weight&quot;: 0.5}\n",
              "            ).addTo(map_5e492536885ec1cd7d236d3b06a2c256);\n",
              "        \n",
              "    \n",
              "            var poly_line_da21c746aab5e431decdc59a0f4deda3 = L.polyline(\n",
              "                [[37.69808572900908, -122.3600137816581], [37.83986189124343, -122.3600137816581]],\n",
              "                {&quot;bubblingMouseEvents&quot;: true, &quot;color&quot;: &quot;blue&quot;, &quot;dashArray&quot;: null, &quot;dashOffset&quot;: null, &quot;fill&quot;: false, &quot;fillColor&quot;: &quot;blue&quot;, &quot;fillOpacity&quot;: 0.2, &quot;fillRule&quot;: &quot;evenodd&quot;, &quot;lineCap&quot;: &quot;round&quot;, &quot;lineJoin&quot;: &quot;round&quot;, &quot;noClip&quot;: false, &quot;opacity&quot;: 1.0, &quot;smoothFactor&quot;: 1.0, &quot;stroke&quot;: true, &quot;weight&quot;: 0.5}\n",
              "            ).addTo(map_5e492536885ec1cd7d236d3b06a2c256);\n",
              "        \n",
              "    \n",
              "            var poly_line_4bef61062fc1a61c9cf496db7148db93 = L.polyline(\n",
              "                [[37.69808572900908, -122.35417083783776], [37.83986189124343, -122.35417083783776]],\n",
              "                {&quot;bubblingMouseEvents&quot;: true, &quot;color&quot;: &quot;blue&quot;, &quot;dashArray&quot;: null, &quot;dashOffset&quot;: null, &quot;fill&quot;: false, &quot;fillColor&quot;: &quot;blue&quot;, &quot;fillOpacity&quot;: 0.2, &quot;fillRule&quot;: &quot;evenodd&quot;, &quot;lineCap&quot;: &quot;round&quot;, &quot;lineJoin&quot;: &quot;round&quot;, &quot;noClip&quot;: false, &quot;opacity&quot;: 1.0, &quot;smoothFactor&quot;: 1.0, &quot;stroke&quot;: true, &quot;weight&quot;: 0.5}\n",
              "            ).addTo(map_5e492536885ec1cd7d236d3b06a2c256);\n",
              "        \n",
              "    \n",
              "            var poly_line_eba6e9877c2f0aee67aa8f8ecfe6dcf3 = L.polyline(\n",
              "                [[37.69808572900908, -122.3483278940174], [37.83986189124343, -122.3483278940174]],\n",
              "                {&quot;bubblingMouseEvents&quot;: true, &quot;color&quot;: &quot;blue&quot;, &quot;dashArray&quot;: null, &quot;dashOffset&quot;: null, &quot;fill&quot;: false, &quot;fillColor&quot;: &quot;blue&quot;, &quot;fillOpacity&quot;: 0.2, &quot;fillRule&quot;: &quot;evenodd&quot;, &quot;lineCap&quot;: &quot;round&quot;, &quot;lineJoin&quot;: &quot;round&quot;, &quot;noClip&quot;: false, &quot;opacity&quot;: 1.0, &quot;smoothFactor&quot;: 1.0, &quot;stroke&quot;: true, &quot;weight&quot;: 0.5}\n",
              "            ).addTo(map_5e492536885ec1cd7d236d3b06a2c256);\n",
              "        \n",
              "&lt;/script&gt;\n",
              "&lt;/html&gt;\" style=\"position:absolute;width:100%;height:100%;left:0;top:0;border:none !important;\" allowfullscreen webkitallowfullscreen mozallowfullscreen></iframe></div></div>"
            ]
          },
          "metadata": {},
          "execution_count": 469
        }
      ]
    },
    {
      "cell_type": "code",
      "source": [
        "grid_boundaries = []\n",
        "\n",
        "# Iterate through latitude values\n",
        "for i in range(len(lat_values) - 1):\n",
        "    lat1, lat2 = lat_values[i], lat_values[i + 1]\n",
        "    # Iterate through longitude values\n",
        "    for j in range(len(long_values) - 1):\n",
        "        long1, long2 = long_values[j], long_values[j + 1]\n",
        "        # Define the boundaries of the grid area\n",
        "        boundary = [(lat1, long1), (lat1, long2), (lat2, long2), (lat2, long1), (lat1, long1)]\n",
        "        # Append the boundary to the list\n",
        "        grid_boundaries.append(boundary)"
      ],
      "metadata": {
        "id": "VyR_noEx2dcZ"
      },
      "execution_count": 470,
      "outputs": []
    },
    {
      "cell_type": "markdown",
      "source": [
        "# Preprocessing"
      ],
      "metadata": {
        "id": "0NzpvpAPIBkA"
      }
    },
    {
      "cell_type": "code",
      "source": [
        "selected_dates.dropna(subset = ['latitude', 'longitude', \"month\", \"day_of_week\"], inplace=True)\n",
        "selected_dates.drop(columns = ['collision_datetime'], inplace=True)"
      ],
      "metadata": {
        "id": "zID8p9awAbUh"
      },
      "execution_count": 471,
      "outputs": []
    },
    {
      "cell_type": "markdown",
      "source": [
        "## Creating 30x30 matrices with the accident data assigned to its respective cell in the grid"
      ],
      "metadata": {
        "id": "cBWX4D-UIOjs"
      }
    },
    {
      "cell_type": "code",
      "source": [
        "# Group the accidents dataframe by 'collision_date'\n",
        "grouped_dates = selected_dates.groupby('collision_date')\n",
        "\n",
        "# Create a dataframe to store the input for each data\n",
        "start_date = datetime(2005, 1, 1)\n",
        "end_date = datetime(2014, 12, 31)\n",
        "one_day = timedelta(days=1)\n",
        "date_range = [start_date + timedelta(days=i) for i in range((end_date - start_date).days + 1)]\n",
        "input_numeric = pd.DataFrame(index=date_range, columns = ['dow', 'month', 'mintemp', 'maxtemp', 'avgtemp', 'precip'])\n",
        "matrices = pd.Series(index=date_range, dtype=object)"
      ],
      "metadata": {
        "id": "-YMMNzrWiRcX"
      },
      "execution_count": 472,
      "outputs": []
    },
    {
      "cell_type": "code",
      "source": [
        "selected_dates.head()"
      ],
      "metadata": {
        "colab": {
          "base_uri": "https://localhost:8080/",
          "height": 206
        },
        "id": "7BrQJCqGnUSq",
        "outputId": "2f5d5908-3bdf-429a-aa0c-c6164be04169"
      },
      "execution_count": 473,
      "outputs": [
        {
          "output_type": "execute_result",
          "data": {
            "text/plain": [
              "      collision_date  accident_year  month  day_of_week   latitude   longitude\n",
              "12370     2005-01-01           2005      1          0.0  37.780656 -122.472312\n",
              "31833     2005-01-01           2005      1          0.0  37.753914 -122.483887\n",
              "34111     2005-01-01           2005      1          0.0  37.771054 -122.453902\n",
              "26282     2005-01-01           2005      1          0.0  37.743397 -122.475726\n",
              "25233     2005-01-01           2005      1          0.0  37.789452 -122.423832"
            ],
            "text/html": [
              "\n",
              "  <div id=\"df-af0d0db8-f463-4aec-90bc-1a49328b0bba\" class=\"colab-df-container\">\n",
              "    <div>\n",
              "<style scoped>\n",
              "    .dataframe tbody tr th:only-of-type {\n",
              "        vertical-align: middle;\n",
              "    }\n",
              "\n",
              "    .dataframe tbody tr th {\n",
              "        vertical-align: top;\n",
              "    }\n",
              "\n",
              "    .dataframe thead th {\n",
              "        text-align: right;\n",
              "    }\n",
              "</style>\n",
              "<table border=\"1\" class=\"dataframe\">\n",
              "  <thead>\n",
              "    <tr style=\"text-align: right;\">\n",
              "      <th></th>\n",
              "      <th>collision_date</th>\n",
              "      <th>accident_year</th>\n",
              "      <th>month</th>\n",
              "      <th>day_of_week</th>\n",
              "      <th>latitude</th>\n",
              "      <th>longitude</th>\n",
              "    </tr>\n",
              "  </thead>\n",
              "  <tbody>\n",
              "    <tr>\n",
              "      <th>12370</th>\n",
              "      <td>2005-01-01</td>\n",
              "      <td>2005</td>\n",
              "      <td>1</td>\n",
              "      <td>0.0</td>\n",
              "      <td>37.780656</td>\n",
              "      <td>-122.472312</td>\n",
              "    </tr>\n",
              "    <tr>\n",
              "      <th>31833</th>\n",
              "      <td>2005-01-01</td>\n",
              "      <td>2005</td>\n",
              "      <td>1</td>\n",
              "      <td>0.0</td>\n",
              "      <td>37.753914</td>\n",
              "      <td>-122.483887</td>\n",
              "    </tr>\n",
              "    <tr>\n",
              "      <th>34111</th>\n",
              "      <td>2005-01-01</td>\n",
              "      <td>2005</td>\n",
              "      <td>1</td>\n",
              "      <td>0.0</td>\n",
              "      <td>37.771054</td>\n",
              "      <td>-122.453902</td>\n",
              "    </tr>\n",
              "    <tr>\n",
              "      <th>26282</th>\n",
              "      <td>2005-01-01</td>\n",
              "      <td>2005</td>\n",
              "      <td>1</td>\n",
              "      <td>0.0</td>\n",
              "      <td>37.743397</td>\n",
              "      <td>-122.475726</td>\n",
              "    </tr>\n",
              "    <tr>\n",
              "      <th>25233</th>\n",
              "      <td>2005-01-01</td>\n",
              "      <td>2005</td>\n",
              "      <td>1</td>\n",
              "      <td>0.0</td>\n",
              "      <td>37.789452</td>\n",
              "      <td>-122.423832</td>\n",
              "    </tr>\n",
              "  </tbody>\n",
              "</table>\n",
              "</div>\n",
              "    <div class=\"colab-df-buttons\">\n",
              "\n",
              "  <div class=\"colab-df-container\">\n",
              "    <button class=\"colab-df-convert\" onclick=\"convertToInteractive('df-af0d0db8-f463-4aec-90bc-1a49328b0bba')\"\n",
              "            title=\"Convert this dataframe to an interactive table.\"\n",
              "            style=\"display:none;\">\n",
              "\n",
              "  <svg xmlns=\"http://www.w3.org/2000/svg\" height=\"24px\" viewBox=\"0 -960 960 960\">\n",
              "    <path d=\"M120-120v-720h720v720H120Zm60-500h600v-160H180v160Zm220 220h160v-160H400v160Zm0 220h160v-160H400v160ZM180-400h160v-160H180v160Zm440 0h160v-160H620v160ZM180-180h160v-160H180v160Zm440 0h160v-160H620v160Z\"/>\n",
              "  </svg>\n",
              "    </button>\n",
              "\n",
              "  <style>\n",
              "    .colab-df-container {\n",
              "      display:flex;\n",
              "      gap: 12px;\n",
              "    }\n",
              "\n",
              "    .colab-df-convert {\n",
              "      background-color: #E8F0FE;\n",
              "      border: none;\n",
              "      border-radius: 50%;\n",
              "      cursor: pointer;\n",
              "      display: none;\n",
              "      fill: #1967D2;\n",
              "      height: 32px;\n",
              "      padding: 0 0 0 0;\n",
              "      width: 32px;\n",
              "    }\n",
              "\n",
              "    .colab-df-convert:hover {\n",
              "      background-color: #E2EBFA;\n",
              "      box-shadow: 0px 1px 2px rgba(60, 64, 67, 0.3), 0px 1px 3px 1px rgba(60, 64, 67, 0.15);\n",
              "      fill: #174EA6;\n",
              "    }\n",
              "\n",
              "    .colab-df-buttons div {\n",
              "      margin-bottom: 4px;\n",
              "    }\n",
              "\n",
              "    [theme=dark] .colab-df-convert {\n",
              "      background-color: #3B4455;\n",
              "      fill: #D2E3FC;\n",
              "    }\n",
              "\n",
              "    [theme=dark] .colab-df-convert:hover {\n",
              "      background-color: #434B5C;\n",
              "      box-shadow: 0px 1px 3px 1px rgba(0, 0, 0, 0.15);\n",
              "      filter: drop-shadow(0px 1px 2px rgba(0, 0, 0, 0.3));\n",
              "      fill: #FFFFFF;\n",
              "    }\n",
              "  </style>\n",
              "\n",
              "    <script>\n",
              "      const buttonEl =\n",
              "        document.querySelector('#df-af0d0db8-f463-4aec-90bc-1a49328b0bba button.colab-df-convert');\n",
              "      buttonEl.style.display =\n",
              "        google.colab.kernel.accessAllowed ? 'block' : 'none';\n",
              "\n",
              "      async function convertToInteractive(key) {\n",
              "        const element = document.querySelector('#df-af0d0db8-f463-4aec-90bc-1a49328b0bba');\n",
              "        const dataTable =\n",
              "          await google.colab.kernel.invokeFunction('convertToInteractive',\n",
              "                                                    [key], {});\n",
              "        if (!dataTable) return;\n",
              "\n",
              "        const docLinkHtml = 'Like what you see? Visit the ' +\n",
              "          '<a target=\"_blank\" href=https://colab.research.google.com/notebooks/data_table.ipynb>data table notebook</a>'\n",
              "          + ' to learn more about interactive tables.';\n",
              "        element.innerHTML = '';\n",
              "        dataTable['output_type'] = 'display_data';\n",
              "        await google.colab.output.renderOutput(dataTable, element);\n",
              "        const docLink = document.createElement('div');\n",
              "        docLink.innerHTML = docLinkHtml;\n",
              "        element.appendChild(docLink);\n",
              "      }\n",
              "    </script>\n",
              "  </div>\n",
              "\n",
              "\n",
              "<div id=\"df-65bd8c49-2204-41d7-abab-44ed9289011d\">\n",
              "  <button class=\"colab-df-quickchart\" onclick=\"quickchart('df-65bd8c49-2204-41d7-abab-44ed9289011d')\"\n",
              "            title=\"Suggest charts\"\n",
              "            style=\"display:none;\">\n",
              "\n",
              "<svg xmlns=\"http://www.w3.org/2000/svg\" height=\"24px\"viewBox=\"0 0 24 24\"\n",
              "     width=\"24px\">\n",
              "    <g>\n",
              "        <path d=\"M19 3H5c-1.1 0-2 .9-2 2v14c0 1.1.9 2 2 2h14c1.1 0 2-.9 2-2V5c0-1.1-.9-2-2-2zM9 17H7v-7h2v7zm4 0h-2V7h2v10zm4 0h-2v-4h2v4z\"/>\n",
              "    </g>\n",
              "</svg>\n",
              "  </button>\n",
              "\n",
              "<style>\n",
              "  .colab-df-quickchart {\n",
              "      --bg-color: #E8F0FE;\n",
              "      --fill-color: #1967D2;\n",
              "      --hover-bg-color: #E2EBFA;\n",
              "      --hover-fill-color: #174EA6;\n",
              "      --disabled-fill-color: #AAA;\n",
              "      --disabled-bg-color: #DDD;\n",
              "  }\n",
              "\n",
              "  [theme=dark] .colab-df-quickchart {\n",
              "      --bg-color: #3B4455;\n",
              "      --fill-color: #D2E3FC;\n",
              "      --hover-bg-color: #434B5C;\n",
              "      --hover-fill-color: #FFFFFF;\n",
              "      --disabled-bg-color: #3B4455;\n",
              "      --disabled-fill-color: #666;\n",
              "  }\n",
              "\n",
              "  .colab-df-quickchart {\n",
              "    background-color: var(--bg-color);\n",
              "    border: none;\n",
              "    border-radius: 50%;\n",
              "    cursor: pointer;\n",
              "    display: none;\n",
              "    fill: var(--fill-color);\n",
              "    height: 32px;\n",
              "    padding: 0;\n",
              "    width: 32px;\n",
              "  }\n",
              "\n",
              "  .colab-df-quickchart:hover {\n",
              "    background-color: var(--hover-bg-color);\n",
              "    box-shadow: 0 1px 2px rgba(60, 64, 67, 0.3), 0 1px 3px 1px rgba(60, 64, 67, 0.15);\n",
              "    fill: var(--button-hover-fill-color);\n",
              "  }\n",
              "\n",
              "  .colab-df-quickchart-complete:disabled,\n",
              "  .colab-df-quickchart-complete:disabled:hover {\n",
              "    background-color: var(--disabled-bg-color);\n",
              "    fill: var(--disabled-fill-color);\n",
              "    box-shadow: none;\n",
              "  }\n",
              "\n",
              "  .colab-df-spinner {\n",
              "    border: 2px solid var(--fill-color);\n",
              "    border-color: transparent;\n",
              "    border-bottom-color: var(--fill-color);\n",
              "    animation:\n",
              "      spin 1s steps(1) infinite;\n",
              "  }\n",
              "\n",
              "  @keyframes spin {\n",
              "    0% {\n",
              "      border-color: transparent;\n",
              "      border-bottom-color: var(--fill-color);\n",
              "      border-left-color: var(--fill-color);\n",
              "    }\n",
              "    20% {\n",
              "      border-color: transparent;\n",
              "      border-left-color: var(--fill-color);\n",
              "      border-top-color: var(--fill-color);\n",
              "    }\n",
              "    30% {\n",
              "      border-color: transparent;\n",
              "      border-left-color: var(--fill-color);\n",
              "      border-top-color: var(--fill-color);\n",
              "      border-right-color: var(--fill-color);\n",
              "    }\n",
              "    40% {\n",
              "      border-color: transparent;\n",
              "      border-right-color: var(--fill-color);\n",
              "      border-top-color: var(--fill-color);\n",
              "    }\n",
              "    60% {\n",
              "      border-color: transparent;\n",
              "      border-right-color: var(--fill-color);\n",
              "    }\n",
              "    80% {\n",
              "      border-color: transparent;\n",
              "      border-right-color: var(--fill-color);\n",
              "      border-bottom-color: var(--fill-color);\n",
              "    }\n",
              "    90% {\n",
              "      border-color: transparent;\n",
              "      border-bottom-color: var(--fill-color);\n",
              "    }\n",
              "  }\n",
              "</style>\n",
              "\n",
              "  <script>\n",
              "    async function quickchart(key) {\n",
              "      const quickchartButtonEl =\n",
              "        document.querySelector('#' + key + ' button');\n",
              "      quickchartButtonEl.disabled = true;  // To prevent multiple clicks.\n",
              "      quickchartButtonEl.classList.add('colab-df-spinner');\n",
              "      try {\n",
              "        const charts = await google.colab.kernel.invokeFunction(\n",
              "            'suggestCharts', [key], {});\n",
              "      } catch (error) {\n",
              "        console.error('Error during call to suggestCharts:', error);\n",
              "      }\n",
              "      quickchartButtonEl.classList.remove('colab-df-spinner');\n",
              "      quickchartButtonEl.classList.add('colab-df-quickchart-complete');\n",
              "    }\n",
              "    (() => {\n",
              "      let quickchartButtonEl =\n",
              "        document.querySelector('#df-65bd8c49-2204-41d7-abab-44ed9289011d button');\n",
              "      quickchartButtonEl.style.display =\n",
              "        google.colab.kernel.accessAllowed ? 'block' : 'none';\n",
              "    })();\n",
              "  </script>\n",
              "</div>\n",
              "    </div>\n",
              "  </div>\n"
            ],
            "application/vnd.google.colaboratory.intrinsic+json": {
              "type": "dataframe",
              "variable_name": "selected_dates",
              "repr_error": "0"
            }
          },
          "metadata": {},
          "execution_count": 473
        }
      ]
    },
    {
      "cell_type": "code",
      "source": [
        "# Iterate through each date group from the accidents df\n",
        "for date, group in grouped_dates:\n",
        "    # Create a 30x30 matrix initialized with zeros\n",
        "    matrix = np.zeros((30, 30), dtype=int)\n",
        "\n",
        "    # Iterate through each row in the group\n",
        "    for index, row in group.iterrows():\n",
        "        # Compute the indices for the matrix\n",
        "        lat_index = int((row['latitude'] - min_lat) / (max_lat - min_lat) * 30)-1\n",
        "        long_index = int((row['longitude'] - min_long) / (max_long - min_long) * 30)-1\n",
        "\n",
        "        # Increment the corresponding cell in the matrix\n",
        "        matrix[lat_index, long_index] += 1\n",
        "\n",
        "    # Store the matrix in the dataframe in the correct date\n",
        "    dt_object = date.strftime('%Y-%m-%d')\n",
        "\n",
        "    matrices.loc[dt_object] = matrix\n",
        "\n",
        "# Add 0s for dates that were missing in grouped_dates because they had 0 accidents\n",
        "matrices.replace(np.nan, 0, inplace=True)\n",
        "\n",
        "# Replace 0s with empty matrices\n",
        "for i in matrices.index:\n",
        "  if isinstance(matrices.loc[i], int):\n",
        "    matrices.loc[i] = np.zeros((30, 30), dtype=int)"
      ],
      "metadata": {
        "id": "ITUQJcA66Fih"
      },
      "execution_count": 474,
      "outputs": []
    },
    {
      "cell_type": "code",
      "source": [
        "# Convert to np array\n",
        "matrices_array = np.array(matrices.values)"
      ],
      "metadata": {
        "id": "iB8AQx1SKqe1"
      },
      "execution_count": 475,
      "outputs": []
    },
    {
      "cell_type": "code",
      "source": [
        "# Reshape into a 3d np array\n",
        "matrices_3d = np.stack(matrices_array)\n",
        "matrices_reshaped = matrices_3d.reshape(3652, 30, 30)"
      ],
      "metadata": {
        "id": "zuo4VhidSTCA"
      },
      "execution_count": 476,
      "outputs": []
    },
    {
      "cell_type": "code",
      "source": [
        "# Add days of week and month\n",
        "input_numeric['month'] = input_numeric.index.month\n",
        "input_numeric['dow'] = input_numeric.index.dayofweek\n",
        "\n",
        "# Subset weather df\n",
        "subset_weather_df = weather_df.loc[start_date:end_date]\n",
        "\n",
        "# Add weather data\n",
        "input_numeric[['mintemp', 'maxtemp', 'avgtemp', 'precip']] = subset_weather_df"
      ],
      "metadata": {
        "id": "85aIbyTXqe2x"
      },
      "execution_count": 477,
      "outputs": []
    },
    {
      "cell_type": "markdown",
      "source": [
        "## Scaling, encoding, reshaping"
      ],
      "metadata": {
        "id": "P_-dCFVcGfJA"
      }
    },
    {
      "cell_type": "code",
      "source": [
        "# Define which columns need to be scaled and one-hot encoded\n",
        "numeric_features = ['mintemp', 'maxtemp', 'avgtemp', 'precip']\n",
        "categorical_features = ['dow', 'month']\n",
        "\n",
        "# Preprocessing pipeline\n",
        "preprocessor = ColumnTransformer(\n",
        "    transformers=[\n",
        "        ('num', StandardScaler(), numeric_features),\n",
        "        ('cat', OneHotEncoder(categories=[range(7),\n",
        "                                          range(1, 13)]),\n",
        "         categorical_features)\n",
        "    ],\n",
        "    sparse_threshold=0)\n",
        "\n",
        "# Fit and transform the data\n",
        "input_numeric_processed = preprocessor.fit_transform(input_numeric)"
      ],
      "metadata": {
        "id": "RcONtHFbrNuw",
        "colab": {
          "base_uri": "https://localhost:8080/",
          "height": 936
        },
        "outputId": "683727b3-445b-407e-9c20-38125ddf6da6"
      },
      "execution_count": 522,
      "outputs": [
        {
          "output_type": "error",
          "ename": "ValueError",
          "evalue": "Specifying the columns using strings is only supported for pandas DataFrames",
          "traceback": [
            "\u001b[0;31m---------------------------------------------------------------------------\u001b[0m",
            "\u001b[0;31mAttributeError\u001b[0m                            Traceback (most recent call last)",
            "\u001b[0;32m/usr/local/lib/python3.10/dist-packages/sklearn/utils/__init__.py\u001b[0m in \u001b[0;36m_get_column_indices\u001b[0;34m(X, key)\u001b[0m\n\u001b[1;32m    423\u001b[0m         \u001b[0;32mtry\u001b[0m\u001b[0;34m:\u001b[0m\u001b[0;34m\u001b[0m\u001b[0;34m\u001b[0m\u001b[0m\n\u001b[0;32m--> 424\u001b[0;31m             \u001b[0mall_columns\u001b[0m \u001b[0;34m=\u001b[0m \u001b[0mX\u001b[0m\u001b[0;34m.\u001b[0m\u001b[0mcolumns\u001b[0m\u001b[0;34m\u001b[0m\u001b[0;34m\u001b[0m\u001b[0m\n\u001b[0m\u001b[1;32m    425\u001b[0m         \u001b[0;32mexcept\u001b[0m \u001b[0mAttributeError\u001b[0m\u001b[0;34m:\u001b[0m\u001b[0;34m\u001b[0m\u001b[0;34m\u001b[0m\u001b[0m\n",
            "\u001b[0;31mAttributeError\u001b[0m: 'KerasTensor' object has no attribute 'columns'",
            "\nDuring handling of the above exception, another exception occurred:\n",
            "\u001b[0;31mValueError\u001b[0m                                Traceback (most recent call last)",
            "\u001b[0;32m<ipython-input-522-9cee4c2585be>\u001b[0m in \u001b[0;36m<cell line: 15>\u001b[0;34m()\u001b[0m\n\u001b[1;32m     13\u001b[0m \u001b[0;34m\u001b[0m\u001b[0m\n\u001b[1;32m     14\u001b[0m \u001b[0;31m# Fit and transform the data\u001b[0m\u001b[0;34m\u001b[0m\u001b[0;34m\u001b[0m\u001b[0m\n\u001b[0;32m---> 15\u001b[0;31m \u001b[0minput_numeric_processed\u001b[0m \u001b[0;34m=\u001b[0m \u001b[0mpreprocessor\u001b[0m\u001b[0;34m.\u001b[0m\u001b[0mfit_transform\u001b[0m\u001b[0;34m(\u001b[0m\u001b[0minput_numeric\u001b[0m\u001b[0;34m)\u001b[0m\u001b[0;34m\u001b[0m\u001b[0;34m\u001b[0m\u001b[0m\n\u001b[0m",
            "\u001b[0;32m/usr/local/lib/python3.10/dist-packages/sklearn/utils/_set_output.py\u001b[0m in \u001b[0;36mwrapped\u001b[0;34m(self, X, *args, **kwargs)\u001b[0m\n\u001b[1;32m    138\u001b[0m     \u001b[0;34m@\u001b[0m\u001b[0mwraps\u001b[0m\u001b[0;34m(\u001b[0m\u001b[0mf\u001b[0m\u001b[0;34m)\u001b[0m\u001b[0;34m\u001b[0m\u001b[0;34m\u001b[0m\u001b[0m\n\u001b[1;32m    139\u001b[0m     \u001b[0;32mdef\u001b[0m \u001b[0mwrapped\u001b[0m\u001b[0;34m(\u001b[0m\u001b[0mself\u001b[0m\u001b[0;34m,\u001b[0m \u001b[0mX\u001b[0m\u001b[0;34m,\u001b[0m \u001b[0;34m*\u001b[0m\u001b[0margs\u001b[0m\u001b[0;34m,\u001b[0m \u001b[0;34m**\u001b[0m\u001b[0mkwargs\u001b[0m\u001b[0;34m)\u001b[0m\u001b[0;34m:\u001b[0m\u001b[0;34m\u001b[0m\u001b[0;34m\u001b[0m\u001b[0m\n\u001b[0;32m--> 140\u001b[0;31m         \u001b[0mdata_to_wrap\u001b[0m \u001b[0;34m=\u001b[0m \u001b[0mf\u001b[0m\u001b[0;34m(\u001b[0m\u001b[0mself\u001b[0m\u001b[0;34m,\u001b[0m \u001b[0mX\u001b[0m\u001b[0;34m,\u001b[0m \u001b[0;34m*\u001b[0m\u001b[0margs\u001b[0m\u001b[0;34m,\u001b[0m \u001b[0;34m**\u001b[0m\u001b[0mkwargs\u001b[0m\u001b[0;34m)\u001b[0m\u001b[0;34m\u001b[0m\u001b[0;34m\u001b[0m\u001b[0m\n\u001b[0m\u001b[1;32m    141\u001b[0m         \u001b[0;32mif\u001b[0m \u001b[0misinstance\u001b[0m\u001b[0;34m(\u001b[0m\u001b[0mdata_to_wrap\u001b[0m\u001b[0;34m,\u001b[0m \u001b[0mtuple\u001b[0m\u001b[0;34m)\u001b[0m\u001b[0;34m:\u001b[0m\u001b[0;34m\u001b[0m\u001b[0;34m\u001b[0m\u001b[0m\n\u001b[1;32m    142\u001b[0m             \u001b[0;31m# only wrap the first output for cross decomposition\u001b[0m\u001b[0;34m\u001b[0m\u001b[0;34m\u001b[0m\u001b[0m\n",
            "\u001b[0;32m/usr/local/lib/python3.10/dist-packages/sklearn/compose/_column_transformer.py\u001b[0m in \u001b[0;36mfit_transform\u001b[0;34m(self, X, y)\u001b[0m\n\u001b[1;32m    722\u001b[0m         \u001b[0mself\u001b[0m\u001b[0;34m.\u001b[0m\u001b[0m_check_n_features\u001b[0m\u001b[0;34m(\u001b[0m\u001b[0mX\u001b[0m\u001b[0;34m,\u001b[0m \u001b[0mreset\u001b[0m\u001b[0;34m=\u001b[0m\u001b[0;32mTrue\u001b[0m\u001b[0;34m)\u001b[0m\u001b[0;34m\u001b[0m\u001b[0;34m\u001b[0m\u001b[0m\n\u001b[1;32m    723\u001b[0m         \u001b[0mself\u001b[0m\u001b[0;34m.\u001b[0m\u001b[0m_validate_transformers\u001b[0m\u001b[0;34m(\u001b[0m\u001b[0;34m)\u001b[0m\u001b[0;34m\u001b[0m\u001b[0;34m\u001b[0m\u001b[0m\n\u001b[0;32m--> 724\u001b[0;31m         \u001b[0mself\u001b[0m\u001b[0;34m.\u001b[0m\u001b[0m_validate_column_callables\u001b[0m\u001b[0;34m(\u001b[0m\u001b[0mX\u001b[0m\u001b[0;34m)\u001b[0m\u001b[0;34m\u001b[0m\u001b[0;34m\u001b[0m\u001b[0m\n\u001b[0m\u001b[1;32m    725\u001b[0m         \u001b[0mself\u001b[0m\u001b[0;34m.\u001b[0m\u001b[0m_validate_remainder\u001b[0m\u001b[0;34m(\u001b[0m\u001b[0mX\u001b[0m\u001b[0;34m)\u001b[0m\u001b[0;34m\u001b[0m\u001b[0;34m\u001b[0m\u001b[0m\n\u001b[1;32m    726\u001b[0m \u001b[0;34m\u001b[0m\u001b[0m\n",
            "\u001b[0;32m/usr/local/lib/python3.10/dist-packages/sklearn/compose/_column_transformer.py\u001b[0m in \u001b[0;36m_validate_column_callables\u001b[0;34m(self, X)\u001b[0m\n\u001b[1;32m    424\u001b[0m                 \u001b[0mcolumns\u001b[0m \u001b[0;34m=\u001b[0m \u001b[0mcolumns\u001b[0m\u001b[0;34m(\u001b[0m\u001b[0mX\u001b[0m\u001b[0;34m)\u001b[0m\u001b[0;34m\u001b[0m\u001b[0;34m\u001b[0m\u001b[0m\n\u001b[1;32m    425\u001b[0m             \u001b[0mall_columns\u001b[0m\u001b[0;34m.\u001b[0m\u001b[0mappend\u001b[0m\u001b[0;34m(\u001b[0m\u001b[0mcolumns\u001b[0m\u001b[0;34m)\u001b[0m\u001b[0;34m\u001b[0m\u001b[0;34m\u001b[0m\u001b[0m\n\u001b[0;32m--> 426\u001b[0;31m             \u001b[0mtransformer_to_input_indices\u001b[0m\u001b[0;34m[\u001b[0m\u001b[0mname\u001b[0m\u001b[0;34m]\u001b[0m \u001b[0;34m=\u001b[0m \u001b[0m_get_column_indices\u001b[0m\u001b[0;34m(\u001b[0m\u001b[0mX\u001b[0m\u001b[0;34m,\u001b[0m \u001b[0mcolumns\u001b[0m\u001b[0;34m)\u001b[0m\u001b[0;34m\u001b[0m\u001b[0;34m\u001b[0m\u001b[0m\n\u001b[0m\u001b[1;32m    427\u001b[0m \u001b[0;34m\u001b[0m\u001b[0m\n\u001b[1;32m    428\u001b[0m         \u001b[0mself\u001b[0m\u001b[0;34m.\u001b[0m\u001b[0m_columns\u001b[0m \u001b[0;34m=\u001b[0m \u001b[0mall_columns\u001b[0m\u001b[0;34m\u001b[0m\u001b[0;34m\u001b[0m\u001b[0m\n",
            "\u001b[0;32m/usr/local/lib/python3.10/dist-packages/sklearn/utils/__init__.py\u001b[0m in \u001b[0;36m_get_column_indices\u001b[0;34m(X, key)\u001b[0m\n\u001b[1;32m    424\u001b[0m             \u001b[0mall_columns\u001b[0m \u001b[0;34m=\u001b[0m \u001b[0mX\u001b[0m\u001b[0;34m.\u001b[0m\u001b[0mcolumns\u001b[0m\u001b[0;34m\u001b[0m\u001b[0;34m\u001b[0m\u001b[0m\n\u001b[1;32m    425\u001b[0m         \u001b[0;32mexcept\u001b[0m \u001b[0mAttributeError\u001b[0m\u001b[0;34m:\u001b[0m\u001b[0;34m\u001b[0m\u001b[0;34m\u001b[0m\u001b[0m\n\u001b[0;32m--> 426\u001b[0;31m             raise ValueError(\n\u001b[0m\u001b[1;32m    427\u001b[0m                 \u001b[0;34m\"Specifying the columns using strings is only \"\u001b[0m\u001b[0;34m\u001b[0m\u001b[0;34m\u001b[0m\u001b[0m\n\u001b[1;32m    428\u001b[0m                 \u001b[0;34m\"supported for pandas DataFrames\"\u001b[0m\u001b[0;34m\u001b[0m\u001b[0;34m\u001b[0m\u001b[0m\n",
            "\u001b[0;31mValueError\u001b[0m: Specifying the columns using strings is only supported for pandas DataFrames"
          ]
        }
      ]
    },
    {
      "cell_type": "code",
      "source": [
        "# Flatten each 2D array\n",
        "flattened_matrices = matrices_reshaped.reshape(matrices_reshaped.shape[0], -1)\n",
        "\n",
        "# Scale/normalize the flattened data\n",
        "scaler = StandardScaler()\n",
        "matrices_scaled = scaler.fit_transform(flattened_matrices)\n",
        "\n",
        "# Reshape the scaled data back to 3D\n",
        "matrices_scaled_reshaped = matrices_scaled.reshape(matrices_reshaped.shape)\n",
        "\n",
        "# The shape of the scaled and reshaped data\n",
        "print(\"Shape of matrices_scaled_reshaped:\", matrices_scaled_reshaped.shape)"
      ],
      "metadata": {
        "id": "e1e_JXv9Q-7x",
        "outputId": "3e9b48fa-72aa-4e8f-d4b0-b7d8b74aa9ce",
        "colab": {
          "base_uri": "https://localhost:8080/"
        }
      },
      "execution_count": 479,
      "outputs": [
        {
          "output_type": "stream",
          "name": "stdout",
          "text": [
            "Shape of matrices_scaled_reshaped: (3652, 30, 30)\n"
          ]
        }
      ]
    },
    {
      "cell_type": "markdown",
      "source": [
        "## Perform train test split"
      ],
      "metadata": {
        "id": "RVpBteJFNc96"
      }
    },
    {
      "cell_type": "code",
      "source": [
        "# Perform train-test split on both input_numeric_processed and matrices_scaled_reshaped\n",
        "X_train_numeric, X_test_numeric, X_train_matrices, X_test_matrices, y_train, y_test = train_test_split(input_numeric_processed,\n",
        "                                                                                                       matrices_scaled_reshaped,\n",
        "                                                                                                       matrices_scaled_reshaped,\n",
        "                                                                                                       test_size=0.2,\n",
        "                                                                                                       random_state=42)\n"
      ],
      "metadata": {
        "id": "ss1NnMi1Tpwv"
      },
      "execution_count": 480,
      "outputs": []
    },
    {
      "cell_type": "code",
      "source": [
        "print(\"Shape of X_train_numeric:\", X_train_numeric.shape)\n",
        "print(\"Shape of X_test_numeric:\", X_test_numeric.shape)\n",
        "print(\"Shape of X_train_matrices:\", X_train_matrices.shape)\n",
        "print(\"Shape of X_test_matrices:\", X_test_matrices.shape)\n",
        "print(\"Shape of y_train:\", y_train.shape)\n",
        "print(\"Shape of y_test:\", y_test.shape)"
      ],
      "metadata": {
        "colab": {
          "base_uri": "https://localhost:8080/"
        },
        "id": "gaWT42ZbS0t0",
        "outputId": "455980f6-4f33-4e70-cefa-024c98b5a451"
      },
      "execution_count": 481,
      "outputs": [
        {
          "output_type": "stream",
          "name": "stdout",
          "text": [
            "Shape of X_train_numeric: (2921, 23)\n",
            "Shape of X_test_numeric: (731, 23)\n",
            "Shape of X_train_matrices: (2921, 30, 30)\n",
            "Shape of X_test_matrices: (731, 30, 30)\n",
            "Shape of y_train: (2921, 30, 30)\n",
            "Shape of y_test: (731, 30, 30)\n"
          ]
        }
      ]
    },
    {
      "cell_type": "code",
      "source": [
        "# Flatten y_train and y_test to match model's output layer\n",
        "# Model outputs a flattened 30x30 matrix\n",
        "y_train_flat = y_train.reshape(y_train.shape[0], -1)\n",
        "y_test_flat = y_test.reshape(y_test.shape[0], -1)"
      ],
      "metadata": {
        "id": "avqgmj_Nqh_B"
      },
      "execution_count": 482,
      "outputs": []
    },
    {
      "cell_type": "code",
      "source": [
        "y_train_reshaped = np.repeat(y_train[:, np.newaxis, :, :], 60, axis=1)\n",
        "y_test_reshaped = np.repeat(y_test[:, np.newaxis, :, :], 60, axis=1)\n",
        "\n",
        "print(\"Shape of y_train_reshaped:\", y_train_reshaped.shape)\n",
        "print(\"Shape of y_test_reshaped:\", y_test_reshaped.shape)"
      ],
      "metadata": {
        "colab": {
          "base_uri": "https://localhost:8080/"
        },
        "id": "uub_ObrwrGbW",
        "outputId": "7ace5276-a404-49a0-fbd2-bc49655f7884"
      },
      "execution_count": 483,
      "outputs": [
        {
          "output_type": "stream",
          "name": "stdout",
          "text": [
            "Shape of y_train_reshaped: (2921, 60, 30, 30)\n",
            "Shape of y_test_reshaped: (731, 60, 30, 30)\n"
          ]
        }
      ]
    },
    {
      "cell_type": "code",
      "source": [
        "# Reshape y_train_reshaped\n",
        "# Reshape y_train_reshaped\n",
        "y_train_flat = np.reshape(y_train_reshaped, (y_train_reshaped.shape[0], -1, y_train_reshaped.shape[2] * y_train_reshaped.shape[3]))\n",
        "print(\"Shape of y_train_flat:\", y_train_flat.shape)\n",
        "\n",
        "# Reshape y_test_reshaped\n",
        "y_test_flat = np.reshape(y_test_reshaped, (y_test_reshaped.shape[0], -1, y_test_reshaped.shape[2] * y_test_reshaped.shape[3]))\n",
        "print(\"Shape of y_test_flat:\", y_test_flat.shape)"
      ],
      "metadata": {
        "colab": {
          "base_uri": "https://localhost:8080/"
        },
        "id": "yqeRnhWaHTPd",
        "outputId": "3df187e1-1daf-4515-d465-983deb649442"
      },
      "execution_count": 484,
      "outputs": [
        {
          "output_type": "stream",
          "name": "stdout",
          "text": [
            "Shape of y_train_flat: (2921, 60, 900)\n",
            "Shape of y_test_flat: (731, 60, 900)\n"
          ]
        }
      ]
    },
    {
      "cell_type": "markdown",
      "source": [
        "# Model Architecture"
      ],
      "metadata": {
        "id": "6Y4FY0jZTzis"
      }
    },
    {
      "cell_type": "code",
      "source": [
        "# Define input layer for numeric data\n",
        "input_numeric = Input(shape=(None, 23),\n",
        "                      name='input_numeric')\n",
        "\n",
        "# Define input layer for matrix data\n",
        "input_matrices = Input(shape=(None, 30, 30),\n",
        "                       name='input_matrices')\n",
        "# Add a single dimension at the beginning to make it compatible with the shape\n",
        "# of the numeric input\n",
        "# Reshape the input to add a time dimension\n",
        "reshaped_matrices = Reshape((-1, 30))(input_matrices)"
      ],
      "metadata": {
        "id": "fZpCb8a455BL"
      },
      "execution_count": 485,
      "outputs": []
    },
    {
      "cell_type": "code",
      "source": [
        "# LSTM layer for matrix data\n",
        "matrix_lstm = LSTM(units=64,\n",
        "                   return_sequences=True,\n",
        "                   name='matrix_lstm')(reshaped_matrices)\n",
        "\n",
        "# Reshape input_numeric to 2D tensor to pass to RepeatVector\n",
        "numeric_reshaped = Reshape((23,),\n",
        "                           name='reshape_numeric')(input_numeric)\n",
        "\n",
        "# Repeat the numeric features across the sequence dimension to match length of\n",
        "# matrix_lstm output\n",
        "numeric_repeated = RepeatVector(30,\n",
        "                                name='repeat_numeric')(numeric_reshaped)\n",
        "\n",
        "# Dense layer for numeric features to match the dimensionality of LSTM output\n",
        "dense_numeric = Dense(units=64,\n",
        "                      activation='relu',\n",
        "                      name='dense_numeric')(numeric_repeated)\n",
        "\n",
        "# Concatenate LSTM output with the repeated numeric features\n",
        "concatenated = Concatenate(axis=1,\n",
        "                           name='concatenated')([matrix_lstm, dense_numeric])"
      ],
      "metadata": {
        "id": "424qRwlkPeh9"
      },
      "execution_count": 486,
      "outputs": []
    },
    {
      "cell_type": "code",
      "source": [
        "# Additional dense layers with dropout\n",
        "# Helps model learn complex patterns and non-linear relationships\n",
        "dense_layer_1 = Dense(units=128,\n",
        "                      activation='relu',\n",
        "                      name='dense_layer_1')(concatenated)\n",
        "dropout_layer_1 = Dropout(0.2,\n",
        "                          name='dropout_layer_1')(dense_layer_1)\n",
        "dense_layer_2 = Dense(units=64,\n",
        "                      activation='relu',\n",
        "                      name='dense_layer_2')(dropout_layer_1)\n",
        "dropout_layer_2 = Dropout(0.2,\n",
        "                          name='dropout_layer_2')(dense_layer_2)"
      ],
      "metadata": {
        "id": "HOGOy-2_otvE"
      },
      "execution_count": 487,
      "outputs": []
    },
    {
      "cell_type": "code",
      "source": [
        "# Final transformation applied to concatenated outputs of previous layers\n",
        "# Produces a flattened 30x30 matrix of predicted values\n",
        "output = Dense(units=900, activation='linear', name='output')(dropout_layer_2)\n",
        "\n",
        "# Define model\n",
        "model = Model(inputs=[input_numeric, input_matrices],\n",
        "              outputs=output,\n",
        "              name='model_with_weather')\n",
        "\n",
        "model.summary()"
      ],
      "metadata": {
        "colab": {
          "base_uri": "https://localhost:8080/"
        },
        "id": "pcO9jfxZUEXB",
        "outputId": "d32154b5-1ab6-426e-f1ef-b9abceb83001"
      },
      "execution_count": 488,
      "outputs": [
        {
          "output_type": "stream",
          "name": "stdout",
          "text": [
            "Model: \"model_with_weather\"\n",
            "__________________________________________________________________________________________________\n",
            " Layer (type)                Output Shape                 Param #   Connected to                  \n",
            "==================================================================================================\n",
            " input_numeric (InputLayer)  [(None, None, 23)]           0         []                            \n",
            "                                                                                                  \n",
            " input_matrices (InputLayer  [(None, None, 30, 30)]       0         []                            \n",
            " )                                                                                                \n",
            "                                                                                                  \n",
            " reshape_numeric (Reshape)   (None, 23)                   0         ['input_numeric[0][0]']       \n",
            "                                                                                                  \n",
            " reshape_12 (Reshape)        (None, None, 30)             0         ['input_matrices[0][0]']      \n",
            "                                                                                                  \n",
            " repeat_numeric (RepeatVect  (None, 30, 23)               0         ['reshape_numeric[0][0]']     \n",
            " or)                                                                                              \n",
            "                                                                                                  \n",
            " matrix_lstm (LSTM)          (None, None, 64)             24320     ['reshape_12[0][0]']          \n",
            "                                                                                                  \n",
            " dense_numeric (Dense)       (None, 30, 64)               1536      ['repeat_numeric[0][0]']      \n",
            "                                                                                                  \n",
            " concatenated (Concatenate)  (None, None, 64)             0         ['matrix_lstm[0][0]',         \n",
            "                                                                     'dense_numeric[0][0]']       \n",
            "                                                                                                  \n",
            " dense_layer_1 (Dense)       (None, None, 128)            8320      ['concatenated[0][0]']        \n",
            "                                                                                                  \n",
            " dropout_layer_1 (Dropout)   (None, None, 128)            0         ['dense_layer_1[0][0]']       \n",
            "                                                                                                  \n",
            " dense_layer_2 (Dense)       (None, None, 64)             8256      ['dropout_layer_1[0][0]']     \n",
            "                                                                                                  \n",
            " dropout_layer_2 (Dropout)   (None, None, 64)             0         ['dense_layer_2[0][0]']       \n",
            "                                                                                                  \n",
            " output (Dense)              (None, None, 900)            58500     ['dropout_layer_2[0][0]']     \n",
            "                                                                                                  \n",
            "==================================================================================================\n",
            "Total params: 100932 (394.27 KB)\n",
            "Trainable params: 100932 (394.27 KB)\n",
            "Non-trainable params: 0 (0.00 Byte)\n",
            "__________________________________________________________________________________________________\n"
          ]
        }
      ]
    },
    {
      "cell_type": "code",
      "source": [
        "# Compile the model\n",
        "model.compile(optimizer='adam',\n",
        "              loss='mae',\n",
        "              metrics=['accuracy'])"
      ],
      "metadata": {
        "id": "7bzGJ_N9kPhz"
      },
      "execution_count": 489,
      "outputs": []
    },
    {
      "cell_type": "code",
      "source": [
        "from tensorflow.keras.utils import plot_model\n",
        "plot_model(model, to_file='model_plot.png', show_shapes=True, show_layer_names=True)"
      ],
      "metadata": {
        "id": "6KumW3yevA-U",
        "outputId": "e50b2af9-1f12-4a18-b39c-2719df5a0d09",
        "colab": {
          "base_uri": "https://localhost:8080/",
          "height": 1000
        }
      },
      "execution_count": 490,
      "outputs": [
        {
          "output_type": "execute_result",
          "data": {
            "image/png": "[encoded data removed]",
            "text/plain": [
              "<IPython.core.display.Image object>"
            ]
          },
          "metadata": {},
          "execution_count": 490
        }
      ]
    },
    {
      "cell_type": "markdown",
      "source": [
        "# Fitting model"
      ],
      "metadata": {
        "id": "aqJNZN95co7_"
      }
    },
    {
      "cell_type": "code",
      "source": [
        "history = model.fit(\n",
        "    [X_train_numeric, X_train_matrices],\n",
        "    y_train_flat,\n",
        "    epochs=10,\n",
        "    batch_size=32,\n",
        "    validation_split=0.2  # 20% of the training data will be used for validation\n",
        ")"
      ],
      "metadata": {
        "colab": {
          "base_uri": "https://localhost:8080/"
        },
        "id": "ZXI68mYlkHz4",
        "outputId": "a2823489-5c0d-4314-caa9-69897e796995"
      },
      "execution_count": 491,
      "outputs": [
        {
          "output_type": "stream",
          "name": "stdout",
          "text": [
            "Epoch 1/10\n",
            "73/73 [==============================] - 9s 79ms/step - loss: 0.0844 - accuracy: 4.9943e-05 - val_loss: 0.0604 - val_accuracy: 0.0000e+00\n",
            "Epoch 2/10\n",
            "73/73 [==============================] - 4s 53ms/step - loss: 0.0614 - accuracy: 0.0000e+00 - val_loss: 0.0576 - val_accuracy: 0.0000e+00\n",
            "Epoch 3/10\n",
            "73/73 [==============================] - 5s 62ms/step - loss: 0.0595 - accuracy: 0.0000e+00 - val_loss: 0.0572 - val_accuracy: 0.0000e+00\n",
            "Epoch 4/10\n",
            "73/73 [==============================] - 4s 60ms/step - loss: 0.0588 - accuracy: 0.0000e+00 - val_loss: 0.0571 - val_accuracy: 0.0000e+00\n",
            "Epoch 5/10\n",
            "73/73 [==============================] - 4s 52ms/step - loss: 0.0583 - accuracy: 0.0000e+00 - val_loss: 0.0569 - val_accuracy: 0.0000e+00\n",
            "Epoch 6/10\n",
            "73/73 [==============================] - 4s 52ms/step - loss: 0.0579 - accuracy: 0.0000e+00 - val_loss: 0.0568 - val_accuracy: 0.0000e+00\n",
            "Epoch 7/10\n",
            "73/73 [==============================] - 5s 70ms/step - loss: 0.0576 - accuracy: 0.0000e+00 - val_loss: 0.0567 - val_accuracy: 0.0000e+00\n",
            "Epoch 8/10\n",
            "73/73 [==============================] - 4s 49ms/step - loss: 0.0574 - accuracy: 0.0000e+00 - val_loss: 0.0567 - val_accuracy: 0.0000e+00\n",
            "Epoch 9/10\n",
            "73/73 [==============================] - 4s 53ms/step - loss: 0.0572 - accuracy: 0.0000e+00 - val_loss: 0.0566 - val_accuracy: 0.0000e+00\n",
            "Epoch 10/10\n",
            "73/73 [==============================] - 5s 70ms/step - loss: 0.0570 - accuracy: 0.0000e+00 - val_loss: 0.0566 - val_accuracy: 0.0000e+00\n"
          ]
        }
      ]
    },
    {
      "cell_type": "markdown",
      "source": [
        "# Making Predictions"
      ],
      "metadata": {
        "id": "IGFvNdX9WQ1G"
      }
    },
    {
      "cell_type": "code",
      "source": [
        "# Make predictions on the test data\n",
        "y_pred = model.predict([X_test_numeric, X_test_matrices])"
      ],
      "metadata": {
        "id": "qRLBMw-WCd60",
        "colab": {
          "base_uri": "https://localhost:8080/"
        },
        "outputId": "16f5e023-71f0-4dfd-cf56-61b84036cc02"
      },
      "execution_count": 492,
      "outputs": [
        {
          "output_type": "stream",
          "name": "stdout",
          "text": [
            "23/23 [==============================] - 1s 15ms/step\n"
          ]
        }
      ]
    },
    {
      "cell_type": "markdown",
      "source": [
        "# Evaluation"
      ],
      "metadata": {
        "id": "6LYQBp_uWSlu"
      }
    },
    {
      "cell_type": "code",
      "source": [
        "# Reshape y_test_flat and y_pred to 2D arrays so MAE will work\n",
        "y_test_flat_2d = y_test_flat.reshape(-1, y_test_flat.shape[-1])\n",
        "y_pred_2d = y_pred.reshape(-1, y_pred.shape[-1])\n"
      ],
      "metadata": {
        "id": "YMC01vvhJmcJ"
      },
      "execution_count": 493,
      "outputs": []
    },
    {
      "cell_type": "code",
      "source": [
        "# Calculate Mean Absolute Error (MAE)\n",
        "mae = mean_absolute_error(y_test_flat_2d, y_pred_2d)\n",
        "print(\"Mean Absolute Error:\", mae)"
      ],
      "metadata": {
        "colab": {
          "base_uri": "https://localhost:8080/"
        },
        "id": "UNw8CN-IJSrL",
        "outputId": "447cd57f-4e08-48b5-ea32-17bf125b43f9"
      },
      "execution_count": 494,
      "outputs": [
        {
          "output_type": "stream",
          "name": "stdout",
          "text": [
            "Mean Absolute Error: 0.055487207931252114\n"
          ]
        }
      ]
    },
    {
      "cell_type": "markdown",
      "source": [
        "# Creating model without weather input"
      ],
      "metadata": {
        "id": "X4S_Icw1TYjk"
      }
    },
    {
      "cell_type": "markdown",
      "source": [
        "## Preprocessing and splitting"
      ],
      "metadata": {
        "id": "x97HKyLNV6zp"
      }
    },
    {
      "cell_type": "code",
      "source": [
        "# Repeat same preprocessing, but with only date of week and month\n",
        "input_dow_month = pd.DataFrame(index=date_range, columns = ['dow', 'month'])\n",
        "input_dow_month['dow'] = input_dow_month.index.dayofweek\n",
        "input_dow_month['month'] = input_dow_month.index.month\n",
        "\n",
        "preprocessor = ColumnTransformer(\n",
        "    transformers=[\n",
        "        ('cat', OneHotEncoder(categories=[range(7), range(1, 13)]), ['dow','month'])\n",
        "    ],\n",
        "    sparse_threshold=0\n",
        ")\n",
        "input_dm_processed = preprocessor.fit_transform(input_dow_month)\n",
        "\n",
        "# matrices_scaled_reshaped can be reused"
      ],
      "metadata": {
        "id": "47PpNJ8KTVF9"
      },
      "execution_count": 495,
      "outputs": []
    },
    {
      "cell_type": "code",
      "source": [
        "# Perform train-test split on both input_dm_processed\n",
        "X_train_dm, X_test_dm = train_test_split(input_dm_processed,\n",
        "                                         test_size=0.2,\n",
        "                                         random_state=42)"
      ],
      "metadata": {
        "id": "fbhnfF_VVIZZ"
      },
      "execution_count": 496,
      "outputs": []
    },
    {
      "cell_type": "code",
      "source": [
        "print(\"Shape of X_train_dm:\", X_train_dm.shape)\n",
        "print(\"Shape of X_test_dm:\", X_test_dm.shape)\n",
        "print(\"Shape of X_train_matrices:\", X_train_matrices.shape)\n",
        "print(\"Shape of X_test_matrices:\", X_test_matrices.shape)\n",
        "print(\"Shape of y_train_reshaped:\", y_train.shape)\n",
        "print(\"Shape of y_test_reshaped:\", y_test.shape)"
      ],
      "metadata": {
        "colab": {
          "base_uri": "https://localhost:8080/"
        },
        "id": "BTgGjyCEUwsV",
        "outputId": "df24a45a-ccb1-4062-96fa-8905af4c75b4"
      },
      "execution_count": 497,
      "outputs": [
        {
          "output_type": "stream",
          "name": "stdout",
          "text": [
            "Shape of X_train_dm: (2921, 19)\n",
            "Shape of X_test_dm: (731, 19)\n",
            "Shape of X_train_matrices: (2921, 30, 30)\n",
            "Shape of X_test_matrices: (731, 30, 30)\n",
            "Shape of y_train_reshaped: (2921, 30, 30)\n",
            "Shape of y_test_reshaped: (731, 30, 30)\n"
          ]
        }
      ]
    },
    {
      "cell_type": "code",
      "source": [
        "# Define input layer for day and month\n",
        "input_dm = Input(shape=(None, 19),\n",
        "                      name='input_dm')\n",
        "\n",
        "# Define input layer for matrix data\n",
        "input_matrices_no_weather = Input(shape=(None, 30, 30),\n",
        "                       name='input_matrices_nw')"
      ],
      "metadata": {
        "id": "ORqrZnb9X_GI"
      },
      "execution_count": 498,
      "outputs": []
    },
    {
      "cell_type": "code",
      "source": [
        "# Add a single dimension at the beginning to make it compatible with the shape\n",
        "# of the day and month input\n",
        "# Reshape the input to add a time dimension\n",
        "reshaped_matrices_no_weather = Reshape((-1, 30),\n",
        "                                       name=\"reshaped_matrices_nw\")(input_matrices_no_weather)\n",
        "\n",
        "# LSTM layer for matrix data\n",
        "matrix_lstm_no_weather = LSTM(units=64,\n",
        "                   return_sequences=True,\n",
        "                   name='matrix_lstm_nw')(reshaped_matrices_no_weather)"
      ],
      "metadata": {
        "id": "l_NpfMxCYEpK"
      },
      "execution_count": 499,
      "outputs": []
    },
    {
      "cell_type": "code",
      "source": [
        "# Reshape input_dm to 2D tensor to pass to RepeatVector\n",
        "numeric_reshaped_no_weather = Reshape((19,),\n",
        "                           name='reshape_numeric_nw')(input_dm)\n",
        "\n",
        "# Repeat the day and month features across the sequence dimension to match length of\n",
        "# matrix_lstm_no_weather output\n",
        "dm_repeated = RepeatVector(30, name='repeat_dm')(numeric_reshaped_no_weather)\n",
        "\n",
        "# Dense layer for day and month features to match the dimensionality of LSTM output\n",
        "dense_dm = Dense(units=64,\n",
        "                      activation='relu',\n",
        "                      name='dense_dm')(dm_repeated)\n",
        "\n",
        "# Concatenate LSTM output with the repeated numeric features\n",
        "concatenated_no_weather = Concatenate(axis=1,\n",
        "                           name='concatenated_nw')([matrix_lstm_no_weather, dense_dm])"
      ],
      "metadata": {
        "id": "Sk2sOCx5YL2p"
      },
      "execution_count": 500,
      "outputs": []
    },
    {
      "cell_type": "code",
      "source": [
        "# Additional dense layers with dropout\n",
        "# Helps model learn complex patterns and non-linear relationships\n",
        "dense_layer_1_nw = Dense(units=128,\n",
        "                      activation='relu',\n",
        "                      name='dense_layer_1_nw')(concatenated_no_weather)\n",
        "dropout_layer_1_nw = Dropout(0.2,\n",
        "                          name='dropout_layer_1_nw')(dense_layer_1_nw)\n",
        "dense_layer_2_nw = Dense(units=64,\n",
        "                      activation='relu',\n",
        "                      name='dense_layer_2_nw')(dropout_layer_1_nw)\n",
        "dropout_layer_2_nw = Dropout(0.2,\n",
        "                          name='dropout_layer_2_nw')(dense_layer_2_nw)\n",
        "\n",
        "# Final transformation applied to concatenated outputs of previous layers\n",
        "# Produces a flattened 30x30 matrix of predicted values\n",
        "output_no_weather = Dense(units=900,\n",
        "                          activation='linear',\n",
        "                          name='output_nw')(dropout_layer_2_nw)"
      ],
      "metadata": {
        "id": "5z6qUcZ9WZST"
      },
      "execution_count": 501,
      "outputs": []
    },
    {
      "cell_type": "code",
      "source": [
        "# Define model\n",
        "model_no_weather = Model(inputs=[input_dm, input_matrices_no_weather],\n",
        "              outputs=output_no_weather,\n",
        "              name='model_no_weather')\n",
        "\n",
        "model_no_weather.summary()"
      ],
      "metadata": {
        "colab": {
          "base_uri": "https://localhost:8080/"
        },
        "id": "EKEFdSe4YPgK",
        "outputId": "b2810470-1b90-4650-e120-500b70e12907"
      },
      "execution_count": 502,
      "outputs": [
        {
          "output_type": "stream",
          "name": "stdout",
          "text": [
            "Model: \"model_no_weather\"\n",
            "__________________________________________________________________________________________________\n",
            " Layer (type)                Output Shape                 Param #   Connected to                  \n",
            "==================================================================================================\n",
            " input_dm (InputLayer)       [(None, None, 19)]           0         []                            \n",
            "                                                                                                  \n",
            " input_matrices_nw (InputLa  [(None, None, 30, 30)]       0         []                            \n",
            " yer)                                                                                             \n",
            "                                                                                                  \n",
            " reshape_numeric_nw (Reshap  (None, 19)                   0         ['input_dm[0][0]']            \n",
            " e)                                                                                               \n",
            "                                                                                                  \n",
            " reshaped_matrices_nw (Resh  (None, None, 30)             0         ['input_matrices_nw[0][0]']   \n",
            " ape)                                                                                             \n",
            "                                                                                                  \n",
            " repeat_dm (RepeatVector)    (None, 30, 19)               0         ['reshape_numeric_nw[0][0]']  \n",
            "                                                                                                  \n",
            " matrix_lstm_nw (LSTM)       (None, None, 64)             24320     ['reshaped_matrices_nw[0][0]']\n",
            "                                                                                                  \n",
            " dense_dm (Dense)            (None, 30, 64)               1280      ['repeat_dm[0][0]']           \n",
            "                                                                                                  \n",
            " concatenated_nw (Concatena  (None, None, 64)             0         ['matrix_lstm_nw[0][0]',      \n",
            " te)                                                                 'dense_dm[0][0]']            \n",
            "                                                                                                  \n",
            " dense_layer_1_nw (Dense)    (None, None, 128)            8320      ['concatenated_nw[0][0]']     \n",
            "                                                                                                  \n",
            " dropout_layer_1_nw (Dropou  (None, None, 128)            0         ['dense_layer_1_nw[0][0]']    \n",
            " t)                                                                                               \n",
            "                                                                                                  \n",
            " dense_layer_2_nw (Dense)    (None, None, 64)             8256      ['dropout_layer_1_nw[0][0]']  \n",
            "                                                                                                  \n",
            " dropout_layer_2_nw (Dropou  (None, None, 64)             0         ['dense_layer_2_nw[0][0]']    \n",
            " t)                                                                                               \n",
            "                                                                                                  \n",
            " output_nw (Dense)           (None, None, 900)            58500     ['dropout_layer_2_nw[0][0]']  \n",
            "                                                                                                  \n",
            "==================================================================================================\n",
            "Total params: 100676 (393.27 KB)\n",
            "Trainable params: 100676 (393.27 KB)\n",
            "Non-trainable params: 0 (0.00 Byte)\n",
            "__________________________________________________________________________________________________\n"
          ]
        }
      ]
    },
    {
      "cell_type": "code",
      "source": [
        "# Compile the model\n",
        "model_no_weather.compile(optimizer='adam',\n",
        "              loss='mae',\n",
        "              metrics=['accuracy'])"
      ],
      "metadata": {
        "id": "DEGlZQIkYsnf"
      },
      "execution_count": 503,
      "outputs": []
    },
    {
      "cell_type": "code",
      "source": [
        "history_no_weather = model_no_weather.fit(\n",
        "    [X_train_dm, X_train_matrices],\n",
        "    y_train_flat,\n",
        "    epochs=10,\n",
        "    batch_size=32,\n",
        "    validation_split=0.2  # 20% of the training data will be used for validation\n",
        ")"
      ],
      "metadata": {
        "colab": {
          "base_uri": "https://localhost:8080/"
        },
        "id": "KIzBaejyYDB6",
        "outputId": "934ee494-66b7-4f86-8df6-94479553f07a"
      },
      "execution_count": 504,
      "outputs": [
        {
          "output_type": "stream",
          "name": "stdout",
          "text": [
            "Epoch 1/10\n",
            "73/73 [==============================] - 8s 82ms/step - loss: 0.0829 - accuracy: 2.4971e-04 - val_loss: 0.0599 - val_accuracy: 0.0000e+00\n",
            "Epoch 2/10\n",
            "73/73 [==============================] - 4s 53ms/step - loss: 0.0611 - accuracy: 0.0000e+00 - val_loss: 0.0574 - val_accuracy: 0.0000e+00\n",
            "Epoch 3/10\n",
            "73/73 [==============================] - 4s 52ms/step - loss: 0.0593 - accuracy: 0.0000e+00 - val_loss: 0.0571 - val_accuracy: 0.0000e+00\n",
            "Epoch 4/10\n",
            "73/73 [==============================] - 5s 65ms/step - loss: 0.0587 - accuracy: 0.0000e+00 - val_loss: 0.0570 - val_accuracy: 0.0000e+00\n",
            "Epoch 5/10\n",
            "73/73 [==============================] - 4s 57ms/step - loss: 0.0583 - accuracy: 0.0000e+00 - val_loss: 0.0568 - val_accuracy: 0.0000e+00\n",
            "Epoch 6/10\n",
            "73/73 [==============================] - 4s 51ms/step - loss: 0.0579 - accuracy: 0.0000e+00 - val_loss: 0.0568 - val_accuracy: 0.0000e+00\n",
            "Epoch 7/10\n",
            "73/73 [==============================] - 4s 53ms/step - loss: 0.0576 - accuracy: 0.0000e+00 - val_loss: 0.0568 - val_accuracy: 0.0000e+00\n",
            "Epoch 8/10\n",
            "73/73 [==============================] - 5s 68ms/step - loss: 0.0574 - accuracy: 0.0000e+00 - val_loss: 0.0567 - val_accuracy: 0.0000e+00\n",
            "Epoch 9/10\n",
            "73/73 [==============================] - 4s 51ms/step - loss: 0.0572 - accuracy: 0.0000e+00 - val_loss: 0.0566 - val_accuracy: 0.0000e+00\n",
            "Epoch 10/10\n",
            "73/73 [==============================] - 4s 51ms/step - loss: 0.0570 - accuracy: 0.0000e+00 - val_loss: 0.0566 - val_accuracy: 0.0000e+00\n"
          ]
        }
      ]
    },
    {
      "cell_type": "code",
      "source": [
        "# Make predictions on the test data\n",
        "y_pred_no_weather = model_no_weather.predict([X_test_dm, X_test_matrices])"
      ],
      "metadata": {
        "colab": {
          "base_uri": "https://localhost:8080/"
        },
        "id": "DU0F8UzHWbDm",
        "outputId": "9eba4097-4585-4dff-e278-4fa7a0731329"
      },
      "execution_count": 505,
      "outputs": [
        {
          "output_type": "stream",
          "name": "stdout",
          "text": [
            "23/23 [==============================] - 1s 13ms/step\n"
          ]
        }
      ]
    },
    {
      "cell_type": "code",
      "source": [
        "# Reshape y_pred_no_weather to 2D array so MAE will work\n",
        "y_pred_nw_2d = y_pred_no_weather.reshape(-1, y_pred_no_weather.shape[-1])"
      ],
      "metadata": {
        "id": "-twQYin2ZBMC"
      },
      "execution_count": 506,
      "outputs": []
    },
    {
      "cell_type": "code",
      "source": [
        "# Calculate Mean Absolute Error (MAE)\n",
        "mae_nw = mean_absolute_error(y_test_flat_2d, y_pred_nw_2d)\n",
        "print(\"Mean Absolute Error:\", mae_nw)"
      ],
      "metadata": {
        "colab": {
          "base_uri": "https://localhost:8080/"
        },
        "id": "skUVGGPKZGVB",
        "outputId": "f1b51ff2-5380-4462-dc15-6c6a99e9c15c"
      },
      "execution_count": 507,
      "outputs": [
        {
          "output_type": "stream",
          "name": "stdout",
          "text": [
            "Mean Absolute Error: 0.05550730709201558\n"
          ]
        }
      ]
    },
    {
      "cell_type": "markdown",
      "source": [
        "# Comparison"
      ],
      "metadata": {
        "id": "O937oLIoZdII"
      }
    },
    {
      "cell_type": "code",
      "source": [
        "print('MAE with weather input:', mae)\n",
        "print('MAE without weather input:', mae_nw)"
      ],
      "metadata": {
        "colab": {
          "base_uri": "https://localhost:8080/"
        },
        "id": "Jm2u1DK9Zelu",
        "outputId": "3b72ff84-142e-46d2-df69-27d8e2c38994"
      },
      "execution_count": 508,
      "outputs": [
        {
          "output_type": "stream",
          "name": "stdout",
          "text": [
            "MAE with weather input: 0.055487207931252114\n",
            "MAE without weather input: 0.05550730709201558\n"
          ]
        }
      ]
    },
    {
      "cell_type": "code",
      "source": [
        "# Target matrices\n",
        "target_image = np.sum(y_train_flat.reshape(-1, 60, 30, 30).astype(int), axis=(0, 1))\n",
        "target_image = np.flip(np.transpose(target_image), axis=0)\n"
      ],
      "metadata": {
        "id": "IF3nozJWgC9e"
      },
      "execution_count": 509,
      "outputs": []
    },
    {
      "cell_type": "code",
      "source": [
        "# Predicted matrices with weather input\n",
        "# Reshape y_pred to (731, 60, 30, 30)\n",
        "y_pred_reshaped = y_pred.reshape(731, 60, 30, 30)\n",
        "\n",
        "# Sum the matrices to get the total predicted counts\n",
        "predicted_weather_image = y_pred_flattened.sum(axis=1).sum(axis=0)\n",
        "\n",
        "# Transpose and flip to adjust orientation\n",
        "predicted_weather_image = np.flip(np.transpose(predicted_weather_image), axis=0)"
      ],
      "metadata": {
        "id": "AJJZUWAdkfPC"
      },
      "execution_count": 519,
      "outputs": []
    },
    {
      "cell_type": "code",
      "source": [
        "# Predicted matrices without weather input\n",
        "# Reshape y_pred_no_weather to (731, 60, 30, 30)\n",
        "y_pred_no_weather_reshaped = y_pred_no_weather.reshape(731, 60, 30, 30)\n",
        "\n",
        "# Sum the matrices to get the total predicted counts\n",
        "predicted_no_weather_image = y_pred_no_weather_flattened.sum(axis=1).sum(axis=0)\n",
        "\n",
        "# Transpose and flip to adjust orientation\n",
        "predicted_no_weather_image = np.flip(np.transpose(predicted_no_weather_image), axis=0)"
      ],
      "metadata": {
        "id": "Qk8Z9HSjkgql"
      },
      "execution_count": 520,
      "outputs": []
    },
    {
      "cell_type": "code",
      "source": [
        "## Matrices displayed as images\n",
        "plt.subplot(1, 3, 1)\n",
        "plt.imshow(target_image)\n",
        "plt.title('Actual')\n",
        "\n",
        "plt.subplot(1, 3, 2)\n",
        "plt.imshow(predicted_weather_image)\n",
        "plt.title('Predicted\\nwith Weather')\n",
        "\n",
        "plt.subplot(1, 3, 3)\n",
        "plt.imshow(predicted_no_weather_image)\n",
        "plt.title('Predicted\\nwithout Weather')\n",
        "\n",
        "plt.suptitle('Comparison of Actual and Predicted Traffic Accident Counts',\n",
        "             fontsize=16)\n",
        "plt.tight_layout(pad=1.5)\n",
        "plt.show()"
      ],
      "metadata": {
        "colab": {
          "base_uri": "https://localhost:8080/",
          "height": 390
        },
        "id": "HapZeoXWbpiH",
        "outputId": "3ace101a-4c42-4bb5-a8ec-c3dc5c6dc51c"
      },
      "execution_count": 521,
      "outputs": [
        {
          "output_type": "display_data",
          "data": {
            "text/plain": [
              "<Figure size 640x480 with 3 Axes>"
            ],
            "image/png": "[encoded data removed]"
          },
          "metadata": {}
        }
      ]
    },
    {
      "cell_type": "code",
      "source": [],
      "metadata": {
        "id": "uWeQ7d9tZcjZ"
      },
      "execution_count": 513,
      "outputs": []
    },
    {
      "cell_type": "code",
      "source": [],
      "metadata": {
        "id": "qo_B84xrZVyU"
      },
      "execution_count": 513,
      "outputs": []
    }
  ],
  "metadata": {
    "language_info": {
      "name": "python"
    },
    "colab": {
      "provenance": []
    },
    "kernelspec": {
      "name": "python3",
      "display_name": "Python 3"
    }
  },
  "nbformat": 4,
  "nbformat_minor": 0
}