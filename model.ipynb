{
  "cells": [
    {
      "cell_type": "markdown",
      "metadata": {
        "id": "igUhSeUYHUwb"
      },
      "source": [
        "# San Francisco Traffic Accident Frequency\n",
        "## Miguel Candido Aurora Peralta\n",
        "### Transformative AI for Residential and Transportation Safety Vertically Integrated Project\n",
        "### Spring 2024 Senior Capstone Project <br><br>\n",
        "\n",
        "# Imports"
      ]
    },
    {
      "cell_type": "code",
      "execution_count": 822,
      "metadata": {
        "id": "Po3ve8GnHWdL"
      },
      "outputs": [],
      "source": [
        "import matplotlib.pyplot as plt\n",
        "import numpy as np\n",
        "from datetime import datetime, timedelta\n",
        "import pandas as pd\n",
        "import json\n",
        "import requests\n",
        "\n",
        "import folium\n",
        "\n",
        "from sklearn.preprocessing import MinMaxScaler, StandardScaler, OneHotEncoder\n",
        "from sklearn.compose import ColumnTransformer\n",
        "from sklearn.metrics import mean_squared_error\n",
        "from sklearn.model_selection import train_test_split\n",
        "\n",
        "from keras.models import Model\n",
        "from keras.layers import (Input, LSTM, Dense, Concatenate,\n",
        "                          TimeDistributed, Reshape, RepeatVector, Dropout)\n",
        "\n"
      ]
    },
    {
      "cell_type": "markdown",
      "metadata": {
        "id": "Osj2Rhb1zsnR"
      },
      "source": [
        "# Getting data\n",
        "## Traffic Accident Data\n",
        "Data obtained from  SFGov's dataset titled \"Traffic Crashes Resulting in Injury\" from 1/1/2005 to 12/31/2023.\n",
        "\n",
        "About the data, including column descriptions: https://data.sfgov.org/Public-Safety/Traffic-Crashes-Resulting-in-Injury/ubvf-ztfx/about_data"
      ]
    },
    {
      "cell_type": "code",
      "execution_count": 824,
      "metadata": {
        "colab": {
          "base_uri": "https://localhost:8080/"
        },
        "id": "MKX43B_UrFTh",
        "outputId": "84af599b-5a7f-49bc-dc9d-6341604fa288"
      },
      "outputs": [
        {
          "name": "stderr",
          "output_type": "stream",
          "text": [
            "<ipython-input-824-01903bcfc559>:1: DtypeWarning: Columns (3,15) have mixed types. Specify dtype option on import or set low_memory=False.\n",
            "  df=pd.read_csv('gdrive/My Drive/crashes.csv')\n"
          ]
        }
      ],
      "source": [
        "df=pd.read_csv('Traffic_Crashes_Resulting_in_Injury_20240416.csv')"
      ]
    },
    {
      "cell_type": "markdown",
      "metadata": {
        "id": "rvcSMUgiHdmp"
      },
      "source": [
        "## Weather\n",
        "Data acquired using the RCC-ACIS API: https://www.rcc-acis.org/"
      ]
    },
    {
      "cell_type": "code",
      "execution_count": 825,
      "metadata": {
        "id": "ugreu5pTHf3X"
      },
      "outputs": [],
      "source": [
        "# Retrieving daily data for max temp, min temp, average temp, and precipitation\n",
        "def get_weather_data():\n",
        "\n",
        "  # Generate the range of dates\n",
        "  start_date = datetime(2005, 1, 1)\n",
        "  end_date = datetime(2023, 12, 31)\n",
        "  one_day = timedelta(days=1)\n",
        "  date_range = [start_date + timedelta(days=i) for i in range((end_date - start_date).days + 1)]\n",
        "\n",
        "  # Initialize DataFrame\n",
        "  weather_df = pd.DataFrame(index=date_range)\n",
        "\n",
        "  # Codes for max temp, min temp, average temp, and precipitation\n",
        "  elements = {'max_temp':'1', 'min_temp':'2', 'avg_temp':'43', 'precip':'4'}\n",
        "\n",
        "  for key, val in elements.items():\n",
        "    # RCIS API call\n",
        "    url = \"http://data.rcc-acis.org/\"\n",
        "    input_dict = {\n",
        "        \"sid\":\"USW00023272 6\",\n",
        "        \"sdate\":\"2005-01-01\",\n",
        "        \"edate\":\"2023-12-31\",\n",
        "        \"elems\":val,\n",
        "        \"output\":\"json\"}\n",
        "    params = {'params': json.dumps(input_dict)}\n",
        "    headers = {'Accept': 'application/json'}\n",
        "    req = requests.post('http://data.rcc-acis.org/StnData', data=params, headers=headers)\n",
        "    response = req.json()\n",
        "    response_data = [item[1] for item in response['data']]\n",
        "\n",
        "    # Store in dataframe\n",
        "    weather_df[key] = response_data\n",
        "\n",
        "  return weather_df"
      ]
    },
    {
      "cell_type": "code",
      "execution_count": 826,
      "metadata": {
        "colab": {
          "base_uri": "https://localhost:8080/"
        },
        "id": "QDGNTwpSJ52J",
        "outputId": "e6c4da0b-884f-4b29-b2fb-3524882c7317"
      },
      "outputs": [
        {
          "name": "stdout",
          "output_type": "stream",
          "text": [
            "            max_temp  min_temp  avg_temp  precip\n",
            "2005-01-01      54.0      45.0      49.5    0.37\n",
            "2005-01-02      47.0      46.0      46.5    0.93\n",
            "2005-01-03      54.0      44.0      49.0    0.03\n",
            "2005-01-04      53.0      44.0      48.5    0.04\n",
            "2005-01-05      51.0      46.0      48.5    0.03\n"
          ]
        }
      ],
      "source": [
        "raw_weather_df = get_weather_data()\n",
        "# Replace \"M\" with NaN\n",
        "raw_weather_df.replace(\"M\", np.nan, inplace=True)\n",
        "\n",
        "# Convert to numeric\n",
        "raw_weather_df = raw_weather_df.apply(pd.to_numeric, errors='ignore')\n",
        "\n",
        "# Impute with the median for each column\n",
        "weather_df = raw_weather_df.fillna(raw_weather_df.median())\n",
        "\n",
        "print(weather_df.head())"
      ]
    },
    {
      "cell_type": "markdown",
      "metadata": {
        "id": "MBav0UKCzwhU"
      },
      "source": [
        "# Removing unnecessary data and checking datatypes"
      ]
    },
    {
      "cell_type": "code",
      "execution_count": 827,
      "metadata": {
        "id": "ZxUUS96H_iuG"
      },
      "outputs": [],
      "source": [
        "# Selecting necessary columns\n",
        "df = df[[\"collision_datetime\", \"collision_date\", \"accident_year\", \"month\", \"day_of_week\", 'tb_latitude', 'tb_longitude']]"
      ]
    },
    {
      "cell_type": "code",
      "execution_count": 828,
      "metadata": {
        "colab": {
          "base_uri": "https://localhost:8080/"
        },
        "id": "sXK33VA8_tI_",
        "outputId": "04c773ed-0b0d-4ed5-8985-9fc43bfb28dc"
      },
      "outputs": [
        {
          "name": "stdout",
          "output_type": "stream",
          "text": [
            "<class 'pandas.core.frame.DataFrame'>\n",
            "RangeIndex: 58262 entries, 0 to 58261\n",
            "Data columns (total 7 columns):\n",
            " #   Column              Non-Null Count  Dtype  \n",
            "---  ------              --------------  -----  \n",
            " 0   collision_datetime  58262 non-null  object \n",
            " 1   collision_date      58262 non-null  object \n",
            " 2   accident_year       58262 non-null  int64  \n",
            " 3   month               58262 non-null  object \n",
            " 4   day_of_week         58254 non-null  object \n",
            " 5   tb_latitude         58064 non-null  float64\n",
            " 6   tb_longitude        58064 non-null  float64\n",
            "dtypes: float64(2), int64(1), object(4)\n",
            "memory usage: 3.1+ MB\n",
            "None\n"
          ]
        }
      ],
      "source": [
        "print(df.info())"
      ]
    },
    {
      "cell_type": "code",
      "execution_count": 829,
      "metadata": {
        "colab": {
          "base_uri": "https://localhost:8080/",
          "height": 206
        },
        "id": "yKnBalw1BBLC",
        "outputId": "264e695d-e122-4088-9a95-127c1135c294"
      },
      "outputs": [
        {
          "data": {
            "application/vnd.google.colaboratory.intrinsic+json": {
              "summary": "{\n  \"name\": \"df\",\n  \"rows\": 58262,\n  \"fields\": [\n    {\n      \"column\": \"collision_datetime\",\n      \"properties\": {\n        \"dtype\": \"object\",\n        \"num_unique_values\": 57768,\n        \"samples\": [\n          \"12/20/2023 08:46:00 PM\",\n          \"12/23/2016 08:11:00 PM\",\n          \"02/14/2005 03:28:00 PM\"\n        ],\n        \"semantic_type\": \"\",\n        \"description\": \"\"\n      }\n    },\n    {\n      \"column\": \"collision_date\",\n      \"properties\": {\n        \"dtype\": \"object\",\n        \"num_unique_values\": 6931,\n        \"samples\": [\n          \"2016 November 15\",\n          \"2010 August 09\",\n          \"2012 March 26\"\n        ],\n        \"semantic_type\": \"\",\n        \"description\": \"\"\n      }\n    },\n    {\n      \"column\": \"accident_year\",\n      \"properties\": {\n        \"dtype\": \"number\",\n        \"std\": 5,\n        \"min\": 2005,\n        \"max\": 2023,\n        \"num_unique_values\": 19,\n        \"samples\": [\n          2023,\n          2008,\n          2014\n        ],\n        \"semantic_type\": \"\",\n        \"description\": \"\"\n      }\n    },\n    {\n      \"column\": \"month\",\n      \"properties\": {\n        \"dtype\": \"category\",\n        \"num_unique_values\": 12,\n        \"samples\": [\n          \"February\",\n          \"November\",\n          \"December\"\n        ],\n        \"semantic_type\": \"\",\n        \"description\": \"\"\n      }\n    },\n    {\n      \"column\": \"day_of_week\",\n      \"properties\": {\n        \"dtype\": \"category\",\n        \"num_unique_values\": 7,\n        \"samples\": [\n          \"Monday\",\n          \"Tuesday\",\n          \"Sunday\"\n        ],\n        \"semantic_type\": \"\",\n        \"description\": \"\"\n      }\n    },\n    {\n      \"column\": \"tb_latitude\",\n      \"properties\": {\n        \"dtype\": \"number\",\n        \"std\": 0.024447108005044224,\n        \"min\": 37.70745860301913,\n        \"max\": 37.82999075549999,\n        \"num_unique_values\": 34582,\n        \"samples\": [\n          37.77641425242504,\n          37.76262486009998,\n          37.7270375412312\n        ],\n        \"semantic_type\": \"\",\n        \"description\": \"\"\n      }\n    },\n    {\n      \"column\": \"tb_longitude\",\n      \"properties\": {\n        \"dtype\": \"number\",\n        \"std\": 0.02839180499636907,\n        \"min\": -122.51361620862788,\n        \"max\": -122.3583278940174,\n        \"num_unique_values\": 33231,\n        \"samples\": [\n          -122.46965384900756,\n          -122.40753939391264,\n          -122.4441958561637\n        ],\n        \"semantic_type\": \"\",\n        \"description\": \"\"\n      }\n    }\n  ]\n}",
              "type": "dataframe",
              "variable_name": "df"
            },
            "text/html": [
              "\n",
              "  <div id=\"df-54215601-2983-45a1-8457-f30df197c679\" class=\"colab-df-container\">\n",
              "    <div>\n",
              "<style scoped>\n",
              "    .dataframe tbody tr th:only-of-type {\n",
              "        vertical-align: middle;\n",
              "    }\n",
              "\n",
              "    .dataframe tbody tr th {\n",
              "        vertical-align: top;\n",
              "    }\n",
              "\n",
              "    .dataframe thead th {\n",
              "        text-align: right;\n",
              "    }\n",
              "</style>\n",
              "<table border=\"1\" class=\"dataframe\">\n",
              "  <thead>\n",
              "    <tr style=\"text-align: right;\">\n",
              "      <th></th>\n",
              "      <th>collision_datetime</th>\n",
              "      <th>collision_date</th>\n",
              "      <th>accident_year</th>\n",
              "      <th>month</th>\n",
              "      <th>day_of_week</th>\n",
              "      <th>tb_latitude</th>\n",
              "      <th>tb_longitude</th>\n",
              "    </tr>\n",
              "  </thead>\n",
              "  <tbody>\n",
              "    <tr>\n",
              "      <th>0</th>\n",
              "      <td>12/18/2023 02:15:00 PM</td>\n",
              "      <td>2023 December 18</td>\n",
              "      <td>2023</td>\n",
              "      <td>December</td>\n",
              "      <td>Monday</td>\n",
              "      <td>37.743586</td>\n",
              "      <td>-122.463710</td>\n",
              "    </tr>\n",
              "    <tr>\n",
              "      <th>1</th>\n",
              "      <td>01/20/2015 10:07:00 AM</td>\n",
              "      <td>2015 January 20</td>\n",
              "      <td>2015</td>\n",
              "      <td>January</td>\n",
              "      <td>Tuesday</td>\n",
              "      <td>37.781750</td>\n",
              "      <td>-122.396380</td>\n",
              "    </tr>\n",
              "    <tr>\n",
              "      <th>2</th>\n",
              "      <td>04/23/2013 11:26:00 AM</td>\n",
              "      <td>2013 April 23</td>\n",
              "      <td>2013</td>\n",
              "      <td>April</td>\n",
              "      <td>Tuesday</td>\n",
              "      <td>37.761830</td>\n",
              "      <td>-122.503878</td>\n",
              "    </tr>\n",
              "    <tr>\n",
              "      <th>3</th>\n",
              "      <td>08/22/2007 10:30:00 PM</td>\n",
              "      <td>2007 August 22</td>\n",
              "      <td>2007</td>\n",
              "      <td>August</td>\n",
              "      <td>Wednesday</td>\n",
              "      <td>37.783992</td>\n",
              "      <td>-122.408066</td>\n",
              "    </tr>\n",
              "    <tr>\n",
              "      <th>4</th>\n",
              "      <td>09/03/2009 01:35:00 PM</td>\n",
              "      <td>2009 September 03</td>\n",
              "      <td>2009</td>\n",
              "      <td>September</td>\n",
              "      <td>Thursday</td>\n",
              "      <td>37.785291</td>\n",
              "      <td>-122.424770</td>\n",
              "    </tr>\n",
              "  </tbody>\n",
              "</table>\n",
              "</div>\n",
              "    <div class=\"colab-df-buttons\">\n",
              "\n",
              "  <div class=\"colab-df-container\">\n",
              "    <button class=\"colab-df-convert\" onclick=\"convertToInteractive('df-54215601-2983-45a1-8457-f30df197c679')\"\n",
              "            title=\"Convert this dataframe to an interactive table.\"\n",
              "            style=\"display:none;\">\n",
              "\n",
              "  <svg xmlns=\"http://www.w3.org/2000/svg\" height=\"24px\" viewBox=\"0 -960 960 960\">\n",
              "    <path d=\"M120-120v-720h720v720H120Zm60-500h600v-160H180v160Zm220 220h160v-160H400v160Zm0 220h160v-160H400v160ZM180-400h160v-160H180v160Zm440 0h160v-160H620v160ZM180-180h160v-160H180v160Zm440 0h160v-160H620v160Z\"/>\n",
              "  </svg>\n",
              "    </button>\n",
              "\n",
              "  <style>\n",
              "    .colab-df-container {\n",
              "      display:flex;\n",
              "      gap: 12px;\n",
              "    }\n",
              "\n",
              "    .colab-df-convert {\n",
              "      background-color: #E8F0FE;\n",
              "      border: none;\n",
              "      border-radius: 50%;\n",
              "      cursor: pointer;\n",
              "      display: none;\n",
              "      fill: #1967D2;\n",
              "      height: 32px;\n",
              "      padding: 0 0 0 0;\n",
              "      width: 32px;\n",
              "    }\n",
              "\n",
              "    .colab-df-convert:hover {\n",
              "      background-color: #E2EBFA;\n",
              "      box-shadow: 0px 1px 2px rgba(60, 64, 67, 0.3), 0px 1px 3px 1px rgba(60, 64, 67, 0.15);\n",
              "      fill: #174EA6;\n",
              "    }\n",
              "\n",
              "    .colab-df-buttons div {\n",
              "      margin-bottom: 4px;\n",
              "    }\n",
              "\n",
              "    [theme=dark] .colab-df-convert {\n",
              "      background-color: #3B4455;\n",
              "      fill: #D2E3FC;\n",
              "    }\n",
              "\n",
              "    [theme=dark] .colab-df-convert:hover {\n",
              "      background-color: #434B5C;\n",
              "      box-shadow: 0px 1px 3px 1px rgba(0, 0, 0, 0.15);\n",
              "      filter: drop-shadow(0px 1px 2px rgba(0, 0, 0, 0.3));\n",
              "      fill: #FFFFFF;\n",
              "    }\n",
              "  </style>\n",
              "\n",
              "    <script>\n",
              "      const buttonEl =\n",
              "        document.querySelector('#df-54215601-2983-45a1-8457-f30df197c679 button.colab-df-convert');\n",
              "      buttonEl.style.display =\n",
              "        google.colab.kernel.accessAllowed ? 'block' : 'none';\n",
              "\n",
              "      async function convertToInteractive(key) {\n",
              "        const element = document.querySelector('#df-54215601-2983-45a1-8457-f30df197c679');\n",
              "        const dataTable =\n",
              "          await google.colab.kernel.invokeFunction('convertToInteractive',\n",
              "                                                    [key], {});\n",
              "        if (!dataTable) return;\n",
              "\n",
              "        const docLinkHtml = 'Like what you see? Visit the ' +\n",
              "          '<a target=\"_blank\" href=https://colab.research.google.com/notebooks/data_table.ipynb>data table notebook</a>'\n",
              "          + ' to learn more about interactive tables.';\n",
              "        element.innerHTML = '';\n",
              "        dataTable['output_type'] = 'display_data';\n",
              "        await google.colab.output.renderOutput(dataTable, element);\n",
              "        const docLink = document.createElement('div');\n",
              "        docLink.innerHTML = docLinkHtml;\n",
              "        element.appendChild(docLink);\n",
              "      }\n",
              "    </script>\n",
              "  </div>\n",
              "\n",
              "\n",
              "<div id=\"df-fb99302e-41ff-4c51-a74e-10d0dd2d60b6\">\n",
              "  <button class=\"colab-df-quickchart\" onclick=\"quickchart('df-fb99302e-41ff-4c51-a74e-10d0dd2d60b6')\"\n",
              "            title=\"Suggest charts\"\n",
              "            style=\"display:none;\">\n",
              "\n",
              "<svg xmlns=\"http://www.w3.org/2000/svg\" height=\"24px\"viewBox=\"0 0 24 24\"\n",
              "     width=\"24px\">\n",
              "    <g>\n",
              "        <path d=\"M19 3H5c-1.1 0-2 .9-2 2v14c0 1.1.9 2 2 2h14c1.1 0 2-.9 2-2V5c0-1.1-.9-2-2-2zM9 17H7v-7h2v7zm4 0h-2V7h2v10zm4 0h-2v-4h2v4z\"/>\n",
              "    </g>\n",
              "</svg>\n",
              "  </button>\n",
              "\n",
              "<style>\n",
              "  .colab-df-quickchart {\n",
              "      --bg-color: #E8F0FE;\n",
              "      --fill-color: #1967D2;\n",
              "      --hover-bg-color: #E2EBFA;\n",
              "      --hover-fill-color: #174EA6;\n",
              "      --disabled-fill-color: #AAA;\n",
              "      --disabled-bg-color: #DDD;\n",
              "  }\n",
              "\n",
              "  [theme=dark] .colab-df-quickchart {\n",
              "      --bg-color: #3B4455;\n",
              "      --fill-color: #D2E3FC;\n",
              "      --hover-bg-color: #434B5C;\n",
              "      --hover-fill-color: #FFFFFF;\n",
              "      --disabled-bg-color: #3B4455;\n",
              "      --disabled-fill-color: #666;\n",
              "  }\n",
              "\n",
              "  .colab-df-quickchart {\n",
              "    background-color: var(--bg-color);\n",
              "    border: none;\n",
              "    border-radius: 50%;\n",
              "    cursor: pointer;\n",
              "    display: none;\n",
              "    fill: var(--fill-color);\n",
              "    height: 32px;\n",
              "    padding: 0;\n",
              "    width: 32px;\n",
              "  }\n",
              "\n",
              "  .colab-df-quickchart:hover {\n",
              "    background-color: var(--hover-bg-color);\n",
              "    box-shadow: 0 1px 2px rgba(60, 64, 67, 0.3), 0 1px 3px 1px rgba(60, 64, 67, 0.15);\n",
              "    fill: var(--button-hover-fill-color);\n",
              "  }\n",
              "\n",
              "  .colab-df-quickchart-complete:disabled,\n",
              "  .colab-df-quickchart-complete:disabled:hover {\n",
              "    background-color: var(--disabled-bg-color);\n",
              "    fill: var(--disabled-fill-color);\n",
              "    box-shadow: none;\n",
              "  }\n",
              "\n",
              "  .colab-df-spinner {\n",
              "    border: 2px solid var(--fill-color);\n",
              "    border-color: transparent;\n",
              "    border-bottom-color: var(--fill-color);\n",
              "    animation:\n",
              "      spin 1s steps(1) infinite;\n",
              "  }\n",
              "\n",
              "  @keyframes spin {\n",
              "    0% {\n",
              "      border-color: transparent;\n",
              "      border-bottom-color: var(--fill-color);\n",
              "      border-left-color: var(--fill-color);\n",
              "    }\n",
              "    20% {\n",
              "      border-color: transparent;\n",
              "      border-left-color: var(--fill-color);\n",
              "      border-top-color: var(--fill-color);\n",
              "    }\n",
              "    30% {\n",
              "      border-color: transparent;\n",
              "      border-left-color: var(--fill-color);\n",
              "      border-top-color: var(--fill-color);\n",
              "      border-right-color: var(--fill-color);\n",
              "    }\n",
              "    40% {\n",
              "      border-color: transparent;\n",
              "      border-right-color: var(--fill-color);\n",
              "      border-top-color: var(--fill-color);\n",
              "    }\n",
              "    60% {\n",
              "      border-color: transparent;\n",
              "      border-right-color: var(--fill-color);\n",
              "    }\n",
              "    80% {\n",
              "      border-color: transparent;\n",
              "      border-right-color: var(--fill-color);\n",
              "      border-bottom-color: var(--fill-color);\n",
              "    }\n",
              "    90% {\n",
              "      border-color: transparent;\n",
              "      border-bottom-color: var(--fill-color);\n",
              "    }\n",
              "  }\n",
              "</style>\n",
              "\n",
              "  <script>\n",
              "    async function quickchart(key) {\n",
              "      const quickchartButtonEl =\n",
              "        document.querySelector('#' + key + ' button');\n",
              "      quickchartButtonEl.disabled = true;  // To prevent multiple clicks.\n",
              "      quickchartButtonEl.classList.add('colab-df-spinner');\n",
              "      try {\n",
              "        const charts = await google.colab.kernel.invokeFunction(\n",
              "            'suggestCharts', [key], {});\n",
              "      } catch (error) {\n",
              "        console.error('Error during call to suggestCharts:', error);\n",
              "      }\n",
              "      quickchartButtonEl.classList.remove('colab-df-spinner');\n",
              "      quickchartButtonEl.classList.add('colab-df-quickchart-complete');\n",
              "    }\n",
              "    (() => {\n",
              "      let quickchartButtonEl =\n",
              "        document.querySelector('#df-fb99302e-41ff-4c51-a74e-10d0dd2d60b6 button');\n",
              "      quickchartButtonEl.style.display =\n",
              "        google.colab.kernel.accessAllowed ? 'block' : 'none';\n",
              "    })();\n",
              "  </script>\n",
              "</div>\n",
              "    </div>\n",
              "  </div>\n"
            ],
            "text/plain": [
              "       collision_datetime     collision_date  accident_year      month  \\\n",
              "0  12/18/2023 02:15:00 PM   2023 December 18           2023   December   \n",
              "1  01/20/2015 10:07:00 AM    2015 January 20           2015    January   \n",
              "2  04/23/2013 11:26:00 AM      2013 April 23           2013      April   \n",
              "3  08/22/2007 10:30:00 PM     2007 August 22           2007     August   \n",
              "4  09/03/2009 01:35:00 PM  2009 September 03           2009  September   \n",
              "\n",
              "  day_of_week  tb_latitude  tb_longitude  \n",
              "0      Monday    37.743586   -122.463710  \n",
              "1     Tuesday    37.781750   -122.396380  \n",
              "2     Tuesday    37.761830   -122.503878  \n",
              "3   Wednesday    37.783992   -122.408066  \n",
              "4    Thursday    37.785291   -122.424770  "
            ]
          },
          "execution_count": 829,
          "metadata": {},
          "output_type": "execute_result"
        }
      ],
      "source": [
        "df.head()"
      ]
    },
    {
      "cell_type": "code",
      "execution_count": 830,
      "metadata": {
        "colab": {
          "base_uri": "https://localhost:8080/"
        },
        "id": "ZDYpYu8mAXiD",
        "outputId": "9e4ec38d-e8e8-4c8b-e57d-25e676acd026"
      },
      "outputs": [
        {
          "data": {
            "text/plain": [
              "0        12/18/2023 02:15:00 PM\n",
              "1        01/20/2015 10:07:00 AM\n",
              "2        04/23/2013 11:26:00 AM\n",
              "3        08/22/2007 10:30:00 PM\n",
              "4        09/03/2009 01:35:00 PM\n",
              "                  ...          \n",
              "58257    07/12/2012 11:48:00 AM\n",
              "58258    06/10/2023 11:03:00 PM\n",
              "58259    10/19/2021 08:25:00 PM\n",
              "58260    01/09/2012 08:25:00 AM\n",
              "58261    04/05/2023 07:41:00 AM\n",
              "Name: collision_datetime, Length: 58262, dtype: object"
            ]
          },
          "execution_count": 830,
          "metadata": {},
          "output_type": "execute_result"
        }
      ],
      "source": [
        "df[\"collision_datetime\"]"
      ]
    },
    {
      "cell_type": "code",
      "execution_count": 831,
      "metadata": {
        "id": "OE8pK7fN0d1k"
      },
      "outputs": [],
      "source": [
        "# Casting accident year to int\n",
        "df['accident_year'] = df['accident_year'].astype(int)\n",
        "\n",
        "# Casting datetime to datetime object\n",
        "df['collision_datetime'] = pd.to_datetime(df[\"collision_datetime\"],\n",
        "                                          format=\"%m/%d/%Y %I:%M:%S %p\")\n",
        "df['collision_date'] = pd.to_datetime(df[\"collision_datetime\"],\n",
        "                                      format=\"%Y-%m-%d\").dt.date\n",
        "\n",
        "# Casting month and day of week to numeric format\n",
        "df['month'] = pd.to_datetime(df['month'], format='%B').dt.month\n",
        "df['day_of_week'] = pd.to_datetime(df['day_of_week'], format='%A').dt.dayofweek\n",
        "\n",
        "# Renaming latitude and longitude columns for convenience\n",
        "df = df.rename(columns={'tb_latitude':'latitude', 'tb_longitude':'longitude'})"
      ]
    },
    {
      "cell_type": "markdown",
      "metadata": {
        "id": "QTGr18a2Dcb7"
      },
      "source": [
        "I will not be training the model on post-2020 data so that irregular traffic patterns caused by lockdowns in 2020 and 2021 will not affect the overall model."
      ]
    },
    {
      "cell_type": "code",
      "execution_count": 832,
      "metadata": {
        "colab": {
          "base_uri": "https://localhost:8080/",
          "height": 700
        },
        "id": "cT3Pgodu0lCQ",
        "outputId": "f44d5e9b-d07b-4997-b3fa-b20b1bebb4c4"
      },
      "outputs": [
        {
          "name": "stdout",
          "output_type": "stream",
          "text": [
            "accident_year  month\n",
            "2005           1        245\n",
            "               2        224\n",
            "               3        281\n",
            "               4        268\n",
            "               5        299\n",
            "                       ... \n",
            "2023           8        262\n",
            "               9        271\n",
            "               10       293\n",
            "               11       245\n",
            "               12       266\n",
            "Length: 228, dtype: int64\n"
          ]
        },
        {
          "data": {
            "text/plain": [
              "<Axes: xlabel='accident_year,month'>"
            ]
          },
          "execution_count": 832,
          "metadata": {},
          "output_type": "execute_result"
        },
        {
          "data": {
            "image/png": "[encoded data removed]",
            "text/plain": [
              "<Figure size 640x480 with 1 Axes>"
            ]
          },
          "metadata": {},
          "output_type": "display_data"
        }
      ],
      "source": [
        "# Graph of accident counts by month over time\n",
        "yearly_counts = df.groupby(by=['accident_year', 'month']).size()\n",
        "print(yearly_counts)\n",
        "yearly_counts.plot(kind='line')"
      ]
    },
    {
      "cell_type": "code",
      "execution_count": 833,
      "metadata": {
        "id": "1yst7AtMyS97"
      },
      "outputs": [],
      "source": [
        "# Subsetting data\n",
        "selected_dates = df[df['accident_year'] < 2015].sort_values(by='collision_date')"
      ]
    },
    {
      "cell_type": "markdown",
      "metadata": {
        "id": "hgUHvCjlwURZ"
      },
      "source": [
        "# Creating map of area where accidents in dataset are occurring"
      ]
    },
    {
      "cell_type": "code",
      "execution_count": 834,
      "metadata": {
        "id": "7wk_LkwSwXT7"
      },
      "outputs": [],
      "source": [
        "mean_lat = selected_dates['latitude'].mean()\n",
        "mean_long = selected_dates['longitude'].mean()"
      ]
    },
    {
      "cell_type": "code",
      "execution_count": 835,
      "metadata": {
        "colab": {
          "base_uri": "https://localhost:8080/"
        },
        "id": "uEwTRRCww1uX",
        "outputId": "3e80d502-2429-4848-cf4f-1159cf393a45"
      },
      "outputs": [
        {
          "name": "stdout",
          "output_type": "stream",
          "text": [
            "Minimum latitude: 37.69808572900908\n",
            "Maximum latitude: 37.83986189124343\n"
          ]
        }
      ],
      "source": [
        "min_lat = selected_dates['latitude'].min()-.01\n",
        "max_lat = selected_dates['latitude'].max()+.01\n",
        "print(f\"Minimum latitude: {min_lat}\")\n",
        "print(f\"Maximum latitude: {max_lat}\")\n"
      ]
    },
    {
      "cell_type": "code",
      "execution_count": 836,
      "metadata": {
        "colab": {
          "base_uri": "https://localhost:8080/"
        },
        "id": "fQtkYte3w5er",
        "outputId": "7d90a8e4-e68a-4d2f-bd11-7d19ad0f495c"
      },
      "outputs": [
        {
          "name": "stdout",
          "output_type": "stream",
          "text": [
            "Minimum longitude: -122.52361620862789\n",
            "Maximum longitude: -122.3483278940174\n"
          ]
        }
      ],
      "source": [
        "min_long = selected_dates['longitude'].min()-.01\n",
        "max_long = selected_dates['longitude'].max()+.01\n",
        "print(f\"Minimum longitude: {min_long}\")\n",
        "print(f\"Maximum longitude: {max_long}\")\n",
        "\n"
      ]
    },
    {
      "cell_type": "markdown",
      "metadata": {
        "id": "pdNad1eM32LK"
      },
      "source": [
        "All possible latitude and longitude values within the city limits should fit in this area. I'll encode the accidents by assigning them to a cell in a square matrix that covers this area."
      ]
    },
    {
      "cell_type": "code",
      "execution_count": 837,
      "metadata": {
        "colab": {
          "base_uri": "https://localhost:8080/",
          "height": 1000
        },
        "id": "aMET6tSowtS1",
        "outputId": "a22235c4-812c-40b9-f721-528f152b2054"
      },
      "outputs": [
        {
          "data": {
            "text/html": [
              "<div style=\"width:100%;\"><div style=\"position:relative;width:100%;height:0;padding-bottom:60%;\"><span style=\"color:#565656\">Make this Notebook Trusted to load map: File -> Trust Notebook</span><iframe srcdoc=\"&lt;!DOCTYPE html&gt;\n",
              "&lt;html&gt;\n",
              "&lt;head&gt;\n",
              "    \n",
              "    &lt;meta http-equiv=&quot;content-type&quot; content=&quot;text/html; charset=UTF-8&quot; /&gt;\n",
              "    \n",
              "        &lt;script&gt;\n",
              "            L_NO_TOUCH = false;\n",
              "            L_DISABLE_3D = false;\n",
              "        &lt;/script&gt;\n",
              "    \n",
              "    &lt;style&gt;html, body {width: 100%;height: 100%;margin: 0;padding: 0;}&lt;/style&gt;\n",
              "    &lt;style&gt;#map {position:absolute;top:0;bottom:0;right:0;left:0;}&lt;/style&gt;\n",
              "    &lt;script src=&quot;https://cdn.jsdelivr.net/npm/leaflet@1.9.3/dist/leaflet.js&quot;&gt;&lt;/script&gt;\n",
              "    &lt;script src=&quot;https://code.jquery.com/jquery-1.12.4.min.js&quot;&gt;&lt;/script&gt;\n",
              "    &lt;script src=&quot;https://cdn.jsdelivr.net/npm/bootstrap@5.2.2/dist/js/bootstrap.bundle.min.js&quot;&gt;&lt;/script&gt;\n",
              "    &lt;script src=&quot;https://cdnjs.cloudflare.com/ajax/libs/Leaflet.awesome-markers/2.0.2/leaflet.awesome-markers.js&quot;&gt;&lt;/script&gt;\n",
              "    &lt;link rel=&quot;stylesheet&quot; href=&quot;https://cdn.jsdelivr.net/npm/leaflet@1.9.3/dist/leaflet.css&quot;/&gt;\n",
              "    &lt;link rel=&quot;stylesheet&quot; href=&quot;https://cdn.jsdelivr.net/npm/bootstrap@5.2.2/dist/css/bootstrap.min.css&quot;/&gt;\n",
              "    &lt;link rel=&quot;stylesheet&quot; href=&quot;https://netdna.bootstrapcdn.com/bootstrap/3.0.0/css/bootstrap.min.css&quot;/&gt;\n",
              "    &lt;link rel=&quot;stylesheet&quot; href=&quot;https://cdn.jsdelivr.net/npm/@fortawesome/fontawesome-free@6.2.0/css/all.min.css&quot;/&gt;\n",
              "    &lt;link rel=&quot;stylesheet&quot; href=&quot;https://cdnjs.cloudflare.com/ajax/libs/Leaflet.awesome-markers/2.0.2/leaflet.awesome-markers.css&quot;/&gt;\n",
              "    &lt;link rel=&quot;stylesheet&quot; href=&quot;https://cdn.jsdelivr.net/gh/python-visualization/folium/folium/templates/leaflet.awesome.rotate.min.css&quot;/&gt;\n",
              "    \n",
              "            &lt;meta name=&quot;viewport&quot; content=&quot;width=device-width,\n",
              "                initial-scale=1.0, maximum-scale=1.0, user-scalable=no&quot; /&gt;\n",
              "            &lt;style&gt;\n",
              "                #map_e1f5d3a69ecf13803c09564fd2fa4404 {\n",
              "                    position: relative;\n",
              "                    width: 100.0%;\n",
              "                    height: 100.0%;\n",
              "                    left: 0.0%;\n",
              "                    top: 0.0%;\n",
              "                }\n",
              "                .leaflet-container { font-size: 1rem; }\n",
              "            &lt;/style&gt;\n",
              "        \n",
              "&lt;/head&gt;\n",
              "&lt;body&gt;\n",
              "    \n",
              "    \n",
              "            &lt;div class=&quot;folium-map&quot; id=&quot;map_e1f5d3a69ecf13803c09564fd2fa4404&quot; &gt;&lt;/div&gt;\n",
              "        \n",
              "&lt;/body&gt;\n",
              "&lt;script&gt;\n",
              "    \n",
              "    \n",
              "            var map_e1f5d3a69ecf13803c09564fd2fa4404 = L.map(\n",
              "                &quot;map_e1f5d3a69ecf13803c09564fd2fa4404&quot;,\n",
              "                {\n",
              "                    center: [37.766366928225544, -122.43023548294262],\n",
              "                    crs: L.CRS.EPSG3857,\n",
              "                    zoom: 12,\n",
              "                    zoomControl: true,\n",
              "                    preferCanvas: false,\n",
              "                }\n",
              "            );\n",
              "\n",
              "            \n",
              "\n",
              "        \n",
              "    \n",
              "            var tile_layer_ae2a9528a80760fb72b6dc8a44e3b9ca = L.tileLayer(\n",
              "                &quot;https://{s}.tile.openstreetmap.org/{z}/{x}/{y}.png&quot;,\n",
              "                {&quot;attribution&quot;: &quot;Data by \\u0026copy; \\u003ca target=\\&quot;_blank\\&quot; href=\\&quot;http://openstreetmap.org\\&quot;\\u003eOpenStreetMap\\u003c/a\\u003e, under \\u003ca target=\\&quot;_blank\\&quot; href=\\&quot;http://www.openstreetmap.org/copyright\\&quot;\\u003eODbL\\u003c/a\\u003e.&quot;, &quot;detectRetina&quot;: false, &quot;maxNativeZoom&quot;: 18, &quot;maxZoom&quot;: 18, &quot;minZoom&quot;: 0, &quot;noWrap&quot;: false, &quot;opacity&quot;: 1, &quot;subdomains&quot;: &quot;abc&quot;, &quot;tms&quot;: false}\n",
              "            ).addTo(map_e1f5d3a69ecf13803c09564fd2fa4404);\n",
              "        \n",
              "    \n",
              "            var marker_b5f232ac975a28c5efcbdd4109785edb = L.marker(\n",
              "                [37.69808572900908, -122.52361620862789],\n",
              "                {}\n",
              "            ).addTo(map_e1f5d3a69ecf13803c09564fd2fa4404);\n",
              "        \n",
              "    \n",
              "            var marker_3f290970c21a4d3509c97149c68467a3 = L.marker(\n",
              "                [37.83986189124343, -122.3483278940174],\n",
              "                {}\n",
              "            ).addTo(map_e1f5d3a69ecf13803c09564fd2fa4404);\n",
              "        \n",
              "    \n",
              "            var marker_cd273113bd64d414861b9979d8a6dd56 = L.marker(\n",
              "                [37.83986189124343, -122.52361620862789],\n",
              "                {}\n",
              "            ).addTo(map_e1f5d3a69ecf13803c09564fd2fa4404);\n",
              "        \n",
              "    \n",
              "            var marker_586307800ce5edd3298f0b9d28971013 = L.marker(\n",
              "                [37.69808572900908, -122.3483278940174],\n",
              "                {}\n",
              "            ).addTo(map_e1f5d3a69ecf13803c09564fd2fa4404);\n",
              "        \n",
              "&lt;/script&gt;\n",
              "&lt;/html&gt;\" style=\"position:absolute;width:100%;height:100%;left:0;top:0;border:none !important;\" allowfullscreen webkitallowfullscreen mozallowfullscreen></iframe></div></div>"
            ],
            "text/plain": [
              "<folium.folium.Map at 0x7bac75693b80>"
            ]
          },
          "execution_count": 837,
          "metadata": {},
          "output_type": "execute_result"
        }
      ],
      "source": [
        "m = folium.Map(location=(mean_lat, mean_long),\n",
        "               zoom_start=12,\n",
        "               tiles='OpenStreetMap')\n",
        "\n",
        "folium.Marker(\n",
        "    location = [min_lat, min_long]\n",
        ").add_to(m)\n",
        "folium.Marker(\n",
        "    location = [max_lat, max_long]\n",
        ").add_to(m)\n",
        "folium.Marker(\n",
        "    location = [max_lat, min_long]\n",
        ").add_to(m)\n",
        "folium.Marker(\n",
        "    location = [min_lat, max_long]\n",
        ").add_to(m)\n",
        "m"
      ]
    },
    {
      "cell_type": "code",
      "execution_count": 838,
      "metadata": {
        "colab": {
          "base_uri": "https://localhost:8080/",
          "height": 1000
        },
        "id": "b1lJ2fTyyuIv",
        "outputId": "b95f15e6-0d54-429f-eb93-691276107201"
      },
      "outputs": [
        {
          "data": {
            "text/html": [
              "<div style=\"width:100%;\"><div style=\"position:relative;width:100%;height:0;padding-bottom:60%;\"><span style=\"color:#565656\">Make this Notebook Trusted to load map: File -> Trust Notebook</span><iframe srcdoc=\"&lt;!DOCTYPE html&gt;\n",
              "&lt;html&gt;\n",
              "&lt;head&gt;\n",
              "    \n",
              "    &lt;meta http-equiv=&quot;content-type&quot; content=&quot;text/html; charset=UTF-8&quot; /&gt;\n",
              "    \n",
              "        &lt;script&gt;\n",
              "            L_NO_TOUCH = false;\n",
              "            L_DISABLE_3D = false;\n",
              "        &lt;/script&gt;\n",
              "    \n",
              "    &lt;style&gt;html, body {width: 100%;height: 100%;margin: 0;padding: 0;}&lt;/style&gt;\n",
              "    &lt;style&gt;#map {position:absolute;top:0;bottom:0;right:0;left:0;}&lt;/style&gt;\n",
              "    &lt;script src=&quot;https://cdn.jsdelivr.net/npm/leaflet@1.9.3/dist/leaflet.js&quot;&gt;&lt;/script&gt;\n",
              "    &lt;script src=&quot;https://code.jquery.com/jquery-1.12.4.min.js&quot;&gt;&lt;/script&gt;\n",
              "    &lt;script src=&quot;https://cdn.jsdelivr.net/npm/bootstrap@5.2.2/dist/js/bootstrap.bundle.min.js&quot;&gt;&lt;/script&gt;\n",
              "    &lt;script src=&quot;https://cdnjs.cloudflare.com/ajax/libs/Leaflet.awesome-markers/2.0.2/leaflet.awesome-markers.js&quot;&gt;&lt;/script&gt;\n",
              "    &lt;link rel=&quot;stylesheet&quot; href=&quot;https://cdn.jsdelivr.net/npm/leaflet@1.9.3/dist/leaflet.css&quot;/&gt;\n",
              "    &lt;link rel=&quot;stylesheet&quot; href=&quot;https://cdn.jsdelivr.net/npm/bootstrap@5.2.2/dist/css/bootstrap.min.css&quot;/&gt;\n",
              "    &lt;link rel=&quot;stylesheet&quot; href=&quot;https://netdna.bootstrapcdn.com/bootstrap/3.0.0/css/bootstrap.min.css&quot;/&gt;\n",
              "    &lt;link rel=&quot;stylesheet&quot; href=&quot;https://cdn.jsdelivr.net/npm/@fortawesome/fontawesome-free@6.2.0/css/all.min.css&quot;/&gt;\n",
              "    &lt;link rel=&quot;stylesheet&quot; href=&quot;https://cdnjs.cloudflare.com/ajax/libs/Leaflet.awesome-markers/2.0.2/leaflet.awesome-markers.css&quot;/&gt;\n",
              "    &lt;link rel=&quot;stylesheet&quot; href=&quot;https://cdn.jsdelivr.net/gh/python-visualization/folium/folium/templates/leaflet.awesome.rotate.min.css&quot;/&gt;\n",
              "    \n",
              "            &lt;meta name=&quot;viewport&quot; content=&quot;width=device-width,\n",
              "                initial-scale=1.0, maximum-scale=1.0, user-scalable=no&quot; /&gt;\n",
              "            &lt;style&gt;\n",
              "                #map_734f23706e7679e911e142422b54ff5c {\n",
              "                    position: relative;\n",
              "                    width: 100.0%;\n",
              "                    height: 100.0%;\n",
              "                    left: 0.0%;\n",
              "                    top: 0.0%;\n",
              "                }\n",
              "                .leaflet-container { font-size: 1rem; }\n",
              "            &lt;/style&gt;\n",
              "        \n",
              "&lt;/head&gt;\n",
              "&lt;body&gt;\n",
              "    \n",
              "    \n",
              "            &lt;div class=&quot;folium-map&quot; id=&quot;map_734f23706e7679e911e142422b54ff5c&quot; &gt;&lt;/div&gt;\n",
              "        \n",
              "&lt;/body&gt;\n",
              "&lt;script&gt;\n",
              "    \n",
              "    \n",
              "            var map_734f23706e7679e911e142422b54ff5c = L.map(\n",
              "                &quot;map_734f23706e7679e911e142422b54ff5c&quot;,\n",
              "                {\n",
              "                    center: [37.76897381012625, -122.43597205132264],\n",
              "                    crs: L.CRS.EPSG3857,\n",
              "                    zoom: 12,\n",
              "                    zoomControl: true,\n",
              "                    preferCanvas: false,\n",
              "                }\n",
              "            );\n",
              "\n",
              "            \n",
              "\n",
              "        \n",
              "    \n",
              "            var tile_layer_1b103f76e9468e325f47d23b3c7bb15f = L.tileLayer(\n",
              "                &quot;https://cartodb-basemaps-{s}.global.ssl.fastly.net/light_all/{z}/{x}/{y}.png&quot;,\n",
              "                {&quot;attribution&quot;: &quot;\\u0026copy; \\u003ca target=\\&quot;_blank\\&quot; href=\\&quot;http://www.openstreetmap.org/copyright\\&quot;\\u003eOpenStreetMap\\u003c/a\\u003e contributors \\u0026copy; \\u003ca target=\\&quot;_blank\\&quot; href=\\&quot;http://cartodb.com/attributions\\&quot;\\u003eCartoDB\\u003c/a\\u003e, CartoDB \\u003ca target=\\&quot;_blank\\&quot; href =\\&quot;http://cartodb.com/attributions\\&quot;\\u003eattributions\\u003c/a\\u003e&quot;, &quot;detectRetina&quot;: false, &quot;maxNativeZoom&quot;: 18, &quot;maxZoom&quot;: 18, &quot;minZoom&quot;: 0, &quot;noWrap&quot;: false, &quot;opacity&quot;: 1, &quot;subdomains&quot;: &quot;abc&quot;, &quot;tms&quot;: false}\n",
              "            ).addTo(map_734f23706e7679e911e142422b54ff5c);\n",
              "        \n",
              "    \n",
              "            var poly_line_1f2e96f390db1f2271f9fe024c7b213f = L.polyline(\n",
              "                [[37.69808572900908, -122.52361620862789], [37.69808572900908, -122.3483278940174]],\n",
              "                {&quot;bubblingMouseEvents&quot;: true, &quot;color&quot;: &quot;blue&quot;, &quot;dashArray&quot;: null, &quot;dashOffset&quot;: null, &quot;fill&quot;: false, &quot;fillColor&quot;: &quot;blue&quot;, &quot;fillOpacity&quot;: 0.2, &quot;fillRule&quot;: &quot;evenodd&quot;, &quot;lineCap&quot;: &quot;round&quot;, &quot;lineJoin&quot;: &quot;round&quot;, &quot;noClip&quot;: false, &quot;opacity&quot;: 1.0, &quot;smoothFactor&quot;: 1.0, &quot;stroke&quot;: true, &quot;weight&quot;: 0.5}\n",
              "            ).addTo(map_734f23706e7679e911e142422b54ff5c);\n",
              "        \n",
              "    \n",
              "            var poly_line_77e9899e1bb9741d59d7e4a1b3e98583 = L.polyline(\n",
              "                [[37.70281160108356, -122.52361620862789], [37.70281160108356, -122.3483278940174]],\n",
              "                {&quot;bubblingMouseEvents&quot;: true, &quot;color&quot;: &quot;blue&quot;, &quot;dashArray&quot;: null, &quot;dashOffset&quot;: null, &quot;fill&quot;: false, &quot;fillColor&quot;: &quot;blue&quot;, &quot;fillOpacity&quot;: 0.2, &quot;fillRule&quot;: &quot;evenodd&quot;, &quot;lineCap&quot;: &quot;round&quot;, &quot;lineJoin&quot;: &quot;round&quot;, &quot;noClip&quot;: false, &quot;opacity&quot;: 1.0, &quot;smoothFactor&quot;: 1.0, &quot;stroke&quot;: true, &quot;weight&quot;: 0.5}\n",
              "            ).addTo(map_734f23706e7679e911e142422b54ff5c);\n",
              "        \n",
              "    \n",
              "            var poly_line_82107b6b81be99e2e8883c939c8d713f = L.polyline(\n",
              "                [[37.707537473158034, -122.52361620862789], [37.707537473158034, -122.3483278940174]],\n",
              "                {&quot;bubblingMouseEvents&quot;: true, &quot;color&quot;: &quot;blue&quot;, &quot;dashArray&quot;: null, &quot;dashOffset&quot;: null, &quot;fill&quot;: false, &quot;fillColor&quot;: &quot;blue&quot;, &quot;fillOpacity&quot;: 0.2, &quot;fillRule&quot;: &quot;evenodd&quot;, &quot;lineCap&quot;: &quot;round&quot;, &quot;lineJoin&quot;: &quot;round&quot;, &quot;noClip&quot;: false, &quot;opacity&quot;: 1.0, &quot;smoothFactor&quot;: 1.0, &quot;stroke&quot;: true, &quot;weight&quot;: 0.5}\n",
              "            ).addTo(map_734f23706e7679e911e142422b54ff5c);\n",
              "        \n",
              "    \n",
              "            var poly_line_37e76d40f37a0e45774fd4141ea9e185 = L.polyline(\n",
              "                [[37.712263345232515, -122.52361620862789], [37.712263345232515, -122.3483278940174]],\n",
              "                {&quot;bubblingMouseEvents&quot;: true, &quot;color&quot;: &quot;blue&quot;, &quot;dashArray&quot;: null, &quot;dashOffset&quot;: null, &quot;fill&quot;: false, &quot;fillColor&quot;: &quot;blue&quot;, &quot;fillOpacity&quot;: 0.2, &quot;fillRule&quot;: &quot;evenodd&quot;, &quot;lineCap&quot;: &quot;round&quot;, &quot;lineJoin&quot;: &quot;round&quot;, &quot;noClip&quot;: false, &quot;opacity&quot;: 1.0, &quot;smoothFactor&quot;: 1.0, &quot;stroke&quot;: true, &quot;weight&quot;: 0.5}\n",
              "            ).addTo(map_734f23706e7679e911e142422b54ff5c);\n",
              "        \n",
              "    \n",
              "            var poly_line_b2330bd8c353cc550c228f285434343f = L.polyline(\n",
              "                [[37.716989217306995, -122.52361620862789], [37.716989217306995, -122.3483278940174]],\n",
              "                {&quot;bubblingMouseEvents&quot;: true, &quot;color&quot;: &quot;blue&quot;, &quot;dashArray&quot;: null, &quot;dashOffset&quot;: null, &quot;fill&quot;: false, &quot;fillColor&quot;: &quot;blue&quot;, &quot;fillOpacity&quot;: 0.2, &quot;fillRule&quot;: &quot;evenodd&quot;, &quot;lineCap&quot;: &quot;round&quot;, &quot;lineJoin&quot;: &quot;round&quot;, &quot;noClip&quot;: false, &quot;opacity&quot;: 1.0, &quot;smoothFactor&quot;: 1.0, &quot;stroke&quot;: true, &quot;weight&quot;: 0.5}\n",
              "            ).addTo(map_734f23706e7679e911e142422b54ff5c);\n",
              "        \n",
              "    \n",
              "            var poly_line_9aea0faabc675474975f560da8d2303e = L.polyline(\n",
              "                [[37.72171508938147, -122.52361620862789], [37.72171508938147, -122.3483278940174]],\n",
              "                {&quot;bubblingMouseEvents&quot;: true, &quot;color&quot;: &quot;blue&quot;, &quot;dashArray&quot;: null, &quot;dashOffset&quot;: null, &quot;fill&quot;: false, &quot;fillColor&quot;: &quot;blue&quot;, &quot;fillOpacity&quot;: 0.2, &quot;fillRule&quot;: &quot;evenodd&quot;, &quot;lineCap&quot;: &quot;round&quot;, &quot;lineJoin&quot;: &quot;round&quot;, &quot;noClip&quot;: false, &quot;opacity&quot;: 1.0, &quot;smoothFactor&quot;: 1.0, &quot;stroke&quot;: true, &quot;weight&quot;: 0.5}\n",
              "            ).addTo(map_734f23706e7679e911e142422b54ff5c);\n",
              "        \n",
              "    \n",
              "            var poly_line_50621d9a81b04ddb16b1766423b827dd = L.polyline(\n",
              "                [[37.72644096145595, -122.52361620862789], [37.72644096145595, -122.3483278940174]],\n",
              "                {&quot;bubblingMouseEvents&quot;: true, &quot;color&quot;: &quot;blue&quot;, &quot;dashArray&quot;: null, &quot;dashOffset&quot;: null, &quot;fill&quot;: false, &quot;fillColor&quot;: &quot;blue&quot;, &quot;fillOpacity&quot;: 0.2, &quot;fillRule&quot;: &quot;evenodd&quot;, &quot;lineCap&quot;: &quot;round&quot;, &quot;lineJoin&quot;: &quot;round&quot;, &quot;noClip&quot;: false, &quot;opacity&quot;: 1.0, &quot;smoothFactor&quot;: 1.0, &quot;stroke&quot;: true, &quot;weight&quot;: 0.5}\n",
              "            ).addTo(map_734f23706e7679e911e142422b54ff5c);\n",
              "        \n",
              "    \n",
              "            var poly_line_268a07f089a1a2bb75dc8e0f81e3b4f9 = L.polyline(\n",
              "                [[37.73116683353043, -122.52361620862789], [37.73116683353043, -122.3483278940174]],\n",
              "                {&quot;bubblingMouseEvents&quot;: true, &quot;color&quot;: &quot;blue&quot;, &quot;dashArray&quot;: null, &quot;dashOffset&quot;: null, &quot;fill&quot;: false, &quot;fillColor&quot;: &quot;blue&quot;, &quot;fillOpacity&quot;: 0.2, &quot;fillRule&quot;: &quot;evenodd&quot;, &quot;lineCap&quot;: &quot;round&quot;, &quot;lineJoin&quot;: &quot;round&quot;, &quot;noClip&quot;: false, &quot;opacity&quot;: 1.0, &quot;smoothFactor&quot;: 1.0, &quot;stroke&quot;: true, &quot;weight&quot;: 0.5}\n",
              "            ).addTo(map_734f23706e7679e911e142422b54ff5c);\n",
              "        \n",
              "    \n",
              "            var poly_line_e401cf64cca81895a451c1178246feeb = L.polyline(\n",
              "                [[37.735892705604904, -122.52361620862789], [37.735892705604904, -122.3483278940174]],\n",
              "                {&quot;bubblingMouseEvents&quot;: true, &quot;color&quot;: &quot;blue&quot;, &quot;dashArray&quot;: null, &quot;dashOffset&quot;: null, &quot;fill&quot;: false, &quot;fillColor&quot;: &quot;blue&quot;, &quot;fillOpacity&quot;: 0.2, &quot;fillRule&quot;: &quot;evenodd&quot;, &quot;lineCap&quot;: &quot;round&quot;, &quot;lineJoin&quot;: &quot;round&quot;, &quot;noClip&quot;: false, &quot;opacity&quot;: 1.0, &quot;smoothFactor&quot;: 1.0, &quot;stroke&quot;: true, &quot;weight&quot;: 0.5}\n",
              "            ).addTo(map_734f23706e7679e911e142422b54ff5c);\n",
              "        \n",
              "    \n",
              "            var poly_line_a65e081d4c86ed12d9e965e6db3b0e03 = L.polyline(\n",
              "                [[37.740618577679385, -122.52361620862789], [37.740618577679385, -122.3483278940174]],\n",
              "                {&quot;bubblingMouseEvents&quot;: true, &quot;color&quot;: &quot;blue&quot;, &quot;dashArray&quot;: null, &quot;dashOffset&quot;: null, &quot;fill&quot;: false, &quot;fillColor&quot;: &quot;blue&quot;, &quot;fillOpacity&quot;: 0.2, &quot;fillRule&quot;: &quot;evenodd&quot;, &quot;lineCap&quot;: &quot;round&quot;, &quot;lineJoin&quot;: &quot;round&quot;, &quot;noClip&quot;: false, &quot;opacity&quot;: 1.0, &quot;smoothFactor&quot;: 1.0, &quot;stroke&quot;: true, &quot;weight&quot;: 0.5}\n",
              "            ).addTo(map_734f23706e7679e911e142422b54ff5c);\n",
              "        \n",
              "    \n",
              "            var poly_line_e215c08fbecb32e8359ca4948ec55764 = L.polyline(\n",
              "                [[37.745344449753865, -122.52361620862789], [37.745344449753865, -122.3483278940174]],\n",
              "                {&quot;bubblingMouseEvents&quot;: true, &quot;color&quot;: &quot;blue&quot;, &quot;dashArray&quot;: null, &quot;dashOffset&quot;: null, &quot;fill&quot;: false, &quot;fillColor&quot;: &quot;blue&quot;, &quot;fillOpacity&quot;: 0.2, &quot;fillRule&quot;: &quot;evenodd&quot;, &quot;lineCap&quot;: &quot;round&quot;, &quot;lineJoin&quot;: &quot;round&quot;, &quot;noClip&quot;: false, &quot;opacity&quot;: 1.0, &quot;smoothFactor&quot;: 1.0, &quot;stroke&quot;: true, &quot;weight&quot;: 0.5}\n",
              "            ).addTo(map_734f23706e7679e911e142422b54ff5c);\n",
              "        \n",
              "    \n",
              "            var poly_line_9420b130908f5d8d8424579c33dce1da = L.polyline(\n",
              "                [[37.75007032182834, -122.52361620862789], [37.75007032182834, -122.3483278940174]],\n",
              "                {&quot;bubblingMouseEvents&quot;: true, &quot;color&quot;: &quot;blue&quot;, &quot;dashArray&quot;: null, &quot;dashOffset&quot;: null, &quot;fill&quot;: false, &quot;fillColor&quot;: &quot;blue&quot;, &quot;fillOpacity&quot;: 0.2, &quot;fillRule&quot;: &quot;evenodd&quot;, &quot;lineCap&quot;: &quot;round&quot;, &quot;lineJoin&quot;: &quot;round&quot;, &quot;noClip&quot;: false, &quot;opacity&quot;: 1.0, &quot;smoothFactor&quot;: 1.0, &quot;stroke&quot;: true, &quot;weight&quot;: 0.5}\n",
              "            ).addTo(map_734f23706e7679e911e142422b54ff5c);\n",
              "        \n",
              "    \n",
              "            var poly_line_85b006b2de3ba9f02794a1ca8f813812 = L.polyline(\n",
              "                [[37.75479619390282, -122.52361620862789], [37.75479619390282, -122.3483278940174]],\n",
              "                {&quot;bubblingMouseEvents&quot;: true, &quot;color&quot;: &quot;blue&quot;, &quot;dashArray&quot;: null, &quot;dashOffset&quot;: null, &quot;fill&quot;: false, &quot;fillColor&quot;: &quot;blue&quot;, &quot;fillOpacity&quot;: 0.2, &quot;fillRule&quot;: &quot;evenodd&quot;, &quot;lineCap&quot;: &quot;round&quot;, &quot;lineJoin&quot;: &quot;round&quot;, &quot;noClip&quot;: false, &quot;opacity&quot;: 1.0, &quot;smoothFactor&quot;: 1.0, &quot;stroke&quot;: true, &quot;weight&quot;: 0.5}\n",
              "            ).addTo(map_734f23706e7679e911e142422b54ff5c);\n",
              "        \n",
              "    \n",
              "            var poly_line_9e67e4fee5d5405a413740e04dc15a3f = L.polyline(\n",
              "                [[37.7595220659773, -122.52361620862789], [37.7595220659773, -122.3483278940174]],\n",
              "                {&quot;bubblingMouseEvents&quot;: true, &quot;color&quot;: &quot;blue&quot;, &quot;dashArray&quot;: null, &quot;dashOffset&quot;: null, &quot;fill&quot;: false, &quot;fillColor&quot;: &quot;blue&quot;, &quot;fillOpacity&quot;: 0.2, &quot;fillRule&quot;: &quot;evenodd&quot;, &quot;lineCap&quot;: &quot;round&quot;, &quot;lineJoin&quot;: &quot;round&quot;, &quot;noClip&quot;: false, &quot;opacity&quot;: 1.0, &quot;smoothFactor&quot;: 1.0, &quot;stroke&quot;: true, &quot;weight&quot;: 0.5}\n",
              "            ).addTo(map_734f23706e7679e911e142422b54ff5c);\n",
              "        \n",
              "    \n",
              "            var poly_line_b352f70f0570ffbda32621a24ffc9775 = L.polyline(\n",
              "                [[37.764247938051774, -122.52361620862789], [37.764247938051774, -122.3483278940174]],\n",
              "                {&quot;bubblingMouseEvents&quot;: true, &quot;color&quot;: &quot;blue&quot;, &quot;dashArray&quot;: null, &quot;dashOffset&quot;: null, &quot;fill&quot;: false, &quot;fillColor&quot;: &quot;blue&quot;, &quot;fillOpacity&quot;: 0.2, &quot;fillRule&quot;: &quot;evenodd&quot;, &quot;lineCap&quot;: &quot;round&quot;, &quot;lineJoin&quot;: &quot;round&quot;, &quot;noClip&quot;: false, &quot;opacity&quot;: 1.0, &quot;smoothFactor&quot;: 1.0, &quot;stroke&quot;: true, &quot;weight&quot;: 0.5}\n",
              "            ).addTo(map_734f23706e7679e911e142422b54ff5c);\n",
              "        \n",
              "    \n",
              "            var poly_line_0959ccf66641d686a0905438cecb78c0 = L.polyline(\n",
              "                [[37.768973810126255, -122.52361620862789], [37.768973810126255, -122.3483278940174]],\n",
              "                {&quot;bubblingMouseEvents&quot;: true, &quot;color&quot;: &quot;blue&quot;, &quot;dashArray&quot;: null, &quot;dashOffset&quot;: null, &quot;fill&quot;: false, &quot;fillColor&quot;: &quot;blue&quot;, &quot;fillOpacity&quot;: 0.2, &quot;fillRule&quot;: &quot;evenodd&quot;, &quot;lineCap&quot;: &quot;round&quot;, &quot;lineJoin&quot;: &quot;round&quot;, &quot;noClip&quot;: false, &quot;opacity&quot;: 1.0, &quot;smoothFactor&quot;: 1.0, &quot;stroke&quot;: true, &quot;weight&quot;: 0.5}\n",
              "            ).addTo(map_734f23706e7679e911e142422b54ff5c);\n",
              "        \n",
              "    \n",
              "            var poly_line_7f7e37aa36e6d55292455d88b7b3aedd = L.polyline(\n",
              "                [[37.773699682200736, -122.52361620862789], [37.773699682200736, -122.3483278940174]],\n",
              "                {&quot;bubblingMouseEvents&quot;: true, &quot;color&quot;: &quot;blue&quot;, &quot;dashArray&quot;: null, &quot;dashOffset&quot;: null, &quot;fill&quot;: false, &quot;fillColor&quot;: &quot;blue&quot;, &quot;fillOpacity&quot;: 0.2, &quot;fillRule&quot;: &quot;evenodd&quot;, &quot;lineCap&quot;: &quot;round&quot;, &quot;lineJoin&quot;: &quot;round&quot;, &quot;noClip&quot;: false, &quot;opacity&quot;: 1.0, &quot;smoothFactor&quot;: 1.0, &quot;stroke&quot;: true, &quot;weight&quot;: 0.5}\n",
              "            ).addTo(map_734f23706e7679e911e142422b54ff5c);\n",
              "        \n",
              "    \n",
              "            var poly_line_ddb98b95582ece84426885820afd5d43 = L.polyline(\n",
              "                [[37.77842555427521, -122.52361620862789], [37.77842555427521, -122.3483278940174]],\n",
              "                {&quot;bubblingMouseEvents&quot;: true, &quot;color&quot;: &quot;blue&quot;, &quot;dashArray&quot;: null, &quot;dashOffset&quot;: null, &quot;fill&quot;: false, &quot;fillColor&quot;: &quot;blue&quot;, &quot;fillOpacity&quot;: 0.2, &quot;fillRule&quot;: &quot;evenodd&quot;, &quot;lineCap&quot;: &quot;round&quot;, &quot;lineJoin&quot;: &quot;round&quot;, &quot;noClip&quot;: false, &quot;opacity&quot;: 1.0, &quot;smoothFactor&quot;: 1.0, &quot;stroke&quot;: true, &quot;weight&quot;: 0.5}\n",
              "            ).addTo(map_734f23706e7679e911e142422b54ff5c);\n",
              "        \n",
              "    \n",
              "            var poly_line_1ae8f0e1a3fea61dfbe70def49a6bbb7 = L.polyline(\n",
              "                [[37.78315142634969, -122.52361620862789], [37.78315142634969, -122.3483278940174]],\n",
              "                {&quot;bubblingMouseEvents&quot;: true, &quot;color&quot;: &quot;blue&quot;, &quot;dashArray&quot;: null, &quot;dashOffset&quot;: null, &quot;fill&quot;: false, &quot;fillColor&quot;: &quot;blue&quot;, &quot;fillOpacity&quot;: 0.2, &quot;fillRule&quot;: &quot;evenodd&quot;, &quot;lineCap&quot;: &quot;round&quot;, &quot;lineJoin&quot;: &quot;round&quot;, &quot;noClip&quot;: false, &quot;opacity&quot;: 1.0, &quot;smoothFactor&quot;: 1.0, &quot;stroke&quot;: true, &quot;weight&quot;: 0.5}\n",
              "            ).addTo(map_734f23706e7679e911e142422b54ff5c);\n",
              "        \n",
              "    \n",
              "            var poly_line_de6b7fe6a59664112c369686f9b568f7 = L.polyline(\n",
              "                [[37.78787729842417, -122.52361620862789], [37.78787729842417, -122.3483278940174]],\n",
              "                {&quot;bubblingMouseEvents&quot;: true, &quot;color&quot;: &quot;blue&quot;, &quot;dashArray&quot;: null, &quot;dashOffset&quot;: null, &quot;fill&quot;: false, &quot;fillColor&quot;: &quot;blue&quot;, &quot;fillOpacity&quot;: 0.2, &quot;fillRule&quot;: &quot;evenodd&quot;, &quot;lineCap&quot;: &quot;round&quot;, &quot;lineJoin&quot;: &quot;round&quot;, &quot;noClip&quot;: false, &quot;opacity&quot;: 1.0, &quot;smoothFactor&quot;: 1.0, &quot;stroke&quot;: true, &quot;weight&quot;: 0.5}\n",
              "            ).addTo(map_734f23706e7679e911e142422b54ff5c);\n",
              "        \n",
              "    \n",
              "            var poly_line_2091d941e6ef9c9a3df3f274909f8600 = L.polyline(\n",
              "                [[37.792603170498644, -122.52361620862789], [37.792603170498644, -122.3483278940174]],\n",
              "                {&quot;bubblingMouseEvents&quot;: true, &quot;color&quot;: &quot;blue&quot;, &quot;dashArray&quot;: null, &quot;dashOffset&quot;: null, &quot;fill&quot;: false, &quot;fillColor&quot;: &quot;blue&quot;, &quot;fillOpacity&quot;: 0.2, &quot;fillRule&quot;: &quot;evenodd&quot;, &quot;lineCap&quot;: &quot;round&quot;, &quot;lineJoin&quot;: &quot;round&quot;, &quot;noClip&quot;: false, &quot;opacity&quot;: 1.0, &quot;smoothFactor&quot;: 1.0, &quot;stroke&quot;: true, &quot;weight&quot;: 0.5}\n",
              "            ).addTo(map_734f23706e7679e911e142422b54ff5c);\n",
              "        \n",
              "    \n",
              "            var poly_line_a70126ffa8d31045166c1332bb73c857 = L.polyline(\n",
              "                [[37.797329042573125, -122.52361620862789], [37.797329042573125, -122.3483278940174]],\n",
              "                {&quot;bubblingMouseEvents&quot;: true, &quot;color&quot;: &quot;blue&quot;, &quot;dashArray&quot;: null, &quot;dashOffset&quot;: null, &quot;fill&quot;: false, &quot;fillColor&quot;: &quot;blue&quot;, &quot;fillOpacity&quot;: 0.2, &quot;fillRule&quot;: &quot;evenodd&quot;, &quot;lineCap&quot;: &quot;round&quot;, &quot;lineJoin&quot;: &quot;round&quot;, &quot;noClip&quot;: false, &quot;opacity&quot;: 1.0, &quot;smoothFactor&quot;: 1.0, &quot;stroke&quot;: true, &quot;weight&quot;: 0.5}\n",
              "            ).addTo(map_734f23706e7679e911e142422b54ff5c);\n",
              "        \n",
              "    \n",
              "            var poly_line_08ea561d886d49d7fbcc4179eae91a5b = L.polyline(\n",
              "                [[37.802054914647606, -122.52361620862789], [37.802054914647606, -122.3483278940174]],\n",
              "                {&quot;bubblingMouseEvents&quot;: true, &quot;color&quot;: &quot;blue&quot;, &quot;dashArray&quot;: null, &quot;dashOffset&quot;: null, &quot;fill&quot;: false, &quot;fillColor&quot;: &quot;blue&quot;, &quot;fillOpacity&quot;: 0.2, &quot;fillRule&quot;: &quot;evenodd&quot;, &quot;lineCap&quot;: &quot;round&quot;, &quot;lineJoin&quot;: &quot;round&quot;, &quot;noClip&quot;: false, &quot;opacity&quot;: 1.0, &quot;smoothFactor&quot;: 1.0, &quot;stroke&quot;: true, &quot;weight&quot;: 0.5}\n",
              "            ).addTo(map_734f23706e7679e911e142422b54ff5c);\n",
              "        \n",
              "    \n",
              "            var poly_line_c0aafe985cafe3b94e4858f4f57739b8 = L.polyline(\n",
              "                [[37.80678078672208, -122.52361620862789], [37.80678078672208, -122.3483278940174]],\n",
              "                {&quot;bubblingMouseEvents&quot;: true, &quot;color&quot;: &quot;blue&quot;, &quot;dashArray&quot;: null, &quot;dashOffset&quot;: null, &quot;fill&quot;: false, &quot;fillColor&quot;: &quot;blue&quot;, &quot;fillOpacity&quot;: 0.2, &quot;fillRule&quot;: &quot;evenodd&quot;, &quot;lineCap&quot;: &quot;round&quot;, &quot;lineJoin&quot;: &quot;round&quot;, &quot;noClip&quot;: false, &quot;opacity&quot;: 1.0, &quot;smoothFactor&quot;: 1.0, &quot;stroke&quot;: true, &quot;weight&quot;: 0.5}\n",
              "            ).addTo(map_734f23706e7679e911e142422b54ff5c);\n",
              "        \n",
              "    \n",
              "            var poly_line_20602fa4cc2cceb1f6bbae4032a39a8c = L.polyline(\n",
              "                [[37.81150665879656, -122.52361620862789], [37.81150665879656, -122.3483278940174]],\n",
              "                {&quot;bubblingMouseEvents&quot;: true, &quot;color&quot;: &quot;blue&quot;, &quot;dashArray&quot;: null, &quot;dashOffset&quot;: null, &quot;fill&quot;: false, &quot;fillColor&quot;: &quot;blue&quot;, &quot;fillOpacity&quot;: 0.2, &quot;fillRule&quot;: &quot;evenodd&quot;, &quot;lineCap&quot;: &quot;round&quot;, &quot;lineJoin&quot;: &quot;round&quot;, &quot;noClip&quot;: false, &quot;opacity&quot;: 1.0, &quot;smoothFactor&quot;: 1.0, &quot;stroke&quot;: true, &quot;weight&quot;: 0.5}\n",
              "            ).addTo(map_734f23706e7679e911e142422b54ff5c);\n",
              "        \n",
              "    \n",
              "            var poly_line_5d5c34a7e13dde2e4e1666c344257461 = L.polyline(\n",
              "                [[37.81623253087104, -122.52361620862789], [37.81623253087104, -122.3483278940174]],\n",
              "                {&quot;bubblingMouseEvents&quot;: true, &quot;color&quot;: &quot;blue&quot;, &quot;dashArray&quot;: null, &quot;dashOffset&quot;: null, &quot;fill&quot;: false, &quot;fillColor&quot;: &quot;blue&quot;, &quot;fillOpacity&quot;: 0.2, &quot;fillRule&quot;: &quot;evenodd&quot;, &quot;lineCap&quot;: &quot;round&quot;, &quot;lineJoin&quot;: &quot;round&quot;, &quot;noClip&quot;: false, &quot;opacity&quot;: 1.0, &quot;smoothFactor&quot;: 1.0, &quot;stroke&quot;: true, &quot;weight&quot;: 0.5}\n",
              "            ).addTo(map_734f23706e7679e911e142422b54ff5c);\n",
              "        \n",
              "    \n",
              "            var poly_line_a7eaf89717e5865d706ef434be7c7b64 = L.polyline(\n",
              "                [[37.820958402945514, -122.52361620862789], [37.820958402945514, -122.3483278940174]],\n",
              "                {&quot;bubblingMouseEvents&quot;: true, &quot;color&quot;: &quot;blue&quot;, &quot;dashArray&quot;: null, &quot;dashOffset&quot;: null, &quot;fill&quot;: false, &quot;fillColor&quot;: &quot;blue&quot;, &quot;fillOpacity&quot;: 0.2, &quot;fillRule&quot;: &quot;evenodd&quot;, &quot;lineCap&quot;: &quot;round&quot;, &quot;lineJoin&quot;: &quot;round&quot;, &quot;noClip&quot;: false, &quot;opacity&quot;: 1.0, &quot;smoothFactor&quot;: 1.0, &quot;stroke&quot;: true, &quot;weight&quot;: 0.5}\n",
              "            ).addTo(map_734f23706e7679e911e142422b54ff5c);\n",
              "        \n",
              "    \n",
              "            var poly_line_1f498bd14f7110e77f93d9d46894120b = L.polyline(\n",
              "                [[37.825684275019995, -122.52361620862789], [37.825684275019995, -122.3483278940174]],\n",
              "                {&quot;bubblingMouseEvents&quot;: true, &quot;color&quot;: &quot;blue&quot;, &quot;dashArray&quot;: null, &quot;dashOffset&quot;: null, &quot;fill&quot;: false, &quot;fillColor&quot;: &quot;blue&quot;, &quot;fillOpacity&quot;: 0.2, &quot;fillRule&quot;: &quot;evenodd&quot;, &quot;lineCap&quot;: &quot;round&quot;, &quot;lineJoin&quot;: &quot;round&quot;, &quot;noClip&quot;: false, &quot;opacity&quot;: 1.0, &quot;smoothFactor&quot;: 1.0, &quot;stroke&quot;: true, &quot;weight&quot;: 0.5}\n",
              "            ).addTo(map_734f23706e7679e911e142422b54ff5c);\n",
              "        \n",
              "    \n",
              "            var poly_line_54136c406301692e1336cdb243caf680 = L.polyline(\n",
              "                [[37.830410147094476, -122.52361620862789], [37.830410147094476, -122.3483278940174]],\n",
              "                {&quot;bubblingMouseEvents&quot;: true, &quot;color&quot;: &quot;blue&quot;, &quot;dashArray&quot;: null, &quot;dashOffset&quot;: null, &quot;fill&quot;: false, &quot;fillColor&quot;: &quot;blue&quot;, &quot;fillOpacity&quot;: 0.2, &quot;fillRule&quot;: &quot;evenodd&quot;, &quot;lineCap&quot;: &quot;round&quot;, &quot;lineJoin&quot;: &quot;round&quot;, &quot;noClip&quot;: false, &quot;opacity&quot;: 1.0, &quot;smoothFactor&quot;: 1.0, &quot;stroke&quot;: true, &quot;weight&quot;: 0.5}\n",
              "            ).addTo(map_734f23706e7679e911e142422b54ff5c);\n",
              "        \n",
              "    \n",
              "            var poly_line_791002e239acf3f5b0398649aab242c5 = L.polyline(\n",
              "                [[37.83513601916895, -122.52361620862789], [37.83513601916895, -122.3483278940174]],\n",
              "                {&quot;bubblingMouseEvents&quot;: true, &quot;color&quot;: &quot;blue&quot;, &quot;dashArray&quot;: null, &quot;dashOffset&quot;: null, &quot;fill&quot;: false, &quot;fillColor&quot;: &quot;blue&quot;, &quot;fillOpacity&quot;: 0.2, &quot;fillRule&quot;: &quot;evenodd&quot;, &quot;lineCap&quot;: &quot;round&quot;, &quot;lineJoin&quot;: &quot;round&quot;, &quot;noClip&quot;: false, &quot;opacity&quot;: 1.0, &quot;smoothFactor&quot;: 1.0, &quot;stroke&quot;: true, &quot;weight&quot;: 0.5}\n",
              "            ).addTo(map_734f23706e7679e911e142422b54ff5c);\n",
              "        \n",
              "    \n",
              "            var poly_line_1b6ad48b03164ca628b4715c29a97864 = L.polyline(\n",
              "                [[37.83986189124343, -122.52361620862789], [37.83986189124343, -122.3483278940174]],\n",
              "                {&quot;bubblingMouseEvents&quot;: true, &quot;color&quot;: &quot;blue&quot;, &quot;dashArray&quot;: null, &quot;dashOffset&quot;: null, &quot;fill&quot;: false, &quot;fillColor&quot;: &quot;blue&quot;, &quot;fillOpacity&quot;: 0.2, &quot;fillRule&quot;: &quot;evenodd&quot;, &quot;lineCap&quot;: &quot;round&quot;, &quot;lineJoin&quot;: &quot;round&quot;, &quot;noClip&quot;: false, &quot;opacity&quot;: 1.0, &quot;smoothFactor&quot;: 1.0, &quot;stroke&quot;: true, &quot;weight&quot;: 0.5}\n",
              "            ).addTo(map_734f23706e7679e911e142422b54ff5c);\n",
              "        \n",
              "    \n",
              "            var poly_line_68b0504287245489c5c7a1527e511641 = L.polyline(\n",
              "                [[37.69808572900908, -122.52361620862789], [37.83986189124343, -122.52361620862789]],\n",
              "                {&quot;bubblingMouseEvents&quot;: true, &quot;color&quot;: &quot;blue&quot;, &quot;dashArray&quot;: null, &quot;dashOffset&quot;: null, &quot;fill&quot;: false, &quot;fillColor&quot;: &quot;blue&quot;, &quot;fillOpacity&quot;: 0.2, &quot;fillRule&quot;: &quot;evenodd&quot;, &quot;lineCap&quot;: &quot;round&quot;, &quot;lineJoin&quot;: &quot;round&quot;, &quot;noClip&quot;: false, &quot;opacity&quot;: 1.0, &quot;smoothFactor&quot;: 1.0, &quot;stroke&quot;: true, &quot;weight&quot;: 0.5}\n",
              "            ).addTo(map_734f23706e7679e911e142422b54ff5c);\n",
              "        \n",
              "    \n",
              "            var poly_line_f61431af457c145948cf5b127dbecdaf = L.polyline(\n",
              "                [[37.69808572900908, -122.51777326480753], [37.83986189124343, -122.51777326480753]],\n",
              "                {&quot;bubblingMouseEvents&quot;: true, &quot;color&quot;: &quot;blue&quot;, &quot;dashArray&quot;: null, &quot;dashOffset&quot;: null, &quot;fill&quot;: false, &quot;fillColor&quot;: &quot;blue&quot;, &quot;fillOpacity&quot;: 0.2, &quot;fillRule&quot;: &quot;evenodd&quot;, &quot;lineCap&quot;: &quot;round&quot;, &quot;lineJoin&quot;: &quot;round&quot;, &quot;noClip&quot;: false, &quot;opacity&quot;: 1.0, &quot;smoothFactor&quot;: 1.0, &quot;stroke&quot;: true, &quot;weight&quot;: 0.5}\n",
              "            ).addTo(map_734f23706e7679e911e142422b54ff5c);\n",
              "        \n",
              "    \n",
              "            var poly_line_d6374c11c6be79e01bb583ea6dfa6be0 = L.polyline(\n",
              "                [[37.69808572900908, -122.51193032098719], [37.83986189124343, -122.51193032098719]],\n",
              "                {&quot;bubblingMouseEvents&quot;: true, &quot;color&quot;: &quot;blue&quot;, &quot;dashArray&quot;: null, &quot;dashOffset&quot;: null, &quot;fill&quot;: false, &quot;fillColor&quot;: &quot;blue&quot;, &quot;fillOpacity&quot;: 0.2, &quot;fillRule&quot;: &quot;evenodd&quot;, &quot;lineCap&quot;: &quot;round&quot;, &quot;lineJoin&quot;: &quot;round&quot;, &quot;noClip&quot;: false, &quot;opacity&quot;: 1.0, &quot;smoothFactor&quot;: 1.0, &quot;stroke&quot;: true, &quot;weight&quot;: 0.5}\n",
              "            ).addTo(map_734f23706e7679e911e142422b54ff5c);\n",
              "        \n",
              "    \n",
              "            var poly_line_26ecd08d8f97c4e42e1d36ad1d901231 = L.polyline(\n",
              "                [[37.69808572900908, -122.50608737716684], [37.83986189124343, -122.50608737716684]],\n",
              "                {&quot;bubblingMouseEvents&quot;: true, &quot;color&quot;: &quot;blue&quot;, &quot;dashArray&quot;: null, &quot;dashOffset&quot;: null, &quot;fill&quot;: false, &quot;fillColor&quot;: &quot;blue&quot;, &quot;fillOpacity&quot;: 0.2, &quot;fillRule&quot;: &quot;evenodd&quot;, &quot;lineCap&quot;: &quot;round&quot;, &quot;lineJoin&quot;: &quot;round&quot;, &quot;noClip&quot;: false, &quot;opacity&quot;: 1.0, &quot;smoothFactor&quot;: 1.0, &quot;stroke&quot;: true, &quot;weight&quot;: 0.5}\n",
              "            ).addTo(map_734f23706e7679e911e142422b54ff5c);\n",
              "        \n",
              "    \n",
              "            var poly_line_37db2d1c01d01ca7e5525617704c15be = L.polyline(\n",
              "                [[37.69808572900908, -122.50024443334648], [37.83986189124343, -122.50024443334648]],\n",
              "                {&quot;bubblingMouseEvents&quot;: true, &quot;color&quot;: &quot;blue&quot;, &quot;dashArray&quot;: null, &quot;dashOffset&quot;: null, &quot;fill&quot;: false, &quot;fillColor&quot;: &quot;blue&quot;, &quot;fillOpacity&quot;: 0.2, &quot;fillRule&quot;: &quot;evenodd&quot;, &quot;lineCap&quot;: &quot;round&quot;, &quot;lineJoin&quot;: &quot;round&quot;, &quot;noClip&quot;: false, &quot;opacity&quot;: 1.0, &quot;smoothFactor&quot;: 1.0, &quot;stroke&quot;: true, &quot;weight&quot;: 0.5}\n",
              "            ).addTo(map_734f23706e7679e911e142422b54ff5c);\n",
              "        \n",
              "    \n",
              "            var poly_line_c7202043e25011bf79d2bfa646ef7854 = L.polyline(\n",
              "                [[37.69808572900908, -122.49440148952614], [37.83986189124343, -122.49440148952614]],\n",
              "                {&quot;bubblingMouseEvents&quot;: true, &quot;color&quot;: &quot;blue&quot;, &quot;dashArray&quot;: null, &quot;dashOffset&quot;: null, &quot;fill&quot;: false, &quot;fillColor&quot;: &quot;blue&quot;, &quot;fillOpacity&quot;: 0.2, &quot;fillRule&quot;: &quot;evenodd&quot;, &quot;lineCap&quot;: &quot;round&quot;, &quot;lineJoin&quot;: &quot;round&quot;, &quot;noClip&quot;: false, &quot;opacity&quot;: 1.0, &quot;smoothFactor&quot;: 1.0, &quot;stroke&quot;: true, &quot;weight&quot;: 0.5}\n",
              "            ).addTo(map_734f23706e7679e911e142422b54ff5c);\n",
              "        \n",
              "    \n",
              "            var poly_line_587104c691124541c7bc2e204bc76259 = L.polyline(\n",
              "                [[37.69808572900908, -122.48855854570579], [37.83986189124343, -122.48855854570579]],\n",
              "                {&quot;bubblingMouseEvents&quot;: true, &quot;color&quot;: &quot;blue&quot;, &quot;dashArray&quot;: null, &quot;dashOffset&quot;: null, &quot;fill&quot;: false, &quot;fillColor&quot;: &quot;blue&quot;, &quot;fillOpacity&quot;: 0.2, &quot;fillRule&quot;: &quot;evenodd&quot;, &quot;lineCap&quot;: &quot;round&quot;, &quot;lineJoin&quot;: &quot;round&quot;, &quot;noClip&quot;: false, &quot;opacity&quot;: 1.0, &quot;smoothFactor&quot;: 1.0, &quot;stroke&quot;: true, &quot;weight&quot;: 0.5}\n",
              "            ).addTo(map_734f23706e7679e911e142422b54ff5c);\n",
              "        \n",
              "    \n",
              "            var poly_line_6b18ce742a837479075fdf0454763f27 = L.polyline(\n",
              "                [[37.69808572900908, -122.48271560188545], [37.83986189124343, -122.48271560188545]],\n",
              "                {&quot;bubblingMouseEvents&quot;: true, &quot;color&quot;: &quot;blue&quot;, &quot;dashArray&quot;: null, &quot;dashOffset&quot;: null, &quot;fill&quot;: false, &quot;fillColor&quot;: &quot;blue&quot;, &quot;fillOpacity&quot;: 0.2, &quot;fillRule&quot;: &quot;evenodd&quot;, &quot;lineCap&quot;: &quot;round&quot;, &quot;lineJoin&quot;: &quot;round&quot;, &quot;noClip&quot;: false, &quot;opacity&quot;: 1.0, &quot;smoothFactor&quot;: 1.0, &quot;stroke&quot;: true, &quot;weight&quot;: 0.5}\n",
              "            ).addTo(map_734f23706e7679e911e142422b54ff5c);\n",
              "        \n",
              "    \n",
              "            var poly_line_6f0a0ca5be0ca6d3c3eb007b49a4831a = L.polyline(\n",
              "                [[37.69808572900908, -122.47687265806509], [37.83986189124343, -122.47687265806509]],\n",
              "                {&quot;bubblingMouseEvents&quot;: true, &quot;color&quot;: &quot;blue&quot;, &quot;dashArray&quot;: null, &quot;dashOffset&quot;: null, &quot;fill&quot;: false, &quot;fillColor&quot;: &quot;blue&quot;, &quot;fillOpacity&quot;: 0.2, &quot;fillRule&quot;: &quot;evenodd&quot;, &quot;lineCap&quot;: &quot;round&quot;, &quot;lineJoin&quot;: &quot;round&quot;, &quot;noClip&quot;: false, &quot;opacity&quot;: 1.0, &quot;smoothFactor&quot;: 1.0, &quot;stroke&quot;: true, &quot;weight&quot;: 0.5}\n",
              "            ).addTo(map_734f23706e7679e911e142422b54ff5c);\n",
              "        \n",
              "    \n",
              "            var poly_line_6ff71dbdd2ae73f39c5c734219549bc5 = L.polyline(\n",
              "                [[37.69808572900908, -122.47102971424474], [37.83986189124343, -122.47102971424474]],\n",
              "                {&quot;bubblingMouseEvents&quot;: true, &quot;color&quot;: &quot;blue&quot;, &quot;dashArray&quot;: null, &quot;dashOffset&quot;: null, &quot;fill&quot;: false, &quot;fillColor&quot;: &quot;blue&quot;, &quot;fillOpacity&quot;: 0.2, &quot;fillRule&quot;: &quot;evenodd&quot;, &quot;lineCap&quot;: &quot;round&quot;, &quot;lineJoin&quot;: &quot;round&quot;, &quot;noClip&quot;: false, &quot;opacity&quot;: 1.0, &quot;smoothFactor&quot;: 1.0, &quot;stroke&quot;: true, &quot;weight&quot;: 0.5}\n",
              "            ).addTo(map_734f23706e7679e911e142422b54ff5c);\n",
              "        \n",
              "    \n",
              "            var poly_line_68a616ad4b5267a23e245900fe945af5 = L.polyline(\n",
              "                [[37.69808572900908, -122.4651867704244], [37.83986189124343, -122.4651867704244]],\n",
              "                {&quot;bubblingMouseEvents&quot;: true, &quot;color&quot;: &quot;blue&quot;, &quot;dashArray&quot;: null, &quot;dashOffset&quot;: null, &quot;fill&quot;: false, &quot;fillColor&quot;: &quot;blue&quot;, &quot;fillOpacity&quot;: 0.2, &quot;fillRule&quot;: &quot;evenodd&quot;, &quot;lineCap&quot;: &quot;round&quot;, &quot;lineJoin&quot;: &quot;round&quot;, &quot;noClip&quot;: false, &quot;opacity&quot;: 1.0, &quot;smoothFactor&quot;: 1.0, &quot;stroke&quot;: true, &quot;weight&quot;: 0.5}\n",
              "            ).addTo(map_734f23706e7679e911e142422b54ff5c);\n",
              "        \n",
              "    \n",
              "            var poly_line_1a155f1d20910953bb758b498186f99a = L.polyline(\n",
              "                [[37.69808572900908, -122.45934382660404], [37.83986189124343, -122.45934382660404]],\n",
              "                {&quot;bubblingMouseEvents&quot;: true, &quot;color&quot;: &quot;blue&quot;, &quot;dashArray&quot;: null, &quot;dashOffset&quot;: null, &quot;fill&quot;: false, &quot;fillColor&quot;: &quot;blue&quot;, &quot;fillOpacity&quot;: 0.2, &quot;fillRule&quot;: &quot;evenodd&quot;, &quot;lineCap&quot;: &quot;round&quot;, &quot;lineJoin&quot;: &quot;round&quot;, &quot;noClip&quot;: false, &quot;opacity&quot;: 1.0, &quot;smoothFactor&quot;: 1.0, &quot;stroke&quot;: true, &quot;weight&quot;: 0.5}\n",
              "            ).addTo(map_734f23706e7679e911e142422b54ff5c);\n",
              "        \n",
              "    \n",
              "            var poly_line_d596a63acf6c91343d8b3945658306fa = L.polyline(\n",
              "                [[37.69808572900908, -122.45350088278369], [37.83986189124343, -122.45350088278369]],\n",
              "                {&quot;bubblingMouseEvents&quot;: true, &quot;color&quot;: &quot;blue&quot;, &quot;dashArray&quot;: null, &quot;dashOffset&quot;: null, &quot;fill&quot;: false, &quot;fillColor&quot;: &quot;blue&quot;, &quot;fillOpacity&quot;: 0.2, &quot;fillRule&quot;: &quot;evenodd&quot;, &quot;lineCap&quot;: &quot;round&quot;, &quot;lineJoin&quot;: &quot;round&quot;, &quot;noClip&quot;: false, &quot;opacity&quot;: 1.0, &quot;smoothFactor&quot;: 1.0, &quot;stroke&quot;: true, &quot;weight&quot;: 0.5}\n",
              "            ).addTo(map_734f23706e7679e911e142422b54ff5c);\n",
              "        \n",
              "    \n",
              "            var poly_line_16a2c04cb92216f5bdfffaedb891a640 = L.polyline(\n",
              "                [[37.69808572900908, -122.44765793896335], [37.83986189124343, -122.44765793896335]],\n",
              "                {&quot;bubblingMouseEvents&quot;: true, &quot;color&quot;: &quot;blue&quot;, &quot;dashArray&quot;: null, &quot;dashOffset&quot;: null, &quot;fill&quot;: false, &quot;fillColor&quot;: &quot;blue&quot;, &quot;fillOpacity&quot;: 0.2, &quot;fillRule&quot;: &quot;evenodd&quot;, &quot;lineCap&quot;: &quot;round&quot;, &quot;lineJoin&quot;: &quot;round&quot;, &quot;noClip&quot;: false, &quot;opacity&quot;: 1.0, &quot;smoothFactor&quot;: 1.0, &quot;stroke&quot;: true, &quot;weight&quot;: 0.5}\n",
              "            ).addTo(map_734f23706e7679e911e142422b54ff5c);\n",
              "        \n",
              "    \n",
              "            var poly_line_3a9e5fec1a6826e2b4ca80407ef647b0 = L.polyline(\n",
              "                [[37.69808572900908, -122.44181499514299], [37.83986189124343, -122.44181499514299]],\n",
              "                {&quot;bubblingMouseEvents&quot;: true, &quot;color&quot;: &quot;blue&quot;, &quot;dashArray&quot;: null, &quot;dashOffset&quot;: null, &quot;fill&quot;: false, &quot;fillColor&quot;: &quot;blue&quot;, &quot;fillOpacity&quot;: 0.2, &quot;fillRule&quot;: &quot;evenodd&quot;, &quot;lineCap&quot;: &quot;round&quot;, &quot;lineJoin&quot;: &quot;round&quot;, &quot;noClip&quot;: false, &quot;opacity&quot;: 1.0, &quot;smoothFactor&quot;: 1.0, &quot;stroke&quot;: true, &quot;weight&quot;: 0.5}\n",
              "            ).addTo(map_734f23706e7679e911e142422b54ff5c);\n",
              "        \n",
              "    \n",
              "            var poly_line_894501d62b55ab2874072d2ec0db4966 = L.polyline(\n",
              "                [[37.69808572900908, -122.43597205132264], [37.83986189124343, -122.43597205132264]],\n",
              "                {&quot;bubblingMouseEvents&quot;: true, &quot;color&quot;: &quot;blue&quot;, &quot;dashArray&quot;: null, &quot;dashOffset&quot;: null, &quot;fill&quot;: false, &quot;fillColor&quot;: &quot;blue&quot;, &quot;fillOpacity&quot;: 0.2, &quot;fillRule&quot;: &quot;evenodd&quot;, &quot;lineCap&quot;: &quot;round&quot;, &quot;lineJoin&quot;: &quot;round&quot;, &quot;noClip&quot;: false, &quot;opacity&quot;: 1.0, &quot;smoothFactor&quot;: 1.0, &quot;stroke&quot;: true, &quot;weight&quot;: 0.5}\n",
              "            ).addTo(map_734f23706e7679e911e142422b54ff5c);\n",
              "        \n",
              "    \n",
              "            var poly_line_9085b83bf49766b0ef4adf57bceb5bae = L.polyline(\n",
              "                [[37.69808572900908, -122.4301291075023], [37.83986189124343, -122.4301291075023]],\n",
              "                {&quot;bubblingMouseEvents&quot;: true, &quot;color&quot;: &quot;blue&quot;, &quot;dashArray&quot;: null, &quot;dashOffset&quot;: null, &quot;fill&quot;: false, &quot;fillColor&quot;: &quot;blue&quot;, &quot;fillOpacity&quot;: 0.2, &quot;fillRule&quot;: &quot;evenodd&quot;, &quot;lineCap&quot;: &quot;round&quot;, &quot;lineJoin&quot;: &quot;round&quot;, &quot;noClip&quot;: false, &quot;opacity&quot;: 1.0, &quot;smoothFactor&quot;: 1.0, &quot;stroke&quot;: true, &quot;weight&quot;: 0.5}\n",
              "            ).addTo(map_734f23706e7679e911e142422b54ff5c);\n",
              "        \n",
              "    \n",
              "            var poly_line_6e34aee6053a480492c1ff79910a0116 = L.polyline(\n",
              "                [[37.69808572900908, -122.42428616368194], [37.83986189124343, -122.42428616368194]],\n",
              "                {&quot;bubblingMouseEvents&quot;: true, &quot;color&quot;: &quot;blue&quot;, &quot;dashArray&quot;: null, &quot;dashOffset&quot;: null, &quot;fill&quot;: false, &quot;fillColor&quot;: &quot;blue&quot;, &quot;fillOpacity&quot;: 0.2, &quot;fillRule&quot;: &quot;evenodd&quot;, &quot;lineCap&quot;: &quot;round&quot;, &quot;lineJoin&quot;: &quot;round&quot;, &quot;noClip&quot;: false, &quot;opacity&quot;: 1.0, &quot;smoothFactor&quot;: 1.0, &quot;stroke&quot;: true, &quot;weight&quot;: 0.5}\n",
              "            ).addTo(map_734f23706e7679e911e142422b54ff5c);\n",
              "        \n",
              "    \n",
              "            var poly_line_fb6ebd1165449a7603d79840bcb5d70b = L.polyline(\n",
              "                [[37.69808572900908, -122.4184432198616], [37.83986189124343, -122.4184432198616]],\n",
              "                {&quot;bubblingMouseEvents&quot;: true, &quot;color&quot;: &quot;blue&quot;, &quot;dashArray&quot;: null, &quot;dashOffset&quot;: null, &quot;fill&quot;: false, &quot;fillColor&quot;: &quot;blue&quot;, &quot;fillOpacity&quot;: 0.2, &quot;fillRule&quot;: &quot;evenodd&quot;, &quot;lineCap&quot;: &quot;round&quot;, &quot;lineJoin&quot;: &quot;round&quot;, &quot;noClip&quot;: false, &quot;opacity&quot;: 1.0, &quot;smoothFactor&quot;: 1.0, &quot;stroke&quot;: true, &quot;weight&quot;: 0.5}\n",
              "            ).addTo(map_734f23706e7679e911e142422b54ff5c);\n",
              "        \n",
              "    \n",
              "            var poly_line_85ba3b9cb8cd8561815eaf08350e4bfd = L.polyline(\n",
              "                [[37.69808572900908, -122.41260027604125], [37.83986189124343, -122.41260027604125]],\n",
              "                {&quot;bubblingMouseEvents&quot;: true, &quot;color&quot;: &quot;blue&quot;, &quot;dashArray&quot;: null, &quot;dashOffset&quot;: null, &quot;fill&quot;: false, &quot;fillColor&quot;: &quot;blue&quot;, &quot;fillOpacity&quot;: 0.2, &quot;fillRule&quot;: &quot;evenodd&quot;, &quot;lineCap&quot;: &quot;round&quot;, &quot;lineJoin&quot;: &quot;round&quot;, &quot;noClip&quot;: false, &quot;opacity&quot;: 1.0, &quot;smoothFactor&quot;: 1.0, &quot;stroke&quot;: true, &quot;weight&quot;: 0.5}\n",
              "            ).addTo(map_734f23706e7679e911e142422b54ff5c);\n",
              "        \n",
              "    \n",
              "            var poly_line_d0ecf77f49ddba0fa9a67df795fbb947 = L.polyline(\n",
              "                [[37.69808572900908, -122.40675733222089], [37.83986189124343, -122.40675733222089]],\n",
              "                {&quot;bubblingMouseEvents&quot;: true, &quot;color&quot;: &quot;blue&quot;, &quot;dashArray&quot;: null, &quot;dashOffset&quot;: null, &quot;fill&quot;: false, &quot;fillColor&quot;: &quot;blue&quot;, &quot;fillOpacity&quot;: 0.2, &quot;fillRule&quot;: &quot;evenodd&quot;, &quot;lineCap&quot;: &quot;round&quot;, &quot;lineJoin&quot;: &quot;round&quot;, &quot;noClip&quot;: false, &quot;opacity&quot;: 1.0, &quot;smoothFactor&quot;: 1.0, &quot;stroke&quot;: true, &quot;weight&quot;: 0.5}\n",
              "            ).addTo(map_734f23706e7679e911e142422b54ff5c);\n",
              "        \n",
              "    \n",
              "            var poly_line_97692d8fd34c25c4240104640f706555 = L.polyline(\n",
              "                [[37.69808572900908, -122.40091438840055], [37.83986189124343, -122.40091438840055]],\n",
              "                {&quot;bubblingMouseEvents&quot;: true, &quot;color&quot;: &quot;blue&quot;, &quot;dashArray&quot;: null, &quot;dashOffset&quot;: null, &quot;fill&quot;: false, &quot;fillColor&quot;: &quot;blue&quot;, &quot;fillOpacity&quot;: 0.2, &quot;fillRule&quot;: &quot;evenodd&quot;, &quot;lineCap&quot;: &quot;round&quot;, &quot;lineJoin&quot;: &quot;round&quot;, &quot;noClip&quot;: false, &quot;opacity&quot;: 1.0, &quot;smoothFactor&quot;: 1.0, &quot;stroke&quot;: true, &quot;weight&quot;: 0.5}\n",
              "            ).addTo(map_734f23706e7679e911e142422b54ff5c);\n",
              "        \n",
              "    \n",
              "            var poly_line_88f0a24f533497b0c876aba48bb35d04 = L.polyline(\n",
              "                [[37.69808572900908, -122.3950714445802], [37.83986189124343, -122.3950714445802]],\n",
              "                {&quot;bubblingMouseEvents&quot;: true, &quot;color&quot;: &quot;blue&quot;, &quot;dashArray&quot;: null, &quot;dashOffset&quot;: null, &quot;fill&quot;: false, &quot;fillColor&quot;: &quot;blue&quot;, &quot;fillOpacity&quot;: 0.2, &quot;fillRule&quot;: &quot;evenodd&quot;, &quot;lineCap&quot;: &quot;round&quot;, &quot;lineJoin&quot;: &quot;round&quot;, &quot;noClip&quot;: false, &quot;opacity&quot;: 1.0, &quot;smoothFactor&quot;: 1.0, &quot;stroke&quot;: true, &quot;weight&quot;: 0.5}\n",
              "            ).addTo(map_734f23706e7679e911e142422b54ff5c);\n",
              "        \n",
              "    \n",
              "            var poly_line_047fa5a18677b794ec6b00d66d3d3f85 = L.polyline(\n",
              "                [[37.69808572900908, -122.38922850075984], [37.83986189124343, -122.38922850075984]],\n",
              "                {&quot;bubblingMouseEvents&quot;: true, &quot;color&quot;: &quot;blue&quot;, &quot;dashArray&quot;: null, &quot;dashOffset&quot;: null, &quot;fill&quot;: false, &quot;fillColor&quot;: &quot;blue&quot;, &quot;fillOpacity&quot;: 0.2, &quot;fillRule&quot;: &quot;evenodd&quot;, &quot;lineCap&quot;: &quot;round&quot;, &quot;lineJoin&quot;: &quot;round&quot;, &quot;noClip&quot;: false, &quot;opacity&quot;: 1.0, &quot;smoothFactor&quot;: 1.0, &quot;stroke&quot;: true, &quot;weight&quot;: 0.5}\n",
              "            ).addTo(map_734f23706e7679e911e142422b54ff5c);\n",
              "        \n",
              "    \n",
              "            var poly_line_7e9215a2cc58b364ef342bb3fe1fb0fa = L.polyline(\n",
              "                [[37.69808572900908, -122.3833855569395], [37.83986189124343, -122.3833855569395]],\n",
              "                {&quot;bubblingMouseEvents&quot;: true, &quot;color&quot;: &quot;blue&quot;, &quot;dashArray&quot;: null, &quot;dashOffset&quot;: null, &quot;fill&quot;: false, &quot;fillColor&quot;: &quot;blue&quot;, &quot;fillOpacity&quot;: 0.2, &quot;fillRule&quot;: &quot;evenodd&quot;, &quot;lineCap&quot;: &quot;round&quot;, &quot;lineJoin&quot;: &quot;round&quot;, &quot;noClip&quot;: false, &quot;opacity&quot;: 1.0, &quot;smoothFactor&quot;: 1.0, &quot;stroke&quot;: true, &quot;weight&quot;: 0.5}\n",
              "            ).addTo(map_734f23706e7679e911e142422b54ff5c);\n",
              "        \n",
              "    \n",
              "            var poly_line_e47ecd7536f260ab879d18974f7d5b64 = L.polyline(\n",
              "                [[37.69808572900908, -122.37754261311915], [37.83986189124343, -122.37754261311915]],\n",
              "                {&quot;bubblingMouseEvents&quot;: true, &quot;color&quot;: &quot;blue&quot;, &quot;dashArray&quot;: null, &quot;dashOffset&quot;: null, &quot;fill&quot;: false, &quot;fillColor&quot;: &quot;blue&quot;, &quot;fillOpacity&quot;: 0.2, &quot;fillRule&quot;: &quot;evenodd&quot;, &quot;lineCap&quot;: &quot;round&quot;, &quot;lineJoin&quot;: &quot;round&quot;, &quot;noClip&quot;: false, &quot;opacity&quot;: 1.0, &quot;smoothFactor&quot;: 1.0, &quot;stroke&quot;: true, &quot;weight&quot;: 0.5}\n",
              "            ).addTo(map_734f23706e7679e911e142422b54ff5c);\n",
              "        \n",
              "    \n",
              "            var poly_line_3fd240ca518740e7dfc2416e905b901f = L.polyline(\n",
              "                [[37.69808572900908, -122.3716996692988], [37.83986189124343, -122.3716996692988]],\n",
              "                {&quot;bubblingMouseEvents&quot;: true, &quot;color&quot;: &quot;blue&quot;, &quot;dashArray&quot;: null, &quot;dashOffset&quot;: null, &quot;fill&quot;: false, &quot;fillColor&quot;: &quot;blue&quot;, &quot;fillOpacity&quot;: 0.2, &quot;fillRule&quot;: &quot;evenodd&quot;, &quot;lineCap&quot;: &quot;round&quot;, &quot;lineJoin&quot;: &quot;round&quot;, &quot;noClip&quot;: false, &quot;opacity&quot;: 1.0, &quot;smoothFactor&quot;: 1.0, &quot;stroke&quot;: true, &quot;weight&quot;: 0.5}\n",
              "            ).addTo(map_734f23706e7679e911e142422b54ff5c);\n",
              "        \n",
              "    \n",
              "            var poly_line_bc423b8efcfdab781f36744956e902f0 = L.polyline(\n",
              "                [[37.69808572900908, -122.36585672547845], [37.83986189124343, -122.36585672547845]],\n",
              "                {&quot;bubblingMouseEvents&quot;: true, &quot;color&quot;: &quot;blue&quot;, &quot;dashArray&quot;: null, &quot;dashOffset&quot;: null, &quot;fill&quot;: false, &quot;fillColor&quot;: &quot;blue&quot;, &quot;fillOpacity&quot;: 0.2, &quot;fillRule&quot;: &quot;evenodd&quot;, &quot;lineCap&quot;: &quot;round&quot;, &quot;lineJoin&quot;: &quot;round&quot;, &quot;noClip&quot;: false, &quot;opacity&quot;: 1.0, &quot;smoothFactor&quot;: 1.0, &quot;stroke&quot;: true, &quot;weight&quot;: 0.5}\n",
              "            ).addTo(map_734f23706e7679e911e142422b54ff5c);\n",
              "        \n",
              "    \n",
              "            var poly_line_cf932c30b1bd36e9fb3578a1aa2ed77c = L.polyline(\n",
              "                [[37.69808572900908, -122.3600137816581], [37.83986189124343, -122.3600137816581]],\n",
              "                {&quot;bubblingMouseEvents&quot;: true, &quot;color&quot;: &quot;blue&quot;, &quot;dashArray&quot;: null, &quot;dashOffset&quot;: null, &quot;fill&quot;: false, &quot;fillColor&quot;: &quot;blue&quot;, &quot;fillOpacity&quot;: 0.2, &quot;fillRule&quot;: &quot;evenodd&quot;, &quot;lineCap&quot;: &quot;round&quot;, &quot;lineJoin&quot;: &quot;round&quot;, &quot;noClip&quot;: false, &quot;opacity&quot;: 1.0, &quot;smoothFactor&quot;: 1.0, &quot;stroke&quot;: true, &quot;weight&quot;: 0.5}\n",
              "            ).addTo(map_734f23706e7679e911e142422b54ff5c);\n",
              "        \n",
              "    \n",
              "            var poly_line_0f12e32d480f3fbac636f666a13d791e = L.polyline(\n",
              "                [[37.69808572900908, -122.35417083783776], [37.83986189124343, -122.35417083783776]],\n",
              "                {&quot;bubblingMouseEvents&quot;: true, &quot;color&quot;: &quot;blue&quot;, &quot;dashArray&quot;: null, &quot;dashOffset&quot;: null, &quot;fill&quot;: false, &quot;fillColor&quot;: &quot;blue&quot;, &quot;fillOpacity&quot;: 0.2, &quot;fillRule&quot;: &quot;evenodd&quot;, &quot;lineCap&quot;: &quot;round&quot;, &quot;lineJoin&quot;: &quot;round&quot;, &quot;noClip&quot;: false, &quot;opacity&quot;: 1.0, &quot;smoothFactor&quot;: 1.0, &quot;stroke&quot;: true, &quot;weight&quot;: 0.5}\n",
              "            ).addTo(map_734f23706e7679e911e142422b54ff5c);\n",
              "        \n",
              "    \n",
              "            var poly_line_379dd3dc1abc3baa26d7d84a662f1032 = L.polyline(\n",
              "                [[37.69808572900908, -122.3483278940174], [37.83986189124343, -122.3483278940174]],\n",
              "                {&quot;bubblingMouseEvents&quot;: true, &quot;color&quot;: &quot;blue&quot;, &quot;dashArray&quot;: null, &quot;dashOffset&quot;: null, &quot;fill&quot;: false, &quot;fillColor&quot;: &quot;blue&quot;, &quot;fillOpacity&quot;: 0.2, &quot;fillRule&quot;: &quot;evenodd&quot;, &quot;lineCap&quot;: &quot;round&quot;, &quot;lineJoin&quot;: &quot;round&quot;, &quot;noClip&quot;: false, &quot;opacity&quot;: 1.0, &quot;smoothFactor&quot;: 1.0, &quot;stroke&quot;: true, &quot;weight&quot;: 0.5}\n",
              "            ).addTo(map_734f23706e7679e911e142422b54ff5c);\n",
              "        \n",
              "&lt;/script&gt;\n",
              "&lt;/html&gt;\" style=\"position:absolute;width:100%;height:100%;left:0;top:0;border:none !important;\" allowfullscreen webkitallowfullscreen mozallowfullscreen></iframe></div></div>"
            ],
            "text/plain": [
              "<folium.folium.Map at 0x7bac75692c20>"
            ]
          },
          "execution_count": 838,
          "metadata": {},
          "output_type": "execute_result"
        }
      ],
      "source": [
        "import numpy as np\n",
        "\n",
        "# Generate 31 equally spaced points within the latitude and longitude ranges (30x30 grid)\n",
        "lat_values = np.linspace(min_lat, max_lat, 31)\n",
        "long_values = np.linspace(min_long, max_long, 31)\n",
        "\n",
        "# Center map\n",
        "mean_lat = np.mean(lat_values)\n",
        "mean_long = np.mean(long_values)\n",
        "m_grid = folium.Map(location=(mean_lat, mean_long), zoom_start=12, tiles='Cartodb Positron')\n",
        "\n",
        "# Horizontal grid lines\n",
        "for lat in lat_values:\n",
        "    polyline = [(lat, min_long), (lat, max_long)]\n",
        "    folium.PolyLine(locations=polyline, color='blue', weight = 0.5).add_to(m_grid)\n",
        "\n",
        "# Vertical grid lines\n",
        "for long in long_values:\n",
        "    polyline = [(min_lat, long), (max_lat, long)]\n",
        "    folium.PolyLine(locations=polyline, color='blue', weight = 0.5).add_to(m_grid)\n",
        "\n",
        "m_grid"
      ]
    },
    {
      "cell_type": "code",
      "execution_count": 839,
      "metadata": {
        "id": "VyR_noEx2dcZ"
      },
      "outputs": [],
      "source": [
        "grid_boundaries = []\n",
        "\n",
        "# Iterate through latitude values\n",
        "for i in range(len(lat_values) - 1):\n",
        "    lat1, lat2 = lat_values[i], lat_values[i + 1]\n",
        "    # Iterate through longitude values\n",
        "    for j in range(len(long_values) - 1):\n",
        "        long1, long2 = long_values[j], long_values[j + 1]\n",
        "        # Define the boundaries of the grid area\n",
        "        boundary = [(lat1, long1), (lat1, long2), (lat2, long2), (lat2, long1), (lat1, long1)]\n",
        "        # Append the boundary to the list\n",
        "        grid_boundaries.append(boundary)"
      ]
    },
    {
      "cell_type": "markdown",
      "metadata": {
        "id": "0NzpvpAPIBkA"
      },
      "source": [
        "# Preprocessing"
      ]
    },
    {
      "cell_type": "code",
      "execution_count": 840,
      "metadata": {
        "id": "zID8p9awAbUh"
      },
      "outputs": [],
      "source": [
        "selected_dates.dropna(subset = ['latitude', 'longitude', \"month\", \"day_of_week\"], inplace=True)\n",
        "selected_dates.drop(columns = ['collision_datetime'], inplace=True)"
      ]
    },
    {
      "cell_type": "markdown",
      "metadata": {
        "id": "cBWX4D-UIOjs"
      },
      "source": [
        "## Creating 30x30 matrices with the accident data assigned to its respective cell in the grid"
      ]
    },
    {
      "cell_type": "code",
      "execution_count": 841,
      "metadata": {
        "id": "-YMMNzrWiRcX"
      },
      "outputs": [],
      "source": [
        "# Group the accidents dataframe by 'collision_date'\n",
        "grouped_dates = selected_dates.groupby('collision_date')\n",
        "\n",
        "# Create a dataframe to store the input for each data\n",
        "start_date = datetime(2005, 1, 1)\n",
        "end_date = datetime(2014, 12, 31)\n",
        "one_day = timedelta(days=1)\n",
        "date_range = [start_date + timedelta(days=i) for i in range((end_date - start_date).days + 1)]\n",
        "input_numeric_data = pd.DataFrame(index=date_range, columns = ['dow', 'month', 'mintemp', 'maxtemp', 'avgtemp', 'precip'])\n",
        "matrices = pd.Series(index=date_range, dtype=object)"
      ]
    },
    {
      "cell_type": "code",
      "execution_count": 842,
      "metadata": {
        "colab": {
          "base_uri": "https://localhost:8080/",
          "height": 206
        },
        "id": "7BrQJCqGnUSq",
        "outputId": "111ef5b4-0f60-4795-b55d-0d73c7492baa"
      },
      "outputs": [
        {
          "data": {
            "application/vnd.google.colaboratory.intrinsic+json": {
              "repr_error": "0",
              "type": "dataframe",
              "variable_name": "selected_dates"
            },
            "text/html": [
              "\n",
              "  <div id=\"df-94d6b9e5-57c7-4aeb-b25e-7946c2282bb0\" class=\"colab-df-container\">\n",
              "    <div>\n",
              "<style scoped>\n",
              "    .dataframe tbody tr th:only-of-type {\n",
              "        vertical-align: middle;\n",
              "    }\n",
              "\n",
              "    .dataframe tbody tr th {\n",
              "        vertical-align: top;\n",
              "    }\n",
              "\n",
              "    .dataframe thead th {\n",
              "        text-align: right;\n",
              "    }\n",
              "</style>\n",
              "<table border=\"1\" class=\"dataframe\">\n",
              "  <thead>\n",
              "    <tr style=\"text-align: right;\">\n",
              "      <th></th>\n",
              "      <th>collision_date</th>\n",
              "      <th>accident_year</th>\n",
              "      <th>month</th>\n",
              "      <th>day_of_week</th>\n",
              "      <th>latitude</th>\n",
              "      <th>longitude</th>\n",
              "    </tr>\n",
              "  </thead>\n",
              "  <tbody>\n",
              "    <tr>\n",
              "      <th>12370</th>\n",
              "      <td>2005-01-01</td>\n",
              "      <td>2005</td>\n",
              "      <td>1</td>\n",
              "      <td>0.0</td>\n",
              "      <td>37.780656</td>\n",
              "      <td>-122.472312</td>\n",
              "    </tr>\n",
              "    <tr>\n",
              "      <th>31833</th>\n",
              "      <td>2005-01-01</td>\n",
              "      <td>2005</td>\n",
              "      <td>1</td>\n",
              "      <td>0.0</td>\n",
              "      <td>37.753914</td>\n",
              "      <td>-122.483887</td>\n",
              "    </tr>\n",
              "    <tr>\n",
              "      <th>34111</th>\n",
              "      <td>2005-01-01</td>\n",
              "      <td>2005</td>\n",
              "      <td>1</td>\n",
              "      <td>0.0</td>\n",
              "      <td>37.771054</td>\n",
              "      <td>-122.453902</td>\n",
              "    </tr>\n",
              "    <tr>\n",
              "      <th>26282</th>\n",
              "      <td>2005-01-01</td>\n",
              "      <td>2005</td>\n",
              "      <td>1</td>\n",
              "      <td>0.0</td>\n",
              "      <td>37.743397</td>\n",
              "      <td>-122.475726</td>\n",
              "    </tr>\n",
              "    <tr>\n",
              "      <th>25233</th>\n",
              "      <td>2005-01-01</td>\n",
              "      <td>2005</td>\n",
              "      <td>1</td>\n",
              "      <td>0.0</td>\n",
              "      <td>37.789452</td>\n",
              "      <td>-122.423832</td>\n",
              "    </tr>\n",
              "  </tbody>\n",
              "</table>\n",
              "</div>\n",
              "    <div class=\"colab-df-buttons\">\n",
              "\n",
              "  <div class=\"colab-df-container\">\n",
              "    <button class=\"colab-df-convert\" onclick=\"convertToInteractive('df-94d6b9e5-57c7-4aeb-b25e-7946c2282bb0')\"\n",
              "            title=\"Convert this dataframe to an interactive table.\"\n",
              "            style=\"display:none;\">\n",
              "\n",
              "  <svg xmlns=\"http://www.w3.org/2000/svg\" height=\"24px\" viewBox=\"0 -960 960 960\">\n",
              "    <path d=\"M120-120v-720h720v720H120Zm60-500h600v-160H180v160Zm220 220h160v-160H400v160Zm0 220h160v-160H400v160ZM180-400h160v-160H180v160Zm440 0h160v-160H620v160ZM180-180h160v-160H180v160Zm440 0h160v-160H620v160Z\"/>\n",
              "  </svg>\n",
              "    </button>\n",
              "\n",
              "  <style>\n",
              "    .colab-df-container {\n",
              "      display:flex;\n",
              "      gap: 12px;\n",
              "    }\n",
              "\n",
              "    .colab-df-convert {\n",
              "      background-color: #E8F0FE;\n",
              "      border: none;\n",
              "      border-radius: 50%;\n",
              "      cursor: pointer;\n",
              "      display: none;\n",
              "      fill: #1967D2;\n",
              "      height: 32px;\n",
              "      padding: 0 0 0 0;\n",
              "      width: 32px;\n",
              "    }\n",
              "\n",
              "    .colab-df-convert:hover {\n",
              "      background-color: #E2EBFA;\n",
              "      box-shadow: 0px 1px 2px rgba(60, 64, 67, 0.3), 0px 1px 3px 1px rgba(60, 64, 67, 0.15);\n",
              "      fill: #174EA6;\n",
              "    }\n",
              "\n",
              "    .colab-df-buttons div {\n",
              "      margin-bottom: 4px;\n",
              "    }\n",
              "\n",
              "    [theme=dark] .colab-df-convert {\n",
              "      background-color: #3B4455;\n",
              "      fill: #D2E3FC;\n",
              "    }\n",
              "\n",
              "    [theme=dark] .colab-df-convert:hover {\n",
              "      background-color: #434B5C;\n",
              "      box-shadow: 0px 1px 3px 1px rgba(0, 0, 0, 0.15);\n",
              "      filter: drop-shadow(0px 1px 2px rgba(0, 0, 0, 0.3));\n",
              "      fill: #FFFFFF;\n",
              "    }\n",
              "  </style>\n",
              "\n",
              "    <script>\n",
              "      const buttonEl =\n",
              "        document.querySelector('#df-94d6b9e5-57c7-4aeb-b25e-7946c2282bb0 button.colab-df-convert');\n",
              "      buttonEl.style.display =\n",
              "        google.colab.kernel.accessAllowed ? 'block' : 'none';\n",
              "\n",
              "      async function convertToInteractive(key) {\n",
              "        const element = document.querySelector('#df-94d6b9e5-57c7-4aeb-b25e-7946c2282bb0');\n",
              "        const dataTable =\n",
              "          await google.colab.kernel.invokeFunction('convertToInteractive',\n",
              "                                                    [key], {});\n",
              "        if (!dataTable) return;\n",
              "\n",
              "        const docLinkHtml = 'Like what you see? Visit the ' +\n",
              "          '<a target=\"_blank\" href=https://colab.research.google.com/notebooks/data_table.ipynb>data table notebook</a>'\n",
              "          + ' to learn more about interactive tables.';\n",
              "        element.innerHTML = '';\n",
              "        dataTable['output_type'] = 'display_data';\n",
              "        await google.colab.output.renderOutput(dataTable, element);\n",
              "        const docLink = document.createElement('div');\n",
              "        docLink.innerHTML = docLinkHtml;\n",
              "        element.appendChild(docLink);\n",
              "      }\n",
              "    </script>\n",
              "  </div>\n",
              "\n",
              "\n",
              "<div id=\"df-3ef93573-7a0e-48be-a0af-e33ee8968e86\">\n",
              "  <button class=\"colab-df-quickchart\" onclick=\"quickchart('df-3ef93573-7a0e-48be-a0af-e33ee8968e86')\"\n",
              "            title=\"Suggest charts\"\n",
              "            style=\"display:none;\">\n",
              "\n",
              "<svg xmlns=\"http://www.w3.org/2000/svg\" height=\"24px\"viewBox=\"0 0 24 24\"\n",
              "     width=\"24px\">\n",
              "    <g>\n",
              "        <path d=\"M19 3H5c-1.1 0-2 .9-2 2v14c0 1.1.9 2 2 2h14c1.1 0 2-.9 2-2V5c0-1.1-.9-2-2-2zM9 17H7v-7h2v7zm4 0h-2V7h2v10zm4 0h-2v-4h2v4z\"/>\n",
              "    </g>\n",
              "</svg>\n",
              "  </button>\n",
              "\n",
              "<style>\n",
              "  .colab-df-quickchart {\n",
              "      --bg-color: #E8F0FE;\n",
              "      --fill-color: #1967D2;\n",
              "      --hover-bg-color: #E2EBFA;\n",
              "      --hover-fill-color: #174EA6;\n",
              "      --disabled-fill-color: #AAA;\n",
              "      --disabled-bg-color: #DDD;\n",
              "  }\n",
              "\n",
              "  [theme=dark] .colab-df-quickchart {\n",
              "      --bg-color: #3B4455;\n",
              "      --fill-color: #D2E3FC;\n",
              "      --hover-bg-color: #434B5C;\n",
              "      --hover-fill-color: #FFFFFF;\n",
              "      --disabled-bg-color: #3B4455;\n",
              "      --disabled-fill-color: #666;\n",
              "  }\n",
              "\n",
              "  .colab-df-quickchart {\n",
              "    background-color: var(--bg-color);\n",
              "    border: none;\n",
              "    border-radius: 50%;\n",
              "    cursor: pointer;\n",
              "    display: none;\n",
              "    fill: var(--fill-color);\n",
              "    height: 32px;\n",
              "    padding: 0;\n",
              "    width: 32px;\n",
              "  }\n",
              "\n",
              "  .colab-df-quickchart:hover {\n",
              "    background-color: var(--hover-bg-color);\n",
              "    box-shadow: 0 1px 2px rgba(60, 64, 67, 0.3), 0 1px 3px 1px rgba(60, 64, 67, 0.15);\n",
              "    fill: var(--button-hover-fill-color);\n",
              "  }\n",
              "\n",
              "  .colab-df-quickchart-complete:disabled,\n",
              "  .colab-df-quickchart-complete:disabled:hover {\n",
              "    background-color: var(--disabled-bg-color);\n",
              "    fill: var(--disabled-fill-color);\n",
              "    box-shadow: none;\n",
              "  }\n",
              "\n",
              "  .colab-df-spinner {\n",
              "    border: 2px solid var(--fill-color);\n",
              "    border-color: transparent;\n",
              "    border-bottom-color: var(--fill-color);\n",
              "    animation:\n",
              "      spin 1s steps(1) infinite;\n",
              "  }\n",
              "\n",
              "  @keyframes spin {\n",
              "    0% {\n",
              "      border-color: transparent;\n",
              "      border-bottom-color: var(--fill-color);\n",
              "      border-left-color: var(--fill-color);\n",
              "    }\n",
              "    20% {\n",
              "      border-color: transparent;\n",
              "      border-left-color: var(--fill-color);\n",
              "      border-top-color: var(--fill-color);\n",
              "    }\n",
              "    30% {\n",
              "      border-color: transparent;\n",
              "      border-left-color: var(--fill-color);\n",
              "      border-top-color: var(--fill-color);\n",
              "      border-right-color: var(--fill-color);\n",
              "    }\n",
              "    40% {\n",
              "      border-color: transparent;\n",
              "      border-right-color: var(--fill-color);\n",
              "      border-top-color: var(--fill-color);\n",
              "    }\n",
              "    60% {\n",
              "      border-color: transparent;\n",
              "      border-right-color: var(--fill-color);\n",
              "    }\n",
              "    80% {\n",
              "      border-color: transparent;\n",
              "      border-right-color: var(--fill-color);\n",
              "      border-bottom-color: var(--fill-color);\n",
              "    }\n",
              "    90% {\n",
              "      border-color: transparent;\n",
              "      border-bottom-color: var(--fill-color);\n",
              "    }\n",
              "  }\n",
              "</style>\n",
              "\n",
              "  <script>\n",
              "    async function quickchart(key) {\n",
              "      const quickchartButtonEl =\n",
              "        document.querySelector('#' + key + ' button');\n",
              "      quickchartButtonEl.disabled = true;  // To prevent multiple clicks.\n",
              "      quickchartButtonEl.classList.add('colab-df-spinner');\n",
              "      try {\n",
              "        const charts = await google.colab.kernel.invokeFunction(\n",
              "            'suggestCharts', [key], {});\n",
              "      } catch (error) {\n",
              "        console.error('Error during call to suggestCharts:', error);\n",
              "      }\n",
              "      quickchartButtonEl.classList.remove('colab-df-spinner');\n",
              "      quickchartButtonEl.classList.add('colab-df-quickchart-complete');\n",
              "    }\n",
              "    (() => {\n",
              "      let quickchartButtonEl =\n",
              "        document.querySelector('#df-3ef93573-7a0e-48be-a0af-e33ee8968e86 button');\n",
              "      quickchartButtonEl.style.display =\n",
              "        google.colab.kernel.accessAllowed ? 'block' : 'none';\n",
              "    })();\n",
              "  </script>\n",
              "</div>\n",
              "    </div>\n",
              "  </div>\n"
            ],
            "text/plain": [
              "      collision_date  accident_year  month  day_of_week   latitude   longitude\n",
              "12370     2005-01-01           2005      1          0.0  37.780656 -122.472312\n",
              "31833     2005-01-01           2005      1          0.0  37.753914 -122.483887\n",
              "34111     2005-01-01           2005      1          0.0  37.771054 -122.453902\n",
              "26282     2005-01-01           2005      1          0.0  37.743397 -122.475726\n",
              "25233     2005-01-01           2005      1          0.0  37.789452 -122.423832"
            ]
          },
          "execution_count": 842,
          "metadata": {},
          "output_type": "execute_result"
        }
      ],
      "source": [
        "selected_dates.head()"
      ]
    },
    {
      "cell_type": "code",
      "execution_count": 843,
      "metadata": {
        "id": "ITUQJcA66Fih"
      },
      "outputs": [],
      "source": [
        "# Iterate through each date group from the accidents df\n",
        "for date, group in grouped_dates:\n",
        "    # Create a 30x30 matrix initialized with zeros\n",
        "    matrix = np.zeros((30, 30), dtype=int)\n",
        "\n",
        "    # Iterate through each row in the group\n",
        "    for index, row in group.iterrows():\n",
        "        # Compute the indices for the matrix\n",
        "        lat_index = int((row['latitude'] - min_lat) / (max_lat - min_lat) * 30)-1\n",
        "        long_index = int((row['longitude'] - min_long) / (max_long - min_long) * 30)-1\n",
        "\n",
        "        # Increment the corresponding cell in the matrix\n",
        "        matrix[lat_index, long_index] += 1\n",
        "\n",
        "    # Store the matrix in the dataframe in the correct date\n",
        "    dt_object = date.strftime('%Y-%m-%d')\n",
        "\n",
        "    matrices.loc[dt_object] = matrix\n",
        "\n",
        "# Add 0s for dates that were missing in grouped_dates because they had 0 accidents\n",
        "matrices.replace(np.nan, 0, inplace=True)\n",
        "\n",
        "# Replace 0s with empty matrices\n",
        "for i in matrices.index:\n",
        "  if isinstance(matrices.loc[i], int):\n",
        "    matrices.loc[i] = np.zeros((30, 30), dtype=int)"
      ]
    },
    {
      "cell_type": "code",
      "execution_count": 844,
      "metadata": {
        "id": "iB8AQx1SKqe1"
      },
      "outputs": [],
      "source": [
        "# Convert to np array\n",
        "matrices_array = np.array(matrices.values)"
      ]
    },
    {
      "cell_type": "code",
      "execution_count": 845,
      "metadata": {
        "id": "zuo4VhidSTCA"
      },
      "outputs": [],
      "source": [
        "# Reshape into a 3d np array\n",
        "matrices_3d = np.stack(matrices_array)\n",
        "matrices_reshaped = matrices_3d.reshape(3652, 30, 30)"
      ]
    },
    {
      "cell_type": "code",
      "execution_count": 846,
      "metadata": {
        "id": "85aIbyTXqe2x"
      },
      "outputs": [],
      "source": [
        "# Add days of week and month\n",
        "input_numeric_data['month'] = input_numeric_data.index.month\n",
        "input_numeric_data['dow'] = input_numeric_data.index.dayofweek\n",
        "\n",
        "# Subset weather df\n",
        "subset_weather_df = weather_df.loc[start_date:end_date]\n",
        "\n",
        "# Add weather data\n",
        "input_numeric_data[['mintemp', 'maxtemp', 'avgtemp', 'precip']] = subset_weather_df"
      ]
    },
    {
      "cell_type": "markdown",
      "metadata": {
        "id": "P_-dCFVcGfJA"
      },
      "source": [
        "## Scaling, encoding, reshaping"
      ]
    },
    {
      "cell_type": "code",
      "execution_count": 847,
      "metadata": {
        "id": "RcONtHFbrNuw"
      },
      "outputs": [],
      "source": [
        "# Define which columns need to be scaled and one-hot encoded\n",
        "numeric_features = ['mintemp', 'maxtemp', 'avgtemp', 'precip']\n",
        "categorical_features = ['dow', 'month']\n",
        "\n",
        "# Preprocessing pipeline\n",
        "preprocessor = ColumnTransformer(\n",
        "    transformers=[\n",
        "        ('num', 'passthrough', numeric_features),  # No scaling applied\n",
        "        ('cat', OneHotEncoder(categories=[range(7), range(1, 13)]), categorical_features)\n",
        "    ],\n",
        "    sparse_threshold=0)\n",
        "\n",
        "# Fit and transform the data\n",
        "input_numeric_processed = preprocessor.fit_transform(input_numeric_data)"
      ]
    },
    {
      "cell_type": "markdown",
      "metadata": {
        "id": "RVpBteJFNc96"
      },
      "source": [
        "## Perform train test split"
      ]
    },
    {
      "cell_type": "code",
      "execution_count": 848,
      "metadata": {
        "id": "ss1NnMi1Tpwv"
      },
      "outputs": [],
      "source": [
        "# Perform train-test split on both input_numeric_processed and matrices_scaled_reshaped\n",
        "X_train_numeric, X_test_numeric, X_train_matrices, X_test_matrices, y_train, y_test = train_test_split(input_numeric_processed,\n",
        "                                                                                                       matrices_reshaped,\n",
        "                                                                                                       matrices_reshaped,\n",
        "                                                                                                       test_size=0.2,\n",
        "                                                                                                       random_state=42)\n"
      ]
    },
    {
      "cell_type": "code",
      "execution_count": 849,
      "metadata": {
        "colab": {
          "base_uri": "https://localhost:8080/"
        },
        "id": "gaWT42ZbS0t0",
        "outputId": "28e4e1ec-487c-46e7-9ff6-b90796b1fe3b"
      },
      "outputs": [
        {
          "name": "stdout",
          "output_type": "stream",
          "text": [
            "Shape of X_train_numeric: (2921, 23)\n",
            "Shape of X_test_numeric: (731, 23)\n",
            "Shape of X_train_matrices: (2921, 30, 30)\n",
            "Shape of X_test_matrices: (731, 30, 30)\n",
            "Shape of y_train: (2921, 30, 30)\n",
            "Shape of y_test: (731, 30, 30)\n"
          ]
        }
      ],
      "source": [
        "print(\"Shape of X_train_numeric:\", X_train_numeric.shape)\n",
        "print(\"Shape of X_test_numeric:\", X_test_numeric.shape)\n",
        "print(\"Shape of X_train_matrices:\", X_train_matrices.shape)\n",
        "print(\"Shape of X_test_matrices:\", X_test_matrices.shape)\n",
        "print(\"Shape of y_train:\", y_train.shape)\n",
        "print(\"Shape of y_test:\", y_test.shape)"
      ]
    },
    {
      "cell_type": "code",
      "execution_count": 850,
      "metadata": {
        "id": "avqgmj_Nqh_B"
      },
      "outputs": [],
      "source": [
        "# Flatten y_train and y_test to match model's output layer\n",
        "# Model outputs a flattened 30x30 matrix\n",
        "y_train_flat = y_train.reshape(y_train.shape[0], -1)\n",
        "y_test_flat = y_test.reshape(y_test.shape[0], -1)"
      ]
    },
    {
      "cell_type": "code",
      "execution_count": 851,
      "metadata": {
        "colab": {
          "base_uri": "https://localhost:8080/"
        },
        "id": "uub_ObrwrGbW",
        "outputId": "5ab9634b-4d9b-4884-b076-9549711d8f24"
      },
      "outputs": [
        {
          "name": "stdout",
          "output_type": "stream",
          "text": [
            "Shape of y_train_reshaped: (2921, 60, 30, 30)\n",
            "Shape of y_test_reshaped: (731, 60, 30, 30)\n"
          ]
        }
      ],
      "source": [
        "y_train_reshaped = np.repeat(y_train[:, np.newaxis, :, :], 60, axis=1)\n",
        "y_test_reshaped = np.repeat(y_test[:, np.newaxis, :, :], 60, axis=1)\n",
        "\n",
        "print(\"Shape of y_train_reshaped:\", y_train_reshaped.shape)\n",
        "print(\"Shape of y_test_reshaped:\", y_test_reshaped.shape)"
      ]
    },
    {
      "cell_type": "code",
      "execution_count": 852,
      "metadata": {
        "colab": {
          "base_uri": "https://localhost:8080/"
        },
        "id": "yqeRnhWaHTPd",
        "outputId": "2be264eb-b7b4-4f16-959d-bcaec6b7f8b0"
      },
      "outputs": [
        {
          "name": "stdout",
          "output_type": "stream",
          "text": [
            "Shape of y_train_flat: (2921, 60, 900)\n",
            "Shape of y_test_flat: (731, 60, 900)\n"
          ]
        }
      ],
      "source": [
        "# Reshape y_train_reshaped\n",
        "# Reshape y_train_reshaped\n",
        "y_train_flat = np.reshape(y_train_reshaped, (y_train_reshaped.shape[0], -1, y_train_reshaped.shape[2] * y_train_reshaped.shape[3]))\n",
        "print(\"Shape of y_train_flat:\", y_train_flat.shape)\n",
        "\n",
        "# Reshape y_test_reshaped\n",
        "y_test_flat = np.reshape(y_test_reshaped, (y_test_reshaped.shape[0], -1, y_test_reshaped.shape[2] * y_test_reshaped.shape[3]))\n",
        "print(\"Shape of y_test_flat:\", y_test_flat.shape)"
      ]
    },
    {
      "cell_type": "markdown",
      "metadata": {
        "id": "6Y4FY0jZTzis"
      },
      "source": [
        "# Model Architecture"
      ]
    },
    {
      "cell_type": "code",
      "execution_count": 853,
      "metadata": {
        "id": "fZpCb8a455BL"
      },
      "outputs": [],
      "source": [
        "# Define input layer for numeric data\n",
        "input_numeric = Input(shape=(None, 23),\n",
        "                      name='input_numeric')\n",
        "\n",
        "# Define input layer for matrix data\n",
        "input_matrices = Input(shape=(None, 30, 30),\n",
        "                       name='input_matrices')\n",
        "# Add a single dimension at the beginning to make it compatible with the shape\n",
        "# of the numeric input\n",
        "# Reshape the input to add a time dimension\n",
        "reshaped_matrices = Reshape((-1, 30), name=\"reshaped_matrices\")(input_matrices)"
      ]
    },
    {
      "cell_type": "code",
      "execution_count": 854,
      "metadata": {
        "id": "424qRwlkPeh9"
      },
      "outputs": [],
      "source": [
        "# LSTM layer for matrix data\n",
        "matrix_lstm = LSTM(units=64,\n",
        "                   return_sequences=True,\n",
        "                   name='matrix_lstm')(reshaped_matrices)\n",
        "\n",
        "# Reshape input_numeric to 2D tensor to pass to RepeatVector\n",
        "numeric_reshaped = Reshape((23,),\n",
        "                           name='reshape_numeric')(input_numeric)\n",
        "\n",
        "# Repeat the numeric features across the sequence dimension to match length of\n",
        "# matrix_lstm output\n",
        "numeric_repeated = RepeatVector(30,\n",
        "                                name='repeat_numeric')(numeric_reshaped)\n",
        "\n",
        "# Dense layer for numeric features to match the dimensionality of LSTM output\n",
        "dense_numeric = Dense(units=64,\n",
        "                      activation='relu',\n",
        "                      name='dense_numeric')(numeric_repeated)\n",
        "\n",
        "# Concatenate LSTM output with the repeated numeric features\n",
        "concatenated = Concatenate(axis=1,\n",
        "                           name='concatenated')([matrix_lstm, dense_numeric])"
      ]
    },
    {
      "cell_type": "code",
      "execution_count": 855,
      "metadata": {
        "id": "HOGOy-2_otvE"
      },
      "outputs": [],
      "source": [
        "# Additional dense layers with dropout\n",
        "# Helps model learn complex patterns and non-linear relationships\n",
        "dense_layer_1 = Dense(units=128,\n",
        "                      activation='relu',\n",
        "                      name='dense_layer_1')(concatenated)\n",
        "dropout_layer_1 = Dropout(0.2,\n",
        "                          name='dropout_layer_1')(dense_layer_1)\n",
        "dense_layer_2 = Dense(units=64,\n",
        "                      activation='relu',\n",
        "                      name='dense_layer_2')(dropout_layer_1)\n",
        "dropout_layer_2 = Dropout(0.2,\n",
        "                          name='dropout_layer_2')(dense_layer_2)"
      ]
    },
    {
      "cell_type": "code",
      "execution_count": 856,
      "metadata": {
        "colab": {
          "base_uri": "https://localhost:8080/"
        },
        "id": "pcO9jfxZUEXB",
        "outputId": "d0629f71-7f89-4fc8-d981-53d90229eb5e"
      },
      "outputs": [
        {
          "name": "stdout",
          "output_type": "stream",
          "text": [
            "Model: \"model_with_weather\"\n",
            "__________________________________________________________________________________________________\n",
            " Layer (type)                Output Shape                 Param #   Connected to                  \n",
            "==================================================================================================\n",
            " input_numeric (InputLayer)  [(None, None, 23)]           0         []                            \n",
            "                                                                                                  \n",
            " input_matrices (InputLayer  [(None, None, 30, 30)]       0         []                            \n",
            " )                                                                                                \n",
            "                                                                                                  \n",
            " reshape_numeric (Reshape)   (None, 23)                   0         ['input_numeric[0][0]']       \n",
            "                                                                                                  \n",
            " reshaped_matrices (Reshape  (None, None, 30)             0         ['input_matrices[0][0]']      \n",
            " )                                                                                                \n",
            "                                                                                                  \n",
            " repeat_numeric (RepeatVect  (None, 30, 23)               0         ['reshape_numeric[0][0]']     \n",
            " or)                                                                                              \n",
            "                                                                                                  \n",
            " matrix_lstm (LSTM)          (None, None, 64)             24320     ['reshaped_matrices[0][0]']   \n",
            "                                                                                                  \n",
            " dense_numeric (Dense)       (None, 30, 64)               1536      ['repeat_numeric[0][0]']      \n",
            "                                                                                                  \n",
            " concatenated (Concatenate)  (None, None, 64)             0         ['matrix_lstm[0][0]',         \n",
            "                                                                     'dense_numeric[0][0]']       \n",
            "                                                                                                  \n",
            " dense_layer_1 (Dense)       (None, None, 128)            8320      ['concatenated[0][0]']        \n",
            "                                                                                                  \n",
            " dropout_layer_1 (Dropout)   (None, None, 128)            0         ['dense_layer_1[0][0]']       \n",
            "                                                                                                  \n",
            " dense_layer_2 (Dense)       (None, None, 64)             8256      ['dropout_layer_1[0][0]']     \n",
            "                                                                                                  \n",
            " dropout_layer_2 (Dropout)   (None, None, 64)             0         ['dense_layer_2[0][0]']       \n",
            "                                                                                                  \n",
            " output (Dense)              (None, None, 900)            58500     ['dropout_layer_2[0][0]']     \n",
            "                                                                                                  \n",
            "==================================================================================================\n",
            "Total params: 100932 (394.27 KB)\n",
            "Trainable params: 100932 (394.27 KB)\n",
            "Non-trainable params: 0 (0.00 Byte)\n",
            "__________________________________________________________________________________________________\n"
          ]
        }
      ],
      "source": [
        "# Final transformation applied to concatenated outputs of previous layers\n",
        "# Produces a flattened 30x30 matrix of predicted values\n",
        "output = Dense(units=900, activation='relu', name='output')(dropout_layer_2)\n",
        "\n",
        "# Define model\n",
        "model = Model(inputs=[input_numeric, input_matrices],\n",
        "              outputs=output,\n",
        "              name='model_with_weather')\n",
        "\n",
        "model.summary()"
      ]
    },
    {
      "cell_type": "code",
      "execution_count": 857,
      "metadata": {
        "id": "7bzGJ_N9kPhz"
      },
      "outputs": [],
      "source": [
        "# Compile the model\n",
        "model.compile(optimizer='adam',\n",
        "              loss='mae',\n",
        "              metrics=['accuracy'])"
      ]
    },
    {
      "cell_type": "markdown",
      "metadata": {},
      "source": [
        "## Model Architecture Diagram"
      ]
    },
    {
      "cell_type": "code",
      "execution_count": 858,
      "metadata": {
        "colab": {
          "base_uri": "https://localhost:8080/",
          "height": 1000
        },
        "id": "6KumW3yevA-U",
        "outputId": "b9461b8f-0a79-432d-9110-0a6e5987e039"
      },
      "outputs": [
        {
          "data": {
            "image/png": "[encoded data removed]",
            "text/plain": [
              "<IPython.core.display.Image object>"
            ]
          },
          "execution_count": 858,
          "metadata": {},
          "output_type": "execute_result"
        }
      ],
      "source": [
        "from tensorflow.keras.utils import plot_model\n",
        "plot_model(model, to_file='model_plot.png', show_shapes=True, show_layer_names=True)"
      ]
    },
    {
      "cell_type": "markdown",
      "metadata": {
        "id": "aqJNZN95co7_"
      },
      "source": [
        "# Fitting model"
      ]
    },
    {
      "cell_type": "code",
      "execution_count": 859,
      "metadata": {
        "colab": {
          "base_uri": "https://localhost:8080/"
        },
        "id": "ZXI68mYlkHz4",
        "outputId": "532b18a0-0683-42fc-c35e-97ba61d09147"
      },
      "outputs": [
        {
          "name": "stdout",
          "output_type": "stream",
          "text": [
            "Epoch 1/10\n",
            "73/73 [==============================] - 9s 90ms/step - loss: 0.0366 - accuracy: 0.0018 - val_loss: 0.0094 - val_accuracy: 0.0017\n",
            "Epoch 2/10\n",
            "73/73 [==============================] - 4s 58ms/step - loss: 0.0094 - accuracy: 0.0021 - val_loss: 0.0094 - val_accuracy: 0.0017\n",
            "Epoch 3/10\n",
            "73/73 [==============================] - 4s 56ms/step - loss: 0.0094 - accuracy: 0.0021 - val_loss: 0.0094 - val_accuracy: 0.0017\n",
            "Epoch 4/10\n",
            "73/73 [==============================] - 6s 78ms/step - loss: 0.0094 - accuracy: 0.0021 - val_loss: 0.0094 - val_accuracy: 0.0017\n",
            "Epoch 5/10\n",
            "73/73 [==============================] - 4s 58ms/step - loss: 0.0094 - accuracy: 0.0021 - val_loss: 0.0094 - val_accuracy: 0.0017\n",
            "Epoch 6/10\n",
            "73/73 [==============================] - 4s 59ms/step - loss: 0.0094 - accuracy: 0.0021 - val_loss: 0.0094 - val_accuracy: 0.0017\n",
            "Epoch 7/10\n",
            "73/73 [==============================] - 6s 80ms/step - loss: 0.0094 - accuracy: 0.0021 - val_loss: 0.0094 - val_accuracy: 0.0017\n",
            "Epoch 8/10\n",
            "73/73 [==============================] - 4s 58ms/step - loss: 0.0094 - accuracy: 0.0022 - val_loss: 0.0094 - val_accuracy: 0.0017\n",
            "Epoch 9/10\n",
            "73/73 [==============================] - 4s 58ms/step - loss: 0.0094 - accuracy: 0.0021 - val_loss: 0.0094 - val_accuracy: 0.0017\n",
            "Epoch 10/10\n",
            "73/73 [==============================] - 6s 79ms/step - loss: 0.0094 - accuracy: 0.0021 - val_loss: 0.0094 - val_accuracy: 0.0017\n"
          ]
        }
      ],
      "source": [
        "history = model.fit(\n",
        "    [X_train_numeric, X_train_matrices],\n",
        "    y_train_flat,\n",
        "    epochs=10,\n",
        "    batch_size=32,\n",
        "    validation_split=0.2  # 20% of the training data will be used for validation\n",
        ")"
      ]
    },
    {
      "cell_type": "markdown",
      "metadata": {
        "id": "IGFvNdX9WQ1G"
      },
      "source": [
        "# Making Predictions"
      ]
    },
    {
      "cell_type": "code",
      "execution_count": 860,
      "metadata": {
        "colab": {
          "base_uri": "https://localhost:8080/"
        },
        "id": "qRLBMw-WCd60",
        "outputId": "c1f479c9-9d2f-4075-8b48-73bcf198ddd8"
      },
      "outputs": [
        {
          "name": "stdout",
          "output_type": "stream",
          "text": [
            "23/23 [==============================] - 1s 16ms/step\n"
          ]
        }
      ],
      "source": [
        "# Make predictions on the test data\n",
        "y_pred = model.predict([X_test_numeric, X_test_matrices])"
      ]
    },
    {
      "cell_type": "markdown",
      "metadata": {
        "id": "6LYQBp_uWSlu"
      },
      "source": [
        "# Evaluation"
      ]
    },
    {
      "cell_type": "code",
      "execution_count": 861,
      "metadata": {
        "id": "YMC01vvhJmcJ"
      },
      "outputs": [],
      "source": [
        "# Reshape y_test_flat and y_pred to 2D arrays so MAE will work\n",
        "y_test_flat_2d = y_test_flat.reshape(-1, y_test_flat.shape[-1])\n",
        "y_pred_2d = y_pred.reshape(-1, y_pred.shape[-1])\n"
      ]
    },
    {
      "cell_type": "code",
      "execution_count": 862,
      "metadata": {
        "colab": {
          "base_uri": "https://localhost:8080/"
        },
        "id": "UNw8CN-IJSrL",
        "outputId": "cc48f17a-d465-4624-df44-109ed9ead4ab"
      },
      "outputs": [
        {
          "name": "stdout",
          "output_type": "stream",
          "text": [
            "Mean Absolute Error: 0.009084967320261437\n"
          ]
        }
      ],
      "source": [
        "# Calculate Mean Absolute Error (MAE)\n",
        "mae = mean_absolute_error(y_test_flat_2d, y_pred_2d)\n",
        "print(\"Mean Absolute Error:\", mae)"
      ]
    },
    {
      "cell_type": "markdown",
      "metadata": {
        "id": "X4S_Icw1TYjk"
      },
      "source": [
        "# Creating model without weather input"
      ]
    },
    {
      "cell_type": "markdown",
      "metadata": {
        "id": "x97HKyLNV6zp"
      },
      "source": [
        "## Preprocessing and splitting"
      ]
    },
    {
      "cell_type": "code",
      "execution_count": 863,
      "metadata": {
        "id": "47PpNJ8KTVF9"
      },
      "outputs": [],
      "source": [
        "# Repeat same preprocessing, but with only date of week and month\n",
        "input_dow_month = pd.DataFrame(index=date_range, columns = ['dow', 'month'])\n",
        "input_dow_month['dow'] = input_dow_month.index.dayofweek\n",
        "input_dow_month['month'] = input_dow_month.index.month\n",
        "\n",
        "preprocessor = ColumnTransformer(\n",
        "    transformers=[\n",
        "        ('cat', OneHotEncoder(categories=[range(7), range(1, 13)]), ['dow','month'])\n",
        "    ],\n",
        "    sparse_threshold=0\n",
        ")\n",
        "input_dm_processed = preprocessor.fit_transform(input_dow_month)"
      ]
    },
    {
      "cell_type": "code",
      "execution_count": 864,
      "metadata": {
        "id": "fbhnfF_VVIZZ"
      },
      "outputs": [],
      "source": [
        "# Perform train-test split on both input_dm_processed\n",
        "X_train_dm, X_test_dm = train_test_split(input_dm_processed,\n",
        "                                         test_size=0.2,\n",
        "                                         random_state=42)"
      ]
    },
    {
      "cell_type": "code",
      "execution_count": 865,
      "metadata": {
        "colab": {
          "base_uri": "https://localhost:8080/"
        },
        "id": "BTgGjyCEUwsV",
        "outputId": "3358227f-1b45-4fe8-d219-a6999b21ab9d"
      },
      "outputs": [
        {
          "name": "stdout",
          "output_type": "stream",
          "text": [
            "Shape of X_train_dm: (2921, 19)\n",
            "Shape of X_test_dm: (731, 19)\n",
            "Shape of X_train_matrices: (2921, 30, 30)\n",
            "Shape of X_test_matrices: (731, 30, 30)\n",
            "Shape of y_train_reshaped: (2921, 30, 30)\n",
            "Shape of y_test_reshaped: (731, 30, 30)\n"
          ]
        }
      ],
      "source": [
        "print(\"Shape of X_train_dm:\", X_train_dm.shape)\n",
        "print(\"Shape of X_test_dm:\", X_test_dm.shape)\n",
        "print(\"Shape of X_train_matrices:\", X_train_matrices.shape)\n",
        "print(\"Shape of X_test_matrices:\", X_test_matrices.shape)\n",
        "print(\"Shape of y_train_reshaped:\", y_train.shape)\n",
        "print(\"Shape of y_test_reshaped:\", y_test.shape)"
      ]
    },
    {
      "cell_type": "code",
      "execution_count": 866,
      "metadata": {
        "id": "ORqrZnb9X_GI"
      },
      "outputs": [],
      "source": [
        "# Define input layer for day and month\n",
        "input_dm = Input(shape=(None, 19),\n",
        "                      name='input_dm')\n",
        "\n",
        "# Define input layer for matrix data\n",
        "input_matrices_no_weather = Input(shape=(None, 30, 30),\n",
        "                       name='input_matrices_nw')"
      ]
    },
    {
      "cell_type": "code",
      "execution_count": 867,
      "metadata": {
        "id": "l_NpfMxCYEpK"
      },
      "outputs": [],
      "source": [
        "# Add a single dimension at the beginning to make it compatible with the shape\n",
        "# of the day and month input\n",
        "# Reshape the input to add a time dimension\n",
        "reshaped_matrices_no_weather = Reshape((-1, 30),\n",
        "                                       name=\"reshaped_matrices_nw\")(input_matrices_no_weather)\n",
        "\n",
        "# LSTM layer for matrix data\n",
        "matrix_lstm_no_weather = LSTM(units=64,\n",
        "                   return_sequences=True,\n",
        "                   name='matrix_lstm_nw')(reshaped_matrices_no_weather)"
      ]
    },
    {
      "cell_type": "code",
      "execution_count": 868,
      "metadata": {
        "id": "Sk2sOCx5YL2p"
      },
      "outputs": [],
      "source": [
        "# Reshape input_dm to 2D tensor to pass to RepeatVector\n",
        "numeric_reshaped_no_weather = Reshape((19,),\n",
        "                           name='reshape_numeric_nw')(input_dm)\n",
        "\n",
        "# Repeat the day and month features across the sequence dimension to match length of\n",
        "# matrix_lstm_no_weather output\n",
        "dm_repeated = RepeatVector(30, name='repeat_dm')(numeric_reshaped_no_weather)\n",
        "\n",
        "# Dense layer for day and month features to match the dimensionality of LSTM output\n",
        "dense_dm = Dense(units=64,\n",
        "                      activation='relu',\n",
        "                      name='dense_dm')(dm_repeated)\n",
        "\n",
        "# Concatenate LSTM output with the repeated numeric features\n",
        "concatenated_no_weather = Concatenate(axis=1,\n",
        "                           name='concatenated_nw')([matrix_lstm_no_weather, dense_dm])"
      ]
    },
    {
      "cell_type": "code",
      "execution_count": 869,
      "metadata": {
        "id": "5z6qUcZ9WZST"
      },
      "outputs": [],
      "source": [
        "# Additional dense layers with dropout\n",
        "# Helps model learn complex patterns and non-linear relationships\n",
        "dense_layer_1_nw = Dense(units=128,\n",
        "                      activation='relu',\n",
        "                      name='dense_layer_1_nw')(concatenated_no_weather)\n",
        "dropout_layer_1_nw = Dropout(0.2,\n",
        "                          name='dropout_layer_1_nw')(dense_layer_1_nw)\n",
        "dense_layer_2_nw = Dense(units=64,\n",
        "                      activation='relu',\n",
        "                      name='dense_layer_2_nw')(dropout_layer_1_nw)\n",
        "dropout_layer_2_nw = Dropout(0.2,\n",
        "                          name='dropout_layer_2_nw')(dense_layer_2_nw)\n",
        "\n",
        "# Final transformation applied to concatenated outputs of previous layers\n",
        "# Produces a flattened 30x30 matrix of predicted values\n",
        "output_no_weather = Dense(units=900,\n",
        "                          activation='relu',\n",
        "                          name='output_nw')(dropout_layer_2_nw)"
      ]
    },
    {
      "cell_type": "code",
      "execution_count": 870,
      "metadata": {
        "colab": {
          "base_uri": "https://localhost:8080/"
        },
        "id": "EKEFdSe4YPgK",
        "outputId": "047ecf37-d55d-4456-9ee5-6f9f548cedf8"
      },
      "outputs": [
        {
          "name": "stdout",
          "output_type": "stream",
          "text": [
            "Model: \"model_no_weather\"\n",
            "__________________________________________________________________________________________________\n",
            " Layer (type)                Output Shape                 Param #   Connected to                  \n",
            "==================================================================================================\n",
            " input_dm (InputLayer)       [(None, None, 19)]           0         []                            \n",
            "                                                                                                  \n",
            " input_matrices_nw (InputLa  [(None, None, 30, 30)]       0         []                            \n",
            " yer)                                                                                             \n",
            "                                                                                                  \n",
            " reshape_numeric_nw (Reshap  (None, 19)                   0         ['input_dm[0][0]']            \n",
            " e)                                                                                               \n",
            "                                                                                                  \n",
            " reshaped_matrices_nw (Resh  (None, None, 30)             0         ['input_matrices_nw[0][0]']   \n",
            " ape)                                                                                             \n",
            "                                                                                                  \n",
            " repeat_dm (RepeatVector)    (None, 30, 19)               0         ['reshape_numeric_nw[0][0]']  \n",
            "                                                                                                  \n",
            " matrix_lstm_nw (LSTM)       (None, None, 64)             24320     ['reshaped_matrices_nw[0][0]']\n",
            "                                                                                                  \n",
            " dense_dm (Dense)            (None, 30, 64)               1280      ['repeat_dm[0][0]']           \n",
            "                                                                                                  \n",
            " concatenated_nw (Concatena  (None, None, 64)             0         ['matrix_lstm_nw[0][0]',      \n",
            " te)                                                                 'dense_dm[0][0]']            \n",
            "                                                                                                  \n",
            " dense_layer_1_nw (Dense)    (None, None, 128)            8320      ['concatenated_nw[0][0]']     \n",
            "                                                                                                  \n",
            " dropout_layer_1_nw (Dropou  (None, None, 128)            0         ['dense_layer_1_nw[0][0]']    \n",
            " t)                                                                                               \n",
            "                                                                                                  \n",
            " dense_layer_2_nw (Dense)    (None, None, 64)             8256      ['dropout_layer_1_nw[0][0]']  \n",
            "                                                                                                  \n",
            " dropout_layer_2_nw (Dropou  (None, None, 64)             0         ['dense_layer_2_nw[0][0]']    \n",
            " t)                                                                                               \n",
            "                                                                                                  \n",
            " output_nw (Dense)           (None, None, 900)            58500     ['dropout_layer_2_nw[0][0]']  \n",
            "                                                                                                  \n",
            "==================================================================================================\n",
            "Total params: 100676 (393.27 KB)\n",
            "Trainable params: 100676 (393.27 KB)\n",
            "Non-trainable params: 0 (0.00 Byte)\n",
            "__________________________________________________________________________________________________\n"
          ]
        }
      ],
      "source": [
        "# Define model\n",
        "model_no_weather = Model(inputs=[input_dm, input_matrices_no_weather],\n",
        "              outputs=output_no_weather,\n",
        "              name='model_no_weather')\n",
        "\n",
        "model_no_weather.summary()"
      ]
    },
    {
      "cell_type": "code",
      "execution_count": 871,
      "metadata": {
        "id": "DEGlZQIkYsnf"
      },
      "outputs": [],
      "source": [
        "# Compile the model\n",
        "model_no_weather.compile(optimizer='adam',\n",
        "              loss='mae',\n",
        "              metrics=['accuracy'])"
      ]
    },
    {
      "cell_type": "code",
      "execution_count": 872,
      "metadata": {
        "colab": {
          "base_uri": "https://localhost:8080/"
        },
        "id": "KIzBaejyYDB6",
        "outputId": "e842ff4b-e54b-4e33-9231-75284ed290b8"
      },
      "outputs": [
        {
          "name": "stdout",
          "output_type": "stream",
          "text": [
            "Epoch 1/10\n",
            "73/73 [==============================] - 9s 88ms/step - loss: 0.0097 - accuracy: 0.0018 - val_loss: 0.0094 - val_accuracy: 0.0017\n",
            "Epoch 2/10\n",
            "73/73 [==============================] - 4s 61ms/step - loss: 0.0094 - accuracy: 0.0021 - val_loss: 0.0094 - val_accuracy: 0.0017\n",
            "Epoch 3/10\n",
            "73/73 [==============================] - 4s 57ms/step - loss: 0.0094 - accuracy: 0.0021 - val_loss: 0.0094 - val_accuracy: 0.0017\n",
            "Epoch 4/10\n",
            "73/73 [==============================] - 6s 80ms/step - loss: 0.0094 - accuracy: 0.0021 - val_loss: 0.0094 - val_accuracy: 0.0017\n",
            "Epoch 5/10\n",
            "73/73 [==============================] - 4s 60ms/step - loss: 0.0094 - accuracy: 0.0021 - val_loss: 0.0094 - val_accuracy: 0.0017\n",
            "Epoch 6/10\n",
            "73/73 [==============================] - 4s 60ms/step - loss: 0.0094 - accuracy: 0.0021 - val_loss: 0.0094 - val_accuracy: 0.0017\n",
            "Epoch 7/10\n",
            "73/73 [==============================] - 6s 82ms/step - loss: 0.0094 - accuracy: 0.0021 - val_loss: 0.0094 - val_accuracy: 0.0017\n",
            "Epoch 8/10\n",
            "73/73 [==============================] - 4s 58ms/step - loss: 0.0094 - accuracy: 0.0021 - val_loss: 0.0094 - val_accuracy: 0.0017\n",
            "Epoch 9/10\n",
            "73/73 [==============================] - 4s 57ms/step - loss: 0.0094 - accuracy: 0.0021 - val_loss: 0.0094 - val_accuracy: 0.0017\n",
            "Epoch 10/10\n",
            "73/73 [==============================] - 6s 80ms/step - loss: 0.0094 - accuracy: 0.0021 - val_loss: 0.0094 - val_accuracy: 0.0017\n"
          ]
        }
      ],
      "source": [
        "history_no_weather = model_no_weather.fit(\n",
        "    [X_train_dm, X_train_matrices],\n",
        "    y_train_flat,\n",
        "    epochs=10,\n",
        "    batch_size=32,\n",
        "    validation_split=0.2  # 20% of the training data will be used for validation\n",
        ")"
      ]
    },
    {
      "cell_type": "code",
      "execution_count": 873,
      "metadata": {
        "colab": {
          "base_uri": "https://localhost:8080/"
        },
        "id": "DU0F8UzHWbDm",
        "outputId": "72baef9d-de8c-4644-cc3b-48ba8ec66348"
      },
      "outputs": [
        {
          "name": "stdout",
          "output_type": "stream",
          "text": [
            "23/23 [==============================] - 1s 17ms/step\n"
          ]
        }
      ],
      "source": [
        "# Make predictions on the test data\n",
        "y_pred_no_weather = model_no_weather.predict([X_test_dm, X_test_matrices])"
      ]
    },
    {
      "cell_type": "code",
      "execution_count": 874,
      "metadata": {
        "id": "-twQYin2ZBMC"
      },
      "outputs": [],
      "source": [
        "# Reshape y_pred_no_weather to 2D array so MAE will work\n",
        "y_pred_nw_2d = y_pred_no_weather.reshape(-1, y_pred_no_weather.shape[-1])"
      ]
    },
    {
      "cell_type": "code",
      "execution_count": 875,
      "metadata": {
        "colab": {
          "base_uri": "https://localhost:8080/"
        },
        "id": "skUVGGPKZGVB",
        "outputId": "29329505-9820-431c-b8f3-d7a2856b004c"
      },
      "outputs": [
        {
          "name": "stdout",
          "output_type": "stream",
          "text": [
            "Mean Absolute Error: 0.009084967320261437\n"
          ]
        }
      ],
      "source": [
        "# Calculate Mean Absolute Error (MAE)\n",
        "mae_nw = mean_absolute_error(y_test_flat_2d, y_pred_nw_2d)\n",
        "print(\"Mean Absolute Error:\", mae_nw)"
      ]
    },
    {
      "cell_type": "markdown",
      "metadata": {
        "id": "O937oLIoZdII"
      },
      "source": [
        "# Comparison"
      ]
    },
    {
      "cell_type": "code",
      "execution_count": 876,
      "metadata": {
        "colab": {
          "base_uri": "https://localhost:8080/"
        },
        "id": "Jm2u1DK9Zelu",
        "outputId": "1d9a180e-5c4b-491c-b3bb-5ae6e4fd1977"
      },
      "outputs": [
        {
          "name": "stdout",
          "output_type": "stream",
          "text": [
            "MAE with weather input: 0.009084967320261437\n",
            "MAE without weather input: 0.009084967320261437\n"
          ]
        }
      ],
      "source": [
        "print('MAE with weather input:', mae)\n",
        "print('MAE without weather input:', mae_nw)"
      ]
    },
    {
      "cell_type": "code",
      "execution_count": 877,
      "metadata": {
        "colab": {
          "base_uri": "https://localhost:8080/"
        },
        "id": "pJ4KAE1L-2b9",
        "outputId": "6c524eef-d081-4e56-bc03-ca24e7c18626"
      },
      "outputs": [
        {
          "name": "stdout",
          "output_type": "stream",
          "text": [
            "23/23 [==============================] - 1s 24ms/step\n"
          ]
        }
      ],
      "source": [
        "y_pred_no_weather = model_no_weather.predict([X_test_dm, X_test_matrices])"
      ]
    },
    {
      "cell_type": "code",
      "execution_count": 892,
      "metadata": {
        "colab": {
          "base_uri": "https://localhost:8080/"
        },
        "id": "bIpzPUyHGhCc",
        "outputId": "a55610e9-268c-4341-9f30-68ac8ff02d05"
      },
      "outputs": [
        {
          "name": "stdout",
          "output_type": "stream",
          "text": [
            "53.259686\n"
          ]
        }
      ],
      "source": [
        "print(predicted_no_weather_image.max())"
      ]
    },
    {
      "cell_type": "code",
      "execution_count": 910,
      "metadata": {
        "colab": {
          "base_uri": "https://localhost:8080/"
        },
        "id": "mlxLoUDTH2jw",
        "outputId": "10c8b8c6-43b4-4f2d-f166-14b8b2c2ba26"
      },
      "outputs": [
        {
          "data": {
            "text/plain": [
              "(731, 60, 900)"
            ]
          },
          "execution_count": 910,
          "metadata": {},
          "output_type": "execute_result"
        }
      ],
      "source": [
        "y_test_flat.shape"
      ]
    },
    {
      "cell_type": "code",
      "execution_count": 913,
      "metadata": {
        "id": "IF3nozJWgC9e"
      },
      "outputs": [],
      "source": [
        "# Reshape and flip\n",
        "target_image = y_test_flat.reshape(-1, 60, 30, 30)\n",
        "target_image = target_image.sum(axis=1).sum(axis=0)\n",
        "target_image = np.flip(np.transpose(target_image), axis=0)\n",
        "\n",
        "# Reshape target_image to 1D array for scaling\n",
        "target_image_1d = target_image.flatten()\n",
        "\n",
        "# Rescale target_image to have values in the range of [0, max_value], where max_value is the maximum value among the other two arrays\n",
        "max_value = max(predicted_weather_image.max(), predicted_no_weather_image.max())\n",
        "scaler = MinMaxScaler(feature_range=(0, max_value))\n",
        "scaled_target_image_1d = scaler.fit_transform(target_image_1d.reshape(-1, 1))\n",
        "\n",
        "# Reshape scaled_target_image back to 2D array\n",
        "scaled_target_image = scaled_target_image_1d.reshape(target_image.shape)"
      ]
    },
    {
      "cell_type": "code",
      "execution_count": 920,
      "metadata": {
        "colab": {
          "base_uri": "https://localhost:8080/"
        },
        "id": "AJJZUWAdkfPC",
        "outputId": "6cecdd8c-1584-4c37-e4c3-ea076533c469"
      },
      "outputs": [
        {
          "name": "stdout",
          "output_type": "stream",
          "text": [
            "(731, 60, 900)\n"
          ]
        }
      ],
      "source": [
        "# Predicted matrices with weather input\n",
        "# Reshape y_pred to (731, 60, 30, 30)\n",
        "y_pred_reshaped = y_pred.reshape(731, 60, 30, 30)\n",
        "\n",
        "# Sum the matrices to get the total predicted counts\n",
        "predicted_weather_image = y_pred_flattened.sum(axis=1).sum(axis=0)\n",
        "\n",
        "# Transpose and flip to adjust orientation\n",
        "predicted_weather_image = np.flip(np.transpose(predicted_weather_image), axis=0)"
      ]
    },
    {
      "cell_type": "code",
      "execution_count": 915,
      "metadata": {
        "id": "Qk8Z9HSjkgql"
      },
      "outputs": [],
      "source": [
        "# Predicted matrices without weather input\n",
        "# Reshape y_pred_no_weather to (731, 60, 30, 30)\n",
        "y_pred_no_weather_reshaped = y_pred_no_weather.reshape(731, 60, 30, 30)\n",
        "\n",
        "# Sum the matrices to get the total predicted counts\n",
        "predicted_no_weather_image = y_pred_no_weather_flattened.sum(axis=1).sum(axis=0)\n",
        "\n",
        "# Transpose and flip to adjust orientation\n",
        "predicted_no_weather_image = np.flip(np.transpose(predicted_no_weather_image), axis=0)"
      ]
    },
    {
      "cell_type": "code",
      "execution_count": 916,
      "metadata": {
        "id": "-IgA0u9rHK3p"
      },
      "outputs": [],
      "source": [
        "min_value = min(predicted_weather_image.min(), predicted_no_weather_image.min())\n",
        "\n",
        "# Scale the predicted images so that the minimum value is 0\n",
        "predicted_weather_image = predicted_weather_image - min_value\n",
        "predicted_no_weather_image = predicted_no_weather_image - min_value\n"
      ]
    },
    {
      "cell_type": "code",
      "execution_count": 917,
      "metadata": {
        "colab": {
          "base_uri": "https://localhost:8080/",
          "height": 474
        },
        "id": "HapZeoXWbpiH",
        "outputId": "abb4482d-3502-4c43-82d4-a6f1527970aa"
      },
      "outputs": [
        {
          "data": {
            "image/png": "[encoded data removed]",
            "text/plain": [
              "<Figure size 1500x500 with 4 Axes>"
            ]
          },
          "metadata": {},
          "output_type": "display_data"
        }
      ],
      "source": [
        "# Matrices displayed as images\n",
        "\n",
        "# Create plot\n",
        "fig, axes = plt.subplots(1, 3, figsize=(15, 5))\n",
        "\n",
        "# Display scaled target image\n",
        "im1 = axes[0].imshow(scaled_target_image)\n",
        "axes[0].set_title('Actual')\n",
        "\n",
        "# Display predicted image with weather\n",
        "im2 = axes[1].imshow(predicted_weather_image)\n",
        "axes[1].set_title('Predicted\\nwith Weather')\n",
        "\n",
        "# Display predicted image without weather\n",
        "im3 = axes[2].imshow(predicted_no_weather_image)\n",
        "axes[2].set_title('Predicted\\nwithout Weather')\n",
        "\n",
        "# Add a single colorbar for all images\n",
        "norm = Normalize(vmin=0, vmax=max([scaled_target_image.max(), predicted_weather_image.max(), predicted_no_weather_image.max()]))\n",
        "cbar_ax = fig.add_axes([0.93, 0.15, 0.02, 0.7])  # Position of the colorbar\n",
        "cbar = fig.colorbar(im3, cax=cbar_ax, extend='both')\n",
        "cbar.set_label('Matrix Values')\n",
        "cbar.set_ticks([0, 10, 20, 30, 40, 50])\n",
        "\n",
        "plt.suptitle('Comparison of Actual and Predicted Traffic Accident Counts', fontsize=16)\n",
        "\n",
        "plt.show()"
      ]
    },
    {
      "cell_type": "code",
      "execution_count": 881,
      "metadata": {
        "id": "uWeQ7d9tZcjZ"
      },
      "outputs": [],
      "source": []
    },
    {
      "cell_type": "code",
      "execution_count": 881,
      "metadata": {
        "id": "qo_B84xrZVyU"
      },
      "outputs": [],
      "source": []
    }
  ],
  "metadata": {
    "colab": {
      "provenance": []
    },
    "kernelspec": {
      "display_name": "Python 3",
      "name": "python3"
    },
    "language_info": {
      "name": "python"
    }
  },
  "nbformat": 4,
  "nbformat_minor": 0
}
