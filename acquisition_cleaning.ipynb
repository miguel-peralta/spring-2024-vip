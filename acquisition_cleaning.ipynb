{
 "cells": [
  {
   "cell_type": "markdown",
   "metadata": {},
   "source": [
    "Miguel Candido Aurora Peralta\n",
    "VIP Project: Transformative AI for Safety\n",
    "Project Title: Precipitation and Tucson Traffic Accident Frequency\n",
    "\n",
    "# Data Acquisition and Cleaning\n",
    "The data for this project will be acquired from Tucson Open Data's dataset titled \"Traffic Accidents\" and the NOAA's precipitation data for Tucson.\n"
   ]
  }
 ],
 "metadata": {
  "language_info": {
   "name": "python"
  }
 },
 "nbformat": 4,
 "nbformat_minor": 2
}
